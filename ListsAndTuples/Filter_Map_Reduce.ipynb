{
 "cells": [
  {
   "cell_type": "markdown",
   "metadata": {},
   "source": [
    "# <u> * Filter, Map and Reduce * </u>\n",
    "\n",
    "* Filter and Map are higher order functions.\n",
    "    * Higher order functions means the functions that receive functions as arguments.\n",
    "* Functions in Python are objects. Which means:\n",
    "    * Can be assigned to variables.\n",
    "    * Passed to functions.\n",
    "    * Returned from functions.\n",
    "    \n",
    "## * You can pass named functions or LAMDAS *"
   ]
  },
  {
   "cell_type": "code",
   "execution_count": 1,
   "metadata": {},
   "outputs": [],
   "source": [
    "numbers = [10, 3, 7, 1, 9, 4, 2, 8, 5, 6]"
   ]
  },
  {
   "cell_type": "markdown",
   "metadata": {},
   "source": [
    "### * Using the filtering operation that produces a new list of elements that contains only the odd elements in the original collection. *\n",
    "\n",
    "## <u> * Old Style Method * </u>"
   ]
  },
  {
   "cell_type": "code",
   "execution_count": 2,
   "metadata": {},
   "outputs": [],
   "source": [
    "def is_odd(x):\n",
    "    \"\"\" Returns True only if x is odd. \"\"\"\n",
    "    return x % 2 !=0"
   ]
  },
  {
   "cell_type": "code",
   "execution_count": 3,
   "metadata": {},
   "outputs": [
    {
     "output_type": "execute_result",
     "data": {
      "text/plain": "[3, 7, 1, 9, 5]"
     },
     "metadata": {},
     "execution_count": 3
    }
   ],
   "source": [
    "list(filter(is_odd, numbers))"
   ]
  },
  {
   "cell_type": "markdown",
   "metadata": {},
   "source": [
    "## <u> * Newer Method * </u>"
   ]
  },
  {
   "cell_type": "code",
   "execution_count": 4,
   "metadata": {},
   "outputs": [
    {
     "output_type": "execute_result",
     "data": {
      "text/plain": "[3, 7, 1, 9, 5]"
     },
     "metadata": {},
     "execution_count": 4
    }
   ],
   "source": [
    "[item for item in numbers if is_odd(item)]"
   ]
  }
 ],
 "metadata": {
  "language_info": {
   "codemirror_mode": {
    "name": "ipython",
    "version": 3
   },
   "file_extension": ".py",
   "mimetype": "text/x-python",
   "name": "python",
   "nbconvert_exporter": "python",
   "pygments_lexer": "ipython3",
   "version": "3.8.2-final"
  },
  "orig_nbformat": 2,
  "kernelspec": {
   "name": "python38264bit2472454288054193a39fc81468cfa85d",
   "display_name": "Python 3.8.2 64-bit"
  }
 },
 "nbformat": 4,
 "nbformat_minor": 2
}