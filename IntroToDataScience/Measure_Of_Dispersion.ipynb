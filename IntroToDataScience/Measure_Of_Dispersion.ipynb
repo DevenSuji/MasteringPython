{
 "cells": [
  {
   "cell_type": "markdown",
   "metadata": {},
   "source": [
    "# <u> Measure Of Dispersion </u>\n",
    "\n",
    "* Measure of Dispersion is also called as measures of variability.\n",
    "* It helps us understand how spread out the values in a sample are.\n",
    "\n",
    "\n",
    "### <u> Just FYI </u>\n",
    "\n",
    "##### An entire group of data is called population and a subset of a population is called a sample.\n",
    "\n",
    "##### We are going to talk about two measures of dispersions and they are:\n",
    "\n",
    "* VARIANCE\n",
    "* STARDARD DEVIATION (It is just the square root of the variance)\n",
    "\n",
    "## <u> How to calculate variance? </u>\n",
    "\n",
    "* We'll use the following population of 10 six-sided die rolls\n",
    "    * 1, 3, 4, 2, 6, 5, 3, 4, 5, 2\n",
    "\n",
    "* To determine the variance\n",
    "\n",
    "    * Calculate the mean(average) of the above values. In this case it is going to be 3.5\n",
    "\n",
    "    * Subtract the mean(average) from every die value. So after the subtraction the values will be\n",
    "        * -2.5, -0.5, 0.5, -1.5, 2.5, 1.5, -0.5, 0.5, 1.5, -1.5\n",
    "\n",
    "    * Square each of these results (yeilding only positives):\n",
    "        * 6.25, 0.25, 0.25, 2.25, 6.25, 2.25, 0.25, 0.25, 2.25, 2.25\n",
    "\n",
    "    * Calculate the mean of these squares, which is 2.25 (22.5/10)\n",
    "    \n",
    "    * The resulting value is the POPULATION VARIANCE\n"
   ]
  },
  {
   "cell_type": "code",
   "execution_count": null,
   "metadata": {},
   "outputs": [],
   "source": [
    "import statistics"
   ]
  },
  {
   "cell_type": "code",
   "execution_count": null,
   "metadata": {},
   "outputs": [],
   "source": [
    "statistics.pvariance([1, 3, 4, 2, 6, 5, 3, 4, 5, 2]) # This is how to calculate the POPULATION VARIANCE"
   ]
  },
  {
   "cell_type": "code",
   "execution_count": null,
   "metadata": {},
   "outputs": [],
   "source": [
    "statistics.pstdev([1, 3, 4, 2, 6, 5, 3, 4, 5, 2]) # This is how to calculate the STANDARD DEVIATION"
   ]
  },
  {
   "cell_type": "code",
   "execution_count": null,
   "metadata": {},
   "outputs": [],
   "source": [
    "# Checking to see if the math is correct here\n",
    "# Since STANDARD DEVIATION is just the square root of POPULATION VARIANCE\n",
    "import math\n",
    "\n",
    "math.sqrt(statistics.pvariance([1, 3, 4, 2, 6, 5, 3, 4, 5, 2]))"
   ]
  }
 ],
 "metadata": {
  "language_info": {
   "codemirror_mode": {
    "name": "ipython",
    "version": 3
   },
   "file_extension": ".py",
   "mimetype": "text/x-python",
   "name": "python",
   "nbconvert_exporter": "python",
   "pygments_lexer": "ipython3",
   "version": "3.8.2-final"
  },
  "orig_nbformat": 2,
  "kernelspec": {
   "name": "python38264bit2472454288054193a39fc81468cfa85d",
   "display_name": "Python 3.8.2 64-bit"
  }
 },
 "nbformat": 4,
 "nbformat_minor": 2
}