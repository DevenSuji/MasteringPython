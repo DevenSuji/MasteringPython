{
 "cells": [
  {
   "cell_type": "code",
   "execution_count": 23,
   "metadata": {},
   "outputs": [
    {
     "output_type": "execute_result",
     "data": {
      "text/plain": "63.15384615384615"
     },
     "metadata": {},
     "execution_count": 23
    }
   ],
   "source": [
    "\"\"\"\n",
    "Measures of Central Tendency: Mean, Median and Mode.\n",
    "\n",
    "\n",
    "=> Measure of Central Tendency:\n",
    "    1. Single value that represents a central value in a set of values.\n",
    "    2. A value which is in some sense typical of the others.\n",
    "\n",
    "=> Mean: It is the average value in a set of values.\n",
    "\n",
    "=> Media: It is the middle value when all the values are arranged in sorted order.\n",
    "\n",
    "=> Mode: It is the most frequently occuring value.\n",
    "\"\"\"\n",
    "\n",
    "grades = [85, 93, 45, 89, 85, 22, 45, 45, 56, 78, 12, 67, 99]\n",
    "sum(grades) / len(grades) # Sum adds the elements of the list and len gives the number of elements in the list\n"
   ]
  },
  {
   "cell_type": "code",
   "execution_count": 24,
   "metadata": {},
   "outputs": [
    {
     "output_type": "stream",
     "name": "stdout",
     "text": "The MEAN of the list is: 63.15\n"
    }
   ],
   "source": [
    "import statistics as st\n",
    "\n",
    "print(f'The MEAN of the list is: {st.mean(grades):.2f}')"
   ]
  },
  {
   "cell_type": "code",
   "execution_count": 25,
   "metadata": {},
   "outputs": [
    {
     "output_type": "stream",
     "name": "stdout",
     "text": "The MEDIAN of the list is: 67\n"
    }
   ],
   "source": [
    "print(f'The MEDIAN of the list is: {st.median(grades)}')\n"
   ]
  },
  {
   "cell_type": "code",
   "execution_count": 26,
   "metadata": {},
   "outputs": [
    {
     "output_type": "stream",
     "name": "stdout",
     "text": "The MODE of the list is 45\n"
    }
   ],
   "source": [
    "print(f'The MODE of the list is {st.mode(grades)}')"
   ]
  },
  {
   "cell_type": "code",
   "execution_count": 27,
   "metadata": {},
   "outputs": [
    {
     "output_type": "execute_result",
     "data": {
      "text/plain": "[12, 22, 45, 45, 45, 56, 67, 78, 85, 85, 89, 93, 99]"
     },
     "metadata": {},
     "execution_count": 27
    }
   ],
   "source": [
    "sorted(grades)"
   ]
  }
 ],
 "metadata": {
  "language_info": {
   "codemirror_mode": {
    "name": "ipython",
    "version": 3
   },
   "file_extension": ".py",
   "mimetype": "text/x-python",
   "name": "python",
   "nbconvert_exporter": "python",
   "pygments_lexer": "ipython3",
   "version": "3.8.2-final"
  },
  "orig_nbformat": 2,
  "kernelspec": {
   "name": "python38264bit2472454288054193a39fc81468cfa85d",
   "display_name": "Python 3.8.2 64-bit"
  }
 },
 "nbformat": 4,
 "nbformat_minor": 2
}