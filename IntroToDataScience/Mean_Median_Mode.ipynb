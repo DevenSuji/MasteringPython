{
 "cells": [
  {
   "cell_type": "code",
   "execution_count": null,
   "metadata": {},
   "outputs": [],
   "source": [
    "\"\"\"\n",
    "Measures of Central Tendency: Mean, Median and Mode.\n",
    "\n",
    "\n",
    "=> Measure of Central Tendency:\n",
    "    1. Single value that represents a central value in a set of values.\n",
    "    2. A value which is in some sense typical of the others.\n",
    "\n",
    "=> Mean: It is the average value in a set of values.\n",
    "\n",
    "=> Media: It is the middle value when all the values are arranged in sorted order.\n",
    "\n",
    "=> Mode: It is the most frequently occuring value.\n",
    "\"\"\""
   ]
  },
  {
   "cell_type": "code",
   "execution_count": null,
   "metadata": {},
   "outputs": [],
   "source": []
  }
 ],
 "metadata": {
  "language_info": {
   "codemirror_mode": {
    "name": "ipython",
    "version": 3
   },
   "file_extension": ".py",
   "mimetype": "text/x-python",
   "name": "python",
   "nbconvert_exporter": "python",
   "pygments_lexer": "ipython3",
   "version": "3.8.2-final"
  },
  "orig_nbformat": 2,
  "kernelspec": {
   "name": "python38264bit2472454288054193a39fc81468cfa85d",
   "display_name": "Python 3.8.2 64-bit"
  }
 },
 "nbformat": 4,
 "nbformat_minor": 2
}