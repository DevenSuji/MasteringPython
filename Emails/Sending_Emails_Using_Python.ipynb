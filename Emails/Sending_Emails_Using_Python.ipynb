{
  "nbformat": 4,
  "nbformat_minor": 0,
  "metadata": {
    "colab": {
      "name": "Sending_Emails_Using_Python.ipynb",
      "provenance": [],
      "authorship_tag": "ABX9TyPTfj56OvtbZfzmg0/PkImo",
      "include_colab_link": true
    },
    "kernelspec": {
      "name": "python3",
      "display_name": "Python 3"
    }
  },
  "cells": [
    {
      "cell_type": "markdown",
      "metadata": {
        "id": "view-in-github",
        "colab_type": "text"
      },
      "source": [
        "<a href=\"https://colab.research.google.com/github/DevenSuji/MasteringPython/blob/master/Emails/Sending_Emails_Using_Python.ipynb\" target=\"_parent\"><img src=\"https://colab.research.google.com/assets/colab-badge.svg\" alt=\"Open In Colab\"/></a>"
      ]
    },
    {
      "cell_type": "markdown",
      "metadata": {
        "id": "x--WlRWNiTfe"
      },
      "source": [
        "# <u>Sending Emails</u>"
      ]
    },
    {
      "cell_type": "code",
      "metadata": {
        "id": "dY9_-tqIiPS9"
      },
      "source": [
        "import smtplib\r\n",
        "import getpass"
      ],
      "execution_count": 9,
      "outputs": []
    },
    {
      "cell_type": "code",
      "metadata": {
        "id": "I4DgDYhMikuY"
      },
      "source": [
        "smtp_object = smtplib.SMTP('smtp.gmail.com', 587)"
      ],
      "execution_count": 10,
      "outputs": []
    },
    {
      "cell_type": "code",
      "metadata": {
        "colab": {
          "base_uri": "https://localhost:8080/"
        },
        "id": "vqk6Di6IioHo",
        "outputId": "1faff62b-a19c-4d87-b3f8-e4a6be23a482"
      },
      "source": [
        "smtp_object.ehlo()"
      ],
      "execution_count": 11,
      "outputs": [
        {
          "output_type": "execute_result",
          "data": {
            "text/plain": [
              "(250,\n",
              " b'smtp.gmail.com at your service, [34.125.169.170]\\nSIZE 35882577\\n8BITMIME\\nSTARTTLS\\nENHANCEDSTATUSCODES\\nPIPELINING\\nCHUNKING\\nSMTPUTF8')"
            ]
          },
          "metadata": {
            "tags": []
          },
          "execution_count": 11
        }
      ]
    },
    {
      "cell_type": "code",
      "metadata": {
        "colab": {
          "base_uri": "https://localhost:8080/"
        },
        "id": "ak51FVBQisfp",
        "outputId": "b18d5e11-a9db-4231-b940-85c304723c91"
      },
      "source": [
        "smtp_object.starttls()"
      ],
      "execution_count": 12,
      "outputs": [
        {
          "output_type": "execute_result",
          "data": {
            "text/plain": [
              "(220, b'2.0.0 Ready to start TLS')"
            ]
          },
          "metadata": {
            "tags": []
          },
          "execution_count": 12
        }
      ]
    },
    {
      "cell_type": "code",
      "metadata": {
        "colab": {
          "base_uri": "https://localhost:8080/"
        },
        "id": "IqpxZtTkixhw",
        "outputId": "8cdd9110-e86d-4bc9-ba70-3dc00b4f1fe9"
      },
      "source": [
        "email = 'DevenSuji@gmail.com'\r\n",
        "password = getpass.getpass(\"Password: \")\r\n",
        "smtp_object.login(email,password)"
      ],
      "execution_count": 13,
      "outputs": [
        {
          "output_type": "stream",
          "text": [
            "Password: ··········\n"
          ],
          "name": "stdout"
        },
        {
          "output_type": "execute_result",
          "data": {
            "text/plain": [
              "(235, b'2.7.0 Accepted')"
            ]
          },
          "metadata": {
            "tags": []
          },
          "execution_count": 13
        }
      ]
    },
    {
      "cell_type": "code",
      "metadata": {
        "colab": {
          "base_uri": "https://localhost:8080/"
        },
        "id": "7LisTBk_i24p",
        "outputId": "5b6e2f97-7314-464e-8afa-f19a01e6f11e"
      },
      "source": [
        "from_address = 'DevenSuji@gmail.com'\r\n",
        "to_address = 'DevenSuji@outlook.com'\r\n",
        "subject = \"2021 Resolution:Commitment\"\r\n",
        "message = \"Dear Deven,\\nI know you've been putting effort in learning this wonderful programming language, \\nhowever I still feel the effort is not 100%. You know the wonders that you can make in your life by just simply learning this programming language. \\nThey why hesitate? \\nJust look at the years flying in this lightning speed. It's already 2021! Here's is your learning commitment for the year 2021:\\n\\t1. Advance Python Programming.\\n\\t2. Algorithmic Trading Using Python.\\n\\t3. Technical Analysis.\\n\\t4. Implementing Technical Analysis using Python to Automate my Trade Executions.\\n\\t5. Fitter myself.\\n\\nPROVE THAT YOU STICK TO YOUR COMMITMENTS \\n\\nWishing You All The Best\\nDeven Suji\\nAn Avid Learner.\"\r\n",
        "msg = \"Subject: \"+subject+'\\n'+message\r\n",
        "\r\n",
        "smtp_object.sendmail(from_address,to_address,msg)"
      ],
      "execution_count": 16,
      "outputs": [
        {
          "output_type": "execute_result",
          "data": {
            "text/plain": [
              "{}"
            ]
          },
          "metadata": {
            "tags": []
          },
          "execution_count": 16
        }
      ]
    },
    {
      "cell_type": "code",
      "metadata": {
        "id": "tdRmWK86n6aV"
      },
      "source": [
        "smtp_object.quit()"
      ],
      "execution_count": 19,
      "outputs": []
    }
  ]
}