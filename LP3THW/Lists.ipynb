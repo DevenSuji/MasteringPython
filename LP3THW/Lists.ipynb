{
 "metadata": {
  "language_info": {
   "codemirror_mode": {
    "name": "ipython",
    "version": 3
   },
   "file_extension": ".py",
   "mimetype": "text/x-python",
   "name": "python",
   "nbconvert_exporter": "python",
   "pygments_lexer": "ipython3",
   "version": "3.9.0-final"
  },
  "orig_nbformat": 2,
  "kernelspec": {
   "name": "python3",
   "display_name": "Python 3",
   "language": "python"
  }
 },
 "nbformat": 4,
 "nbformat_minor": 2,
 "cells": [
  {
   "source": [
    "# Lists\n",
    "1. Lists are ordered sequences that can hold a variety of object types.\n",
    "2. The use [] brakets and commas to seperate objects in the list.\n",
    "    + \\[1, 2, 3, 4, 5\\]\n",
    "3. Lists support indexing and slicing. Lists can be nested and also have a variety of useful methods that can be called off of them.\n",
    "4. Lists are <u>MUTABLE</u>\n"
   ],
   "cell_type": "markdown",
   "metadata": {}
  },
  {
   "cell_type": "code",
   "execution_count": 41,
   "metadata": {},
   "outputs": [
    {
     "output_type": "execute_result",
     "data": {
      "text/plain": [
       "3"
      ]
     },
     "metadata": {},
     "execution_count": 41
    }
   ],
   "source": [
    "mylist1 = [1, 'STRING', 3.534]\n",
    "len(mylist1) # Len returns the number of items in the list."
   ]
  },
  {
   "cell_type": "code",
   "execution_count": 42,
   "metadata": {},
   "outputs": [],
   "source": [
    "mylist2 = ['Zero', 'One', 'Two', 'Three']"
   ]
  },
  {
   "source": [
    "# Indexing"
   ],
   "cell_type": "markdown",
   "metadata": {}
  },
  {
   "cell_type": "code",
   "execution_count": 43,
   "metadata": {},
   "outputs": [
    {
     "output_type": "stream",
     "name": "stdout",
     "text": [
      "Zero\n"
     ]
    }
   ],
   "source": [
    "print(mylist2[0])"
   ]
  },
  {
   "source": [
    "# Slicing"
   ],
   "cell_type": "markdown",
   "metadata": {}
  },
  {
   "cell_type": "code",
   "execution_count": 44,
   "metadata": {},
   "outputs": [
    {
     "output_type": "stream",
     "name": "stdout",
     "text": [
      "['Zero', 'One']\n"
     ]
    }
   ],
   "source": [
    "print(mylist2[0:2])"
   ]
  },
  {
   "source": [
    "# Slicing with Step"
   ],
   "cell_type": "markdown",
   "metadata": {}
  },
  {
   "cell_type": "code",
   "execution_count": 45,
   "metadata": {},
   "outputs": [
    {
     "output_type": "stream",
     "name": "stdout",
     "text": [
      "['Zero', 'Two']\n"
     ]
    }
   ],
   "source": [
    "print(mylist2[::2]) "
   ]
  },
  {
   "source": [
    "# Concatenating two lists"
   ],
   "cell_type": "markdown",
   "metadata": {}
  },
  {
   "cell_type": "code",
   "execution_count": 46,
   "metadata": {},
   "outputs": [
    {
     "output_type": "stream",
     "name": "stdout",
     "text": [
      "[1, 'STRING', 3.534, 'Zero', 'One', 'Two', 'Three']\n"
     ]
    }
   ],
   "source": [
    "print(mylist1 + mylist2)"
   ]
  },
  {
   "cell_type": "code",
   "execution_count": null,
   "metadata": {},
   "outputs": [],
   "source": []
  },
  {
   "source": [
    "# Concatenating two lists and saving the result in a new variable"
   ],
   "cell_type": "markdown",
   "metadata": {}
  },
  {
   "cell_type": "code",
   "execution_count": 47,
   "metadata": {},
   "outputs": [
    {
     "output_type": "stream",
     "name": "stdout",
     "text": [
      "[1, 'STRING', 3.534, 'Zero', 'One', 'Two', 'Three']\n"
     ]
    }
   ],
   "source": [
    "newlist = mylist1 + mylist2 \n",
    "print(newlist)"
   ]
  },
  {
   "source": [
    "# Assigning a new value on index position 0"
   ],
   "cell_type": "markdown",
   "metadata": {}
  },
  {
   "cell_type": "code",
   "execution_count": 48,
   "metadata": {},
   "outputs": [
    {
     "output_type": "stream",
     "name": "stdout",
     "text": [
      "['Index 0 is changed now', 'STRING', 3.534, 'Zero', 'One', 'Two', 'Three']\n"
     ]
    }
   ],
   "source": [
    "newlist[0] = 'Index 0 is changed now' \n",
    "print(newlist)"
   ]
  },
  {
   "source": [
    "# <u>APPEND</u>: Adding a value to the end of the list"
   ],
   "cell_type": "markdown",
   "metadata": {}
  },
  {
   "cell_type": "code",
   "execution_count": 49,
   "metadata": {},
   "outputs": [
    {
     "output_type": "stream",
     "name": "stdout",
     "text": [
      "['Index 0 is changed now', 'STRING', 3.534, 'Zero', 'One', 'Two', 'Three', 'appended']\n"
     ]
    }
   ],
   "source": [
    "newlist.append('appended')\n",
    "print(newlist)\n"
   ]
  },
  {
   "source": [
    "# <u>POP</u>\n",
    "\n",
    "### Removing a vaule from the end of the list"
   ],
   "cell_type": "markdown",
   "metadata": {}
  },
  {
   "cell_type": "code",
   "execution_count": 50,
   "metadata": {},
   "outputs": [
    {
     "output_type": "stream",
     "name": "stdout",
     "text": [
      "['Index 0 is changed now', 'STRING', 3.534, 'Zero', 'One', 'Two', 'Three']\n"
     ]
    }
   ],
   "source": [
    "newlist.pop()\n",
    "print(newlist)"
   ]
  },
  {
   "source": [
    "### Capturing the item that is removed using pop in a variable"
   ],
   "cell_type": "markdown",
   "metadata": {}
  },
  {
   "source": [
    "poppeditem = newlist.pop()\n",
    "print(f'The Popped item is: {poppeditem}')\n",
    "print(newlist)"
   ],
   "cell_type": "code",
   "metadata": {},
   "execution_count": 51,
   "outputs": [
    {
     "output_type": "stream",
     "name": "stdout",
     "text": [
      "The Popped item is: Three\n['Index 0 is changed now', 'STRING', 3.534, 'Zero', 'One', 'Two']\n"
     ]
    }
   ]
  },
  {
   "source": [
    "### Pop can also be used to removed items in a list in a specific location using the index number"
   ],
   "cell_type": "markdown",
   "metadata": {}
  },
  {
   "cell_type": "code",
   "execution_count": 52,
   "metadata": {},
   "outputs": [
    {
     "output_type": "stream",
     "name": "stdout",
     "text": [
      "The Popped item is:  Index 0 is changed now\nYou see the new list has the value in the Index 0 removed now ['STRING', 3.534, 'Zero', 'One', 'Two']\n"
     ]
    }
   ],
   "source": [
    "poppeditem = newlist.pop(0)\n",
    "print(f'The Popped item is:  {poppeditem}')\n",
    "print(f'You see the new list has the value in the Index 0 removed now {newlist}')\n"
   ]
  },
  {
   "source": [
    "# <u>Sort and Reverse</u>\n",
    "\n",
    "##!!! VERY IMPORTANT !!!\n",
    "\n",
    "+ SORT: It does the inplace sorting. That means the position of the items in the variable gets changed permanently.\n",
    "\n",
    "+ SORTED: It does not do the inplace sorting. That means the position of the items in the variable remains intact.\n",
    "\n",
    "+ REVERSE: It does the inplace reversing. That means the position of the items in the variable gets changed permanently."
   ],
   "cell_type": "markdown",
   "metadata": {}
  },
  {
   "cell_type": "code",
   "execution_count": 62,
   "metadata": {},
   "outputs": [],
   "source": [
    "mylist3 = ['e', 'u', 'a', 'i', 'o']\n",
    "mylist4 = [1, 56, 33, 41, 5]"
   ]
  },
  {
   "cell_type": "code",
   "execution_count": 63,
   "metadata": {},
   "outputs": [
    {
     "output_type": "execute_result",
     "data": {
      "text/plain": [
       "['a', 'e', 'i', 'o', 'u']"
      ]
     },
     "metadata": {},
     "execution_count": 63
    }
   ],
   "source": [
    "mylist3.sort()\r\n",
    "mylist3"
   ]
  },
  {
   "source": [
    "mylist4.sort()\n",
    "mylist4"
   ],
   "cell_type": "code",
   "metadata": {},
   "execution_count": 64,
   "outputs": [
    {
     "output_type": "execute_result",
     "data": {
      "text/plain": [
       "[1, 5, 33, 41, 56]"
      ]
     },
     "metadata": {},
     "execution_count": 64
    }
   ]
  },
  {
   "cell_type": "code",
   "execution_count": 68,
   "metadata": {},
   "outputs": [
    {
     "output_type": "stream",
     "name": "stdout",
     "text": [
      "[3, 76, 89, 99, 107]\n[89, 76, 3, 99, 107]\n"
     ]
    }
   ],
   "source": [
    "a = [89, 76, 3, 99, 107]\n",
    "print(sorted(a))\n",
    "print(a)"
   ]
  },
  {
   "cell_type": "code",
   "execution_count": 72,
   "metadata": {},
   "outputs": [
    {
     "output_type": "stream",
     "name": "stdout",
     "text": [
      "[107, 99, 3, 76, 89]\n[89, 76, 3, 99, 107]\n"
     ]
    }
   ],
   "source": [
    "a.reverse() # Just reversing the order of the items. Does not sort here\n",
    "print(a)\n",
    "a.reverse() # Backi to how it was earlier\n",
    "print(a)"
   ]
  },
  {
   "cell_type": "code",
   "execution_count": 70,
   "metadata": {},
   "outputs": [
    {
     "output_type": "stream",
     "name": "stdout",
     "text": [
      "[107, 99, 3, 76, 89]\n"
     ]
    }
   ],
   "source": []
  },
  {
   "cell_type": "code",
   "execution_count": 74,
   "metadata": {},
   "outputs": [
    {
     "output_type": "execute_result",
     "data": {
      "text/plain": [
       "['b', 'c']"
      ]
     },
     "metadata": {},
     "execution_count": 74
    }
   ],
   "source": [
    "lst=['a','b','c']\n",
    "lst[1:]\n"
   ]
  }
 ]
}