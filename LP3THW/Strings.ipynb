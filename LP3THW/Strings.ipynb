{
 "metadata": {
  "language_info": {
   "codemirror_mode": {
    "name": "ipython",
    "version": 3
   },
   "file_extension": ".py",
   "mimetype": "text/x-python",
   "name": "python",
   "nbconvert_exporter": "python",
   "pygments_lexer": "ipython3",
   "version": "3.9.0-final"
  },
  "orig_nbformat": 2,
  "kernelspec": {
   "name": "python3",
   "display_name": "Python 3",
   "language": "python"
  }
 },
 "nbformat": 4,
 "nbformat_minor": 2,
 "cells": [
  {
   "source": [
    "# <u><i>Strings</i></u>"
   ],
   "cell_type": "markdown",
   "metadata": {}
  },
  {
   "cell_type": "code",
   "execution_count": 15,
   "metadata": {},
   "outputs": [
    {
     "output_type": "stream",
     "name": "stdout",
     "text": [
      "There are 100 cars available.\nThere are only 30 drivers available.\nThere will be 70 empty cars today.\nWe can transport 120.0 people today.\nWe have 90 to carpool today.\nWe need to put about 3.0 passengers in each car.\n"
     ]
    }
   ],
   "source": [
    "cars = 100\n",
    "space_in_a_car = 4.0\n",
    "drivers = 30\n",
    "passengers = 90\n",
    "cars_not_driven = cars - drivers\n",
    "cars_driven = drivers\n",
    "carpool_capacity = cars_driven * space_in_a_car\n",
    "average_passengers_per_car = passengers / cars_driven\n",
    "\n",
    "\n",
    "print(f\"There are {cars} cars available.\")\n",
    "print(f\"There are only {drivers} drivers available.\")\n",
    "print(f\"There will be {cars_not_driven} empty cars today.\")\n",
    "print(f\"We can transport {carpool_capacity} people today.\")\n",
    "print(f\"We have {passengers} to carpool today.\")\n",
    "print(f\"We need to put about {average_passengers_per_car} passengers in each car.\")\n"
   ]
  }
 ]
}