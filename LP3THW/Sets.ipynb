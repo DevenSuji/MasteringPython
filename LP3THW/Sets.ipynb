{
 "metadata": {
  "language_info": {
   "codemirror_mode": {
    "name": "ipython",
    "version": 3
   },
   "file_extension": ".py",
   "mimetype": "text/x-python",
   "name": "python",
   "nbconvert_exporter": "python",
   "pygments_lexer": "ipython3",
   "version": "3.9.0-final"
  },
  "orig_nbformat": 2,
  "kernelspec": {
   "name": "python3",
   "display_name": "Python 3",
   "language": "python"
  }
 },
 "nbformat": 4,
 "nbformat_minor": 2,
 "cells": [
  {
   "source": [
    "# Sets\n",
    "+ Sets are unordered collections of unique elements.\n",
    "+ No duplicate elements"
   ],
   "cell_type": "markdown",
   "metadata": {}
  },
  {
   "cell_type": "code",
   "execution_count": 8,
   "metadata": {},
   "outputs": [],
   "source": [
    "s = set()"
   ]
  },
  {
   "cell_type": "code",
   "execution_count": 9,
   "metadata": {},
   "outputs": [
    {
     "output_type": "stream",
     "name": "stdout",
     "text": [
      "{1}\n{1, 2}\n{1, 2}\n"
     ]
    }
   ],
   "source": [
    "s.add(1) # Adding element 1 to the set.\n",
    "print(s)\n",
    "s.add(2) # Adding element 2 to the set.\n",
    "print(s)\n",
    "s.add(2)# Adding element 2 again to the set.\n",
    "print(s) # Result still shows only one 2 in the set.\n"
   ]
  },
  {
   "source": [
    "### Casting a list to a set"
   ],
   "cell_type": "markdown",
   "metadata": {}
  },
  {
   "cell_type": "code",
   "execution_count": 11,
   "metadata": {},
   "outputs": [
    {
     "output_type": "execute_result",
     "data": {
      "text/plain": [
       "[1, 2, 3, 3, 2, 1, 2, 1, 3]"
      ]
     },
     "metadata": {},
     "execution_count": 11
    }
   ],
   "source": [
    "l = [1, 2, 3, 3, 2, 1, 2, 1, 3]\n",
    "l"
   ]
  },
  {
   "cell_type": "code",
   "execution_count": 12,
   "metadata": {},
   "outputs": [
    {
     "output_type": "execute_result",
     "data": {
      "text/plain": [
       "{1, 2, 3}"
      ]
     },
     "metadata": {},
     "execution_count": 12
    }
   ],
   "source": [
    "set(l)"
   ]
  }
 ]
}