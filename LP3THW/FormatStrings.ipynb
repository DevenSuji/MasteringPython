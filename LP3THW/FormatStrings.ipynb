{
 "metadata": {
  "language_info": {
   "codemirror_mode": {
    "name": "ipython",
    "version": 3
   },
   "file_extension": ".py",
   "mimetype": "text/x-python",
   "name": "python",
   "nbconvert_exporter": "python",
   "pygments_lexer": "ipython3",
   "version": "3.9.0-final"
  },
  "orig_nbformat": 2,
  "kernelspec": {
   "name": "python3",
   "display_name": "Python 3",
   "language": "python"
  }
 },
 "nbformat": 4,
 "nbformat_minor": 2,
 "cells": [
  {
   "source": [
    "# Formatting with the .format{} method\n",
    "\n",
    "A good way to format objects into your strings for print statemets is with the string .format{} methond. The syntax is:\n",
    "### 'String here {} then also {}'.format('smoething1','something2')"
   ],
   "cell_type": "markdown",
   "metadata": {}
  },
  {
   "cell_type": "code",
   "execution_count": 1,
   "metadata": {},
   "outputs": [
    {
     "output_type": "stream",
     "name": "stdout",
     "text": [
      "This is a string INSERTED\n"
     ]
    }
   ],
   "source": [
    "print('This is a string {}'.format('INSERTED'))"
   ]
  },
  {
   "cell_type": "code",
   "execution_count": 2,
   "metadata": {},
   "outputs": [
    {
     "output_type": "stream",
     "name": "stdout",
     "text": [
      "The fox brown quick\n"
     ]
    }
   ],
   "source": [
    "# The sentence structure does not make sense. Doest it?\n",
    "\n",
    "print('The {} {} {}'.format('fox', 'brown', 'quick')) "
   ]
  },
  {
   "source": [
    "Using the Index of words to arrange them in a correct sentence."
   ],
   "cell_type": "markdown",
   "metadata": {}
  },
  {
   "cell_type": "code",
   "execution_count": 3,
   "metadata": {},
   "outputs": [
    {
     "output_type": "stream",
     "name": "stdout",
     "text": [
      "The quick brown fox\n"
     ]
    }
   ],
   "source": [
    "# Now it makes some sense.\n",
    "\n",
    "print('The {2} {1} {0}'.format('fox', 'brown', 'quick')) "
   ]
  },
  {
   "cell_type": "code",
   "execution_count": 4,
   "metadata": {},
   "outputs": [
    {
     "output_type": "stream",
     "name": "stdout",
     "text": [
      "The quick brown fox\n"
     ]
    }
   ],
   "source": [
    "# This one uses the key/value method. It is just like assigning the words to the variables and using the variables to call the word.\n",
    "\n",
    "print('The {q} {b} {f}'.format(f='fox', b='brown', q='quick')) "
   ]
  },
  {
   "source": [
    "# <u>Float Formatting</u>\n",
    "Float formatting follows \"{value:width.precision f}\""
   ],
   "cell_type": "markdown",
   "metadata": {}
  },
  {
   "cell_type": "code",
   "execution_count": 13,
   "metadata": {},
   "outputs": [],
   "source": [
    "result = 100/777"
   ]
  },
  {
   "cell_type": "code",
   "execution_count": 6,
   "metadata": {},
   "outputs": [
    {
     "output_type": "stream",
     "name": "stdout",
     "text": [
      "The result was: 0.1287001287001287\n"
     ]
    }
   ],
   "source": [
    "print(\"The result was: {}\".format(result))"
   ]
  },
  {
   "cell_type": "code",
   "execution_count": 14,
   "metadata": {},
   "outputs": [
    {
     "output_type": "stream",
     "name": "stdout",
     "text": [
      "The result was: 0.13\n"
     ]
    }
   ],
   "source": [
    "print(\"The result was: {r:1.2f}\".format(r = result))"
   ]
  },
  {
   "cell_type": "code",
   "execution_count": 16,
   "metadata": {},
   "outputs": [
    {
     "output_type": "stream",
     "name": "stdout",
     "text": [
      "The result was: 109.79\n"
     ]
    }
   ],
   "source": [
    "result = 109.78996623\n",
    "print(\"The result was: {r:1.2f}\".format(r = result))"
   ]
  },
  {
   "cell_type": "code",
   "execution_count": null,
   "metadata": {},
   "outputs": [],
   "source": []
  },
  {
   "source": [
    "# F Strings"
   ],
   "cell_type": "markdown",
   "metadata": {}
  },
  {
   "cell_type": "code",
   "execution_count": 20,
   "metadata": {},
   "outputs": [
    {
     "output_type": "stream",
     "name": "stdout",
     "text": [
      "Hello DEVEN! The world's fastest BILLIONAIRE.\n"
     ]
    }
   ],
   "source": [
    "name = 'Deven'\n",
    "print(f\"Hello {name.upper()}! The world's fastest BILLIONAIRE.\")"
   ]
  },
  {
   "cell_type": "code",
   "execution_count": 21,
   "metadata": {},
   "outputs": [
    {
     "output_type": "stream",
     "name": "stdout",
     "text": [
      "Hello DEVEN!!! A BILLIONAIRE IN 5 Years\n"
     ]
    }
   ],
   "source": [
    "name = 'Deven'\n",
    "Time = '5 Years'\n",
    "\n",
    "print(f'Hello {name.upper()}!!! A BILLIONAIRE IN {Time}')"
   ]
  }
 ]
}