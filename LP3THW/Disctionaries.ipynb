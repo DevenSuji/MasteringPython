{
 "metadata": {
  "language_info": {
   "codemirror_mode": {
    "name": "ipython",
    "version": 3
   },
   "file_extension": ".py",
   "mimetype": "text/x-python",
   "name": "python",
   "nbconvert_exporter": "python",
   "pygments_lexer": "ipython3",
   "version": "3.9.0-final"
  },
  "orig_nbformat": 2,
  "kernelspec": {
   "name": "python3",
   "display_name": "Python 3",
   "language": "python"
  }
 },
 "nbformat": 4,
 "nbformat_minor": 2,
 "cells": [
  {
   "source": [
    "# Dictionary\n",
    "+ Key Value pair\n",
    "+ Unordered. Hence cannot be sorted."
   ],
   "cell_type": "markdown",
   "metadata": {}
  },
  {
   "cell_type": "code",
   "execution_count": 1,
   "metadata": {},
   "outputs": [
    {
     "output_type": "execute_result",
     "data": {
      "text/plain": [
       "{'key1': 'value1', 'key2': 'value2'}"
      ]
     },
     "metadata": {},
     "execution_count": 1
    }
   ],
   "source": [
    "mydict = {'key1':'value1', 'key2':'value2'}\n",
    "mydict"
   ]
  },
  {
   "cell_type": "code",
   "execution_count": 2,
   "metadata": {},
   "outputs": [
    {
     "output_type": "execute_result",
     "data": {
      "text/plain": [
       "'value1'"
      ]
     },
     "metadata": {},
     "execution_count": 2
    }
   ],
   "source": [
    "mydict['key1']"
   ]
  },
  {
   "cell_type": "code",
   "execution_count": 3,
   "metadata": {},
   "outputs": [
    {
     "output_type": "execute_result",
     "data": {
      "text/plain": [
       "220"
      ]
     },
     "metadata": {},
     "execution_count": 3
    }
   ],
   "source": [
    "prices_lookup = {'apple':220, 'orange':40, 'Banana':60, 'Grapes': 100}\n",
    "prices_lookup['apple']"
   ]
  },
  {
   "cell_type": "code",
   "execution_count": 9,
   "metadata": {},
   "outputs": [
    {
     "output_type": "stream",
     "name": "stdout",
     "text": [
      "1\n{'inner': 100}\n100\n"
     ]
    }
   ],
   "source": [
    "d = {'k1':123, 'k2':[0,1,2], 'k3':{'inner':100}}\n",
    "print(d['k2'][1])\n",
    "print(d['k3'])\n",
    "print(d['k3']['inner'])"
   ]
  },
  {
   "cell_type": "code",
   "execution_count": 18,
   "metadata": {},
   "outputs": [
    {
     "output_type": "execute_result",
     "data": {
      "text/plain": [
       "{'key': ['a', 'b', 'c', 'd']}"
      ]
     },
     "metadata": {},
     "execution_count": 18
    }
   ],
   "source": [
    "e = {'key':['a','b','c', 'd']}\n",
    "e"
   ]
  },
  {
   "cell_type": "code",
   "execution_count": 19,
   "metadata": {},
   "outputs": [
    {
     "output_type": "execute_result",
     "data": {
      "text/plain": [
       "'D'"
      ]
     },
     "metadata": {},
     "execution_count": 19
    }
   ],
   "source": [
    "e['key'][3].upper()"
   ]
  },
  {
   "source": [
    "### Adding a new Key Value pair in the Dictionary"
   ],
   "cell_type": "markdown",
   "metadata": {}
  },
  {
   "cell_type": "code",
   "execution_count": 23,
   "metadata": {},
   "outputs": [
    {
     "output_type": "stream",
     "name": "stdout",
     "text": [
      "{'key': 200, 'key1': 300}\n{'key': 200, 'key1': 300}\n"
     ]
    }
   ],
   "source": [
    "print(e)\n",
    "e['key1'] = 300\n",
    "print(e)"
   ]
  },
  {
   "source": [
    "### Overwriting a value in the existing key"
   ],
   "cell_type": "markdown",
   "metadata": {}
  },
  {
   "cell_type": "code",
   "execution_count": 27,
   "metadata": {},
   "outputs": [
    {
     "output_type": "stream",
     "name": "stdout",
     "text": [
      "{'key': 100, 'key1': 300}\n{'key': 100000000, 'key1': 300}\n"
     ]
    }
   ],
   "source": [
    "print(e)\n",
    "e['key'] = 100000000\n",
    "print(e)"
   ]
  },
  {
   "cell_type": "code",
   "execution_count": 28,
   "metadata": {},
   "outputs": [
    {
     "output_type": "execute_result",
     "data": {
      "text/plain": [
       "dict_keys(['key', 'key1'])"
      ]
     },
     "metadata": {},
     "execution_count": 28
    }
   ],
   "source": [
    "e.keys()"
   ]
  },
  {
   "cell_type": "code",
   "execution_count": 29,
   "metadata": {},
   "outputs": [
    {
     "output_type": "execute_result",
     "data": {
      "text/plain": [
       "dict_values([100000000, 300])"
      ]
     },
     "metadata": {},
     "execution_count": 29
    }
   ],
   "source": [
    "e.values()"
   ]
  },
  {
   "cell_type": "code",
   "execution_count": 30,
   "metadata": {},
   "outputs": [
    {
     "output_type": "execute_result",
     "data": {
      "text/plain": [
       "dict_items([('k1', 123), ('k2', [0, 1, 2]), ('k3', {'inner': 100})])"
      ]
     },
     "metadata": {},
     "execution_count": 30
    }
   ],
   "source": [
    "d.items()"
   ]
  }
 ]
}