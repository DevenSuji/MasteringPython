{
  "nbformat": 4,
  "nbformat_minor": 0,
  "metadata": {
    "colab": {
      "name": "Handling_CSV_Files_Conventional_Way.ipynb",
      "provenance": [],
      "authorship_tag": "ABX9TyMjjdiiHG796hCDnKaFLDnI",
      "include_colab_link": true
    },
    "kernelspec": {
      "name": "python3",
      "display_name": "Python 3"
    }
  },
  "cells": [
    {
      "cell_type": "markdown",
      "metadata": {
        "id": "view-in-github",
        "colab_type": "text"
      },
      "source": [
        "<a href=\"https://colab.research.google.com/github/DevenSuji/MasteringPython/blob/master/Handling_CSV_Files_Conventional_Way.ipynb\" target=\"_parent\"><img src=\"https://colab.research.google.com/assets/colab-badge.svg\" alt=\"Open In Colab\"/></a>"
      ]
    },
    {
      "cell_type": "markdown",
      "metadata": {
        "id": "AzO-CSRCR2yQ",
        "colab_type": "text"
      },
      "source": [
        "# Writing a CSV File"
      ]
    },
    {
      "cell_type": "code",
      "metadata": {
        "id": "2SC9XObGQbsZ",
        "colab_type": "code",
        "colab": {}
      },
      "source": [
        "import csv"
      ],
      "execution_count": null,
      "outputs": []
    },
    {
      "cell_type": "code",
      "metadata": {
        "id": "Z81DS60vQo8d",
        "colab_type": "code",
        "colab": {}
      },
      "source": [
        "with open('accounts.csv', mode='w', newline='') as accounts:\n",
        "  writer = csv.writer(accounts)\n",
        "  writer.writerow([100, 'Jones', 24.98])\n",
        "  writer.writerow([200, 'Doe', 345.67])\n",
        "  writer.writerow([300, 'White', 0.00])\n",
        "  writer.writerow([400, 'Stone', -42.16])\n",
        "  writer.writerow([500, 'Rich', 224.62])"
      ],
      "execution_count": 2,
      "outputs": []
    },
    {
      "cell_type": "code",
      "metadata": {
        "id": "T5Vo5r-WRfr_",
        "colab_type": "code",
        "colab": {
          "base_uri": "https://localhost:8080/",
          "height": 101
        },
        "outputId": "3a720a8e-9939-4f28-91d2-6acf748c7a04"
      },
      "source": [
        "!cat accounts.csv"
      ],
      "execution_count": 3,
      "outputs": [
        {
          "output_type": "stream",
          "text": [
            "100,Jones,24.98\r\n",
            "200,Doe,345.67\r\n",
            "300,White,0.0\r\n",
            "400,Stone,-42.16\r\n",
            "500,Rich,224.62\r\n"
          ],
          "name": "stdout"
        }
      ]
    },
    {
      "cell_type": "markdown",
      "metadata": {
        "id": "Kgg0XobVR_Q_",
        "colab_type": "text"
      },
      "source": [
        "# Reading a CSV File"
      ]
    },
    {
      "cell_type": "code",
      "metadata": {
        "id": "Uc0miayqSDC-",
        "colab_type": "code",
        "colab": {
          "base_uri": "https://localhost:8080/",
          "height": 118
        },
        "outputId": "c812d013-b039-4004-dc4f-62aacf211261"
      },
      "source": [
        "with open('accounts.csv', 'r', newline='') as accounts:\n",
        "  print(f'{\"Account\":<10}{\"Name\":<10}{\"Balance\":>10}')\n",
        "  reader = csv.reader(accounts)\n",
        "  for record in reader:\n",
        "    account, name, balance = record\n",
        "    print(f'{account:<10}{name:<10}{balance:>10}')"
      ],
      "execution_count": 5,
      "outputs": [
        {
          "output_type": "stream",
          "text": [
            "Account   Name         Balance\n",
            "100       Jones          24.98\n",
            "200       Doe           345.67\n",
            "300       White            0.0\n",
            "400       Stone         -42.16\n",
            "500       Rich          224.62\n"
          ],
          "name": "stdout"
        }
      ]
    },
    {
      "cell_type": "markdown",
      "metadata": {
        "id": "M83MOE6DTJK7",
        "colab_type": "text"
      },
      "source": [
        "# Self Check\n",
        "* Create a text file named grades.csv and write some records to it consisting of students ID, last names and letter grades.\n",
        "* Then, read the file grades.csv and display it in columns with the column heads 'ID', 'Name'and 'Grades'"
      ]
    },
    {
      "cell_type": "code",
      "metadata": {
        "id": "oSyd5H03TvCx",
        "colab_type": "code",
        "colab": {}
      },
      "source": [
        "with open('grades.csv', mode='w', newline='') as grades:\n",
        "  writer = csv.writer(grades)\n",
        "  writer.writerow([1, 'Deven Suji', 98.77])\n",
        "  writer.writerow([2, 'Pavithra M', 67.08])\n",
        "  writer.writerow([3, 'Dhrishti Suji', 99.99])\n",
        "  writer.writerow([4, 'Duganth Suji', 95.67])"
      ],
      "execution_count": 6,
      "outputs": []
    },
    {
      "cell_type": "code",
      "metadata": {
        "id": "CNuXNB-BUhtd",
        "colab_type": "code",
        "colab": {
          "base_uri": "https://localhost:8080/",
          "height": 84
        },
        "outputId": "d4407ef1-bda6-4fd3-c8be-e5439e9a7100"
      },
      "source": [
        "!cat grades.csv"
      ],
      "execution_count": 7,
      "outputs": [
        {
          "output_type": "stream",
          "text": [
            "1,Deven Suji,98.77\r\n",
            "2,Pavithra M,67.08\r\n",
            "3,Dhrishti Suji,99.99\r\n",
            "4,Duganth Suji,95.67\r\n"
          ],
          "name": "stdout"
        }
      ]
    },
    {
      "cell_type": "code",
      "metadata": {
        "id": "bMfiEmGQUpla",
        "colab_type": "code",
        "colab": {
          "base_uri": "https://localhost:8080/",
          "height": 101
        },
        "outputId": "8a1f7b25-2551-4c59-f577-02b7d31dcf4c"
      },
      "source": [
        "with open('grades.csv', mode='r', newline='') as grades:\n",
        "  print(f'{\"ID\":<10}{\"Name\":<15}{\"Grade\":>10}')\n",
        "  reader = csv.reader(grades)\n",
        "  for item in reader:\n",
        "    ID, Name, Grade = item\n",
        "    print(f'{ID:<10}{Name:<15}{Grade:>10}')"
      ],
      "execution_count": 9,
      "outputs": [
        {
          "output_type": "stream",
          "text": [
            "ID        Name                Grade\n",
            "1         Deven Suji          98.77\n",
            "2         Pavithra M          67.08\n",
            "3         Dhrishti Suji       99.99\n",
            "4         Duganth Suji        95.67\n"
          ],
          "name": "stdout"
        }
      ]
    }
  ]
}