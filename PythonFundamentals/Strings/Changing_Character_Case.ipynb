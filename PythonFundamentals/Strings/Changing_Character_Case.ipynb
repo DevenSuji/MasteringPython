{
 "cells": [
  {
   "cell_type": "markdown",
   "metadata": {},
   "source": [
    "# *<u> Changing Character Case </u>*"
   ]
  },
  {
   "cell_type": "code",
   "execution_count": 6,
   "metadata": {},
   "outputs": [
    {
     "output_type": "execute_result",
     "data": {
      "text/plain": "'She and me naked on the bed!'"
     },
     "metadata": {},
     "execution_count": 6
    }
   ],
   "source": [
    "# Capitalize method changes the first letter in the sentence to upper case and any if any other susequent letters in the sentence are in upper case, the same will be changed to lower case.\n",
    "'she and ME NAKED ON THE BED!'.capitalize()"
   ]
  },
  {
   "cell_type": "code",
   "execution_count": 7,
   "metadata": {},
   "outputs": [
    {
     "output_type": "execute_result",
     "data": {
      "text/plain": "'Starts With Me Eating Her, And She Blowing Me, And We Fuck Till Eternity'"
     },
     "metadata": {},
     "execution_count": 7
    }
   ],
   "source": [
    "# Title changes the first letter of every word in the sentence to upper case.\n",
    "'starts with me eating her, and she blowing me, and we fuck till eternity'.title()"
   ]
  },
  {
   "cell_type": "markdown",
   "metadata": {},
   "source": [
    "# *<u> Self Check </u>*"
   ]
  },
  {
   "cell_type": "code",
   "execution_count": 8,
   "metadata": {},
   "outputs": [],
   "source": [
    "test_string = 'happy new year'"
   ]
  },
  {
   "cell_type": "code",
   "execution_count": 9,
   "metadata": {},
   "outputs": [
    {
     "output_type": "execute_result",
     "data": {
      "text/plain": "'Happy new year'"
     },
     "metadata": {},
     "execution_count": 9
    }
   ],
   "source": [
    "test_string.capitalize()"
   ]
  },
  {
   "cell_type": "code",
   "execution_count": 10,
   "metadata": {},
   "outputs": [
    {
     "output_type": "execute_result",
     "data": {
      "text/plain": "'Happy New Year'"
     },
     "metadata": {},
     "execution_count": 10
    }
   ],
   "source": [
    "test_string.title()"
   ]
  }
 ],
 "metadata": {
  "language_info": {
   "codemirror_mode": {
    "name": "ipython",
    "version": 3
   },
   "file_extension": ".py",
   "mimetype": "text/x-python",
   "name": "python",
   "nbconvert_exporter": "python",
   "pygments_lexer": "ipython3",
   "version": "3.8.2-final"
  },
  "orig_nbformat": 2,
  "kernelspec": {
   "name": "python38264bit2472454288054193a39fc81468cfa85d",
   "display_name": "Python 3.8.2 64-bit"
  }
 },
 "nbformat": 4,
 "nbformat_minor": 2
}