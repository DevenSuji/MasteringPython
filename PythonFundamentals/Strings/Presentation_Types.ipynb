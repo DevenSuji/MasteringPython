{
 "cells": [
  {
   "cell_type": "markdown",
   "metadata": {},
   "source": [
    "# *<u> Presentation Types </u>*\n",
    "### * Presentation Types are another type of f strings that helps us present the data *"
   ]
  },
  {
   "cell_type": "markdown",
   "metadata": {},
   "source": [
    "### * Below example shows how to limit the number of decimals digits. .2f here stands for 2 digit float. *"
   ]
  },
  {
   "cell_type": "code",
   "execution_count": 1,
   "metadata": {},
   "outputs": [
    {
     "output_type": "execute_result",
     "data": {
      "text/plain": "'14.93'"
     },
     "metadata": {},
     "execution_count": 1
    }
   ],
   "source": [
    "f'{14.927230534934:.2f}'"
   ]
  },
  {
   "cell_type": "markdown",
   "metadata": {},
   "source": [
    "### * Below example shows how to format Number 10 as decimal integer. d here stands for INTEGER *"
   ]
  },
  {
   "cell_type": "code",
   "execution_count": 2,
   "metadata": {},
   "outputs": [
    {
     "output_type": "execute_result",
     "data": {
      "text/plain": "'10'"
     },
     "metadata": {},
     "execution_count": 2
    }
   ],
   "source": [
    "f'{10:d}'"
   ]
  },
  {
   "cell_type": "markdown",
   "metadata": {},
   "source": [
    "### * Changing the numeric value to character. C here stands for Character *"
   ]
  },
  {
   "cell_type": "code",
   "execution_count": 3,
   "metadata": {},
   "outputs": [
    {
     "output_type": "execute_result",
     "data": {
      "text/plain": "'A a'"
     },
     "metadata": {},
     "execution_count": 3
    }
   ],
   "source": [
    "f'{65:c} {97:c}'"
   ]
  },
  {
   "cell_type": "markdown",
   "metadata": {},
   "source": [
    "### * String Presentation Type. *"
   ]
  },
  {
   "cell_type": "code",
   "execution_count": 4,
   "metadata": {},
   "outputs": [
    {
     "output_type": "execute_result",
     "data": {
      "text/plain": "'hello 7'"
     },
     "metadata": {},
     "execution_count": 4
    }
   ],
   "source": [
    "f'{\"hello\":s} {7}'"
   ]
  },
  {
   "cell_type": "code",
   "execution_count": 5,
   "metadata": {},
   "outputs": [],
   "source": [
    "from decimal import Decimal"
   ]
  },
  {
   "cell_type": "code",
   "execution_count": 7,
   "metadata": {},
   "outputs": [
    {
     "output_type": "execute_result",
     "data": {
      "text/plain": "'100000000000000000000000000000000000000000000000000000000000000000.0000000'"
     },
     "metadata": {},
     "execution_count": 7
    }
   ],
   "source": [
    "# Changing the one decimal to 7 decimal places\n",
    "f'{Decimal(\"100000000000000000000000000000000000000000000000000000000000000000.0\"):.7f}'"
   ]
  },
  {
   "cell_type": "code",
   "execution_count": 8,
   "metadata": {},
   "outputs": [
    {
     "output_type": "execute_result",
     "data": {
      "text/plain": "'1.000e+65'"
     },
     "metadata": {},
     "execution_count": 8
    }
   ],
   "source": [
    "# Exponential Notation\n",
    "f'{Decimal(\"100000000000000000000000000000000000000000000000000000000000000000.0\"):.3e}'"
   ]
  },
  {
   "cell_type": "code",
   "execution_count": 9,
   "metadata": {},
   "outputs": [
    {
     "output_type": "execute_result",
     "data": {
      "text/plain": "'1.0000000E+65'"
     },
     "metadata": {},
     "execution_count": 9
    }
   ],
   "source": [
    "f'{Decimal(\"100000000000000000000000000000000000000000000000000000000000000000.0\"):.7E}'"
   ]
  },
  {
   "cell_type": "markdown",
   "metadata": {},
   "source": [
    "## *Self Check*\n",
    "* Use the type specifier C to display the character that correcpond to the character codes 58, 45 and 41."
   ]
  },
  {
   "cell_type": "code",
   "execution_count": 11,
   "metadata": {},
   "outputs": [
    {
     "output_type": "execute_result",
     "data": {
      "text/plain": "':-)'"
     },
     "metadata": {},
     "execution_count": 11
    }
   ],
   "source": [
    "f'{58:c}{45:c}{41:c}'"
   ]
  },
  {
   "cell_type": "markdown",
   "metadata": {},
   "source": [
    "# *<u> Field Width and Alignment of F Strings Data </u>*"
   ]
  },
  {
   "cell_type": "code",
   "execution_count": 12,
   "metadata": {},
   "outputs": [
    {
     "output_type": "execute_result",
     "data": {
      "text/plain": "'[        27]'"
     },
     "metadata": {},
     "execution_count": 12
    }
   ],
   "source": [
    "f'[{27:10d}]' # Creates a 10 digit field and by default aligns the INTEGER to the right"
   ]
  },
  {
   "cell_type": "code",
   "execution_count": 15,
   "metadata": {},
   "outputs": [
    {
     "output_type": "execute_result",
     "data": {
      "text/plain": "'[  3.500000]'"
     },
     "metadata": {},
     "execution_count": 15
    }
   ],
   "source": [
    "f'[{3.5:10f}]' #Create a 10 digit field and aligns the FLOAT on the right. The 6 decimal places are added by default."
   ]
  },
  {
   "cell_type": "code",
   "execution_count": 16,
   "metadata": {},
   "outputs": [
    {
     "output_type": "execute_result",
     "data": {
      "text/plain": "'[hello     ]'"
     },
     "metadata": {},
     "execution_count": 16
    }
   ],
   "source": [
    "f'[{\"hello\":10}]'  #Create a 10 digit field and by default aligns the string on the left."
   ]
  },
  {
   "cell_type": "code",
   "execution_count": 17,
   "metadata": {},
   "outputs": [
    {
     "output_type": "execute_result",
     "data": {
      "text/plain": "'[27             ]'"
     },
     "metadata": {},
     "execution_count": 17
    }
   ],
   "source": [
    "f'[{27:<15d}]' #Create a 15 digit field and aligns the INTEGER on the left because of the < ."
   ]
  },
  {
   "cell_type": "code",
   "execution_count": 19,
   "metadata": {},
   "outputs": [
    {
     "output_type": "execute_result",
     "data": {
      "text/plain": "'[          hello]'"
     },
     "metadata": {},
     "execution_count": 19
    }
   ],
   "source": [
    "f'[{\"hello\":>15}]' #Create a 15 digit field and aligns the STRING on the right because of the > ."
   ]
  },
  {
   "cell_type": "code",
   "execution_count": 20,
   "metadata": {},
   "outputs": [
    {
     "output_type": "execute_result",
     "data": {
      "text/plain": "'[  27   ]'"
     },
     "metadata": {},
     "execution_count": 20
    }
   ],
   "source": [
    "f'[{27:^7d}]' #Create a 15 digit field and aligns the INTEGER on the Center."
   ]
  },
  {
   "cell_type": "code",
   "execution_count": 22,
   "metadata": {},
   "outputs": [
    {
     "output_type": "execute_result",
     "data": {
      "text/plain": "'[       Hello        ]'"
     },
     "metadata": {},
     "execution_count": 22
    }
   ],
   "source": [
    "f'[{\"Hello\":^20}]' #Create a 20 digit field and aligns the STRING on the Center."
   ]
  },
  {
   "cell_type": "markdown",
   "metadata": {},
   "source": [
    "## *<u> Self Check </u>*\n",
    "* Display on seperate lines the name 'Amanda' right-, center- and left aligned in the filed of 10 characters. Enclose each result in a [] so that the output looks clear."
   ]
  },
  {
   "cell_type": "code",
   "execution_count": 23,
   "metadata": {},
   "outputs": [
    {
     "output_type": "execute_result",
     "data": {
      "text/plain": "'[Amanda    ]'"
     },
     "metadata": {},
     "execution_count": 23
    }
   ],
   "source": [
    "f'[{\"Amanda\":10}]'"
   ]
  },
  {
   "cell_type": "code",
   "execution_count": 24,
   "metadata": {},
   "outputs": [
    {
     "output_type": "execute_result",
     "data": {
      "text/plain": "'[    Amanda]'"
     },
     "metadata": {},
     "execution_count": 24
    }
   ],
   "source": [
    "f'[{\"Amanda\":>10}]'"
   ]
  },
  {
   "cell_type": "code",
   "execution_count": 25,
   "metadata": {},
   "outputs": [
    {
     "output_type": "execute_result",
     "data": {
      "text/plain": "'[  Amanda  ]'"
     },
     "metadata": {},
     "execution_count": 25
    }
   ],
   "source": [
    "f'[{\"Amanda\":^10}]'"
   ]
  },
  {
   "cell_type": "code",
   "execution_count": 29,
   "metadata": {
    "tags": []
   },
   "outputs": [
    {
     "output_type": "stream",
     "name": "stdout",
     "text": "[    Amanda]\n[  Amanda  ]\n[Amanda    ]]\n"
    }
   ],
   "source": [
    "print(f'[{\"Amanda\":>10}]\\n[{\"Amanda\":^10}]\\n[{\"Amanda\":<10}]]')"
   ]
  },
  {
   "cell_type": "markdown",
   "metadata": {},
   "source": [
    "## *<u> Numeric Formatting </u>*"
   ]
  },
  {
   "cell_type": "code",
   "execution_count": 30,
   "metadata": {},
   "outputs": [
    {
     "output_type": "execute_result",
     "data": {
      "text/plain": "'[       +27]'"
     },
     "metadata": {},
     "execution_count": 30
    }
   ],
   "source": [
    "# Forcing a + Sign in front of a positive integer\n",
    "f'[{27:+10d}]'"
   ]
  },
  {
   "cell_type": "code",
   "execution_count": 31,
   "metadata": {},
   "outputs": [
    {
     "output_type": "execute_result",
     "data": {
      "text/plain": "'[+000000027]'"
     },
     "metadata": {},
     "execution_count": 31
    }
   ],
   "source": [
    "# Adding Zeros to the empty spaces\n",
    "f'[{27:+010d}]'"
   ]
  },
  {
   "cell_type": "code",
   "execution_count": 32,
   "metadata": {
    "tags": []
   },
   "outputs": [
    {
     "output_type": "stream",
     "name": "stdout",
     "text": "27\n 27\n-27\n"
    }
   ],
   "source": [
    "# Putting a space where the Positive sign goes\n",
    "print(f'{27:d}\\n{27: d}\\n{-27: d}')"
   ]
  },
  {
   "cell_type": "code",
   "execution_count": 33,
   "metadata": {},
   "outputs": [
    {
     "output_type": "execute_result",
     "data": {
      "text/plain": "'123,456,789'"
     },
     "metadata": {},
     "execution_count": 33
    }
   ],
   "source": [
    "# Seperating the digits on thousands with Comma\n",
    "f'{123456789:,d}'"
   ]
  },
  {
   "cell_type": "code",
   "execution_count": 35,
   "metadata": {},
   "outputs": [
    {
     "output_type": "execute_result",
     "data": {
      "text/plain": "'123,456.789'"
     },
     "metadata": {},
     "execution_count": 35
    }
   ],
   "source": [
    "# Seperating the floats on thousands with Comma\n",
    "f'{123456.789:,.3f}'"
   ]
  },
  {
   "cell_type": "markdown",
   "metadata": {},
   "source": [
    "## *<u> Self Check </u>*\n",
    "* Print the values 10240.473 and -3210.9521, each preceded by its sign in the 10-Character fields with thousands seperators, their decimal points aligned vertically and two digits of precision."
   ]
  },
  {
   "cell_type": "code",
   "execution_count": 40,
   "metadata": {
    "tags": []
   },
   "outputs": [
    {
     "output_type": "stream",
     "name": "stdout",
     "text": "+10,240.47\n -3,210.95\n"
    }
   ],
   "source": [
    "print(f'{10240.473:+10,.2f}\\n{-3210.9521:+10,.2f}')"
   ]
  },
  {
   "cell_type": "markdown",
   "metadata": {},
   "source": [
    "# *<u> Old Method Of Format Strings </u>*"
   ]
  },
  {
   "cell_type": "code",
   "execution_count": 43,
   "metadata": {
    "tags": []
   },
   "outputs": [
    {
     "output_type": "execute_result",
     "data": {
      "text/plain": "'9823.30'"
     },
     "metadata": {},
     "execution_count": 43
    }
   ],
   "source": [
    "'{:.2f}'.format(9823.2987)"
   ]
  },
  {
   "cell_type": "code",
   "execution_count": 44,
   "metadata": {},
   "outputs": [
    {
     "output_type": "execute_result",
     "data": {
      "text/plain": "'Amanda Cyan'"
     },
     "metadata": {},
     "execution_count": 44
    }
   ],
   "source": [
    "'{} {}'.format('Amanda', 'Cyan')"
   ]
  },
  {
   "cell_type": "code",
   "execution_count": 45,
   "metadata": {},
   "outputs": [
    {
     "output_type": "execute_result",
     "data": {
      "text/plain": "'Happy Happy Birthday'"
     },
     "metadata": {},
     "execution_count": 45
    }
   ],
   "source": [
    "'{0} {0} {1}'.format('Happy', 'Birthday')"
   ]
  },
  {
   "cell_type": "code",
   "execution_count": 46,
   "metadata": {},
   "outputs": [
    {
     "output_type": "execute_result",
     "data": {
      "text/plain": "'Deven Suji'"
     },
     "metadata": {},
     "execution_count": 46
    }
   ],
   "source": [
    "'{first} {last}'.format(first='Deven', last='Suji')"
   ]
  },
  {
   "cell_type": "code",
   "execution_count": 47,
   "metadata": {},
   "outputs": [
    {
     "output_type": "execute_result",
     "data": {
      "text/plain": "'Suji Deven'"
     },
     "metadata": {},
     "execution_count": 47
    }
   ],
   "source": [
    "'{last} {first}'.format(first='Deven', last='Suji')"
   ]
  },
  {
   "cell_type": "markdown",
   "metadata": {},
   "source": [
    "# *<u> Self Check</u>*\n",
    "### * Use the string method format to reimplement the ipython sessions in the last three Self Check Excercises:*\n",
    "* Use the type specifier C to display the characters that correspond to the Character Codes 58, 45 and 41.\n",
    "* Display on seperate lines the name 'Amanda' right-, center- and left aligned in the filed of 10 characters. Enclose each result in a [] so that the output looks clear.\n",
    "* Print the values 10240.473 and -3210.9521, each preceded by its sign in the 10-Character fields with thousands seperators, their decimal points aligned vertically and two digits of precision."
   ]
  },
  {
   "cell_type": "code",
   "execution_count": 5,
   "metadata": {
    "tags": []
   },
   "outputs": [
    {
     "output_type": "execute_result",
     "data": {
      "text/plain": "':-)'"
     },
     "metadata": {},
     "execution_count": 5
    }
   ],
   "source": [
    "f'{58:c}{45:c}{41:c}'"
   ]
  },
  {
   "cell_type": "code",
   "execution_count": 6,
   "metadata": {
    "tags": []
   },
   "outputs": [
    {
     "output_type": "stream",
     "name": "stdout",
     "text": "[    Amanda]\n[  Amanda  ]\n[Amanda    ]]\n"
    }
   ],
   "source": [
    "print(f'[{\"Amanda\":>10}]\\n[{\"Amanda\":^10}]\\n[{\"Amanda\":<10}]]')"
   ]
  },
  {
   "cell_type": "code",
   "execution_count": 7,
   "metadata": {
    "tags": []
   },
   "outputs": [
    {
     "output_type": "stream",
     "name": "stdout",
     "text": "+10,240.47\n -3,210.95\n"
    }
   ],
   "source": [
    "print(f'{10240.473:+10,.2f}\\n{-3210.9521:+10,.2f}')"
   ]
  }
 ],
 "metadata": {
  "language_info": {
   "codemirror_mode": {
    "name": "ipython",
    "version": 3
   },
   "file_extension": ".py",
   "mimetype": "text/x-python",
   "name": "python",
   "nbconvert_exporter": "python",
   "pygments_lexer": "ipython3",
   "version": "3.8.2-final"
  },
  "orig_nbformat": 2,
  "kernelspec": {
   "name": "python38264bit2472454288054193a39fc81468cfa85d",
   "display_name": "Python 3.8.2 64-bit"
  }
 },
 "nbformat": 4,
 "nbformat_minor": 2
}