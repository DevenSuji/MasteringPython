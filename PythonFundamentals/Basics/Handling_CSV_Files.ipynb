{
  "nbformat": 4,
  "nbformat_minor": 0,
  "metadata": {
    "colab": {
      "name": "Handling_CSV_Files.ipynb",
      "provenance": [],
      "authorship_tag": "ABX9TyOcUYnQGCLlHohry1CFi9Ci",
      "include_colab_link": true
    },
    "kernelspec": {
      "name": "python3",
      "display_name": "Python 3"
    }
  },
  "cells": [
    {
      "cell_type": "markdown",
      "metadata": {
        "id": "view-in-github",
        "colab_type": "text"
      },
      "source": [
        "<a href=\"https://colab.research.google.com/github/DevenSuji/MasteringPython/blob/master/Handling_CSV_Files.ipynb\" target=\"_parent\"><img src=\"https://colab.research.google.com/assets/colab-badge.svg\" alt=\"Open In Colab\"/></a>"
      ]
    },
    {
      "cell_type": "markdown",
      "metadata": {
        "id": "AzO-CSRCR2yQ",
        "colab_type": "text"
      },
      "source": [
        "# Writing a CSV File"
      ]
    },
    {
      "cell_type": "code",
      "metadata": {
        "id": "2SC9XObGQbsZ",
        "colab_type": "code",
        "colab": {}
      },
      "source": [
        "import csv"
      ],
      "execution_count": 3,
      "outputs": []
    },
    {
      "cell_type": "code",
      "metadata": {
        "id": "Z81DS60vQo8d",
        "colab_type": "code",
        "colab": {}
      },
      "source": [
        "with open('accounts.csv', mode='w', newline='') as accounts:\n",
        "  writer = csv.writer(accounts)\n",
        "  writer.writerow([100, 'Jones', 24.98])\n",
        "  writer.writerow([200, 'Doe', 345.67])\n",
        "  writer.writerow([300, 'White', 0.00])\n",
        "  writer.writerow([400, 'Stone', -42.16])\n",
        "  writer.writerow([500, 'Rich', 224.62])"
      ],
      "execution_count": 4,
      "outputs": []
    },
    {
      "cell_type": "code",
      "metadata": {
        "id": "T5Vo5r-WRfr_",
        "colab_type": "code",
        "colab": {
          "base_uri": "https://localhost:8080/",
          "height": 101
        },
        "outputId": "0bceb203-e4dc-42a0-e093-3f460c31e0f7"
      },
      "source": [
        "!cat accounts.csv"
      ],
      "execution_count": 5,
      "outputs": [
        {
          "output_type": "stream",
          "text": [
            "100,Jones,24.98\r\n",
            "200,Doe,345.67\r\n",
            "300,White,0.0\r\n",
            "400,Stone,-42.16\r\n",
            "500,Rich,224.62\r\n"
          ],
          "name": "stdout"
        }
      ]
    },
    {
      "cell_type": "markdown",
      "metadata": {
        "id": "Kgg0XobVR_Q_",
        "colab_type": "text"
      },
      "source": [
        "# Reading a CSV File"
      ]
    },
    {
      "cell_type": "code",
      "metadata": {
        "id": "Uc0miayqSDC-",
        "colab_type": "code",
        "colab": {
          "base_uri": "https://localhost:8080/",
          "height": 118
        },
        "outputId": "a77a2af8-b2b0-4f80-bfbc-0af2a48c6bb0"
      },
      "source": [
        "with open('accounts.csv', 'r', newline='') as accounts:\n",
        "  print(f'{\"Account\":<10}{\"Name\":<10}{\"Balance\":>10}')\n",
        "  reader = csv.reader(accounts)\n",
        "  for record in reader:\n",
        "    account, name, balance = record\n",
        "    print(f'{account:<10}{name:<10}{balance:>10}')"
      ],
      "execution_count": 6,
      "outputs": [
        {
          "output_type": "stream",
          "text": [
            "Account   Name         Balance\n",
            "100       Jones          24.98\n",
            "200       Doe           345.67\n",
            "300       White            0.0\n",
            "400       Stone         -42.16\n",
            "500       Rich          224.62\n"
          ],
          "name": "stdout"
        }
      ]
    },
    {
      "cell_type": "markdown",
      "metadata": {
        "id": "M83MOE6DTJK7",
        "colab_type": "text"
      },
      "source": [
        "# Self Check\n",
        "* Create a text file named grades.csv and write some records to it consisting of students ID, last names and letter grades.\n",
        "* Then, read the file grades.csv and display it in columns with the column heads 'ID', 'Name'and 'Grades'"
      ]
    },
    {
      "cell_type": "code",
      "metadata": {
        "id": "oSyd5H03TvCx",
        "colab_type": "code",
        "colab": {}
      },
      "source": [
        "with open('grades.csv', mode='w', newline='') as grades:\n",
        "  writer = csv.writer(grades)\n",
        "  writer.writerow([1, 'Deven Suji', 98.77])\n",
        "  writer.writerow([2, 'Pavithra M', 67.08])\n",
        "  writer.writerow([3, 'Dhrishti Suji', 99.99])\n",
        "  writer.writerow([4, 'Duganth Suji', 95.67])"
      ],
      "execution_count": 7,
      "outputs": []
    },
    {
      "cell_type": "code",
      "metadata": {
        "id": "CNuXNB-BUhtd",
        "colab_type": "code",
        "colab": {
          "base_uri": "https://localhost:8080/",
          "height": 84
        },
        "outputId": "a302eb59-b170-4806-cfae-e3160673883a"
      },
      "source": [
        "!cat grades.csv"
      ],
      "execution_count": 8,
      "outputs": [
        {
          "output_type": "stream",
          "text": [
            "1,Deven Suji,98.77\r\n",
            "2,Pavithra M,67.08\r\n",
            "3,Dhrishti Suji,99.99\r\n",
            "4,Duganth Suji,95.67\r\n"
          ],
          "name": "stdout"
        }
      ]
    },
    {
      "cell_type": "code",
      "metadata": {
        "id": "bMfiEmGQUpla",
        "colab_type": "code",
        "colab": {
          "base_uri": "https://localhost:8080/",
          "height": 101
        },
        "outputId": "40266da3-e669-4342-a9b4-bc1f41b17991"
      },
      "source": [
        "with open('grades.csv', mode='r', newline='') as grades:\n",
        "  print(f'{\"ID\":<10}{\"Name\":<15}{\"Grade\":>10}')\n",
        "  reader = csv.reader(grades)\n",
        "  for item in reader:\n",
        "    ID, Name, Grade = item\n",
        "    print(f'{ID:<10}{Name:<15}{Grade:>10}')"
      ],
      "execution_count": 9,
      "outputs": [
        {
          "output_type": "stream",
          "text": [
            "ID        Name                Grade\n",
            "1         Deven Suji          98.77\n",
            "2         Pavithra M          67.08\n",
            "3         Dhrishti Suji       99.99\n",
            "4         Duganth Suji        95.67\n"
          ],
          "name": "stdout"
        }
      ]
    },
    {
      "cell_type": "markdown",
      "metadata": {
        "id": "hIz5keWmXOTm",
        "colab_type": "text"
      },
      "source": [
        "# Handling CSV with PANDAS"
      ]
    },
    {
      "cell_type": "code",
      "metadata": {
        "id": "q3z0cMu8XiD-",
        "colab_type": "code",
        "colab": {}
      },
      "source": [
        "import pandas as pd"
      ],
      "execution_count": 10,
      "outputs": []
    },
    {
      "cell_type": "code",
      "metadata": {
        "id": "cAyzun7IXp9V",
        "colab_type": "code",
        "colab": {}
      },
      "source": [
        "df = pd.read_csv('accounts.csv', names=['account', 'name', 'balance'])"
      ],
      "execution_count": 12,
      "outputs": []
    },
    {
      "cell_type": "code",
      "metadata": {
        "id": "v9mUgkBXYHLo",
        "colab_type": "code",
        "colab": {
          "base_uri": "https://localhost:8080/",
          "height": 195
        },
        "outputId": "3308db0d-4765-4f7c-da62-8c38c5340957"
      },
      "source": [
        "df"
      ],
      "execution_count": 13,
      "outputs": [
        {
          "output_type": "execute_result",
          "data": {
            "text/html": [
              "<div>\n",
              "<style scoped>\n",
              "    .dataframe tbody tr th:only-of-type {\n",
              "        vertical-align: middle;\n",
              "    }\n",
              "\n",
              "    .dataframe tbody tr th {\n",
              "        vertical-align: top;\n",
              "    }\n",
              "\n",
              "    .dataframe thead th {\n",
              "        text-align: right;\n",
              "    }\n",
              "</style>\n",
              "<table border=\"1\" class=\"dataframe\">\n",
              "  <thead>\n",
              "    <tr style=\"text-align: right;\">\n",
              "      <th></th>\n",
              "      <th>account</th>\n",
              "      <th>name</th>\n",
              "      <th>balance</th>\n",
              "    </tr>\n",
              "  </thead>\n",
              "  <tbody>\n",
              "    <tr>\n",
              "      <th>0</th>\n",
              "      <td>100</td>\n",
              "      <td>Jones</td>\n",
              "      <td>24.98</td>\n",
              "    </tr>\n",
              "    <tr>\n",
              "      <th>1</th>\n",
              "      <td>200</td>\n",
              "      <td>Doe</td>\n",
              "      <td>345.67</td>\n",
              "    </tr>\n",
              "    <tr>\n",
              "      <th>2</th>\n",
              "      <td>300</td>\n",
              "      <td>White</td>\n",
              "      <td>0.00</td>\n",
              "    </tr>\n",
              "    <tr>\n",
              "      <th>3</th>\n",
              "      <td>400</td>\n",
              "      <td>Stone</td>\n",
              "      <td>-42.16</td>\n",
              "    </tr>\n",
              "    <tr>\n",
              "      <th>4</th>\n",
              "      <td>500</td>\n",
              "      <td>Rich</td>\n",
              "      <td>224.62</td>\n",
              "    </tr>\n",
              "  </tbody>\n",
              "</table>\n",
              "</div>"
            ],
            "text/plain": [
              "   account   name  balance\n",
              "0      100  Jones    24.98\n",
              "1      200    Doe   345.67\n",
              "2      300  White     0.00\n",
              "3      400  Stone   -42.16\n",
              "4      500   Rich   224.62"
            ]
          },
          "metadata": {
            "tags": []
          },
          "execution_count": 13
        }
      ]
    },
    {
      "cell_type": "code",
      "metadata": {
        "id": "RIW7cu58YbQe",
        "colab_type": "code",
        "colab": {}
      },
      "source": [
        "df.to_csv('accounts_from_dataframe.csv', index=False)"
      ],
      "execution_count": 14,
      "outputs": []
    },
    {
      "cell_type": "code",
      "metadata": {
        "id": "T5R-0Ap6Yose",
        "colab_type": "code",
        "colab": {
          "base_uri": "https://localhost:8080/",
          "height": 118
        },
        "outputId": "4269b95f-2163-480d-99fa-3731b91ac58f"
      },
      "source": [
        "!cat accounts_from_dataframe.csv"
      ],
      "execution_count": 15,
      "outputs": [
        {
          "output_type": "stream",
          "text": [
            "account,name,balance\n",
            "100,Jones,24.98\n",
            "200,Doe,345.67\n",
            "300,White,0.0\n",
            "400,Stone,-42.16\n",
            "500,Rich,224.62\n"
          ],
          "name": "stdout"
        }
      ]
    },
    {
      "cell_type": "markdown",
      "metadata": {
        "id": "Vys5FXR8ZKiN",
        "colab_type": "text"
      },
      "source": [
        "# Loading CSV from Internet"
      ]
    },
    {
      "cell_type": "code",
      "metadata": {
        "id": "Y6xAOPauZFKy",
        "colab_type": "code",
        "colab": {}
      },
      "source": [
        "import pandas as pd"
      ],
      "execution_count": 16,
      "outputs": []
    },
    {
      "cell_type": "code",
      "metadata": {
        "id": "hU-a_eIMZR5e",
        "colab_type": "code",
        "colab": {}
      },
      "source": [
        "titanic = pd.read_csv('https://vincentarelbundock.github.io/Rdatasets/csv/carData/TitanicSurvival.csv')"
      ],
      "execution_count": 17,
      "outputs": []
    },
    {
      "cell_type": "code",
      "metadata": {
        "id": "XptibLEUZvKQ",
        "colab_type": "code",
        "colab": {}
      },
      "source": [
        "pd.set_option('precision', 2) # Keeping the decimal values to 2 places."
      ],
      "execution_count": 18,
      "outputs": []
    },
    {
      "cell_type": "code",
      "metadata": {
        "id": "5baQbNZSZ6po",
        "colab_type": "code",
        "colab": {
          "base_uri": "https://localhost:8080/",
          "height": 195
        },
        "outputId": "6a934f7d-7716-497a-c167-85b398d65c0c"
      },
      "source": [
        "titanic.head() # Shows the first five records"
      ],
      "execution_count": 19,
      "outputs": [
        {
          "output_type": "execute_result",
          "data": {
            "text/html": [
              "<div>\n",
              "<style scoped>\n",
              "    .dataframe tbody tr th:only-of-type {\n",
              "        vertical-align: middle;\n",
              "    }\n",
              "\n",
              "    .dataframe tbody tr th {\n",
              "        vertical-align: top;\n",
              "    }\n",
              "\n",
              "    .dataframe thead th {\n",
              "        text-align: right;\n",
              "    }\n",
              "</style>\n",
              "<table border=\"1\" class=\"dataframe\">\n",
              "  <thead>\n",
              "    <tr style=\"text-align: right;\">\n",
              "      <th></th>\n",
              "      <th>Unnamed: 0</th>\n",
              "      <th>survived</th>\n",
              "      <th>sex</th>\n",
              "      <th>age</th>\n",
              "      <th>passengerClass</th>\n",
              "    </tr>\n",
              "  </thead>\n",
              "  <tbody>\n",
              "    <tr>\n",
              "      <th>0</th>\n",
              "      <td>Allen, Miss. Elisabeth Walton</td>\n",
              "      <td>yes</td>\n",
              "      <td>female</td>\n",
              "      <td>29.00</td>\n",
              "      <td>1st</td>\n",
              "    </tr>\n",
              "    <tr>\n",
              "      <th>1</th>\n",
              "      <td>Allison, Master. Hudson Trevor</td>\n",
              "      <td>yes</td>\n",
              "      <td>male</td>\n",
              "      <td>0.92</td>\n",
              "      <td>1st</td>\n",
              "    </tr>\n",
              "    <tr>\n",
              "      <th>2</th>\n",
              "      <td>Allison, Miss. Helen Loraine</td>\n",
              "      <td>no</td>\n",
              "      <td>female</td>\n",
              "      <td>2.00</td>\n",
              "      <td>1st</td>\n",
              "    </tr>\n",
              "    <tr>\n",
              "      <th>3</th>\n",
              "      <td>Allison, Mr. Hudson Joshua Crei</td>\n",
              "      <td>no</td>\n",
              "      <td>male</td>\n",
              "      <td>30.00</td>\n",
              "      <td>1st</td>\n",
              "    </tr>\n",
              "    <tr>\n",
              "      <th>4</th>\n",
              "      <td>Allison, Mrs. Hudson J C (Bessi</td>\n",
              "      <td>no</td>\n",
              "      <td>female</td>\n",
              "      <td>25.00</td>\n",
              "      <td>1st</td>\n",
              "    </tr>\n",
              "  </tbody>\n",
              "</table>\n",
              "</div>"
            ],
            "text/plain": [
              "                        Unnamed: 0 survived     sex    age passengerClass\n",
              "0    Allen, Miss. Elisabeth Walton      yes  female  29.00            1st\n",
              "1   Allison, Master. Hudson Trevor      yes    male   0.92            1st\n",
              "2     Allison, Miss. Helen Loraine       no  female   2.00            1st\n",
              "3  Allison, Mr. Hudson Joshua Crei       no    male  30.00            1st\n",
              "4  Allison, Mrs. Hudson J C (Bessi       no  female  25.00            1st"
            ]
          },
          "metadata": {
            "tags": []
          },
          "execution_count": 19
        }
      ]
    },
    {
      "cell_type": "code",
      "metadata": {
        "id": "KQPOVbiAaL6l",
        "colab_type": "code",
        "colab": {
          "base_uri": "https://localhost:8080/",
          "height": 195
        },
        "outputId": "7dd7cdcd-575f-4b86-da8a-0d3aa34238f6"
      },
      "source": [
        "titanic.tail() # Shows the last five records"
      ],
      "execution_count": 20,
      "outputs": [
        {
          "output_type": "execute_result",
          "data": {
            "text/html": [
              "<div>\n",
              "<style scoped>\n",
              "    .dataframe tbody tr th:only-of-type {\n",
              "        vertical-align: middle;\n",
              "    }\n",
              "\n",
              "    .dataframe tbody tr th {\n",
              "        vertical-align: top;\n",
              "    }\n",
              "\n",
              "    .dataframe thead th {\n",
              "        text-align: right;\n",
              "    }\n",
              "</style>\n",
              "<table border=\"1\" class=\"dataframe\">\n",
              "  <thead>\n",
              "    <tr style=\"text-align: right;\">\n",
              "      <th></th>\n",
              "      <th>Unnamed: 0</th>\n",
              "      <th>survived</th>\n",
              "      <th>sex</th>\n",
              "      <th>age</th>\n",
              "      <th>passengerClass</th>\n",
              "    </tr>\n",
              "  </thead>\n",
              "  <tbody>\n",
              "    <tr>\n",
              "      <th>1304</th>\n",
              "      <td>Zabour, Miss. Hileni</td>\n",
              "      <td>no</td>\n",
              "      <td>female</td>\n",
              "      <td>14.5</td>\n",
              "      <td>3rd</td>\n",
              "    </tr>\n",
              "    <tr>\n",
              "      <th>1305</th>\n",
              "      <td>Zabour, Miss. Thamine</td>\n",
              "      <td>no</td>\n",
              "      <td>female</td>\n",
              "      <td>NaN</td>\n",
              "      <td>3rd</td>\n",
              "    </tr>\n",
              "    <tr>\n",
              "      <th>1306</th>\n",
              "      <td>Zakarian, Mr. Mapriededer</td>\n",
              "      <td>no</td>\n",
              "      <td>male</td>\n",
              "      <td>26.5</td>\n",
              "      <td>3rd</td>\n",
              "    </tr>\n",
              "    <tr>\n",
              "      <th>1307</th>\n",
              "      <td>Zakarian, Mr. Ortin</td>\n",
              "      <td>no</td>\n",
              "      <td>male</td>\n",
              "      <td>27.0</td>\n",
              "      <td>3rd</td>\n",
              "    </tr>\n",
              "    <tr>\n",
              "      <th>1308</th>\n",
              "      <td>Zimmerman, Mr. Leo</td>\n",
              "      <td>no</td>\n",
              "      <td>male</td>\n",
              "      <td>29.0</td>\n",
              "      <td>3rd</td>\n",
              "    </tr>\n",
              "  </tbody>\n",
              "</table>\n",
              "</div>"
            ],
            "text/plain": [
              "                     Unnamed: 0 survived     sex   age passengerClass\n",
              "1304       Zabour, Miss. Hileni       no  female  14.5            3rd\n",
              "1305      Zabour, Miss. Thamine       no  female   NaN            3rd\n",
              "1306  Zakarian, Mr. Mapriededer       no    male  26.5            3rd\n",
              "1307        Zakarian, Mr. Ortin       no    male  27.0            3rd\n",
              "1308         Zimmerman, Mr. Leo       no    male  29.0            3rd"
            ]
          },
          "metadata": {
            "tags": []
          },
          "execution_count": 20
        }
      ]
    },
    {
      "cell_type": "code",
      "metadata": {
        "id": "YNSgCOpaaaPl",
        "colab_type": "code",
        "colab": {}
      },
      "source": [
        "titanic.columns = ['name', 'survived', 'sex', 'age', 'class']"
      ],
      "execution_count": 21,
      "outputs": []
    },
    {
      "cell_type": "code",
      "metadata": {
        "id": "iBCfY2xKapUd",
        "colab_type": "code",
        "colab": {
          "base_uri": "https://localhost:8080/",
          "height": 195
        },
        "outputId": "167db073-c0d6-4efa-b2cb-284f823b592e"
      },
      "source": [
        "titanic.head()"
      ],
      "execution_count": 22,
      "outputs": [
        {
          "output_type": "execute_result",
          "data": {
            "text/html": [
              "<div>\n",
              "<style scoped>\n",
              "    .dataframe tbody tr th:only-of-type {\n",
              "        vertical-align: middle;\n",
              "    }\n",
              "\n",
              "    .dataframe tbody tr th {\n",
              "        vertical-align: top;\n",
              "    }\n",
              "\n",
              "    .dataframe thead th {\n",
              "        text-align: right;\n",
              "    }\n",
              "</style>\n",
              "<table border=\"1\" class=\"dataframe\">\n",
              "  <thead>\n",
              "    <tr style=\"text-align: right;\">\n",
              "      <th></th>\n",
              "      <th>name</th>\n",
              "      <th>survived</th>\n",
              "      <th>sex</th>\n",
              "      <th>age</th>\n",
              "      <th>class</th>\n",
              "    </tr>\n",
              "  </thead>\n",
              "  <tbody>\n",
              "    <tr>\n",
              "      <th>0</th>\n",
              "      <td>Allen, Miss. Elisabeth Walton</td>\n",
              "      <td>yes</td>\n",
              "      <td>female</td>\n",
              "      <td>29.00</td>\n",
              "      <td>1st</td>\n",
              "    </tr>\n",
              "    <tr>\n",
              "      <th>1</th>\n",
              "      <td>Allison, Master. Hudson Trevor</td>\n",
              "      <td>yes</td>\n",
              "      <td>male</td>\n",
              "      <td>0.92</td>\n",
              "      <td>1st</td>\n",
              "    </tr>\n",
              "    <tr>\n",
              "      <th>2</th>\n",
              "      <td>Allison, Miss. Helen Loraine</td>\n",
              "      <td>no</td>\n",
              "      <td>female</td>\n",
              "      <td>2.00</td>\n",
              "      <td>1st</td>\n",
              "    </tr>\n",
              "    <tr>\n",
              "      <th>3</th>\n",
              "      <td>Allison, Mr. Hudson Joshua Crei</td>\n",
              "      <td>no</td>\n",
              "      <td>male</td>\n",
              "      <td>30.00</td>\n",
              "      <td>1st</td>\n",
              "    </tr>\n",
              "    <tr>\n",
              "      <th>4</th>\n",
              "      <td>Allison, Mrs. Hudson J C (Bessi</td>\n",
              "      <td>no</td>\n",
              "      <td>female</td>\n",
              "      <td>25.00</td>\n",
              "      <td>1st</td>\n",
              "    </tr>\n",
              "  </tbody>\n",
              "</table>\n",
              "</div>"
            ],
            "text/plain": [
              "                              name survived     sex    age class\n",
              "0    Allen, Miss. Elisabeth Walton      yes  female  29.00   1st\n",
              "1   Allison, Master. Hudson Trevor      yes    male   0.92   1st\n",
              "2     Allison, Miss. Helen Loraine       no  female   2.00   1st\n",
              "3  Allison, Mr. Hudson Joshua Crei       no    male  30.00   1st\n",
              "4  Allison, Mrs. Hudson J C (Bessi       no  female  25.00   1st"
            ]
          },
          "metadata": {
            "tags": []
          },
          "execution_count": 22
        }
      ]
    },
    {
      "cell_type": "code",
      "metadata": {
        "id": "CBAWgRqiawSZ",
        "colab_type": "code",
        "colab": {
          "base_uri": "https://localhost:8080/",
          "height": 284
        },
        "outputId": "9df62e6b-3910-42c5-ed1c-1d3afd1fabf6"
      },
      "source": [
        "titanic.describe()"
      ],
      "execution_count": 23,
      "outputs": [
        {
          "output_type": "execute_result",
          "data": {
            "text/html": [
              "<div>\n",
              "<style scoped>\n",
              "    .dataframe tbody tr th:only-of-type {\n",
              "        vertical-align: middle;\n",
              "    }\n",
              "\n",
              "    .dataframe tbody tr th {\n",
              "        vertical-align: top;\n",
              "    }\n",
              "\n",
              "    .dataframe thead th {\n",
              "        text-align: right;\n",
              "    }\n",
              "</style>\n",
              "<table border=\"1\" class=\"dataframe\">\n",
              "  <thead>\n",
              "    <tr style=\"text-align: right;\">\n",
              "      <th></th>\n",
              "      <th>age</th>\n",
              "    </tr>\n",
              "  </thead>\n",
              "  <tbody>\n",
              "    <tr>\n",
              "      <th>count</th>\n",
              "      <td>1046.00</td>\n",
              "    </tr>\n",
              "    <tr>\n",
              "      <th>mean</th>\n",
              "      <td>29.88</td>\n",
              "    </tr>\n",
              "    <tr>\n",
              "      <th>std</th>\n",
              "      <td>14.41</td>\n",
              "    </tr>\n",
              "    <tr>\n",
              "      <th>min</th>\n",
              "      <td>0.17</td>\n",
              "    </tr>\n",
              "    <tr>\n",
              "      <th>25%</th>\n",
              "      <td>21.00</td>\n",
              "    </tr>\n",
              "    <tr>\n",
              "      <th>50%</th>\n",
              "      <td>28.00</td>\n",
              "    </tr>\n",
              "    <tr>\n",
              "      <th>75%</th>\n",
              "      <td>39.00</td>\n",
              "    </tr>\n",
              "    <tr>\n",
              "      <th>max</th>\n",
              "      <td>80.00</td>\n",
              "    </tr>\n",
              "  </tbody>\n",
              "</table>\n",
              "</div>"
            ],
            "text/plain": [
              "           age\n",
              "count  1046.00\n",
              "mean     29.88\n",
              "std      14.41\n",
              "min       0.17\n",
              "25%      21.00\n",
              "50%      28.00\n",
              "75%      39.00\n",
              "max      80.00"
            ]
          },
          "metadata": {
            "tags": []
          },
          "execution_count": 23
        }
      ]
    },
    {
      "cell_type": "code",
      "metadata": {
        "id": "wrK6d3OkbF2Q",
        "colab_type": "code",
        "colab": {
          "base_uri": "https://localhost:8080/",
          "height": 101
        },
        "outputId": "1877238b-5090-439c-92e6-49978bf5177d"
      },
      "source": [
        "(titanic.survived == 'yes').describe()"
      ],
      "execution_count": 24,
      "outputs": [
        {
          "output_type": "execute_result",
          "data": {
            "text/plain": [
              "count      1309\n",
              "unique        2\n",
              "top       False\n",
              "freq        809\n",
              "Name: survived, dtype: object"
            ]
          },
          "metadata": {
            "tags": []
          },
          "execution_count": 24
        }
      ]
    },
    {
      "cell_type": "code",
      "metadata": {
        "id": "vERZXdJtbXWq",
        "colab_type": "code",
        "colab": {
          "base_uri": "https://localhost:8080/",
          "height": 34
        },
        "outputId": "c97bb88b-ef8a-4281-ec6b-0e496d32405a"
      },
      "source": [
        "%matplotlib"
      ],
      "execution_count": 25,
      "outputs": [
        {
          "output_type": "stream",
          "text": [
            "Using matplotlib backend: agg\n"
          ],
          "name": "stdout"
        }
      ]
    },
    {
      "cell_type": "code",
      "metadata": {
        "id": "EEpCJZsVbjty",
        "colab_type": "code",
        "colab": {}
      },
      "source": [
        "histogram = titanic.hist()"
      ],
      "execution_count": 27,
      "outputs": []
    },
    {
      "cell_type": "markdown",
      "metadata": {
        "id": "wVh9eLpaXhnc",
        "colab_type": "text"
      },
      "source": [
        ""
      ]
    }
  ]
}