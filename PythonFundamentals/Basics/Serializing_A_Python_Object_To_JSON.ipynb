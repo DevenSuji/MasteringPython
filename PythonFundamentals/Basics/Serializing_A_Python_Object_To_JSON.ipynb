{
  "nbformat": 4,
  "nbformat_minor": 0,
  "metadata": {
    "colab": {
      "name": "Serializing_A_Python_Object_To_JSON.ipynb",
      "provenance": [],
      "collapsed_sections": [],
      "authorship_tag": "ABX9TyO5kBe6WOOZQct5A3VQclIe",
      "include_colab_link": true
    },
    "kernelspec": {
      "name": "python3",
      "display_name": "Python 3"
    }
  },
  "cells": [
    {
      "cell_type": "markdown",
      "metadata": {
        "id": "view-in-github",
        "colab_type": "text"
      },
      "source": [
        "<a href=\"https://colab.research.google.com/github/DevenSuji/MasteringPython/blob/master/Serializing_A_Python_Object_To_JSON.ipynb\" target=\"_parent\"><img src=\"https://colab.research.google.com/assets/colab-badge.svg\" alt=\"Open In Colab\"/></a>"
      ]
    },
    {
      "cell_type": "markdown",
      "metadata": {
        "id": "FkMb434BkluP",
        "colab_type": "text"
      },
      "source": [
        "# Creating a JSON Object"
      ]
    },
    {
      "cell_type": "code",
      "metadata": {
        "id": "FFA8Ohriims9",
        "colab_type": "code",
        "colab": {}
      },
      "source": [
        "accounts_dict = {'accounts':[\n",
        "                             {'account': 100, 'name': 'Jones', 'balance': 24.98},\n",
        "                             {'account': 200, 'name': 'John', 'balance': 234.98},\n",
        "                             {'account': 300, 'name': 'Jonathan', 'balance': 1234.98}]}"
      ],
      "execution_count": null,
      "outputs": []
    },
    {
      "cell_type": "code",
      "metadata": {
        "id": "wzhWi_o3j7CC",
        "colab_type": "code",
        "colab": {}
      },
      "source": [
        "import json"
      ],
      "execution_count": null,
      "outputs": []
    },
    {
      "cell_type": "code",
      "metadata": {
        "id": "aBOK7x89j-HS",
        "colab_type": "code",
        "colab": {}
      },
      "source": [
        "with open('accounts.json', 'w') as accounts:\n",
        "  json.dump(accounts_dict, accounts)"
      ],
      "execution_count": null,
      "outputs": []
    },
    {
      "cell_type": "code",
      "metadata": {
        "id": "t6MoI45rkP3n",
        "colab_type": "code",
        "colab": {}
      },
      "source": [
        "!cat accounts.json"
      ],
      "execution_count": null,
      "outputs": []
    },
    {
      "cell_type": "markdown",
      "metadata": {
        "id": "9NeVI0BxktXm",
        "colab_type": "text"
      },
      "source": [
        "# Reading a JSON File"
      ]
    },
    {
      "cell_type": "code",
      "metadata": {
        "id": "R51y1dpHk01q",
        "colab_type": "code",
        "colab": {}
      },
      "source": [
        "with open('accounts.json', 'r') as accounts:\n",
        "  accounts_json = json.load(accounts)"
      ],
      "execution_count": null,
      "outputs": []
    },
    {
      "cell_type": "code",
      "metadata": {
        "id": "g_T8ki4elH5_",
        "colab_type": "code",
        "colab": {}
      },
      "source": [
        "accounts_json"
      ],
      "execution_count": null,
      "outputs": []
    },
    {
      "cell_type": "code",
      "metadata": {
        "id": "D3oSwq2SlPRx",
        "colab_type": "code",
        "colab": {}
      },
      "source": [
        "type(accounts_json)"
      ],
      "execution_count": null,
      "outputs": []
    },
    {
      "cell_type": "code",
      "metadata": {
        "id": "XK_FtlOWlTj_",
        "colab_type": "code",
        "colab": {}
      },
      "source": [
        "accounts_json.keys()"
      ],
      "execution_count": null,
      "outputs": []
    },
    {
      "cell_type": "code",
      "metadata": {
        "id": "JK4YR0rvljtr",
        "colab_type": "code",
        "colab": {}
      },
      "source": [
        "accounts_json.values()"
      ],
      "execution_count": null,
      "outputs": []
    },
    {
      "cell_type": "code",
      "metadata": {
        "id": "uIzhBxlNlsQX",
        "colab_type": "code",
        "colab": {}
      },
      "source": [
        "accounts_json['accounts']"
      ],
      "execution_count": null,
      "outputs": []
    },
    {
      "cell_type": "code",
      "metadata": {
        "id": "vItpewqZl9Mc",
        "colab_type": "code",
        "colab": {}
      },
      "source": [
        "accounts_json['accounts'][0]"
      ],
      "execution_count": null,
      "outputs": []
    },
    {
      "cell_type": "code",
      "metadata": {
        "id": "CUggmrG3l_eD",
        "colab_type": "code",
        "colab": {}
      },
      "source": [
        "accounts_json['accounts'][0]['name']"
      ],
      "execution_count": null,
      "outputs": []
    },
    {
      "cell_type": "markdown",
      "metadata": {
        "id": "sbcRz4lBmRyg",
        "colab_type": "text"
      },
      "source": [
        "#Parsing the JSON objects in JSON Format"
      ]
    },
    {
      "cell_type": "code",
      "metadata": {
        "id": "YIhaSvxkmi8v",
        "colab_type": "code",
        "colab": {
          "base_uri": "https://localhost:8080/",
          "height": 336
        },
        "outputId": "ee6e5bdd-4863-44e8-ea42-d83a242dade8"
      },
      "source": [
        "with open('accounts.json', 'r') as accounts:\n",
        "  print(json.dumps(json.load(accounts), indent=4))"
      ],
      "execution_count": 23,
      "outputs": [
        {
          "output_type": "stream",
          "text": [
            "{\n",
            "    \"accounts\": [\n",
            "        {\n",
            "            \"account\": 100,\n",
            "            \"name\": \"Jones\",\n",
            "            \"balance\": 24.98\n",
            "        },\n",
            "        {\n",
            "            \"account\": 200,\n",
            "            \"name\": \"John\",\n",
            "            \"balance\": 234.98\n",
            "        },\n",
            "        {\n",
            "            \"account\": 300,\n",
            "            \"name\": \"Jonathan\",\n",
            "            \"balance\": 1234.98\n",
            "        }\n",
            "    ]\n",
            "}\n"
          ],
          "name": "stdout"
        }
      ]
    },
    {
      "cell_type": "markdown",
      "metadata": {
        "id": "d-Pp8YfknfNX",
        "colab_type": "text"
      },
      "source": [
        "# Self Check\n",
        "**3. _(IPython Session)_** Create a JSON file named `grades.json` and write into it the following dictionary:\n",
        "```python\n",
        "grades_dict = {'gradebook': \n",
        "    [{'student_id': 1, 'name': 'Red', 'grade': 'A'},\n",
        "     {'student_id': 2, 'name': 'Green', 'grade': 'B'},\n",
        "     {'student_id': 3, 'name': 'White', 'grade': 'A'}]}\n",
        "```\n",
        "Then, read the file and display its pretty-printed JSON."
      ]
    },
    {
      "cell_type": "code",
      "metadata": {
        "id": "53UOoD_GojUh",
        "colab_type": "code",
        "colab": {}
      },
      "source": [
        "import json"
      ],
      "execution_count": 24,
      "outputs": []
    },
    {
      "cell_type": "code",
      "metadata": {
        "id": "EJ-7mVuIotb4",
        "colab_type": "code",
        "colab": {}
      },
      "source": [
        "grades_dict = {'gradebook': \n",
        "    [{'student_id': 1, 'name': 'Red', 'grade': 'A'},\n",
        "     {'student_id': 2, 'name': 'Green', 'grade': 'B'},\n",
        "     {'student_id': 3, 'name': 'White', 'grade': 'A'}]}"
      ],
      "execution_count": 25,
      "outputs": []
    },
    {
      "cell_type": "code",
      "metadata": {
        "id": "xbETVfopoz6d",
        "colab_type": "code",
        "colab": {}
      },
      "source": [
        "with open('grades.json', 'w') as grades:\n",
        "  json.dump(grades_dict, grades)"
      ],
      "execution_count": 26,
      "outputs": []
    },
    {
      "cell_type": "code",
      "metadata": {
        "id": "xvmn5xWIo_vH",
        "colab_type": "code",
        "colab": {
          "base_uri": "https://localhost:8080/",
          "height": 34
        },
        "outputId": "ec1e5266-9d9a-4c54-ad94-07d875c75ad9"
      },
      "source": [
        "!cat grades.json"
      ],
      "execution_count": 27,
      "outputs": [
        {
          "output_type": "stream",
          "text": [
            "{\"gradebook\": [{\"student_id\": 1, \"name\": \"Red\", \"grade\": \"A\"}, {\"student_id\": 2, \"name\": \"Green\", \"grade\": \"B\"}, {\"student_id\": 3, \"name\": \"White\", \"grade\": \"A\"}]}"
          ],
          "name": "stdout"
        }
      ]
    },
    {
      "cell_type": "code",
      "metadata": {
        "id": "hNfWfLVypNnA",
        "colab_type": "code",
        "colab": {
          "base_uri": "https://localhost:8080/",
          "height": 336
        },
        "outputId": "35d39ff9-f10e-4213-f413-a804b034ce8d"
      },
      "source": [
        "with open('grades.json', 'r') as grades:\n",
        "  print(json.dumps(json.load(grades), indent=4))"
      ],
      "execution_count": 28,
      "outputs": [
        {
          "output_type": "stream",
          "text": [
            "{\n",
            "    \"gradebook\": [\n",
            "        {\n",
            "            \"student_id\": 1,\n",
            "            \"name\": \"Red\",\n",
            "            \"grade\": \"A\"\n",
            "        },\n",
            "        {\n",
            "            \"student_id\": 2,\n",
            "            \"name\": \"Green\",\n",
            "            \"grade\": \"B\"\n",
            "        },\n",
            "        {\n",
            "            \"student_id\": 3,\n",
            "            \"name\": \"White\",\n",
            "            \"grade\": \"A\"\n",
            "        }\n",
            "    ]\n",
            "}\n"
          ],
          "name": "stdout"
        }
      ]
    },
    {
      "cell_type": "markdown",
      "metadata": {
        "id": "y3WsEtnMqUGg",
        "colab_type": "text"
      },
      "source": [
        "# File Open Modes\n",
        "| Mode | Description   |\n",
        "|------|------|\n",
        "|   'r'  | Open a text file for reading. This is the default if you do not specify the file open mode when you call open.|\n",
        "|   'w'  | Open a text file for writing. Existing file contents are deleted.|\n",
        "|   'a'  | Open a text file for appending at the end, creating the file if it does not exist. New data is written at the end of the file.|\n",
        "|   'r+'  | Open a text file reading and writing.|\n",
        "|   'w+'  | Open a text file reading and writing. Existing file contents are deleted.|\n",
        "|   'a+'  | Open a text file reading and appending at the end. New data is written at the end of the file. If the file does not exist, it is created.|"
      ]
    }
  ]
}