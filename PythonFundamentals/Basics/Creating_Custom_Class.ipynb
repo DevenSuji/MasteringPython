{
 "cells": [
  {
   "cell_type": "markdown",
   "metadata": {},
   "source": [
    "# Creating Custom Class"
   ]
  },
  {
   "cell_type": "code",
   "execution_count": 16,
   "metadata": {},
   "outputs": [],
   "source": [
    "# account.py\n",
    "\"\"\"Account class definition\"\"\"\n",
    "from decimal import Decimal\n",
    "\n",
    "class Account:\n",
    "    \"\"\"Account class for maintaining a bank account balance.\"\"\"\n",
    "    def __init__(self, name, balance):\n",
    "        \"\"\"Initialize an account object.\"\"\"\n",
    "        # if balance is less the 0.00, raise an exception\n",
    "        if balance < Decimal('0.00'):\n",
    "            raise ValueError('Initial balance must be >= to 0.00.')\n",
    "            \n",
    "        self.name = name\n",
    "        self.balance = balance\n",
    "        \n",
    "    def deposit(self, amount):\n",
    "        \"\"\"Deposit money to the account\"\"\"\n",
    "        \n",
    "        # if amount is less than 0.00, raise an exception\n",
    "        if amount < Decimal('0.00'):\n",
    "            raise ValueError('amount must be positive')\n",
    "            \n",
    "        self.balance += amount\n",
    "        \n",
    "    def withdraw(self, amount):\n",
    "        \"\"\"Withdraw money from the account\"\"\"\n",
    "\n",
    "        # if amount is greater then the balance\n",
    "        if amount > self.balance:\n",
    "            raise ValueError('Your account does not have sufficient balance')\n",
    "        elif amount < Decimal('0.00'):\n",
    "            raise ValueError('Amount to be withdrawn cannot be 0. It has to be a positive number.')\n",
    "\n",
    "        self.balance -= amount"
   ]
  },
  {
   "cell_type": "code",
   "execution_count": 18,
   "metadata": {},
   "outputs": [],
   "source": [
    "from decimal import Decimaldd"
   ]
  },
  {
   "cell_type": "code",
   "execution_count": null,
   "metadata": {
    "scrolled": true
   },
   "outputs": [],
   "source": [
    "from account import Account"
   ]
  },
  {
   "cell_type": "code",
   "execution_count": 33,
   "metadata": {},
   "outputs": [],
   "source": [
    "account1 = Account('John Green', Decimal('50.00'))"
   ]
  },
  {
   "cell_type": "code",
   "execution_count": 67,
   "metadata": {},
   "outputs": [],
   "source": [
    "account1.withdraw(Decimal('1975304047944000.00'))"
   ]
  },
  {
   "cell_type": "code",
   "execution_count": 68,
   "metadata": {},
   "outputs": [
    {
     "data": {
      "text/plain": [
       "Decimal('624.00')"
      ]
     },
     "execution_count": 68,
     "metadata": {},
     "output_type": "execute_result"
    }
   ],
   "source": [
    "account1.balance"
   ]
  },
  {
   "cell_type": "code",
   "execution_count": 69,
   "metadata": {},
   "outputs": [],
   "source": [
    "account1.balance = Decimal('-1000')"
   ]
  },
  {
   "cell_type": "code",
   "execution_count": 70,
   "metadata": {},
   "outputs": [
    {
     "data": {
      "text/plain": [
       "Decimal('-1000')"
      ]
     },
     "execution_count": 70,
     "metadata": {},
     "output_type": "execute_result"
    }
   ],
   "source": [
    "account1.balance "
   ]
  },
  {
   "cell_type": "markdown",
   "metadata": {},
   "source": [
    "# Adding Properties"
   ]
  },
  {
   "cell_type": "code",
   "execution_count": 2,
   "metadata": {},
   "outputs": [],
   "source": [
    "# timewithproperties.py\n",
    "\"\"\"Class Time with read-write properties.\"\"\"\n",
    "\n",
    "class Time:\n",
    "    \"\"\"Class Time with read-write properties.\"\"\"\n",
    "    \n",
    "    def __init__(self, hour=0, minute=0, second=0):\n",
    "        \"\"\"Initialize each attribute.\"\"\"\n",
    "        \n",
    "        self.hour = hour  # 0-23\n",
    "        self.minute = minute # 0-59\n",
    "        self.second = second # 0-59\n",
    "        \n",
    "    @property\n",
    "    def hour(self):\n",
    "        \"\"\"Return the hour.\"\"\"\n",
    "        return self._hour\n",
    "    \n",
    "    @hour.setter\n",
    "    def hour(self, hour):\n",
    "        \"\"\"Set the hour.\"\"\"\n",
    "        if not (0 <= hour < 24):\n",
    "            raise ValueError(f'Hour ({hour}) must be 0-23')\n",
    "            \n",
    "        self._hour = hour\n",
    "        \n",
    "    @property\n",
    "    def minute(self):\n",
    "        \"\"\"Return the minute.\"\"\"\n",
    "        return self._minute\n",
    "    \n",
    "    @minute.setter\n",
    "    def minute(self, minute):\n",
    "        \"\"\"Set the minute.\"\"\"\n",
    "        if not (0 <= minute < 60):\n",
    "            raise ValueError(f'Minute ({minute}) must be 0-59')\n",
    "            \n",
    "        self._minute = minute\n",
    "\n",
    "    @property\n",
    "    def second(self):\n",
    "        \"\"\"Return the second.\"\"\"\n",
    "        return self._second\n",
    "    \n",
    "    @second.setter\n",
    "    def second(self, second):\n",
    "        \"\"\"Set the second.\"\"\"\n",
    "        if not (0 <= second < 60):\n",
    "            raise ValueError(f'second ({second}) must be 0-59')\n",
    "            \n",
    "        self._second = second"
   ]
  },
  {
   "cell_type": "code",
   "execution_count": 71,
   "metadata": {},
   "outputs": [],
   "source": [
    "from timewithproperties import Time"
   ]
  },
  {
   "cell_type": "code",
   "execution_count": 72,
   "metadata": {},
   "outputs": [],
   "source": [
    "wake_up = Time(hour=6, minute=30)"
   ]
  },
  {
   "cell_type": "code",
   "execution_count": 73,
   "metadata": {},
   "outputs": [
    {
     "data": {
      "text/plain": [
       "Time(hour=6, minute=30, second=0)"
      ]
     },
     "execution_count": 73,
     "metadata": {},
     "output_type": "execute_result"
    }
   ],
   "source": [
    "wake_up"
   ]
  },
  {
   "cell_type": "code",
   "execution_count": 74,
   "metadata": {},
   "outputs": [
    {
     "name": "stdout",
     "output_type": "stream",
     "text": [
      "6:30:00 AM\n"
     ]
    }
   ],
   "source": [
    "print(wake_up)"
   ]
  },
  {
   "cell_type": "code",
   "execution_count": 76,
   "metadata": {},
   "outputs": [
    {
     "data": {
      "text/plain": [
       "6"
      ]
     },
     "execution_count": 76,
     "metadata": {},
     "output_type": "execute_result"
    }
   ],
   "source": [
    "wake_up.hour"
   ]
  },
  {
   "cell_type": "code",
   "execution_count": 79,
   "metadata": {},
   "outputs": [],
   "source": [
    "wake_up.set_time(hour=4, minute=0)"
   ]
  },
  {
   "cell_type": "code",
   "execution_count": 80,
   "metadata": {},
   "outputs": [
    {
     "data": {
      "text/plain": [
       "Time(hour=4, minute=0, second=0)"
      ]
     },
     "execution_count": 80,
     "metadata": {},
     "output_type": "execute_result"
    }
   ],
   "source": [
    "wake_up"
   ]
  },
  {
   "cell_type": "code",
   "execution_count": null,
   "metadata": {},
   "outputs": [],
   "source": []
  }
 ],
 "metadata": {
  "kernelspec": {
   "display_name": "Python 3",
   "language": "python",
   "name": "python3"
  },
  "language_info": {
   "codemirror_mode": {
    "name": "ipython",
    "version": 3
   },
   "file_extension": ".py",
   "mimetype": "text/x-python",
   "name": "python",
   "nbconvert_exporter": "python",
   "pygments_lexer": "ipython3",
   "version": "3.7.7"
  }
 },
 "nbformat": 4,
 "nbformat_minor": 4
}
