{
 "cells": [
  {
   "cell_type": "code",
   "execution_count": null,
   "metadata": {},
   "outputs": [],
   "source": [
    "from decimal import Decimal\n",
    "principal = Decimal('150000.00')\n",
    "rate = Decimal('0.07')\n",
    "for year in range(1, 11):\n",
    "    amount = principal * (1 + rate) ** year\n",
    "    print(f'{year:>2}{amount:>30.2f}')\n"
   ]
  },
  {
   "cell_type": "code",
   "execution_count": 10,
   "metadata": {},
   "outputs": [
    {
     "output_type": "stream",
     "name": "stdout",
     "text": "The Total Bill is: 39.79\n"
    }
   ],
   "source": [
    "# Assume that the tax on the restaurant bill is 6.25 and that the bill amount is 37.45. Use type decimal to calculate the bill total then print the result with two digits to the right of the decimal point. \n",
    "\n",
    "from decimal import Decimal # Importing the Decimal \n",
    "bill_amount = Decimal('37.45') # Declaring the bill amount\n",
    "tax = Decimal('0.0625') # Declaring the tax percentage\n",
    "total_bill = (bill_amount * tax) + bill_amount # Calculating the total bill\n",
    "print(f'The Total Bill is: {total_bill:.2f}') # Using the format strings to format the decimal value to just 2 places."
   ]
  },
  {
   "cell_type": "code",
   "execution_count": null,
   "metadata": {},
   "outputs": [],
   "source": []
  }
 ],
 "metadata": {
  "language_info": {
   "codemirror_mode": {
    "name": "ipython",
    "version": 3
   },
   "file_extension": ".py",
   "mimetype": "text/x-python",
   "name": "python",
   "nbconvert_exporter": "python",
   "pygments_lexer": "ipython3",
   "version": "3.8.2-final"
  },
  "orig_nbformat": 2,
  "kernelspec": {
   "name": "python38264bit2472454288054193a39fc81468cfa85d",
   "display_name": "Python 3.8.2 64-bit"
  }
 },
 "nbformat": 4,
 "nbformat_minor": 2
}