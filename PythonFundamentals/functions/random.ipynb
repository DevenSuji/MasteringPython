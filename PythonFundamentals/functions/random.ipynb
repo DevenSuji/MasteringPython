{
 "cells": [
  {
   "cell_type": "code",
   "execution_count": null,
   "metadata": {},
   "outputs": [],
   "source": [
    "import random\n"
   ]
  },
  {
   "cell_type": "code",
   "execution_count": null,
   "metadata": {
    "tags": []
   },
   "outputs": [],
   "source": [
    "for roll in range(10):\n",
    "    print(random.randrange(1,7), end=' ')"
   ]
  },
  {
   "cell_type": "code",
   "execution_count": null,
   "metadata": {
    "tags": []
   },
   "outputs": [],
   "source": [
    "run Roll_A_Dice.py"
   ]
  },
  {
   "cell_type": "code",
   "execution_count": null,
   "metadata": {
    "tags": []
   },
   "outputs": [],
   "source": [
    "# User for statement, randrange and a conditional expression to simulate 20 coin flips, displaying H for heads and T for tails all on the same line, each seperated by a space.\n",
    "\n",
    "import random\n",
    "for i in range(20): # Flipping the coin 20 times\n",
    "# When filpping the coin there are 2 possiblities, either heads or tails hence random.randrange(2) describes these two possibilities. \n",
    "# Out of these two possiblities if the output is 0 save it as H and if the output is 1 save it as T. This feature can be testing using the code with the comment TESTING below\n",
    "    print('H' if random.randrange(2) == 0 else 'T', end=' ')"
   ]
  },
  {
   "cell_type": "code",
   "execution_count": null,
   "metadata": {
    "tags": []
   },
   "outputs": [],
   "source": [
    "# TESTING\n",
    "import random\n",
    "print(random.randrange(2))"
   ]
  }
 ],
 "metadata": {
  "language_info": {
   "codemirror_mode": {
    "name": "ipython",
    "version": 3
   },
   "file_extension": ".py",
   "mimetype": "text/x-python",
   "name": "python",
   "nbconvert_exporter": "python",
   "pygments_lexer": "ipython3",
   "version": "3.8.2-final"
  },
  "orig_nbformat": 2,
  "kernelspec": {
   "name": "python38264bit2472454288054193a39fc81468cfa85d",
   "display_name": "Python 3.8.2 64-bit"
  }
 },
 "nbformat": 4,
 "nbformat_minor": 2
}