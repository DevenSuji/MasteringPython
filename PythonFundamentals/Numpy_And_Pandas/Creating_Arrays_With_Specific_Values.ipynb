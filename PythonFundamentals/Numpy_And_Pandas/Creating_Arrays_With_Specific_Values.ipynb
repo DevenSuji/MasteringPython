{
 "cells": [
  {
   "cell_type": "markdown",
   "metadata": {},
   "source": [
    "# <u> * Creating Arrays With Specific Values. * </u>"
   ]
  },
  {
   "cell_type": "code",
   "execution_count": 60,
   "metadata": {},
   "outputs": [],
   "source": [
    "import numpy as np"
   ]
  },
  {
   "cell_type": "code",
   "execution_count": null,
   "metadata": {},
   "outputs": [],
   "source": [
    "np.zeros(5)"
   ]
  },
  {
   "cell_type": "markdown",
   "metadata": {},
   "source": [
    "####  <u> * In the above example the values in the arrays are showing up as floats * </u>\n",
    "### <u> * Defining a Data Type in the Array  * </u>\n",
    "\n",
    "####  <u> * In the below example 2 is for number of arrays, and 4 is for number of elements in each array, dtype specifies the type of data. * </u> "
   ]
  },
  {
   "cell_type": "code",
   "execution_count": null,
   "metadata": {},
   "outputs": [],
   "source": [
    "np.ones((2, 4), dtype=int)"
   ]
  },
  {
   "cell_type": "markdown",
   "metadata": {},
   "source": [
    "### <u> * Using FULL to define other values * </u>"
   ]
  },
  {
   "cell_type": "code",
   "execution_count": null,
   "metadata": {},
   "outputs": [],
   "source": [
    "np.full((3, 5), 13)"
   ]
  },
  {
   "cell_type": "code",
   "execution_count": null,
   "metadata": {},
   "outputs": [],
   "source": [
    "np.full((5, 7), 'Apple')"
   ]
  },
  {
   "cell_type": "code",
   "execution_count": null,
   "metadata": {},
   "outputs": [],
   "source": [
    "import random"
   ]
  },
  {
   "cell_type": "code",
   "execution_count": null,
   "metadata": {},
   "outputs": [],
   "source": [
    "np.full((3, 5), random.randint(1, 7))"
   ]
  },
  {
   "cell_type": "markdown",
   "metadata": {},
   "source": [
    "## <u> * Creating an array with a Range of numbers * </u>"
   ]
  },
  {
   "cell_type": "code",
   "execution_count": 57,
   "metadata": {},
   "outputs": [
    {
     "output_type": "execute_result",
     "data": {
      "text/plain": "array([1, 2, 3, 4, 5, 6, 7, 8])"
     },
     "metadata": {},
     "execution_count": 57
    }
   ],
   "source": [
    "np.arange(1, 9)"
   ]
  },
  {
   "cell_type": "markdown",
   "metadata": {},
   "source": [
    "## <u> * Creating an array that decrements by 2 starting from 10  * </u>"
   ]
  },
  {
   "cell_type": "code",
   "execution_count": 58,
   "metadata": {},
   "outputs": [
    {
     "output_type": "execute_result",
     "data": {
      "text/plain": "array([10,  8,  6,  4,  2])"
     },
     "metadata": {},
     "execution_count": 58
    }
   ],
   "source": [
    "np.arange(10, 1, -2)"
   ]
  },
  {
   "cell_type": "markdown",
   "metadata": {},
   "source": [
    "## <u> * Creating a floating point range using LINSPACE * </u>\n",
    "\n",
    "### <u> * In the below example the min value is 0.0 and the max value is 1.0 and the 5 denotes dividing the range in 5 equal parts * </u>"
   ]
  },
  {
   "cell_type": "code",
   "execution_count": 59,
   "metadata": {},
   "outputs": [
    {
     "output_type": "execute_result",
     "data": {
      "text/plain": "array([0.  , 0.25, 0.5 , 0.75, 1.  ])"
     },
     "metadata": {},
     "execution_count": 59
    }
   ],
   "source": [
    "np.linspace(0.0, 1.0, num=5)"
   ]
  },
  {
   "cell_type": "markdown",
   "metadata": {},
   "source": [
    "## <u> * Creating a range of values and turning it into a multi dimensional array using RESHAPING * </u>\n",
    "* In the below example we are taking the range of values between 1 and 21 and creating 4 arrays of 5 elements each."
   ]
  },
  {
   "cell_type": "code",
   "execution_count": 61,
   "metadata": {},
   "outputs": [
    {
     "output_type": "execute_result",
     "data": {
      "text/plain": "array([[ 1,  2,  3,  4,  5],\n       [ 6,  7,  8,  9, 10],\n       [11, 12, 13, 14, 15],\n       [16, 17, 18, 19, 20]])"
     },
     "metadata": {},
     "execution_count": 61
    }
   ],
   "source": [
    "np.arange(1, 21).reshape(4, 5)"
   ]
  },
  {
   "cell_type": "markdown",
   "metadata": {},
   "source": [
    "### <u> * This is how Numpy summarizes the data if it is too big * </u>"
   ]
  },
  {
   "cell_type": "code",
   "execution_count": 62,
   "metadata": {},
   "outputs": [
    {
     "output_type": "execute_result",
     "data": {
      "text/plain": "array([[     1,      2,      3, ...,  24998,  24999,  25000],\n       [ 25001,  25002,  25003, ...,  49998,  49999,  50000],\n       [ 50001,  50002,  50003, ...,  74998,  74999,  75000],\n       [ 75001,  75002,  75003, ...,  99998,  99999, 100000]])"
     },
     "metadata": {},
     "execution_count": 62
    }
   ],
   "source": [
    "np.arange(1, 100001).reshape(4, 25000)"
   ]
  },
  {
   "cell_type": "code",
   "execution_count": 63,
   "metadata": {},
   "outputs": [
    {
     "output_type": "execute_result",
     "data": {
      "text/plain": "array([[     1,      2,      3, ...,    998,    999,   1000],\n       [  1001,   1002,   1003, ...,   1998,   1999,   2000],\n       [  2001,   2002,   2003, ...,   2998,   2999,   3000],\n       ...,\n       [ 97001,  97002,  97003, ...,  97998,  97999,  98000],\n       [ 98001,  98002,  98003, ...,  98998,  98999,  99000],\n       [ 99001,  99002,  99003, ...,  99998,  99999, 100000]])"
     },
     "metadata": {},
     "execution_count": 63
    }
   ],
   "source": [
    "np.arange(1, 100001).reshape(100, 1000)"
   ]
  },
  {
   "cell_type": "markdown",
   "metadata": {},
   "source": [
    "# <u> * Self Check * </u>\n",
    "* Use NumPy function arange to create an array of 20 even integers from 2 through 40, then reshape the reshape the result into a 4 by 5 array."
   ]
  },
  {
   "cell_type": "code",
   "execution_count": 66,
   "metadata": {},
   "outputs": [
    {
     "output_type": "execute_result",
     "data": {
      "text/plain": "array([[ 2,  4,  6,  8, 10],\n       [12, 14, 16, 18, 20],\n       [22, 24, 26, 28, 30],\n       [32, 34, 36, 38, 40]])"
     },
     "metadata": {},
     "execution_count": 66
    }
   ],
   "source": [
    "np.arange(2, 41, 2).reshape(4, 5)"
   ]
  }
 ],
 "metadata": {
  "language_info": {
   "codemirror_mode": {
    "name": "ipython",
    "version": 3
   },
   "file_extension": ".py",
   "mimetype": "text/x-python",
   "name": "python",
   "nbconvert_exporter": "python",
   "pygments_lexer": "ipython3",
   "version": "3.8.2-final"
  },
  "orig_nbformat": 2,
  "kernelspec": {
   "name": "python38264bit2472454288054193a39fc81468cfa85d",
   "display_name": "Python 3.8.2 64-bit"
  }
 },
 "nbformat": 4,
 "nbformat_minor": 2
}