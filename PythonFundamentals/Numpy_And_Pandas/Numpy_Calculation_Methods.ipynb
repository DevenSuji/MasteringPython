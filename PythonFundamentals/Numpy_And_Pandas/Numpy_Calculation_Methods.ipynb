{
 "cells": [
  {
   "cell_type": "markdown",
   "metadata": {},
   "source": [
    "# <u> * Numpy Calculation Methods * </u>\n",
    "####  * We are going to look into various inbuilt calculation methods in Numpy * "
   ]
  },
  {
   "cell_type": "code",
   "execution_count": null,
   "metadata": {},
   "outputs": [],
   "source": [
    "import numpy as np\n",
    "grades = np.array([[87, 96, 70], [100, 87, 90], [94, 77, 90], [100, 81, 82]])\n",
    "grades"
   ]
  },
  {
   "cell_type": "code",
   "execution_count": null,
   "metadata": {},
   "outputs": [],
   "source": [
    "grades.sum() # Sum is going to add all the grades and give me a total"
   ]
  },
  {
   "cell_type": "code",
   "execution_count": null,
   "metadata": {},
   "outputs": [],
   "source": [
    "grades.min() # Gets me the minimum value out of the all the grades"
   ]
  },
  {
   "cell_type": "code",
   "execution_count": null,
   "metadata": {},
   "outputs": [],
   "source": [
    "grades.max()"
   ]
  },
  {
   "cell_type": "code",
   "execution_count": null,
   "metadata": {},
   "outputs": [],
   "source": [
    "grades.mean() # Getting the average of all the grades when sumed up"
   ]
  },
  {
   "cell_type": "code",
   "execution_count": null,
   "metadata": {},
   "outputs": [],
   "source": [
    "grades.std() # Getting the standard deviation"
   ]
  },
  {
   "cell_type": "code",
   "execution_count": null,
   "metadata": {},
   "outputs": [],
   "source": [
    "grades.var() # Getting variance"
   ]
  },
  {
   "cell_type": "markdown",
   "metadata": {},
   "source": [
    "#### <u> * In the above case we are performing the operation in the entire data set. That is the entire rows and columns. How about if we want to perform the operation on only specific data set inside the array? * </u>"
   ]
  },
  {
   "cell_type": "code",
   "execution_count": null,
   "metadata": {},
   "outputs": [],
   "source": [
    "grades.mean(axis=0) # Axis = 0 here referes to all the COLUMNS"
   ]
  },
  {
   "cell_type": "code",
   "execution_count": null,
   "metadata": {},
   "outputs": [],
   "source": [
    "grades.mean(axis=1) # Axis = 1 here referes to all the ROWS"
   ]
  },
  {
   "cell_type": "code",
   "execution_count": null,
   "metadata": {},
   "outputs": [],
   "source": [
    "grades.mean? # This is how to refer the help section"
   ]
  },
  {
   "cell_type": "code",
   "execution_count": null,
   "metadata": {},
   "outputs": [],
   "source": []
  },
  {
   "cell_type": "markdown",
   "metadata": {},
   "source": [
    "## <u> * Self Check * </u>\n",
    "* User numpy random-number generation to create an array of twelve random grades in the range 60 through 100, then reshape the result into 3-by-4 array. Calculate the averages of all the grades, the averages of the grades in each column and the averages of the grades in each row."
   ]
  },
  {
   "cell_type": "code",
   "execution_count": 9,
   "metadata": {},
   "outputs": [],
   "source": [
    "import numpy as np"
   ]
  },
  {
   "cell_type": "code",
   "execution_count": 10,
   "metadata": {},
   "outputs": [
    {
     "output_type": "execute_result",
     "data": {
      "text/plain": "array([[79, 62, 94, 79, 65],\n       [90, 80, 73, 94, 97],\n       [78, 60, 85, 82, 67],\n       [86, 61, 91, 92, 68]])"
     },
     "metadata": {},
     "execution_count": 10
    }
   ],
   "source": [
    "grades = np.random.randint(60, 101, 20).reshape(4, 5)\n",
    "grades"
   ]
  },
  {
   "cell_type": "code",
   "execution_count": 11,
   "metadata": {},
   "outputs": [
    {
     "output_type": "execute_result",
     "data": {
      "text/plain": "79.15"
     },
     "metadata": {},
     "execution_count": 11
    }
   ],
   "source": [
    "grades.mean()"
   ]
  },
  {
   "cell_type": "code",
   "execution_count": 12,
   "metadata": {},
   "outputs": [
    {
     "output_type": "execute_result",
     "data": {
      "text/plain": "array([83.25, 65.75, 85.75, 86.75, 74.25])"
     },
     "metadata": {},
     "execution_count": 12
    }
   ],
   "source": [
    "grades.mean(axis = 0)"
   ]
  },
  {
   "cell_type": "code",
   "execution_count": 13,
   "metadata": {},
   "outputs": [
    {
     "output_type": "execute_result",
     "data": {
      "text/plain": "array([75.8, 86.8, 74.4, 79.6])"
     },
     "metadata": {},
     "execution_count": 13
    }
   ],
   "source": [
    "grades.mean(axis = 1)"
   ]
  },
  {
   "cell_type": "code",
   "execution_count": null,
   "metadata": {},
   "outputs": [],
   "source": []
  }
 ],
 "metadata": {
  "language_info": {
   "codemirror_mode": {
    "name": "ipython",
    "version": 3
   },
   "file_extension": ".py",
   "mimetype": "text/x-python",
   "name": "python",
   "nbconvert_exporter": "python",
   "pygments_lexer": "ipython3",
   "version": "3.8.2-final"
  },
  "orig_nbformat": 2,
  "kernelspec": {
   "name": "python38264bit2472454288054193a39fc81468cfa85d",
   "display_name": "Python 3.8.2 64-bit"
  }
 },
 "nbformat": 4,
 "nbformat_minor": 2
}