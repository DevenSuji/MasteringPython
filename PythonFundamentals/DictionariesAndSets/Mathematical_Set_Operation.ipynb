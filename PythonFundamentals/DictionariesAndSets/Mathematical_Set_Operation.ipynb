{
 "cells": [
  {
   "cell_type": "markdown",
   "metadata": {},
   "source": [
    "# <u> * Mathematical Set Operations * </u>\n"
   ]
  },
  {
   "cell_type": "code",
   "execution_count": null,
   "metadata": {},
   "outputs": [],
   "source": [
    "{1, 3, 5} | {2, 3, 4} # The pipe symbol acts as the union operator that concatenetes the two sets and displays all the unique values."
   ]
  },
  {
   "cell_type": "markdown",
   "metadata": {},
   "source": [
    "##### <u> * The same union of sets can be achieved using the built in function called UNION * </u>\n",
    "* NOTE: The UNION method can accept any type of sequence and turn it into a set.\n",
    "* The below example shows how we are contatening a set and a list using UNION Method."
   ]
  },
  {
   "cell_type": "code",
   "execution_count": null,
   "metadata": {},
   "outputs": [],
   "source": [
    "{1, 3, 5}.union([20, 20, 3, 40, 10])"
   ]
  },
  {
   "cell_type": "markdown",
   "metadata": {},
   "source": [
    "## <u> * Set Intersection Operation* </u>\n",
    "* It compares the two sets and give back all the <u>COMMON ELEMENTS</u> in both the sets."
   ]
  },
  {
   "cell_type": "code",
   "execution_count": null,
   "metadata": {},
   "outputs": [],
   "source": [
    "{1, 3, 5} & {2, 3, 4}"
   ]
  },
  {
   "cell_type": "markdown",
   "metadata": {},
   "source": [
    "* Doing the same operation using the INTERSECTION inbuilt function below."
   ]
  },
  {
   "cell_type": "code",
   "execution_count": null,
   "metadata": {},
   "outputs": [],
   "source": [
    "\n",
    "{1, 3, 4}.intersection([1, 2, 2, 3, 3, 4, 4])"
   ]
  },
  {
   "cell_type": "markdown",
   "metadata": {},
   "source": [
    "## <u> * Set Difference Operation* </u>\n",
    "* It compares the two sets and give back all the <u>UNCOMMON COMMON ELEMENTS</u> that are not in the set on the right."
   ]
  },
  {
   "cell_type": "code",
   "execution_count": 5,
   "metadata": {},
   "outputs": [
    {
     "output_type": "execute_result",
     "data": {
      "text/plain": "{1, 5}"
     },
     "metadata": {},
     "execution_count": 5
    }
   ],
   "source": [
    "{1, 3, 5} - {2, 3, 4}"
   ]
  },
  {
   "cell_type": "markdown",
   "metadata": {},
   "source": [
    "* Doing the same operation using the DIFFERENCE inbuilt function below.\n",
    "* In the below example the LIST on the right hand side is automatically converted to a SET by the inbuilt function."
   ]
  },
  {
   "cell_type": "code",
   "execution_count": 6,
   "metadata": {},
   "outputs": [
    {
     "output_type": "execute_result",
     "data": {
      "text/plain": "{1, 5, 7}"
     },
     "metadata": {},
     "execution_count": 6
    }
   ],
   "source": [
    "{1, 3, 5, 7}.difference([2, 2, 3, 3, 4, 4])"
   ]
  },
  {
   "cell_type": "markdown",
   "metadata": {},
   "source": [
    "## <u> * Symmetric Difference Operation* </u>\n",
    "* It creates a new set with all the elements in the both set that are not in common. \n",
    "* Simply put, it leaves out the comman element and creates a set using all the uncommon elements."
   ]
  },
  {
   "cell_type": "code",
   "execution_count": 7,
   "metadata": {},
   "outputs": [
    {
     "output_type": "execute_result",
     "data": {
      "text/plain": "{1, 2, 4, 5}"
     },
     "metadata": {},
     "execution_count": 7
    }
   ],
   "source": [
    "{1, 3, 5} ^ {2, 3, 4}"
   ]
  }
 ],
 "metadata": {
  "language_info": {
   "codemirror_mode": {
    "name": "ipython",
    "version": 3
   },
   "file_extension": ".py",
   "mimetype": "text/x-python",
   "name": "python",
   "nbconvert_exporter": "python",
   "pygments_lexer": "ipython3",
   "version": "3.8.2-final"
  },
  "orig_nbformat": 2,
  "kernelspec": {
   "name": "python38264bit2472454288054193a39fc81468cfa85d",
   "display_name": "Python 3.8.2 64-bit"
  }
 },
 "nbformat": 4,
 "nbformat_minor": 2
}