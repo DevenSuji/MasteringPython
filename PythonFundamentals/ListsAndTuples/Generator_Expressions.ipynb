{
 "cells": [
  {
   "cell_type": "markdown",
   "metadata": {},
   "source": [
    "# <u> * Generator Expressions * </u>\n",
    "\n",
    "* #### * Generator Expressions are identical to List Comprehension. However the only difference is that it uses () instead of []* \n",
    "* #### * List comprehensions are greedy. They immediately evaluate to produce the list *\n",
    "* #### * Many functional-style programming techniques use lazy evalutation (Generator Expressions). Here the values are produced on demand. *\n",
    "* #### * Lazy evalutation can improve performance and reduce memory consumption. *\n",
    "* #### * A LIST COMPREHENSION for 1,000,000 elements requires a 1,000,000 element list to be created immediately and stored in the memory.*\n",
    "* #### * Whereas GENERATOR EXPRESSIONS creates the value on demand and uses the memory only that is needed. *\n"
   ]
  },
  {
   "cell_type": "code",
   "execution_count": 2,
   "metadata": {},
   "outputs": [],
   "source": [
    "numbers = [10, 3, 7, 1, 9, 4, 2, 8, 5, 6]"
   ]
  },
  {
   "cell_type": "code",
   "execution_count": 3,
   "metadata": {
    "tags": []
   },
   "outputs": [
    {
     "output_type": "stream",
     "name": "stdout",
     "text": "9 49 1 81 25"
    }
   ],
   "source": [
    "for value in (x ** 2 for x in numbers if x % 2 != 0):\n",
    "    print(value, end=' ')"
   ]
  },
  {
   "cell_type": "markdown",
   "metadata": {},
   "source": [
    "# <u> * Self Check * </u>\n",
    "#### * Create a generator expression that cubes the even integers in a list containing 10, 3, 7, 9, 4 and 2. Use function list to create a list of the results. Note that the function call's parenthesis also act as the generator expression's parenthesis. *"
   ]
  },
  {
   "cell_type": "code",
   "execution_count": 10,
   "metadata": {},
   "outputs": [],
   "source": [
    "data = [10, 3, 7, 9, 4, 2]"
   ]
  },
  {
   "cell_type": "code",
   "execution_count": 11,
   "metadata": {
    "tags": []
   },
   "outputs": [
    {
     "output_type": "execute_result",
     "data": {
      "text/plain": "[1000, 64, 8]"
     },
     "metadata": {},
     "execution_count": 11
    }
   ],
   "source": [
    "list(item ** 3 for item in data if item % 2 == 0)"
   ]
  }
 ],
 "metadata": {
  "language_info": {
   "codemirror_mode": {
    "name": "ipython",
    "version": 3
   },
   "file_extension": ".py",
   "mimetype": "text/x-python",
   "name": "python",
   "nbconvert_exporter": "python",
   "pygments_lexer": "ipython3",
   "version": "3.8.2-final"
  },
  "orig_nbformat": 2,
  "kernelspec": {
   "name": "python38264bit2472454288054193a39fc81468cfa85d",
   "display_name": "Python 3.8.2 64-bit"
  }
 },
 "nbformat": 4,
 "nbformat_minor": 2
}