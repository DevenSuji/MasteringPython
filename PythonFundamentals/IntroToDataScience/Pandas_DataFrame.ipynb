{
 "cells": [
  {
   "cell_type": "markdown",
   "metadata": {},
   "source": [
    "# <u> * DataFrames * </u>\n",
    "* Enhanced two-dimensional array.\n",
    "* Can have custom row and column indices.\n",
    "* Supports missing data.\n",
    "* Each column in a DataFrame is a Series\n",
    "    - Columns may contain different element types."
   ]
  },
  {
   "cell_type": "code",
   "execution_count": 33,
   "metadata": {},
   "outputs": [],
   "source": [
    "import pandas as pd"
   ]
  },
  {
   "cell_type": "code",
   "execution_count": 34,
   "metadata": {},
   "outputs": [],
   "source": [
    "grades_dict = {'Wally': [87, 96, 70, 100, 81, 82, 83, 65, 85], 'Eva': [100, 87, 90, 83, 65, 85, 100, 81, 82],\n",
    "               'Sam': [94, 77, 90, 87, 96, 70, 100, 81, 82], 'Katie': [100, 81, 82, 77, 90, 87, 96, 70, 100],\n",
    "               'Bob': [83, 65, 85, 83, 65, 85, 33, 44, 11]}"
   ]
  },
  {
   "cell_type": "code",
   "execution_count": 35,
   "metadata": {},
   "outputs": [],
   "source": [
    "grades = pd.DataFrame(grades_dict)"
   ]
  },
  {
   "cell_type": "code",
   "execution_count": 36,
   "metadata": {},
   "outputs": [
    {
     "output_type": "execute_result",
     "data": {
      "text/plain": "   Wally  Eva  Sam  Katie  Bob\n0     87  100   94    100   83\n1     96   87   77     81   65\n2     70   90   90     82   85\n3    100   83   87     77   83\n4     81   65   96     90   65\n5     82   85   70     87   85\n6     83  100  100     96   33\n7     65   81   81     70   44\n8     85   82   82    100   11",
      "text/html": "<div>\n<style scoped>\n    .dataframe tbody tr th:only-of-type {\n        vertical-align: middle;\n    }\n\n    .dataframe tbody tr th {\n        vertical-align: top;\n    }\n\n    .dataframe thead th {\n        text-align: right;\n    }\n</style>\n<table border=\"1\" class=\"dataframe\">\n  <thead>\n    <tr style=\"text-align: right;\">\n      <th></th>\n      <th>Wally</th>\n      <th>Eva</th>\n      <th>Sam</th>\n      <th>Katie</th>\n      <th>Bob</th>\n    </tr>\n  </thead>\n  <tbody>\n    <tr>\n      <th>0</th>\n      <td>87</td>\n      <td>100</td>\n      <td>94</td>\n      <td>100</td>\n      <td>83</td>\n    </tr>\n    <tr>\n      <th>1</th>\n      <td>96</td>\n      <td>87</td>\n      <td>77</td>\n      <td>81</td>\n      <td>65</td>\n    </tr>\n    <tr>\n      <th>2</th>\n      <td>70</td>\n      <td>90</td>\n      <td>90</td>\n      <td>82</td>\n      <td>85</td>\n    </tr>\n    <tr>\n      <th>3</th>\n      <td>100</td>\n      <td>83</td>\n      <td>87</td>\n      <td>77</td>\n      <td>83</td>\n    </tr>\n    <tr>\n      <th>4</th>\n      <td>81</td>\n      <td>65</td>\n      <td>96</td>\n      <td>90</td>\n      <td>65</td>\n    </tr>\n    <tr>\n      <th>5</th>\n      <td>82</td>\n      <td>85</td>\n      <td>70</td>\n      <td>87</td>\n      <td>85</td>\n    </tr>\n    <tr>\n      <th>6</th>\n      <td>83</td>\n      <td>100</td>\n      <td>100</td>\n      <td>96</td>\n      <td>33</td>\n    </tr>\n    <tr>\n      <th>7</th>\n      <td>65</td>\n      <td>81</td>\n      <td>81</td>\n      <td>70</td>\n      <td>44</td>\n    </tr>\n    <tr>\n      <th>8</th>\n      <td>85</td>\n      <td>82</td>\n      <td>82</td>\n      <td>100</td>\n      <td>11</td>\n    </tr>\n  </tbody>\n</table>\n</div>"
     },
     "metadata": {},
     "execution_count": 36
    }
   ],
   "source": [
    "grades"
   ]
  },
  {
   "cell_type": "markdown",
   "metadata": {},
   "source": [
    "### <u> * Creating a Custom Index for an existing DataFrame * </u>"
   ]
  },
  {
   "cell_type": "code",
   "execution_count": 37,
   "metadata": {},
   "outputs": [],
   "source": [
    "grades.index = ['Math', 'Physics', 'Chemistry', 'Biology', 'English', 'Hindi', 'Sanskrit', 'ComputerScience', 'PE']"
   ]
  },
  {
   "cell_type": "code",
   "execution_count": 38,
   "metadata": {},
   "outputs": [
    {
     "output_type": "execute_result",
     "data": {
      "text/plain": "                 Wally  Eva  Sam  Katie  Bob\nMath                87  100   94    100   83\nPhysics             96   87   77     81   65\nChemistry           70   90   90     82   85\nBiology            100   83   87     77   83\nEnglish             81   65   96     90   65\nHindi               82   85   70     87   85\nSanskrit            83  100  100     96   33\nComputerScience     65   81   81     70   44\nPE                  85   82   82    100   11",
      "text/html": "<div>\n<style scoped>\n    .dataframe tbody tr th:only-of-type {\n        vertical-align: middle;\n    }\n\n    .dataframe tbody tr th {\n        vertical-align: top;\n    }\n\n    .dataframe thead th {\n        text-align: right;\n    }\n</style>\n<table border=\"1\" class=\"dataframe\">\n  <thead>\n    <tr style=\"text-align: right;\">\n      <th></th>\n      <th>Wally</th>\n      <th>Eva</th>\n      <th>Sam</th>\n      <th>Katie</th>\n      <th>Bob</th>\n    </tr>\n  </thead>\n  <tbody>\n    <tr>\n      <th>Math</th>\n      <td>87</td>\n      <td>100</td>\n      <td>94</td>\n      <td>100</td>\n      <td>83</td>\n    </tr>\n    <tr>\n      <th>Physics</th>\n      <td>96</td>\n      <td>87</td>\n      <td>77</td>\n      <td>81</td>\n      <td>65</td>\n    </tr>\n    <tr>\n      <th>Chemistry</th>\n      <td>70</td>\n      <td>90</td>\n      <td>90</td>\n      <td>82</td>\n      <td>85</td>\n    </tr>\n    <tr>\n      <th>Biology</th>\n      <td>100</td>\n      <td>83</td>\n      <td>87</td>\n      <td>77</td>\n      <td>83</td>\n    </tr>\n    <tr>\n      <th>English</th>\n      <td>81</td>\n      <td>65</td>\n      <td>96</td>\n      <td>90</td>\n      <td>65</td>\n    </tr>\n    <tr>\n      <th>Hindi</th>\n      <td>82</td>\n      <td>85</td>\n      <td>70</td>\n      <td>87</td>\n      <td>85</td>\n    </tr>\n    <tr>\n      <th>Sanskrit</th>\n      <td>83</td>\n      <td>100</td>\n      <td>100</td>\n      <td>96</td>\n      <td>33</td>\n    </tr>\n    <tr>\n      <th>ComputerScience</th>\n      <td>65</td>\n      <td>81</td>\n      <td>81</td>\n      <td>70</td>\n      <td>44</td>\n    </tr>\n    <tr>\n      <th>PE</th>\n      <td>85</td>\n      <td>82</td>\n      <td>82</td>\n      <td>100</td>\n      <td>11</td>\n    </tr>\n  </tbody>\n</table>\n</div>"
     },
     "metadata": {},
     "execution_count": 38
    }
   ],
   "source": [
    "grades"
   ]
  },
  {
   "cell_type": "markdown",
   "metadata": {},
   "source": [
    "### <u> * Accessing a DataFrame's Columns * </u>"
   ]
  },
  {
   "cell_type": "code",
   "execution_count": 39,
   "metadata": {},
   "outputs": [
    {
     "output_type": "execute_result",
     "data": {
      "text/plain": "Math               100\nPhysics             87\nChemistry           90\nBiology             83\nEnglish             65\nHindi               85\nSanskrit           100\nComputerScience     81\nPE                  82\nName: Eva, dtype: int64"
     },
     "metadata": {},
     "execution_count": 39
    }
   ],
   "source": [
    "grades.Eva"
   ]
  },
  {
   "cell_type": "code",
   "execution_count": 40,
   "metadata": {},
   "outputs": [
    {
     "output_type": "execute_result",
     "data": {
      "text/plain": "Math                94\nPhysics             77\nChemistry           90\nBiology             87\nEnglish             96\nHindi               70\nSanskrit           100\nComputerScience     81\nPE                  82\nName: Sam, dtype: int64"
     },
     "metadata": {},
     "execution_count": 40
    }
   ],
   "source": [
    "grades['Sam']"
   ]
  },
  {
   "cell_type": "markdown",
   "metadata": {},
   "source": [
    "### <u> * Accessing a DataFrame's Row * </u>"
   ]
  },
  {
   "cell_type": "code",
   "execution_count": 41,
   "metadata": {},
   "outputs": [
    {
     "output_type": "execute_result",
     "data": {
      "text/plain": "Wally     87\nEva      100\nSam       94\nKatie    100\nBob       83\nName: Math, dtype: int64"
     },
     "metadata": {},
     "execution_count": 41
    }
   ],
   "source": [
    "grades.loc['Math']"
   ]
  },
  {
   "cell_type": "code",
   "execution_count": 42,
   "metadata": {},
   "outputs": [
    {
     "output_type": "execute_result",
     "data": {
      "text/plain": "Wally     87\nEva      100\nSam       94\nKatie    100\nBob       83\nName: Math, dtype: int64"
     },
     "metadata": {},
     "execution_count": 42
    }
   ],
   "source": [
    "grades.iloc[0]"
   ]
  },
  {
   "cell_type": "code",
   "execution_count": 43,
   "metadata": {},
   "outputs": [
    {
     "output_type": "execute_result",
     "data": {
      "text/plain": "87"
     },
     "metadata": {},
     "execution_count": 43
    }
   ],
   "source": [
    "grades.iloc[0][0]"
   ]
  },
  {
   "cell_type": "markdown",
   "metadata": {},
   "source": [
    "### *<u> Slicing DataFrames </u>*"
   ]
  },
  {
   "cell_type": "code",
   "execution_count": 47,
   "metadata": {},
   "outputs": [
    {
     "output_type": "execute_result",
     "data": {
      "text/plain": "           Wally  Eva  Sam  Katie  Bob\nMath          87  100   94    100   83\nPhysics       96   87   77     81   65\nChemistry     70   90   90     82   85\nBiology      100   83   87     77   83\nEnglish       81   65   96     90   65\nHindi         82   85   70     87   85\nSanskrit      83  100  100     96   33",
      "text/html": "<div>\n<style scoped>\n    .dataframe tbody tr th:only-of-type {\n        vertical-align: middle;\n    }\n\n    .dataframe tbody tr th {\n        vertical-align: top;\n    }\n\n    .dataframe thead th {\n        text-align: right;\n    }\n</style>\n<table border=\"1\" class=\"dataframe\">\n  <thead>\n    <tr style=\"text-align: right;\">\n      <th></th>\n      <th>Wally</th>\n      <th>Eva</th>\n      <th>Sam</th>\n      <th>Katie</th>\n      <th>Bob</th>\n    </tr>\n  </thead>\n  <tbody>\n    <tr>\n      <th>Math</th>\n      <td>87</td>\n      <td>100</td>\n      <td>94</td>\n      <td>100</td>\n      <td>83</td>\n    </tr>\n    <tr>\n      <th>Physics</th>\n      <td>96</td>\n      <td>87</td>\n      <td>77</td>\n      <td>81</td>\n      <td>65</td>\n    </tr>\n    <tr>\n      <th>Chemistry</th>\n      <td>70</td>\n      <td>90</td>\n      <td>90</td>\n      <td>82</td>\n      <td>85</td>\n    </tr>\n    <tr>\n      <th>Biology</th>\n      <td>100</td>\n      <td>83</td>\n      <td>87</td>\n      <td>77</td>\n      <td>83</td>\n    </tr>\n    <tr>\n      <th>English</th>\n      <td>81</td>\n      <td>65</td>\n      <td>96</td>\n      <td>90</td>\n      <td>65</td>\n    </tr>\n    <tr>\n      <th>Hindi</th>\n      <td>82</td>\n      <td>85</td>\n      <td>70</td>\n      <td>87</td>\n      <td>85</td>\n    </tr>\n    <tr>\n      <th>Sanskrit</th>\n      <td>83</td>\n      <td>100</td>\n      <td>100</td>\n      <td>96</td>\n      <td>33</td>\n    </tr>\n  </tbody>\n</table>\n</div>"
     },
     "metadata": {},
     "execution_count": 47
    }
   ],
   "source": [
    "grades.loc['Math': 'Sanskrit'] # Note that LOC will include the last index as well unlike other slicing methods where the last index is ignored"
   ]
  },
  {
   "cell_type": "code",
   "execution_count": 48,
   "metadata": {},
   "outputs": [
    {
     "output_type": "execute_result",
     "data": {
      "text/plain": "           Wally  Eva  Sam  Katie  Bob\nMath          87  100   94    100   83\nPhysics       96   87   77     81   65\nChemistry     70   90   90     82   85\nBiology      100   83   87     77   83\nEnglish       81   65   96     90   65\nHindi         82   85   70     87   85\nSanskrit      83  100  100     96   33",
      "text/html": "<div>\n<style scoped>\n    .dataframe tbody tr th:only-of-type {\n        vertical-align: middle;\n    }\n\n    .dataframe tbody tr th {\n        vertical-align: top;\n    }\n\n    .dataframe thead th {\n        text-align: right;\n    }\n</style>\n<table border=\"1\" class=\"dataframe\">\n  <thead>\n    <tr style=\"text-align: right;\">\n      <th></th>\n      <th>Wally</th>\n      <th>Eva</th>\n      <th>Sam</th>\n      <th>Katie</th>\n      <th>Bob</th>\n    </tr>\n  </thead>\n  <tbody>\n    <tr>\n      <th>Math</th>\n      <td>87</td>\n      <td>100</td>\n      <td>94</td>\n      <td>100</td>\n      <td>83</td>\n    </tr>\n    <tr>\n      <th>Physics</th>\n      <td>96</td>\n      <td>87</td>\n      <td>77</td>\n      <td>81</td>\n      <td>65</td>\n    </tr>\n    <tr>\n      <th>Chemistry</th>\n      <td>70</td>\n      <td>90</td>\n      <td>90</td>\n      <td>82</td>\n      <td>85</td>\n    </tr>\n    <tr>\n      <th>Biology</th>\n      <td>100</td>\n      <td>83</td>\n      <td>87</td>\n      <td>77</td>\n      <td>83</td>\n    </tr>\n    <tr>\n      <th>English</th>\n      <td>81</td>\n      <td>65</td>\n      <td>96</td>\n      <td>90</td>\n      <td>65</td>\n    </tr>\n    <tr>\n      <th>Hindi</th>\n      <td>82</td>\n      <td>85</td>\n      <td>70</td>\n      <td>87</td>\n      <td>85</td>\n    </tr>\n    <tr>\n      <th>Sanskrit</th>\n      <td>83</td>\n      <td>100</td>\n      <td>100</td>\n      <td>96</td>\n      <td>33</td>\n    </tr>\n  </tbody>\n</table>\n</div>"
     },
     "metadata": {},
     "execution_count": 48
    }
   ],
   "source": [
    "grades.iloc[0:7] # When we use the ILOC it behaves like other slicing methods."
   ]
  },
  {
   "cell_type": "code",
   "execution_count": 49,
   "metadata": {},
   "outputs": [
    {
     "output_type": "execute_result",
     "data": {
      "text/plain": "         Wally  Eva  Sam  Katie  Bob\nMath        87  100   94    100   83\nEnglish     81   65   96     90   65",
      "text/html": "<div>\n<style scoped>\n    .dataframe tbody tr th:only-of-type {\n        vertical-align: middle;\n    }\n\n    .dataframe tbody tr th {\n        vertical-align: top;\n    }\n\n    .dataframe thead th {\n        text-align: right;\n    }\n</style>\n<table border=\"1\" class=\"dataframe\">\n  <thead>\n    <tr style=\"text-align: right;\">\n      <th></th>\n      <th>Wally</th>\n      <th>Eva</th>\n      <th>Sam</th>\n      <th>Katie</th>\n      <th>Bob</th>\n    </tr>\n  </thead>\n  <tbody>\n    <tr>\n      <th>Math</th>\n      <td>87</td>\n      <td>100</td>\n      <td>94</td>\n      <td>100</td>\n      <td>83</td>\n    </tr>\n    <tr>\n      <th>English</th>\n      <td>81</td>\n      <td>65</td>\n      <td>96</td>\n      <td>90</td>\n      <td>65</td>\n    </tr>\n  </tbody>\n</table>\n</div>"
     },
     "metadata": {},
     "execution_count": 49
    }
   ],
   "source": [
    "grades.loc[['Math', 'English']]"
   ]
  },
  {
   "cell_type": "code",
   "execution_count": 50,
   "metadata": {},
   "outputs": [
    {
     "output_type": "execute_result",
     "data": {
      "text/plain": "         Wally  Eva  Sam  Katie  Bob\nMath        87  100   94    100   83\nEnglish     81   65   96     90   65",
      "text/html": "<div>\n<style scoped>\n    .dataframe tbody tr th:only-of-type {\n        vertical-align: middle;\n    }\n\n    .dataframe tbody tr th {\n        vertical-align: top;\n    }\n\n    .dataframe thead th {\n        text-align: right;\n    }\n</style>\n<table border=\"1\" class=\"dataframe\">\n  <thead>\n    <tr style=\"text-align: right;\">\n      <th></th>\n      <th>Wally</th>\n      <th>Eva</th>\n      <th>Sam</th>\n      <th>Katie</th>\n      <th>Bob</th>\n    </tr>\n  </thead>\n  <tbody>\n    <tr>\n      <th>Math</th>\n      <td>87</td>\n      <td>100</td>\n      <td>94</td>\n      <td>100</td>\n      <td>83</td>\n    </tr>\n    <tr>\n      <th>English</th>\n      <td>81</td>\n      <td>65</td>\n      <td>96</td>\n      <td>90</td>\n      <td>65</td>\n    </tr>\n  </tbody>\n</table>\n</div>"
     },
     "metadata": {},
     "execution_count": 50
    }
   ],
   "source": [
    "grades.iloc[[0, 4]]"
   ]
  }
 ],
 "metadata": {
  "language_info": {
   "codemirror_mode": {
    "name": "ipython",
    "version": 3
   },
   "file_extension": ".py",
   "mimetype": "text/x-python",
   "name": "python",
   "nbconvert_exporter": "python",
   "pygments_lexer": "ipython3",
   "version": "3.8.2-final"
  },
  "orig_nbformat": 2,
  "kernelspec": {
   "name": "python38264bit2472454288054193a39fc81468cfa85d",
   "display_name": "Python 3.8.2 64-bit"
  }
 },
 "nbformat": 4,
 "nbformat_minor": 2
}