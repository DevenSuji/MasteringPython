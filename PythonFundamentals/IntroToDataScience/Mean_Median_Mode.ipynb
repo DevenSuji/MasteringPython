{
 "cells": [
  {
   "cell_type": "markdown",
   "metadata": {},
   "source": [
    "# <u> Measures of Central Tendency: Mean, Median and Mode. </u>\n",
    "\n",
    "\n",
    "### Measure of Central Tendency:\n",
    "* Single value that represents a central value in a set of values.\n",
    "* A value which is in some sense typical of the others.\n",
    "\n",
    "### <u>Mean:</u> It is the average value in a set of values.\n",
    "\n",
    "### <u>Median:</u> It is the middle value when all the values are arranged in sorted order.\n",
    "\n",
    "### <u>Mode:</u> It is the most frequently occuring value.\n",
    "\n",
    "\n",
    "\n"
   ]
  },
  {
   "cell_type": "code",
   "execution_count": null,
   "metadata": {},
   "outputs": [],
   "source": [
    "grades = [85, 93, 45, 89, 85, 22, 45, 45, 56, 78, 12, 67, 99]\n",
    "sum(grades) / len(grades) # Sum adds the elements of the list and len gives the number of elements in the list"
   ]
  },
  {
   "cell_type": "code",
   "execution_count": null,
   "metadata": {},
   "outputs": [],
   "source": [
    "import statistics as st\n",
    "\n",
    "print(f'The MEAN of the list is: {st.mean(grades):.2f}')"
   ]
  },
  {
   "cell_type": "code",
   "execution_count": null,
   "metadata": {},
   "outputs": [],
   "source": [
    "print(f'The MEDIAN of the list is: {st.median(grades)}')\n"
   ]
  },
  {
   "cell_type": "code",
   "execution_count": null,
   "metadata": {},
   "outputs": [],
   "source": [
    "print(f'The MODE of the list is {st.mode(grades)}')"
   ]
  },
  {
   "cell_type": "code",
   "execution_count": null,
   "metadata": {},
   "outputs": [],
   "source": [
    "sorted(grades)"
   ]
  }
 ],
 "metadata": {
  "language_info": {
   "codemirror_mode": {
    "name": "ipython",
    "version": 3
   },
   "file_extension": ".py",
   "mimetype": "text/x-python",
   "name": "python",
   "nbconvert_exporter": "python",
   "pygments_lexer": "ipython3",
   "version": "3.8.2-final"
  },
  "orig_nbformat": 2,
  "kernelspec": {
   "name": "python38264bit2472454288054193a39fc81468cfa85d",
   "display_name": "Python 3.8.2 64-bit"
  }
 },
 "nbformat": 4,
 "nbformat_minor": 2
}