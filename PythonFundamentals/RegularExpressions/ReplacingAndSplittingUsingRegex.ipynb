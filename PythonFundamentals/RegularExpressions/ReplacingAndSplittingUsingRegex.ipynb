{
 "cells": [
  {
   "cell_type": "markdown",
   "metadata": {},
   "source": [
    "# *<u> Replacing the Splitting Substrings </u>*"
   ]
  },
  {
   "cell_type": "code",
   "execution_count": 1,
   "metadata": {},
   "outputs": [],
   "source": [
    "import re"
   ]
  },
  {
   "cell_type": "code",
   "execution_count": 2,
   "metadata": {},
   "outputs": [
    {
     "output_type": "execute_result",
     "data": {
      "text/plain": "'1, 2, 3, 4, 5, 6'"
     },
     "metadata": {},
     "execution_count": 2
    }
   ],
   "source": [
    "# Here we are looking for the tabbed spaces \\t and replacing it with a command and a space , .\n",
    "# Here you have three arguments to the function re,sub()\n",
    "# 1. \\t => This is the argument value that we need to search in the string.\n",
    "# 2. , (Command and a space) => This is the value that needs to replace \\t.\n",
    "# 3. This will be the string that we need to operation to be done on.\n",
    "re.sub(r'\\t', ', ', '1\\t2\\t3\\t4\\t5\\t6')"
   ]
  },
  {
   "cell_type": "code",
   "execution_count": 3,
   "metadata": {},
   "outputs": [
    {
     "output_type": "execute_result",
     "data": {
      "text/plain": "'1***2***3***4***5***6'"
     },
     "metadata": {},
     "execution_count": 3
    }
   ],
   "source": [
    "re.sub(r'\\t', '***', '1\\t2\\t3\\t4\\t5\\t6')"
   ]
  },
  {
   "cell_type": "code",
   "execution_count": 4,
   "metadata": {},
   "outputs": [
    {
     "output_type": "execute_result",
     "data": {
      "text/plain": "'1***2***3***4\\t5\\t6'"
     },
     "metadata": {},
     "execution_count": 4
    }
   ],
   "source": [
    "# Now if we want only the certain number of occurances to be replaced the we can give the fourth argument which is the count. This will replace only the number of occurances that we have specified in the count.\n",
    "re.sub(r'\\t', '***', '1\\t2\\t3\\t4\\t5\\t6', count=3)"
   ]
  },
  {
   "cell_type": "markdown",
   "metadata": {},
   "source": [
    "## Splitting"
   ]
  },
  {
   "cell_type": "code",
   "execution_count": 7,
   "metadata": {},
   "outputs": [
    {
     "output_type": "execute_result",
     "data": {
      "text/plain": "['1', '2', '3', '4', '5', '6', '8']"
     },
     "metadata": {},
     "execution_count": 7
    }
   ],
   "source": [
    "# Splitting the values with command and ignoring the spaces that are in front of the digits.\n",
    "re.split(r',\\s*', '1, 2,  3,4,    5,6,8')"
   ]
  },
  {
   "cell_type": "code",
   "execution_count": 9,
   "metadata": {},
   "outputs": [
    {
     "output_type": "execute_result",
     "data": {
      "text/plain": "['1, 2,  3,4,    5,6,8']"
     },
     "metadata": {},
     "execution_count": 9
    }
   ],
   "source": [
    "# Splitting the values with command and ignoring the spaces that are in front of the digits but with the limit of splits\n",
    "re.split(r',\\s*', '1, 2,  3,4,    5,6,8', maxsplit=3)"
   ]
  },
  {
   "cell_type": "markdown",
   "metadata": {},
   "source": [
    "# Self Check"
   ]
  },
  {
   "cell_type": "code",
   "execution_count": 10,
   "metadata": {},
   "outputs": [
    {
     "output_type": "execute_result",
     "data": {
      "text/plain": "'A, B, C, D'"
     },
     "metadata": {},
     "execution_count": 10
    }
   ],
   "source": [
    "re.sub(r'\\t+',', ','A\\tB\\t\\tC\\t\\t\\tD')"
   ]
  },
  {
   "cell_type": "code",
   "execution_count": 14,
   "metadata": {},
   "outputs": [
    {
     "output_type": "execute_result",
     "data": {
      "text/plain": "['123', 'Main', 'Street']"
     },
     "metadata": {},
     "execution_count": 14
    }
   ],
   "source": [
    "re.split('\\$+', '123$Main$$Street')"
   ]
  }
 ],
 "metadata": {
  "language_info": {
   "codemirror_mode": {
    "name": "ipython",
    "version": 3
   },
   "file_extension": ".py",
   "mimetype": "text/x-python",
   "name": "python",
   "nbconvert_exporter": "python",
   "pygments_lexer": "ipython3",
   "version": "3.8.2-final"
  },
  "orig_nbformat": 2,
  "kernelspec": {
   "name": "python38264bit2472454288054193a39fc81468cfa85d",
   "display_name": "Python 3.8.2 64-bit"
  }
 },
 "nbformat": 4,
 "nbformat_minor": 2
}