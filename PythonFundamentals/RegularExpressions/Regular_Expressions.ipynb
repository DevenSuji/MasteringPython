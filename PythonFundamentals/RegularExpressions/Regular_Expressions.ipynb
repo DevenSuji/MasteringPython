{
 "cells": [
  {
   "cell_type": "markdown",
   "metadata": {},
   "source": [
    "# *<u> Regular Expressions </u>*\n",
    "* Rarely need to create your own regex.\n",
    "* Repositories\n",
    "    - https://regex101.com\n",
    "    - http://www.regexlib.com\n",
    "    - https://www.regular-expression.info"
   ]
  },
  {
   "cell_type": "code",
   "execution_count": 2,
   "metadata": {},
   "outputs": [],
   "source": [
    "import re"
   ]
  },
  {
   "cell_type": "code",
   "execution_count": 3,
   "metadata": {},
   "outputs": [],
   "source": [
    "pattern = '02215'"
   ]
  },
  {
   "cell_type": "code",
   "execution_count": 4,
   "metadata": {},
   "outputs": [
    {
     "output_type": "execute_result",
     "data": {
      "text/plain": "'Hurray'"
     },
     "metadata": {},
     "execution_count": 4
    }
   ],
   "source": [
    "'Hurray' if re.fullmatch(pattern, '02215') else 'Go Back Home Kid'"
   ]
  },
  {
   "cell_type": "code",
   "execution_count": 5,
   "metadata": {},
   "outputs": [
    {
     "output_type": "execute_result",
     "data": {
      "text/plain": "'Go Back Home Kid'"
     },
     "metadata": {},
     "execution_count": 5
    }
   ],
   "source": [
    "'Hurray' if re.fullmatch(pattern, '51220') else 'Go Back Home Kid'"
   ]
  },
  {
   "cell_type": "markdown",
   "metadata": {},
   "source": [
    "## *<u> Regular Expression Meta Characters </u>*\n",
    "\n",
    "# [] {} () \\ * + ^ $ ? . |\n",
    "\n",
    "### \\d => Any digit (0 - 9)\n",
    "### \\D => Any character that is not a digit.\n",
    "### \\s => Any white space characters such as spaces, tabs and newlines.\n",
    "### \\S => Any character that is not a white space.\n",
    "### \\w => Any word character also called an alphanumeric character. Any uppercase or lowercase letter, any digit or an underscore.\n",
    "### \\W => Any character that is not a word character."
   ]
  },
  {
   "cell_type": "code",
   "execution_count": 6,
   "metadata": {},
   "outputs": [
    {
     "output_type": "execute_result",
     "data": {
      "text/plain": "'Valid Zip Code'"
     },
     "metadata": {},
     "execution_count": 6
    }
   ],
   "source": [
    "'Valid Zip Code' if re.fullmatch(r'\\d{5}', '02215') else 'Not a Valid Zip Code'\n",
    "# r here is the raw character\n",
    "# \\ is the metacharacter.\n",
    "# d symbolizes digits.\n",
    "# d{5} is the sequence of 5 digit character. It will see is there are 5 consecutive digits or not."
   ]
  },
  {
   "cell_type": "code",
   "execution_count": 7,
   "metadata": {},
   "outputs": [
    {
     "output_type": "execute_result",
     "data": {
      "text/plain": "'Not a Valid Zip Code'"
     },
     "metadata": {},
     "execution_count": 7
    }
   ],
   "source": [
    "'Valid Zip Code' if re.fullmatch(r'\\d{5}', '022145') else 'Not a Valid Zip Code'"
   ]
  },
  {
   "cell_type": "code",
   "execution_count": 8,
   "metadata": {},
   "outputs": [
    {
     "output_type": "execute_result",
     "data": {
      "text/plain": "'Not a Valid Zip Code'"
     },
     "metadata": {},
     "execution_count": 8
    }
   ],
   "source": [
    "'Valid Zip Code' if re.fullmatch(r'\\d{5}', '0215') else 'Not a Valid Zip Code'"
   ]
  },
  {
   "cell_type": "code",
   "execution_count": 11,
   "metadata": {},
   "outputs": [
    {
     "output_type": "execute_result",
     "data": {
      "text/plain": "'Valid'"
     },
     "metadata": {},
     "execution_count": 11
    }
   ],
   "source": [
    "'Valid' if re.fullmatch('[A-Z][a-z]*', 'Wally') else 'Invalid'\n",
    "# [A - Z]: This is a custom class that looks for any upper case letters A to Z.\n",
    "# [a - z]: This is a custom class that looks for any lower case letters a to z.\n",
    "# * : Since * comes immediately after [a - z]. This means any number of lower case letters after the first occurance of the lower case letter.\n",
    "# This regular expression matches a string that matches starts with an Upper case letter followed by zero or more lower case letters.   "
   ]
  },
  {
   "cell_type": "code",
   "execution_count": 12,
   "metadata": {},
   "outputs": [
    {
     "output_type": "execute_result",
     "data": {
      "text/plain": "'Valid'"
     },
     "metadata": {},
     "execution_count": 12
    }
   ],
   "source": [
    "'Valid' if re.fullmatch('[A-Z][a-z]*', 'W') else 'Invalid' "
   ]
  },
  {
   "cell_type": "code",
   "execution_count": 13,
   "metadata": {},
   "outputs": [
    {
     "output_type": "execute_result",
     "data": {
      "text/plain": "'Invalid'"
     },
     "metadata": {},
     "execution_count": 13
    }
   ],
   "source": [
    "'Valid' if re.fullmatch('[A-Z][a-z]*', 'W1234') else 'Invalid' "
   ]
  },
  {
   "cell_type": "code",
   "execution_count": 14,
   "metadata": {},
   "outputs": [
    {
     "output_type": "execute_result",
     "data": {
      "text/plain": "'Invalid'"
     },
     "metadata": {},
     "execution_count": 14
    }
   ],
   "source": [
    "'Valid' if re.fullmatch('[A-Z][a-z]*', 'eva') else 'Invalid' "
   ]
  },
  {
   "cell_type": "code",
   "execution_count": 15,
   "metadata": {},
   "outputs": [
    {
     "output_type": "execute_result",
     "data": {
      "text/plain": "'Valid'"
     },
     "metadata": {},
     "execution_count": 15
    }
   ],
   "source": [
    "'Valid' if re.fullmatch('[^a-z]*', 'W') else 'Invalid' \n",
    "# The carat symbol ^ denotes does not match.\n",
    "# Hence ('[^a-z]*', 'W') decodes to lower case a-z does not match upper case W. Hence this will be valid."
   ]
  },
  {
   "cell_type": "code",
   "execution_count": 16,
   "metadata": {},
   "outputs": [
    {
     "output_type": "execute_result",
     "data": {
      "text/plain": "'Invalid'"
     },
     "metadata": {},
     "execution_count": 16
    }
   ],
   "source": [
    "'Valid' if re.fullmatch('[^a-z]*', 'b') else 'Invalid' "
   ]
  },
  {
   "cell_type": "code",
   "execution_count": 17,
   "metadata": {},
   "outputs": [
    {
     "output_type": "execute_result",
     "data": {
      "text/plain": "'Valid'"
     },
     "metadata": {},
     "execution_count": 17
    }
   ],
   "source": [
    "'Valid' if re.fullmatch('[*+$]', '*') else 'Invalid' \n",
    "# Note that anything inside the custome character bracket [] is taken as a literal string.\n",
    "# Hence here * matches the characters inside the custome character, hence this is valid."
   ]
  },
  {
   "cell_type": "code",
   "execution_count": 18,
   "metadata": {},
   "outputs": [
    {
     "output_type": "execute_result",
     "data": {
      "text/plain": "'Valid'"
     },
     "metadata": {},
     "execution_count": 18
    }
   ],
   "source": [
    "'Valid' if re.fullmatch('[*+$]', '+') else 'Invalid' \n",
    " "
   ]
  },
  {
   "cell_type": "code",
   "execution_count": 19,
   "metadata": {},
   "outputs": [
    {
     "output_type": "execute_result",
     "data": {
      "text/plain": "'Valid'"
     },
     "metadata": {},
     "execution_count": 19
    }
   ],
   "source": [
    "'Valid' if re.fullmatch('[*+$]', '$') else 'Invalid' "
   ]
  },
  {
   "cell_type": "code",
   "execution_count": 20,
   "metadata": {},
   "outputs": [
    {
     "output_type": "execute_result",
     "data": {
      "text/plain": "'Invalid'"
     },
     "metadata": {},
     "execution_count": 20
    }
   ],
   "source": [
    "'Valid' if re.fullmatch('[*+$]', '%') else 'Invalid' "
   ]
  },
  {
   "cell_type": "markdown",
   "metadata": {},
   "source": [
    "### Atleast One Match Using +\n",
    "\n",
    "### The + and the * quantifiers are called GREEDY quantifiers as they are using the match as many characters as they can."
   ]
  },
  {
   "cell_type": "code",
   "execution_count": 21,
   "metadata": {},
   "outputs": [
    {
     "output_type": "execute_result",
     "data": {
      "text/plain": "'Valid'"
     },
     "metadata": {},
     "execution_count": 21
    }
   ],
   "source": [
    "'Valid' if re.fullmatch('[A-Z][a-z]+', 'Eva') else 'Invalid' \n",
    "# Here the string should start with an Upper Case Letter and should be followed by alleast one (+) lower case letter."
   ]
  },
  {
   "cell_type": "code",
   "execution_count": 22,
   "metadata": {},
   "outputs": [
    {
     "output_type": "execute_result",
     "data": {
      "text/plain": "'Invalid'"
     },
     "metadata": {},
     "execution_count": 22
    }
   ],
   "source": [
    "'Valid' if re.fullmatch('[A-Z][a-z]+', 'EVA') else 'Invalid' "
   ]
  },
  {
   "cell_type": "code",
   "execution_count": 23,
   "metadata": {},
   "outputs": [
    {
     "output_type": "execute_result",
     "data": {
      "text/plain": "'Invalid'"
     },
     "metadata": {},
     "execution_count": 23
    }
   ],
   "source": [
    "'Valid' if re.fullmatch('[A-Z][a-z]+', 'EVa') else 'Invalid' "
   ]
  },
  {
   "cell_type": "code",
   "execution_count": null,
   "metadata": {},
   "outputs": [],
   "source": [
    "'Valid' if re.fullmatch('[A-Z][a-z]+', 'Eva') else 'Invalid' "
   ]
  },
  {
   "cell_type": "code",
   "execution_count": 24,
   "metadata": {},
   "outputs": [
    {
     "output_type": "execute_result",
     "data": {
      "text/plain": "'Invalid'"
     },
     "metadata": {},
     "execution_count": 24
    }
   ],
   "source": [
    "'Valid' if re.fullmatch('[A-Z][a-z]+', 'E') else 'Invalid'"
   ]
  },
  {
   "cell_type": "markdown",
   "metadata": {},
   "source": [
    "### Quantifier that matches 0 or 1 matches of subexpressions (?)\n",
    "### It matches 0 or 1 subexpressions that preceeds it."
   ]
  },
  {
   "cell_type": "code",
   "execution_count": 25,
   "metadata": {},
   "outputs": [
    {
     "output_type": "execute_result",
     "data": {
      "text/plain": "'Match'"
     },
     "metadata": {},
     "execution_count": 25
    }
   ],
   "source": [
    "'Match' if re.fullmatch('labell?ed', 'labelled') else 'No Match'"
   ]
  },
  {
   "cell_type": "code",
   "execution_count": 26,
   "metadata": {},
   "outputs": [
    {
     "output_type": "execute_result",
     "data": {
      "text/plain": "'Match'"
     },
     "metadata": {},
     "execution_count": 26
    }
   ],
   "source": [
    "'Match' if re.fullmatch('labelll?ed', 'labelled') else 'No Match'"
   ]
  },
  {
   "cell_type": "code",
   "execution_count": 27,
   "metadata": {},
   "outputs": [
    {
     "output_type": "execute_result",
     "data": {
      "text/plain": "'No Match'"
     },
     "metadata": {},
     "execution_count": 27
    }
   ],
   "source": [
    "'Match' if re.fullmatch('labell?ed', 'labellled') else 'No Match'"
   ]
  },
  {
   "cell_type": "code",
   "execution_count": 28,
   "metadata": {},
   "outputs": [
    {
     "output_type": "execute_result",
     "data": {
      "text/plain": "'No Match'"
     },
     "metadata": {},
     "execution_count": 28
    }
   ],
   "source": [
    "'Match' if re.fullmatch('labell?ed', 'labeed') else 'No Match'"
   ]
  },
  {
   "cell_type": "code",
   "execution_count": 29,
   "metadata": {},
   "outputs": [
    {
     "output_type": "execute_result",
     "data": {
      "text/plain": "'Match'"
     },
     "metadata": {},
     "execution_count": 29
    }
   ],
   "source": [
    "'Match' if re.fullmatch('labell?ed', 'labeled') else 'No Match'"
   ]
  },
  {
   "cell_type": "markdown",
   "metadata": {},
   "source": [
    "### Atleast Or More. Just like GREATER THAN OR EQUALS TO"
   ]
  },
  {
   "cell_type": "code",
   "execution_count": 30,
   "metadata": {},
   "outputs": [
    {
     "output_type": "execute_result",
     "data": {
      "text/plain": "'Match'"
     },
     "metadata": {},
     "execution_count": 30
    }
   ],
   "source": [
    "'Match' if re.fullmatch(r'\\d{3,}', '123') else 'No Match'"
   ]
  },
  {
   "cell_type": "code",
   "execution_count": 31,
   "metadata": {},
   "outputs": [
    {
     "output_type": "execute_result",
     "data": {
      "text/plain": "'No Match'"
     },
     "metadata": {},
     "execution_count": 31
    }
   ],
   "source": [
    "'Match' if re.fullmatch(r'\\d{3,}', '12') else 'No Match'\n"
   ]
  },
  {
   "cell_type": "code",
   "execution_count": 32,
   "metadata": {},
   "outputs": [
    {
     "output_type": "execute_result",
     "data": {
      "text/plain": "'Match'"
     },
     "metadata": {},
     "execution_count": 32
    }
   ],
   "source": [
    "'Match' if re.fullmatch(r'\\d{3,}', '123456') else 'No Match'\n"
   ]
  },
  {
   "cell_type": "markdown",
   "metadata": {},
   "source": [
    "### Atleast Or Not More Than. Limiting with the range"
   ]
  },
  {
   "cell_type": "code",
   "execution_count": 33,
   "metadata": {},
   "outputs": [
    {
     "output_type": "execute_result",
     "data": {
      "text/plain": "'Match'"
     },
     "metadata": {},
     "execution_count": 33
    }
   ],
   "source": [
    "'Match' if re.fullmatch(r'\\d{3,6}', '123456') else 'No Match'\n"
   ]
  },
  {
   "cell_type": "code",
   "execution_count": 34,
   "metadata": {},
   "outputs": [
    {
     "output_type": "execute_result",
     "data": {
      "text/plain": "'Match'"
     },
     "metadata": {},
     "execution_count": 34
    }
   ],
   "source": [
    "'Match' if re.fullmatch(r'\\d{3,6}', '123') else 'No Match'\n"
   ]
  },
  {
   "cell_type": "code",
   "execution_count": 35,
   "metadata": {},
   "outputs": [
    {
     "output_type": "execute_result",
     "data": {
      "text/plain": "'No Match'"
     },
     "metadata": {},
     "execution_count": 35
    }
   ],
   "source": [
    "'Match' if re.fullmatch(r'\\d{3,6}', '12') else 'No Match'\n"
   ]
  },
  {
   "cell_type": "code",
   "execution_count": 36,
   "metadata": {},
   "outputs": [
    {
     "output_type": "execute_result",
     "data": {
      "text/plain": "'No Match'"
     },
     "metadata": {},
     "execution_count": 36
    }
   ],
   "source": [
    "'Match' if re.fullmatch(r'\\d{3,6}', '1234569') else 'No Match'\n"
   ]
  },
  {
   "cell_type": "markdown",
   "metadata": {},
   "source": [
    "# *<u> Self Check </u>*\\\n",
    "* Create and test a regular expression that mataches a street addess consisting of a number with one or more digits followed by two words of one or more characters each. The token should be seprated by one space each, as in 123 Main Street."
   ]
  },
  {
   "cell_type": "code",
   "execution_count": 61,
   "metadata": {},
   "outputs": [],
   "source": [
    "street = r'\\d+ [A-Z][a-z]* [A-Z][a-z]*'"
   ]
  },
  {
   "cell_type": "code",
   "execution_count": 62,
   "metadata": {},
   "outputs": [
    {
     "output_type": "execute_result",
     "data": {
      "text/plain": "'Match'"
     },
     "metadata": {},
     "execution_count": 62
    }
   ],
   "source": [
    "'Match' if re.fullmatch(street, '1038 Vivekananda Road') else 'No Match'"
   ]
  },
  {
   "cell_type": "code",
   "execution_count": 63,
   "metadata": {},
   "outputs": [
    {
     "output_type": "execute_result",
     "data": {
      "text/plain": "'No Match'"
     },
     "metadata": {},
     "execution_count": 63
    }
   ],
   "source": [
    "'Match' if re.fullmatch(street, 'Vivekananda Road') else 'No Match'"
   ]
  },
  {
   "cell_type": "markdown",
   "metadata": {},
   "source": []
  }
 ],
 "metadata": {
  "language_info": {
   "codemirror_mode": {
    "name": "ipython",
    "version": 3
   },
   "file_extension": ".py",
   "mimetype": "text/x-python",
   "name": "python",
   "nbconvert_exporter": "python",
   "pygments_lexer": "ipython3",
   "version": "3.8.2-final"
  },
  "orig_nbformat": 2,
  "kernelspec": {
   "name": "python38264bit2472454288054193a39fc81468cfa85d",
   "display_name": "Python 3.8.2 64-bit"
  }
 },
 "nbformat": 4,
 "nbformat_minor": 2
}