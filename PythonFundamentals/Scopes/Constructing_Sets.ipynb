{
 "cells": [
  {
   "cell_type": "markdown",
   "metadata": {},
   "source": [
    "# <u> * Constructing Sets * </u>\n",
    "* The subset of even integers can be constructed using the set comprehension {x | x ∈ Z, x mod 2 = 0}.\n",
    "> - Begin with an existing set, Z\n",
    "> - Apply a condition to each element in that set.\n",
    ">> -  x ∈ Z such that x mod 2 = 0\n",
    "> - Collect all the elements that match the condition.\n",
    "* Examples\n",
    "> - The set of perfect squares.\n",
    "{m | m ∈ N, $\\sqrt{m}$ ∈ N}"
   ]
  }
 ],
 "metadata": {
  "language_info": {
   "codemirror_mode": {
    "name": "ipython",
    "version": 3
   },
   "file_extension": ".py",
   "mimetype": "text/x-python",
   "name": "python",
   "nbconvert_exporter": "python",
   "pygments_lexer": "ipython3",
   "version": 3
  },
  "orig_nbformat": 2,
  "kernelspec": {
   "name": "python38264bit2472454288054193a39fc81468cfa85d",
   "display_name": "Python 3.8.2 64-bit"
  }
 },
 "nbformat": 4,
 "nbformat_minor": 2
}