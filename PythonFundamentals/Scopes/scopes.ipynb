{
 "cells": [
  {
   "cell_type": "markdown",
   "metadata": {},
   "source": [
    "# Scope Rules\n",
    "### Local Scope:\n",
    "##### It has to do with the idenfiers that you define inside the block of the function or a class.\n",
    "\n",
    "### Global Scope\n",
    "##### 1. It has to do with the identifiers that you define outside the block of the function or class.\n",
    "##### 2. Functions, variables and classes.\n",
    "##### 3. Variables with global scopes are global variables.\n",
    "##### 4. Identifiers with gloabl scope can be used in a .py file or interactive session anywhere after they're defined.\n",
    "##### 5. A function is not allowed to modify the value of a variable in the global scope.\n",
    "\n",
    "\n",
    "\n"
   ]
  },
  {
   "cell_type": "code",
   "execution_count": null,
   "metadata": {},
   "outputs": [],
   "source": [
    "x = 7 # This is a global variable declared outside of any function or class"
   ]
  },
  {
   "cell_type": "code",
   "execution_count": null,
   "metadata": {},
   "outputs": [],
   "source": [
    "def access_global():\n",
    "    print('x printed from global scope:', x)"
   ]
  },
  {
   "cell_type": "code",
   "execution_count": null,
   "metadata": {
    "tags": []
   },
   "outputs": [],
   "source": [
    "access_global()"
   ]
  },
  {
   "cell_type": "markdown",
   "metadata": {},
   "source": [
    "##### In the below function the value of x is defined outside the function as well as inside the function."
   ]
  },
  {
   "cell_type": "code",
   "execution_count": null,
   "metadata": {},
   "outputs": [],
   "source": [
    "x = 7\n",
    "def try_to_modify_global_variable():\n",
    "    x = 3.5\n",
    "    print('x is now printed from try_to_modify_global_variable:', x)"
   ]
  },
  {
   "cell_type": "markdown",
   "metadata": {},
   "source": [
    "##### However, when the value of x is called using the function, the value that is inside the function gets called for."
   ]
  },
  {
   "cell_type": "code",
   "execution_count": null,
   "metadata": {
    "tags": []
   },
   "outputs": [],
   "source": [
    "try_to_modify_global_variable()"
   ]
  },
  {
   "cell_type": "markdown",
   "metadata": {},
   "source": [
    "##### And when the value is x is called without the support of the function, the value of x that was declared outside the function gets printed. "
   ]
  },
  {
   "cell_type": "code",
   "execution_count": null,
   "metadata": {},
   "outputs": [],
   "source": [
    "x"
   ]
  },
  {
   "cell_type": "markdown",
   "metadata": {},
   "source": [
    "## Modifying Global Variable"
   ]
  },
  {
   "cell_type": "code",
   "execution_count": 27,
   "metadata": {
    "tags": []
   },
   "outputs": [
    {
     "output_type": "stream",
     "name": "stdout",
     "text": "apple\ne printed from modify_global: hello\nhello\n"
    }
   ],
   "source": [
    "e = 'apple' # Variable e is defined at the global scope\n",
    "print(e)\n",
    "def modify_global_variable():\n",
    "    global e\n",
    "    e = 'hello' # Modifying the global variable inside the function\n",
    "    print('e printed from modify_global:', e)\n",
    "modify_global_variable()\n",
    "print(e)"
   ]
  }
 ],
 "metadata": {
  "language_info": {
   "codemirror_mode": {
    "name": "ipython",
    "version": 3
   },
   "file_extension": ".py",
   "mimetype": "text/x-python",
   "name": "python",
   "nbconvert_exporter": "python",
   "pygments_lexer": "ipython3",
   "version": "3.8.2-final"
  },
  "orig_nbformat": 2,
  "kernelspec": {
   "name": "python38264bit2472454288054193a39fc81468cfa85d",
   "display_name": "Python 3.8.2 64-bit"
  }
 },
 "nbformat": 4,
 "nbformat_minor": 2
}