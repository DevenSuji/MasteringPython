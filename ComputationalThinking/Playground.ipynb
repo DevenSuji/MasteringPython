{
 "cells": [
  {
   "cell_type": "code",
   "execution_count": null,
   "metadata": {},
   "outputs": [],
   "source": [
    "maxi = 0\n",
    "numbers = [233, 800, 300, 323, 341, 231, 350, 700]\n",
    "\n",
    "for i in numbers:\n",
    "    print(f\"Working on Number: {i}\")\n",
    "    if i > maxi:\n",
    "        maxi = i\n",
    "        \n",
    "print(f\"The biggest number is: {maxi}\")        "
   ]
  },
  {
   "cell_type": "markdown",
   "metadata": {},
   "source": [
    "# Pseudo Code\n",
    "\n",
    "## <u>Subject Topper when the name of the subject is given as parameter</u>\n",
    "\n",
    "Procedure TopThreeMarks(Subject)\n",
    "\n",
    "    max = 0\n",
    "    secondMax = 0\n",
    "    thirdMax = 0\n",
    "\n",
    "    while (Pile1 has more cards) {\n",
    "        Pick a card X from Pile1\n",
    "        if(X.Subject > max) {\n",
    "            thirdMax = secondMax\n",
    "            secondMax = max\n",
    "            max = X.Subject\n",
    "        }\n",
    "        if(max > X.Subject > secondMax) {\n",
    "                thirdMax = secondMax\n",
    "                secondMax = X.Subject\n",
    "        }\n",
    "        if(secondMax > X.Subject > thirdMax) {\n",
    "            thirdMax = X.Subject\n",
    "        }\n",
    "    }\n",
    "    return(thirdMax)\n",
    "End TopThreeMarks\n",
    "\n"
   ]
  },
  {
   "cell_type": "markdown",
   "metadata": {},
   "source": [
    "## <u>Top 3 totals which are also subject toppers</u>\n",
    "\n",
    "    max = 0\n",
    "    secondMax = 0\n",
    "    thirdMax = 0\n",
    "    \n",
    "    maxid = -1\n",
    "    secondmaxid = -1\n",
    "    thirdmaxid = -1\n",
    "    \n",
    "    maths3 = TopThreeMarks(Maths)\n",
    "    phys3 = TopThreeMarks(Physics)\n",
    "    chem3 - TopThreeMarks(Chemistry)\n",
    "    \n",
    "    while (Pile1 has more cards){\n",
    "        Pick a card from Pile1\n",
    "            if ((SubjectTopper(x,maths3,phys3,chem3)){\n",
    "                if (X.Total > max) {\n",
    "                    thirdMax = secondMax\n",
    "                    thirdmaxid = secondmaxid\n",
    "                    secondmax = max\n",
    "                    secondmaxid = maxid\n",
    "                    max = X.Total\n",
    "                    maxid = X.id\n",
    "                    \n",
    "                }\n",
    "                if (max > X.Total > secondmax) {\n",
    "                    thirdMax = secondMax\n",
    "                    thirdmaxid = secondmaxid\n",
    "                    secondmax = X.Total\n",
    "                    secondmaxid = X.id                \n",
    "                }\n",
    "                if (secondmax > X.Total > thirdMax) {\n",
    "                    thirdMax = X.Total\n",
    "                    thirdmaxid = X.id\n",
    "            }\n",
    "    }"
   ]
  },
  {
   "cell_type": "markdown",
   "metadata": {},
   "source": [
    "# Subject topper True or False\n",
    "\n",
    "Procedure SubjectTopper(Card,MMark,PMark,CMark)\n",
    "\n",
    "        if (Card.Maths >= MMark or Card.Physics >= PMark or Card.Chemistry >= CMark) {\n",
    "            return(True)\n",
    "        }\n",
    "        else {\n",
    "            return(False)\n",
    "        }\n",
    "        \n",
    "End SubjectTopper"
   ]
  },
  {
   "cell_type": "code",
   "execution_count": null,
   "metadata": {},
   "outputs": [],
   "source": [
    "import pandas as pd\n",
    "file = 'G:\\My Drive\\DataScience\\ScoresDataset.xlsx'\n",
    "xl = pd.ExcelFile(file)\n",
    "df1 = xl.parse('Sheet1')"
   ]
  },
  {
   "cell_type": "code",
   "execution_count": 2,
   "metadata": {},
   "outputs": [],
   "source": [
    "while (df1.)"
   ]
  },
  {
   "cell_type": "code",
   "execution_count": 25,
   "metadata": {},
   "outputs": [
    {
     "name": "stdout",
     "output_type": "stream",
     "text": [
      "1.0\n",
      "2.0\n"
     ]
    }
   ],
   "source": [
    "y = 2\n",
    "x = y * ((y - 1)/2)\n",
    "print(x)\n",
    "print(x * y)"
   ]
  },
  {
   "cell_type": "code",
   "execution_count": 11,
   "metadata": {},
   "outputs": [
    {
     "data": {
      "text/plain": [
       "False"
      ]
     },
     "execution_count": 11,
     "metadata": {},
     "output_type": "execute_result"
    }
   ],
   "source": [
    "M = 6\n",
    "N = 5\n",
    "\n",
    "def isLeftHeavy(M, N):\n",
    "    if M-N>0:\n",
    "        return True\n",
    "    else:\n",
    "        return False\n",
    "\n",
    "#isLeftHeavy(M, N)\n",
    "isLeftHeavy(N, M)"
   ]
  },
  {
   "cell_type": "code",
   "execution_count": 6,
   "metadata": {},
   "outputs": [],
   "source": [
    "def Mystery(M, N):\n",
    "    if isLeftHeavy(M, N) == False:\n",
    "        if isLeftHeavy(N, M) == False:\n",
    "            return True\n",
    "        else:\n",
    "            return False\n",
    "    else:\n",
    "        return False\n",
    "    \n",
    "    \n",
    "\n",
    "Mystery(5, 6)"
   ]
  },
  {
   "cell_type": "code",
   "execution_count": 34,
   "metadata": {},
   "outputs": [
    {
     "ename": "IndexError",
     "evalue": "string index out of range",
     "output_type": "error",
     "traceback": [
      "\u001b[1;31m---------------------------------------------------------------------------\u001b[0m",
      "\u001b[1;31mIndexError\u001b[0m                                Traceback (most recent call last)",
      "\u001b[1;32m<ipython-input-34-06a0ad852a23>\u001b[0m in \u001b[0;36m<module>\u001b[1;34m\u001b[0m\n\u001b[0;32m      2\u001b[0m \u001b[0mword\u001b[0m \u001b[1;33m=\u001b[0m \u001b[1;34m'reluctant'\u001b[0m\u001b[1;33m\u001b[0m\u001b[1;33m\u001b[0m\u001b[0m\n\u001b[0;32m      3\u001b[0m \u001b[1;33m\u001b[0m\u001b[0m\n\u001b[1;32m----> 4\u001b[1;33m \u001b[0mword\u001b[0m\u001b[1;33m[\u001b[0m\u001b[1;36m9\u001b[0m\u001b[1;33m]\u001b[0m \u001b[1;32min\u001b[0m \u001b[0mvowel\u001b[0m\u001b[1;33m\u001b[0m\u001b[1;33m\u001b[0m\u001b[0m\n\u001b[0m",
      "\u001b[1;31mIndexError\u001b[0m: string index out of range"
     ]
    }
   ],
   "source": [
    "vowel = ['a', 'e', 'i', 'o' , 'u']\n",
    "word = 'reluctant'\n",
    "\n",
    "word[9] in vowel"
   ]
  },
  {
   "cell_type": "code",
   "execution_count": 42,
   "metadata": {},
   "outputs": [
    {
     "name": "stdout",
     "output_type": "stream",
     "text": [
      "3\n",
      "6\n"
     ]
    }
   ],
   "source": [
    "vowel = ['a', 'e', 'i', 'o' , 'u']\n",
    "word = 'reluctant'\n",
    "\n",
    "i = 0\n",
    "VowelCount = 0\n",
    "ConsonantCount = 0\n",
    "#print(i)\n",
    "while i < len(word):\n",
    "    #print(i)\n",
    "    if word[i] in vowel:\n",
    "        #print(i)\n",
    "        VowelCount = VowelCount + 1\n",
    "    else:\n",
    "        ConsonantCount = ConsonantCount + 1\n",
    "    i = i + 1\n",
    "    \n",
    "    \n",
    "print(VowelCount)\n",
    "print(ConsonantCount)\n"
   ]
  },
  {
   "cell_type": "code",
   "execution_count": null,
   "metadata": {},
   "outputs": [],
   "source": []
  }
 ],
 "metadata": {
  "kernelspec": {
   "display_name": "Python 3",
   "language": "python",
   "name": "python3"
  },
  "language_info": {
   "codemirror_mode": {
    "name": "ipython",
    "version": 3
   },
   "file_extension": ".py",
   "mimetype": "text/x-python",
   "name": "python",
   "nbconvert_exporter": "python",
   "pygments_lexer": "ipython3",
   "version": "3.7.7"
  }
 },
 "nbformat": 4,
 "nbformat_minor": 4
}
