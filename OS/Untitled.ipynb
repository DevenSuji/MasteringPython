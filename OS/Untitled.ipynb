{
 "cells": [
  {
   "cell_type": "code",
   "execution_count": 3,
   "metadata": {},
   "outputs": [
    {
     "name": "stdout",
     "output_type": "stream",
     "text": [
      "Either the file is missing or not readable\n"
     ]
    }
   ],
   "source": [
    "import os\n",
    "\n",
    "PATH = '/enterprisenet.org/Sentrum/Test/Openfiles/Test1/Test2/Test3/Yellow.xlsx'\n",
    "if os.path.isfile(PATH) and os.access(PATH, os.R_OK):\n",
    "    print(\"File exists and is readable\")\n",
    "else:\n",
    "    print(\"Either the file is missing or not readable\")"
   ]
  }
 ],
 "metadata": {
  "kernelspec": {
   "display_name": "Python 3",
   "language": "python",
   "name": "python3"
  },
  "language_info": {
   "codemirror_mode": {
    "name": "ipython",
    "version": 3
   },
   "file_extension": ".py",
   "mimetype": "text/x-python",
   "name": "python",
   "nbconvert_exporter": "python",
   "pygments_lexer": "ipython3",
   "version": "3.7.7"
  }
 },
 "nbformat": 4,
 "nbformat_minor": 4
}
