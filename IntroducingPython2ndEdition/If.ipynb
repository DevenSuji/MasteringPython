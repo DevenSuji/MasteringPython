{
 "cells": [
  {
   "cell_type": "markdown",
   "metadata": {},
   "source": [
    "# Choose with IF"
   ]
  },
  {
   "cell_type": "markdown",
   "metadata": {},
   "source": [
    "##### <u>Continue Lines with \\\\</u>"
   ]
  },
  {
   "cell_type": "code",
   "execution_count": 1,
   "metadata": {},
   "outputs": [
    {
     "data": {
      "text/plain": [
       "10"
      ]
     },
     "execution_count": 1,
     "metadata": {},
     "output_type": "execute_result"
    }
   ],
   "source": [
    "sum = 0\n",
    "sum += 1\n",
    "sum += 2\n",
    "sum += 3\n",
    "sum += 4\n",
    "sum"
   ]
  },
  {
   "cell_type": "markdown",
   "metadata": {},
   "source": [
    "###### The above mentioned code can be written this way as well."
   ]
  },
  {
   "cell_type": "code",
   "execution_count": 3,
   "metadata": {},
   "outputs": [
    {
     "data": {
      "text/plain": [
       "15"
      ]
     },
     "execution_count": 3,
     "metadata": {},
     "output_type": "execute_result"
    }
   ],
   "source": [
    "sum =   1 + \\\n",
    "        2 + \\\n",
    "        3 + \\\n",
    "        4 + \\\n",
    "        5\n",
    "sum"
   ]
  },
  {
   "cell_type": "markdown",
   "metadata": {},
   "source": [
    "### OR One can do this as well"
   ]
  },
  {
   "cell_type": "code",
   "execution_count": 4,
   "metadata": {},
   "outputs": [
    {
     "data": {
      "text/plain": [
       "15"
      ]
     },
     "execution_count": 4,
     "metadata": {},
     "output_type": "execute_result"
    }
   ],
   "source": [
    "sum = (\n",
    "    1 + \n",
    "    2 + \n",
    "    3 + \n",
    "    4 + \n",
    "    5)\n",
    "sum"
   ]
  },
  {
   "cell_type": "markdown",
   "metadata": {},
   "source": [
    "#### Comparing with If, elif and else"
   ]
  },
  {
   "cell_type": "code",
   "execution_count": 8,
   "metadata": {},
   "outputs": [
    {
     "name": "stdout",
     "output_type": "stream",
     "text": [
      "Thank GOD We are Safe\n"
     ]
    }
   ],
   "source": [
    "disaster = False\n",
    "if disaster:\n",
    "    print(\"This is BAD Maaaan!!!\")\n",
    "else:\n",
    "    print(\"Thank GOD We are Safe\")"
   ]
  },
  {
   "cell_type": "markdown",
   "metadata": {},
   "source": [
    "#### If Within If"
   ]
  },
  {
   "cell_type": "code",
   "execution_count": 11,
   "metadata": {},
   "outputs": [
    {
     "name": "stdout",
     "output_type": "stream",
     "text": [
      "Its a human.\n"
     ]
    }
   ],
   "source": [
    "furry = False\n",
    "large = False\n",
    "if furry:\n",
    "    if large:\n",
    "        print(\"It's a YETI\")\n",
    "    else:\n",
    "        print(\"It's a cat\")\n",
    "else:\n",
    "    if large:\n",
    "        print(\"It's a whale!\")\n",
    "    else:\n",
    "        print(\"Its a human.\")"
   ]
  },
  {
   "cell_type": "code",
   "execution_count": 13,
   "metadata": {},
   "outputs": [
    {
     "name": "stdout",
     "output_type": "stream",
     "text": [
      "It's a BEET ROOT\n"
     ]
    }
   ],
   "source": [
    "color = 'Maroon'\n",
    "if color == 'Red':\n",
    "    print(\"It's a TOMATO\")\n",
    "elif color == 'green':\n",
    "    print(\"It's a BELL PEPPER\")\n",
    "elif color == 'Purple':\n",
    "    print(\"It's a BRINJAL\")\n",
    "elif color == 'Maroon':\n",
    "    print(\"It's a BEET ROOT\")    "
   ]
  },
  {
   "cell_type": "code",
   "execution_count": 14,
   "metadata": {},
   "outputs": [
    {
     "name": "stdout",
     "output_type": "stream",
     "text": [
      "The list is as full as your head!!!\n"
     ]
    }
   ],
   "source": [
    "some_list = []\n",
    "if some_list:\n",
    "    print(\"There is something inside the list\")\n",
    "else:\n",
    "    print(\"The list is as full as your head!!!\")"
   ]
  },
  {
   "cell_type": "markdown",
   "metadata": {},
   "source": [
    "##### Multiple comparison"
   ]
  },
  {
   "cell_type": "code",
   "execution_count": 15,
   "metadata": {},
   "outputs": [
    {
     "name": "stdout",
     "output_type": "stream",
     "text": [
      "o is a vowel.\n"
     ]
    }
   ],
   "source": [
    "letter = 'o'\n",
    "if letter == 'a' or letter == 'e' or letter == 'i' \\\n",
    "    or letter == 'o' or letter == 'u':\n",
    "    print(letter, 'is a vowel.')\n",
    "else:\n",
    "    print(letter, 'is not a vowel')"
   ]
  },
  {
   "cell_type": "markdown",
   "metadata": {},
   "source": [
    "Whenever you need to make a lot of comparisons like that,separated by or,use Python’smembership operator in, instead.Here’s how to check vowel-ness more Pythonically,using in with a string made of vowel characters:"
   ]
  },
  {
   "cell_type": "code",
   "execution_count": 18,
   "metadata": {},
   "outputs": [
    {
     "data": {
      "text/plain": [
       "True"
      ]
     },
     "execution_count": 18,
     "metadata": {},
     "output_type": "execute_result"
    }
   ],
   "source": [
    "vowels = 'aeiou'\n",
    "letter = 'o'\n",
    "letter in vowels"
   ]
  },
  {
   "cell_type": "code",
   "execution_count": 20,
   "metadata": {},
   "outputs": [
    {
     "name": "stdout",
     "output_type": "stream",
     "text": [
      "It's a FART IN THE WIND\n"
     ]
    }
   ],
   "source": [
    "vowels = 'aeiou'\n",
    "letter = 't'\n",
    "if letter in vowels:\n",
    "    print(letter, 'is a vowel')\n",
    "else:\n",
    "    print(\"It's a FART IN THE WIND\")"
   ]
  },
  {
   "cell_type": "markdown",
   "metadata": {},
   "source": [
    "### Here's how to use IN different data types"
   ]
  },
  {
   "cell_type": "code",
   "execution_count": 21,
   "metadata": {},
   "outputs": [],
   "source": [
    "letter = 'o'"
   ]
  },
  {
   "cell_type": "code",
   "execution_count": 23,
   "metadata": {},
   "outputs": [
    {
     "data": {
      "text/plain": [
       "True"
      ]
     },
     "execution_count": 23,
     "metadata": {},
     "output_type": "execute_result"
    }
   ],
   "source": [
    "vowel_SET = {'a', 'e', 'i', 'o', 'u'}\n",
    "letter in vowel_SET"
   ]
  },
  {
   "cell_type": "code",
   "execution_count": 24,
   "metadata": {},
   "outputs": [
    {
     "data": {
      "text/plain": [
       "True"
      ]
     },
     "execution_count": 24,
     "metadata": {},
     "output_type": "execute_result"
    }
   ],
   "source": [
    "vowel_LIST = ['a', 'e', 'i', 'o', 'u']\n",
    "letter in vowel_LIST"
   ]
  },
  {
   "cell_type": "code",
   "execution_count": 25,
   "metadata": {},
   "outputs": [
    {
     "data": {
      "text/plain": [
       "True"
      ]
     },
     "execution_count": 25,
     "metadata": {},
     "output_type": "execute_result"
    }
   ],
   "source": [
    "vowel_TUPLE = ('a', 'e', 'i', 'o', 'u')\n",
    "letter in vowel_TUPLE"
   ]
  },
  {
   "cell_type": "code",
   "execution_count": 35,
   "metadata": {},
   "outputs": [
    {
     "name": "stdout",
     "output_type": "stream",
     "text": [
      "True\n",
      "dict_keys(['a', 'e', 'i', 'o', 'u'])\n",
      "dict_values(['apple', 'elephant', 'imphala', 'orange', 'umbrella'])\n"
     ]
    }
   ],
   "source": [
    "vowel_DICT = {'a': 'apple', 'e': 'elephant', 'i': 'imphala', 'o': 'orange', 'u': 'umbrella'}\n",
    "print(letter in vowel_DICT.keys())\n",
    "print(vowel_DICT.keys())\n",
    "print(vowel_DICT.values())"
   ]
  },
  {
   "cell_type": "code",
   "execution_count": 36,
   "metadata": {},
   "outputs": [
    {
     "data": {
      "text/plain": [
       "True"
      ]
     },
     "execution_count": 36,
     "metadata": {},
     "output_type": "execute_result"
    }
   ],
   "source": [
    "vowel_STRING = \"aeiou\"\n",
    "letter in vowel_STRING"
   ]
  },
  {
   "cell_type": "markdown",
   "metadata": {},
   "source": [
    "### Knowledge Check\n",
    "Choose a number between 1 and 10 and assign it to the variable secret.Then, select another number between 1 and 10and assign it to the variable guess.Next, write the conditional tests(if, else, and elif)to print the string 'too low'if guess is less than secret,'too high' if greater than secret,and 'just right' if equal to secret."
   ]
  },
  {
   "cell_type": "code",
   "execution_count": 55,
   "metadata": {},
   "outputs": [
    {
     "name": "stdout",
     "output_type": "stream",
     "text": [
      "The Secret is: 7\n",
      "The Guess is: 5\n",
      "TOO LOW\n"
     ]
    }
   ],
   "source": [
    "import random\n",
    "secret = random.randint(1, 10)\n",
    "guess = random.randint(1, 10)\n",
    "print(f\"The Secret is: {secret}\")\n",
    "print(f\"The Guess is: {guess}\")\n",
    "if guess < secret:\n",
    "    print(\"TOO LOW\")\n",
    "elif guess == secret:\n",
    "    print(\"JUST RIGHT\")\n",
    "elif guess > secret:\n",
    "    print(\"TOO HIGH\")"
   ]
  }
 ],
 "metadata": {
  "kernelspec": {
   "display_name": "Python 3",
   "language": "python",
   "name": "python3"
  },
  "language_info": {
   "codemirror_mode": {
    "name": "ipython",
    "version": 3
   },
   "file_extension": ".py",
   "mimetype": "text/x-python",
   "name": "python",
   "nbconvert_exporter": "python",
   "pygments_lexer": "ipython3",
   "version": "3.7.7"
  }
 },
 "nbformat": 4,
 "nbformat_minor": 4
}
