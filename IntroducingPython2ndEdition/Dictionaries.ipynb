{
 "cells": [
  {
   "cell_type": "markdown",
   "metadata": {},
   "source": [
    "# <i><u><b>Dictionary</b></u></i>\n",
    "See PEP-274 for more examples of dictionary comprehensions.\n",
    "\n",
    "* A dictionary is similar to a list.\n",
    "* The order of items doesn’t matter.\n",
    "* They aren’t selected by an offset such as 0 or 1.\n",
    "* Instead,you specify a unique key to associate with each value.\n",
    "* This key is often a string, but it can actually be any of Python’s immutable types:\n",
    "    * boolean \n",
    "    * integer \n",
    "    * float \n",
    "    * tuple\n",
    "    * string, and others.\n",
    "* Dictionaries are mutable,so you can add, delete, and change their key-value elements. \n",
    "* If you’ve worked with languages that support only arrays or lists, you’ll love dictionaries.\n",
    "\n",
    "In other languages, dictionaries might be called associative arrays, hashes, or hashmaps.In Python,a dictionary is also called a dict to save syllables and make teenage boys snicker."
   ]
  },
  {
   "cell_type": "markdown",
   "metadata": {},
   "source": [
    "### Creat with {}"
   ]
  },
  {
   "cell_type": "code",
   "execution_count": 1,
   "metadata": {},
   "outputs": [
    {
     "data": {
      "text/plain": [
       "{}"
      ]
     },
     "execution_count": 1,
     "metadata": {},
     "output_type": "execute_result"
    }
   ],
   "source": [
    "empty_dict = {}\n",
    "empty_dict"
   ]
  },
  {
   "cell_type": "code",
   "execution_count": 2,
   "metadata": {},
   "outputs": [
    {
     "data": {
      "text/plain": [
       "{'day': 'A period of twenty-four hours, mostly misspent',\n",
       " 'positive': \"Mistaken at the top of one's voice\",\n",
       " 'misfortune': 'The kind of fortune that never misses'}"
      ]
     },
     "execution_count": 2,
     "metadata": {},
     "output_type": "execute_result"
    }
   ],
   "source": [
    "bierce = {\n",
    "\"day\": \"A period of twenty-four hours, mostly misspent\",\n",
    "\"positive\": \"Mistaken at the top of one's voice\",\n",
    "\"misfortune\": \"The kind of fortune that never misses\",\n",
    "}\n",
    "bierce"
   ]
  },
  {
   "cell_type": "markdown",
   "metadata": {},
   "source": [
    "# Note\n",
    "In Python,it’s okay to leave a comma after the last item of a list, tuple, or dictionary.Also, you don’t need to indent,as I did in the preceding example, when you’re typing keys and values within the curly braces.It just helps readability."
   ]
  },
  {
   "cell_type": "markdown",
   "metadata": {},
   "source": [
    "### Create with dict()"
   ]
  },
  {
   "cell_type": "code",
   "execution_count": 3,
   "metadata": {},
   "outputs": [
    {
     "data": {
      "text/plain": [
       "{'firstName': 'Wile', 'middleName': 'E', 'lastName': 'Coyote'}"
      ]
     },
     "execution_count": 3,
     "metadata": {},
     "output_type": "execute_result"
    }
   ],
   "source": [
    "customerDb = dict(firstName=\"Wile\", middleName=\"E\", lastName=\"Coyote\")\n",
    "customerDb"
   ]
  },
  {
   "cell_type": "markdown",
   "metadata": {},
   "source": [
    "### Convert with dict()\n",
    "You can also use the dict() function to convert two-value sequences into a dictionary.\n",
    "\n",
    "You might run into such key-value sequences at times,such as “Strontium, 90, Carbon, 14.\"\n",
    "\n",
    "The first item in each sequenceis used as the key and the second asthe value."
   ]
  },
  {
   "cell_type": "code",
   "execution_count": 4,
   "metadata": {},
   "outputs": [
    {
     "data": {
      "text/plain": [
       "{'a': 'b', 'c': 'd', 'e': 'f'}"
      ]
     },
     "execution_count": 4,
     "metadata": {},
     "output_type": "execute_result"
    }
   ],
   "source": [
    "lol = [ ['a', 'b'], ['c', 'd'], ['e', 'f'] ]\n",
    "dict(lol)"
   ]
  },
  {
   "cell_type": "markdown",
   "metadata": {},
   "source": [
    "### As you can see here, if the number of elements in a list is more than 2 then the conversion of list to dict errors out."
   ]
  },
  {
   "cell_type": "code",
   "execution_count": 5,
   "metadata": {},
   "outputs": [
    {
     "ename": "ValueError",
     "evalue": "dictionary update sequence element #0 has length 3; 2 is required",
     "output_type": "error",
     "traceback": [
      "\u001b[1;31m---------------------------------------------------------------------------\u001b[0m",
      "\u001b[1;31mValueError\u001b[0m                                Traceback (most recent call last)",
      "\u001b[1;32m<ipython-input-5-85df615fb2e2>\u001b[0m in \u001b[0;36m<module>\u001b[1;34m\u001b[0m\n\u001b[0;32m      1\u001b[0m \u001b[0mfruits\u001b[0m \u001b[1;33m=\u001b[0m \u001b[1;33m[\u001b[0m\u001b[1;33m[\u001b[0m\u001b[1;34m'apple'\u001b[0m\u001b[1;33m,\u001b[0m \u001b[1;34m'mango'\u001b[0m\u001b[1;33m,\u001b[0m \u001b[1;34m'banana'\u001b[0m\u001b[1;33m]\u001b[0m\u001b[1;33m,\u001b[0m \u001b[1;33m[\u001b[0m\u001b[1;34m'orange'\u001b[0m\u001b[1;33m,\u001b[0m \u001b[1;34m'sweet lime'\u001b[0m\u001b[1;33m,\u001b[0m \u001b[1;34m'gooseberry'\u001b[0m\u001b[1;33m]\u001b[0m\u001b[1;33m]\u001b[0m\u001b[1;33m\u001b[0m\u001b[1;33m\u001b[0m\u001b[0m\n\u001b[1;32m----> 2\u001b[1;33m \u001b[0mdict\u001b[0m\u001b[1;33m(\u001b[0m\u001b[0mfruits\u001b[0m\u001b[1;33m)\u001b[0m\u001b[1;33m\u001b[0m\u001b[1;33m\u001b[0m\u001b[0m\n\u001b[0m",
      "\u001b[1;31mValueError\u001b[0m: dictionary update sequence element #0 has length 3; 2 is required"
     ]
    }
   ],
   "source": [
    "fruits = [['apple', 'mango', 'banana'], ['orange', 'sweet lime', 'gooseberry']]\n",
    "dict(fruits)"
   ]
  },
  {
   "cell_type": "markdown",
   "metadata": {},
   "source": [
    "### As you can see here, if the number of elements in a list is 2 then the conversion of list to dict is possible."
   ]
  },
  {
   "cell_type": "code",
   "execution_count": null,
   "metadata": {},
   "outputs": [],
   "source": [
    "fruits = [['apple', 'mango'], ['orange', 'sweet lime']]\n",
    "dict(fruits)"
   ]
  },
  {
   "cell_type": "markdown",
   "metadata": {},
   "source": [
    "### A list of two-item tuples:"
   ]
  },
  {
   "cell_type": "code",
   "execution_count": null,
   "metadata": {},
   "outputs": [],
   "source": [
    "lot = [ ('a', 'b'), ('c', 'd'), ('e', 'f') ]\n",
    "dict(lot)"
   ]
  },
  {
   "cell_type": "markdown",
   "metadata": {},
   "source": [
    "### A tuple of two-item lists:"
   ]
  },
  {
   "cell_type": "code",
   "execution_count": null,
   "metadata": {},
   "outputs": [],
   "source": [
    "tol = ( ['a', 'b'], ['c', 'd'], ['e', 'f'] )\n",
    "dict(tol)"
   ]
  },
  {
   "cell_type": "markdown",
   "metadata": {},
   "source": [
    "### A list of two character strings:"
   ]
  },
  {
   "cell_type": "code",
   "execution_count": null,
   "metadata": {},
   "outputs": [],
   "source": [
    "los = [ 'ab', 'cd', 'ef' ]\n",
    "dict(los)"
   ]
  },
  {
   "cell_type": "markdown",
   "metadata": {},
   "source": [
    "### A tuple of two-character strings:"
   ]
  },
  {
   "cell_type": "code",
   "execution_count": null,
   "metadata": {},
   "outputs": [],
   "source": [
    "tos = ( 'ab', 'cd', 'ef' )\n",
    "dict(tos)"
   ]
  },
  {
   "cell_type": "markdown",
   "metadata": {},
   "source": [
    "### Add or Change an Item by [ key ]\n",
    "* Adding an item to a dictionary is easy. \n",
    "* Just refer to the item by its key and assign a value. \n",
    "* If the key was already present in the dictionary, the existing value is replaced by the new one. \n",
    "* If the key is new, it’s added to the dictionary with its value. \n",
    "* Unlike lists, you don’t need to worry about Python throwing an exception during assignment by specifying an index that’s out of range."
   ]
  },
  {
   "cell_type": "code",
   "execution_count": null,
   "metadata": {},
   "outputs": [],
   "source": [
    "pythons = {\n",
    "'Chapman': 'Graham',\n",
    "'Cleese': 'John',\n",
    "'Idle': 'Eric',\n",
    "'Jones': 'Terry',\n",
    "'Palin': 'Michael',\n",
    "}\n",
    "pythons"
   ]
  },
  {
   "cell_type": "markdown",
   "metadata": {},
   "source": [
    "We’re missing one member:the one born in America, Terry Gilliam.Here’s an attempt by an anonymous programmerto add him, but he’s botched the first name:"
   ]
  },
  {
   "cell_type": "code",
   "execution_count": null,
   "metadata": {},
   "outputs": [],
   "source": [
    "pythons['Gilliam'] = 'Gerry'\n",
    "pythons"
   ]
  },
  {
   "cell_type": "markdown",
   "metadata": {},
   "source": [
    "And here’s some repair code by anotherprogrammer who is Pythonic in more than one way:\n",
    "\n",
    "By using the same key ('Gilliam'), we replaced the original value 'Gerry' with 'Terry'."
   ]
  },
  {
   "cell_type": "code",
   "execution_count": null,
   "metadata": {},
   "outputs": [],
   "source": [
    "pythons['Gilliam'] = 'Terry'\n",
    "pythons"
   ]
  },
  {
   "cell_type": "markdown",
   "metadata": {},
   "source": [
    "Remember that dictionary keys must be unique. That’s why we used last names for keys instead of first names here—two members of Monty Python have the first name 'Terry'! If you use a key more than once, the last value wins."
   ]
  },
  {
   "cell_type": "code",
   "execution_count": null,
   "metadata": {},
   "outputs": [],
   "source": [
    "some_pythons = {\n",
    "'Graham': 'Chapman',\n",
    "'John': 'Cleese',\n",
    "'Eric': 'Idle',\n",
    "'Terry': 'Gilliam',\n",
    "'Michael': 'Palin',\n",
    "'Terry': 'Jones',\n",
    "'Terry': 'Deven',\n",
    "}\n",
    "some_pythons"
   ]
  },
  {
   "cell_type": "markdown",
   "metadata": {},
   "source": [
    "### Get an Item by [key] or with get()\n",
    "This is the most common use of a dictionary. You specify the dictionary and key to get the corresponding value: Using some_pythons from the previous section."
   ]
  },
  {
   "cell_type": "code",
   "execution_count": null,
   "metadata": {},
   "outputs": [],
   "source": [
    "some_pythons['Terry']"
   ]
  },
  {
   "cell_type": "markdown",
   "metadata": {},
   "source": [
    "If the key is not present in the dictionary, you’ll get an exception."
   ]
  },
  {
   "cell_type": "code",
   "execution_count": null,
   "metadata": {},
   "outputs": [],
   "source": [
    "some_pythons['Groucho']"
   ]
  },
  {
   "cell_type": "markdown",
   "metadata": {},
   "source": [
    "There are two good ways to avoid this.The first is to test forthe key at the outset by using in,as you saw in the previous section."
   ]
  },
  {
   "cell_type": "code",
   "execution_count": null,
   "metadata": {},
   "outputs": [],
   "source": [
    "'Groucho' in some_pythons"
   ]
  },
  {
   "cell_type": "markdown",
   "metadata": {},
   "source": [
    "The second is to use the special dictionary get() function. You provide the dictionary, key, and an optional value. If the key exists, you get its value."
   ]
  },
  {
   "cell_type": "code",
   "execution_count": null,
   "metadata": {},
   "outputs": [],
   "source": [
    "some_pythons.get('Terry')"
   ]
  },
  {
   "cell_type": "markdown",
   "metadata": {},
   "source": [
    "If not, you get the optional value, if you specified one."
   ]
  },
  {
   "cell_type": "code",
   "execution_count": null,
   "metadata": {},
   "outputs": [],
   "source": [
    "some_pythons.get('Pavi', 'This key is not defined in the dictionary')"
   ]
  },
  {
   "cell_type": "markdown",
   "metadata": {},
   "source": [
    "Otherwise, you get None (which displays nothing in the interactive interpreter)."
   ]
  },
  {
   "cell_type": "code",
   "execution_count": null,
   "metadata": {},
   "outputs": [],
   "source": [
    "some_pythons.get('Groucho')"
   ]
  },
  {
   "cell_type": "markdown",
   "metadata": {},
   "source": [
    "### Get All Keys with keys() and Get Alll Values with values()\n",
    "You can use keys() to get all of the keys in a dictionary. We’ll use a different sample dictionary for the next few examples:"
   ]
  },
  {
   "cell_type": "code",
   "execution_count": null,
   "metadata": {},
   "outputs": [],
   "source": [
    "signals = {'green': 'Go', 'orange': 'Slow Down Please', 'red': 'Stop'}\n",
    "print(signals.keys())\n",
    "print(signals.values())"
   ]
  },
  {
   "cell_type": "code",
   "execution_count": null,
   "metadata": {},
   "outputs": [],
   "source": [
    "list(signals.keys())"
   ]
  },
  {
   "cell_type": "code",
   "execution_count": null,
   "metadata": {},
   "outputs": [],
   "source": [
    "list(signals.values())"
   ]
  },
  {
   "cell_type": "markdown",
   "metadata": {},
   "source": [
    "### Get All Key-Value Pairs with items()\\\n",
    "\n",
    "When you want to get all the key-value pairs from a dictionary, use the items() function.\n",
    "\n",
    "Each key and value is returned as a tuple, such as ('green', 'go')."
   ]
  },
  {
   "cell_type": "code",
   "execution_count": null,
   "metadata": {
    "scrolled": true
   },
   "outputs": [],
   "source": [
    "list(signals.items())"
   ]
  },
  {
   "cell_type": "markdown",
   "metadata": {},
   "source": [
    "### Get Length with len()\n",
    "* This is used to count key-value pairs"
   ]
  },
  {
   "cell_type": "code",
   "execution_count": null,
   "metadata": {},
   "outputs": [],
   "source": [
    "len(signals)"
   ]
  },
  {
   "cell_type": "markdown",
   "metadata": {},
   "source": [
    "### Combine Dictionaries with {**a, **b}\n",
    "* Starting with Python 3.5, there’s a new way to merge dictionaries, using the ** unicorn glitter"
   ]
  },
  {
   "cell_type": "code",
   "execution_count": null,
   "metadata": {},
   "outputs": [],
   "source": [
    "first = {'a': 'agony', 'b': 'bliss'}\n",
    "second = {'b': 'bagels', 'c': 'candy'}\n",
    "{**first, **second}"
   ]
  },
  {
   "cell_type": "markdown",
   "metadata": {},
   "source": [
    "Actually, you can pass more than two dictionaries."
   ]
  },
  {
   "cell_type": "code",
   "execution_count": null,
   "metadata": {},
   "outputs": [],
   "source": [
    "third = {'d': 'donuts'}"
   ]
  },
  {
   "cell_type": "code",
   "execution_count": null,
   "metadata": {},
   "outputs": [],
   "source": [
    "{**first, **third, **second}"
   ]
  },
  {
   "cell_type": "markdown",
   "metadata": {},
   "source": [
    "* These are shallow copies.See the discussion of deepcopy() \n",
    "* Copy Everything with deepcopy() if you want full copies of the keys and values, with no connection to their origin dictionaries."
   ]
  },
  {
   "cell_type": "markdown",
   "metadata": {},
   "source": [
    "### Combine Dictionaries with update()\n",
    "* You can use the update() function to copy the keys and values of one dictionary into another."
   ]
  },
  {
   "cell_type": "code",
   "execution_count": 14,
   "metadata": {},
   "outputs": [
    {
     "name": "stdout",
     "output_type": "stream",
     "text": [
      "{'Chapman': 'Graham', 'Cleese': 'John', 'Gilliam': 'Terry', 'Idle': 'Eric', 'Jones': 'Terry', 'Palin': 'Michael'}\n",
      "{'Marx': 'Groucho', 'Howard': 'Moe'}\n",
      "{'Chapman': 'Graham', 'Cleese': 'John', 'Gilliam': 'Terry', 'Idle': 'Eric', 'Jones': 'Terry', 'Palin': 'Michael', 'Marx': 'Groucho', 'Howard': 'Moe'}\n"
     ]
    }
   ],
   "source": [
    "pythons = {\n",
    "'Chapman': 'Graham',\n",
    "'Cleese': 'John',\n",
    "'Gilliam': 'Terry',\n",
    "'Idle': 'Eric',\n",
    "'Jones': 'Terry',\n",
    "'Palin': 'Michael',\n",
    "}\n",
    "print(pythons)\n",
    "\n",
    "others = { 'Marx': 'Groucho', 'Howard': 'Moe' }\n",
    "print(others)\n",
    "\n",
    "pythons.update(others)\n",
    "print(pythons)"
   ]
  },
  {
   "cell_type": "markdown",
   "metadata": {},
   "source": [
    "What happens if the second dictionary has the same key as the dictionary into which it’s being merged? The value from the second dictionary wins:"
   ]
  },
  {
   "cell_type": "code",
   "execution_count": 15,
   "metadata": {},
   "outputs": [
    {
     "data": {
      "text/plain": [
       "{'a': 1, 'b': 'platypus'}"
      ]
     },
     "execution_count": 15,
     "metadata": {},
     "output_type": "execute_result"
    }
   ],
   "source": [
    "first = {'a': 1, 'b': 2}\n",
    "second = {'b': 'platypus'}\n",
    "first.update(second)\n",
    "first"
   ]
  },
  {
   "cell_type": "markdown",
   "metadata": {},
   "source": [
    "### Delete an Item by Key with del"
   ]
  },
  {
   "cell_type": "code",
   "execution_count": 16,
   "metadata": {},
   "outputs": [
    {
     "name": "stdout",
     "output_type": "stream",
     "text": [
      "{'Chapman': 'Graham', 'Cleese': 'John', 'Gilliam': 'Terry', 'Idle': 'Eric', 'Jones': 'Terry', 'Palin': 'Michael', 'Marx': 'Groucho', 'Howard': 'Moe'}\n",
      "{'Chapman': 'Graham', 'Cleese': 'John', 'Gilliam': 'Terry', 'Idle': 'Eric', 'Jones': 'Terry', 'Palin': 'Michael', 'Howard': 'Moe'}\n"
     ]
    }
   ],
   "source": [
    "print(pythons)\n",
    "del pythons['Marx']\n",
    "print(pythons)"
   ]
  },
  {
   "cell_type": "code",
   "execution_count": 17,
   "metadata": {},
   "outputs": [
    {
     "name": "stdout",
     "output_type": "stream",
     "text": [
      "{'Chapman': 'Graham', 'Cleese': 'John', 'Gilliam': 'Terry', 'Idle': 'Eric', 'Jones': 'Terry', 'Palin': 'Michael', 'Howard': 'Moe'}\n",
      "{'Chapman': 'Graham', 'Cleese': 'John', 'Gilliam': 'Terry', 'Idle': 'Eric', 'Jones': 'Terry', 'Palin': 'Michael'}\n"
     ]
    }
   ],
   "source": [
    "print(pythons)\n",
    "del pythons['Howard']\n",
    "print(pythons)"
   ]
  },
  {
   "cell_type": "markdown",
   "metadata": {},
   "source": [
    "### Get an Item by Key and Delete It with pop()\n",
    "This combines get() and del. If you give pop() a key and it exists in the dictionary, it returns the matching value and deletes the key-value pair. If it doesn’t exist, it raises an exception."
   ]
  },
  {
   "cell_type": "code",
   "execution_count": 18,
   "metadata": {},
   "outputs": [
    {
     "name": "stdout",
     "output_type": "stream",
     "text": [
      "6\n"
     ]
    }
   ],
   "source": [
    "print(len(pythons))"
   ]
  },
  {
   "cell_type": "code",
   "execution_count": 19,
   "metadata": {},
   "outputs": [
    {
     "name": "stdout",
     "output_type": "stream",
     "text": [
      "5\n",
      "{'Chapman': 'Graham', 'Cleese': 'John', 'Gilliam': 'Terry', 'Idle': 'Eric', 'Jones': 'Terry'}\n"
     ]
    }
   ],
   "source": [
    "pythons.pop('Palin')\n",
    "print(len(pythons))\n",
    "print(pythons)"
   ]
  },
  {
   "cell_type": "markdown",
   "metadata": {},
   "source": [
    "### Delete All Items with clear()\n",
    "To delete all keys and values from a dictionary, use clear() or just reassign an empty dictionary ({}) to the name."
   ]
  },
  {
   "cell_type": "code",
   "execution_count": 20,
   "metadata": {},
   "outputs": [
    {
     "name": "stdout",
     "output_type": "stream",
     "text": [
      "{}\n"
     ]
    }
   ],
   "source": [
    "pythons.clear()\n",
    "print(pythons)"
   ]
  },
  {
   "cell_type": "markdown",
   "metadata": {},
   "source": [
    "### Test for a Key with in\n",
    "# Analyse the below example carefully."
   ]
  },
  {
   "cell_type": "code",
   "execution_count": 21,
   "metadata": {},
   "outputs": [
    {
     "name": "stdout",
     "output_type": "stream",
     "text": [
      "{'Chapman': 'Graham', 'Cleese': 'John', 'Jones': 'Terry', 'Palin': 'Michael', 'Idle': 'Eric'}\n"
     ]
    }
   ],
   "source": [
    "pythons = {'Chapman': 'Graham', 'Cleese': 'John', 'Jones': 'Terry', 'Palin': 'Michael', 'Idle': 'Eric'}\n",
    "print(pythons)"
   ]
  },
  {
   "cell_type": "code",
   "execution_count": 27,
   "metadata": {},
   "outputs": [
    {
     "data": {
      "text/plain": [
       "True"
      ]
     },
     "execution_count": 27,
     "metadata": {},
     "output_type": "execute_result"
    }
   ],
   "source": [
    "'Chapman' in pythons"
   ]
  },
  {
   "cell_type": "code",
   "execution_count": 29,
   "metadata": {},
   "outputs": [
    {
     "data": {
      "text/plain": [
       "True"
      ]
     },
     "execution_count": 29,
     "metadata": {},
     "output_type": "execute_result"
    }
   ],
   "source": [
    "'Graham' in pythons.values()"
   ]
  },
  {
   "cell_type": "markdown",
   "metadata": {},
   "source": [
    "### Assign with =\n",
    "As with lists, if you make a change to a dictionary, it will be reflected in all the names that refer to it."
   ]
  },
  {
   "cell_type": "code",
   "execution_count": 33,
   "metadata": {},
   "outputs": [
    {
     "data": {
      "text/plain": [
       "{'green': 'go',\n",
       " 'yellow': 'go faster',\n",
       " 'red': 'smile for the camera',\n",
       " 'blue': 'confuse everyone'}"
      ]
     },
     "execution_count": 33,
     "metadata": {},
     "output_type": "execute_result"
    }
   ],
   "source": [
    "signals = {'green': 'go', 'yellow': 'go faster', 'red': 'smile for the camera'}\n",
    "save_signals = signals\n",
    "signals['blue'] = 'confuse everyone' # Adding a key value to the dict signals\n",
    "save_signals # As you can see here that the adding operating has added the new key value to save_signals as well "
   ]
  },
  {
   "cell_type": "code",
   "execution_count": 35,
   "metadata": {},
   "outputs": [
    {
     "name": "stdout",
     "output_type": "stream",
     "text": [
      "2493804287224\n",
      "2493804287224\n"
     ]
    }
   ],
   "source": [
    "print(id(signals))\n",
    "print(id(save_signals))\n",
    "# Now you see why save_signals got changed when adding a key value to signals"
   ]
  },
  {
   "cell_type": "markdown",
   "metadata": {},
   "source": [
    "### Copy with copy()\n",
    "To actually copy keys and values from a dictionary to another dictionary and avoid this, you can use copy().\n",
    "\n",
    "This is a shallow copy, and works if the dictionary values are immutable (as they are in this case). If they aren’t, you need deepcopy()."
   ]
  },
  {
   "cell_type": "code",
   "execution_count": 37,
   "metadata": {},
   "outputs": [
    {
     "name": "stdout",
     "output_type": "stream",
     "text": [
      "{'green': 'go', 'yellow': 'go faster', 'red': 'smile for the camera', 'blue': 'confuse everyone'}\n",
      "{'green': 'go', 'yellow': 'go faster', 'red': 'smile for the camera'}\n",
      "2493804616824\n",
      "2493803150536\n"
     ]
    }
   ],
   "source": [
    "signals = {'green': 'go', 'yellow': 'go faster', 'red': 'smile for the camera'}\n",
    "original_signals = signals.copy()\n",
    "signals['blue'] = 'confuse everyone'\n",
    "print(signals)\n",
    "print(original_signals)\n",
    "print(id(signals))\n",
    "print(id(original_signals))"
   ]
  },
  {
   "cell_type": "markdown",
   "metadata": {},
   "source": [
    "### Copy Everything with deepcopy()"
   ]
  },
  {
   "cell_type": "code",
   "execution_count": 38,
   "metadata": {},
   "outputs": [
    {
     "name": "stdout",
     "output_type": "stream",
     "text": [
      "{'green': 'go', 'yellow': 'go faster', 'red': ['stop', 'smile']}\n",
      "{'green': 'go', 'yellow': 'go faster', 'red': ['stop', 'smile']}\n"
     ]
    }
   ],
   "source": [
    "signals = {'green': 'go', 'yellow': 'go faster', 'red': ['stop', 'smile']}\n",
    "signals_copy = signals.copy()\n",
    "print(signals)\n",
    "print(signals_copy)"
   ]
  },
  {
   "cell_type": "code",
   "execution_count": 39,
   "metadata": {},
   "outputs": [
    {
     "name": "stdout",
     "output_type": "stream",
     "text": [
      "{'green': 'go', 'yellow': 'go faster', 'red': ['stop', 'sweat']}\n",
      "{'green': 'go', 'yellow': 'go faster', 'red': ['stop', 'sweat']}\n"
     ]
    }
   ],
   "source": [
    "# Let’s change one of the values in the red list:\n",
    "signals['red'][1] = 'sweat'\n",
    "print(signals)\n",
    "print(signals_copy)"
   ]
  },
  {
   "cell_type": "markdown",
   "metadata": {},
   "source": [
    "##### You see in the above example, the second value of red also got changed. In order to avoid this we use deepcopy."
   ]
  },
  {
   "cell_type": "code",
   "execution_count": 42,
   "metadata": {},
   "outputs": [
    {
     "name": "stdout",
     "output_type": "stream",
     "text": [
      "{'green': 'go', 'yellow': 'go faster', 'red': ['stop', 'smile']}\n",
      "{'green': 'go', 'yellow': 'go faster', 'red': ['stop', 'smile']}\n",
      "2493811111000\n",
      "2493803150536\n"
     ]
    }
   ],
   "source": [
    "import copy\n",
    "signals = {'green': 'go', 'yellow': 'go faster', 'red': ['stop', 'smile']}\n",
    "signals_copy = copy.deepcopy(signals)\n",
    "print(signals)\n",
    "print(signals_copy)\n",
    "print(id(signals))\n",
    "print(id(original_signals))"
   ]
  },
  {
   "cell_type": "markdown",
   "metadata": {},
   "source": [
    "##### You see the id for the two dictionaries now. They are different. Now if you change the value on one dict, the change will not reflect on the other."
   ]
  },
  {
   "cell_type": "code",
   "execution_count": 43,
   "metadata": {},
   "outputs": [
    {
     "name": "stdout",
     "output_type": "stream",
     "text": [
      "{'green': 'go', 'yellow': 'go faster', 'red': ['stop', 'sweat']}\n",
      "{'green': 'go', 'yellow': 'go faster', 'red': ['stop', 'smile']}\n"
     ]
    }
   ],
   "source": [
    "signals['red'][1] = 'sweat'\n",
    "print(signals)\n",
    "print(signals_copy)"
   ]
  },
  {
   "cell_type": "markdown",
   "metadata": {},
   "source": [
    "### Compare Dictionaries\n",
    "Much like lists and tuples in the previous chapter, dictionaries can be compared with the simple comparison operators == and !=.\n",
    "\n",
    "However do note that other operations do not work."
   ]
  },
  {
   "cell_type": "code",
   "execution_count": 46,
   "metadata": {},
   "outputs": [
    {
     "name": "stdout",
     "output_type": "stream",
     "text": [
      "True\n",
      "True\n"
     ]
    }
   ],
   "source": [
    "a = {1:1, 2:2, 3:3}\n",
    "b = {3:3, 1:1, 2:2}\n",
    "c = {4:4, 1:1, 2:2}\n",
    "print(a == b)\n",
    "print(a != c)"
   ]
  },
  {
   "cell_type": "code",
   "execution_count": 47,
   "metadata": {},
   "outputs": [
    {
     "ename": "TypeError",
     "evalue": "'<=' not supported between instances of 'dict' and 'dict'",
     "output_type": "error",
     "traceback": [
      "\u001b[1;31m---------------------------------------------------------------------------\u001b[0m",
      "\u001b[1;31mTypeError\u001b[0m                                 Traceback (most recent call last)",
      "\u001b[1;32m<ipython-input-47-e416744be035>\u001b[0m in \u001b[0;36m<module>\u001b[1;34m\u001b[0m\n\u001b[0;32m      1\u001b[0m \u001b[1;31m# Other operations do not work\u001b[0m\u001b[1;33m\u001b[0m\u001b[1;33m\u001b[0m\u001b[1;33m\u001b[0m\u001b[0m\n\u001b[1;32m----> 2\u001b[1;33m \u001b[0ma\u001b[0m \u001b[1;33m<=\u001b[0m \u001b[0mb\u001b[0m\u001b[1;33m\u001b[0m\u001b[1;33m\u001b[0m\u001b[0m\n\u001b[0m",
      "\u001b[1;31mTypeError\u001b[0m: '<=' not supported between instances of 'dict' and 'dict'"
     ]
    }
   ],
   "source": [
    "# Other operations do not work\n",
    "a <= b"
   ]
  },
  {
   "cell_type": "markdown",
   "metadata": {},
   "source": [
    "Python compares the keys and values one by one. The order in which they were originally created doesn’t matter. In this example, a and b are equal, except key 1 has the list value [1, 2] in a and the list value [1, 1] in b."
   ]
  },
  {
   "cell_type": "code",
   "execution_count": 48,
   "metadata": {},
   "outputs": [
    {
     "data": {
      "text/plain": [
       "False"
      ]
     },
     "execution_count": 48,
     "metadata": {},
     "output_type": "execute_result"
    }
   ],
   "source": [
    "a = {1: [1, 2], 2: [1], 3:[1]}\n",
    "b = {1: [1, 1], 2: [1], 3:[1]}\n",
    "a == b"
   ]
  },
  {
   "cell_type": "markdown",
   "metadata": {},
   "source": [
    "### Iterate with for and in\n",
    "* Iterating over a dictionary(or its keys() function) returns the keys."
   ]
  },
  {
   "cell_type": "code",
   "execution_count": 49,
   "metadata": {},
   "outputs": [
    {
     "name": "stdout",
     "output_type": "stream",
     "text": [
      "a\n",
      "b\n",
      "c\n"
     ]
    }
   ],
   "source": [
    "alphabets = {'a' : 'apple', 'b' : 'ball', 'c' : 'colours'}\n",
    "for letters in alphabets:\n",
    "    print(letters)\n",
    "# You see the result. It returns only the keys explicitly.\n",
    "# See the next example of how to print the values"
   ]
  },
  {
   "cell_type": "markdown",
   "metadata": {},
   "source": [
    "##### To iterate over the values rather than the keys, you use the dictionary’s values() function"
   ]
  },
  {
   "cell_type": "code",
   "execution_count": 50,
   "metadata": {},
   "outputs": [
    {
     "name": "stdout",
     "output_type": "stream",
     "text": [
      "apple\n",
      "ball\n",
      "colours\n"
     ]
    }
   ],
   "source": [
    "alphabets = {'a' : 'apple', 'b' : 'ball', 'c' : 'colours'}\n",
    "for words in alphabets.values():\n",
    "    print(words)"
   ]
  },
  {
   "cell_type": "markdown",
   "metadata": {},
   "source": [
    "##### To return both the key and value as a tuple, you can use the items() function:"
   ]
  },
  {
   "cell_type": "code",
   "execution_count": 51,
   "metadata": {},
   "outputs": [
    {
     "name": "stdout",
     "output_type": "stream",
     "text": [
      "('a', 'apple')\n",
      "('b', 'ball')\n",
      "('c', 'colours')\n"
     ]
    }
   ],
   "source": [
    "for item in alphabets.items():\n",
    "    print(item)"
   ]
  },
  {
   "cell_type": "code",
   "execution_count": 53,
   "metadata": {},
   "outputs": [
    {
     "data": {
      "text/plain": [
       "dict_items([('a', 'apple'), ('b', 'ball'), ('c', 'colours')])"
      ]
     },
     "execution_count": 53,
     "metadata": {},
     "output_type": "execute_result"
    }
   ],
   "source": [
    "alphabets.items()"
   ]
  },
  {
   "cell_type": "markdown",
   "metadata": {},
   "source": [
    "##### You can assign to a tuple in one step. For each tuple returned by items(), assign the first value (the key) to card, and the second (the value) to contents:"
   ]
  },
  {
   "cell_type": "code",
   "execution_count": 54,
   "metadata": {},
   "outputs": [
    {
     "name": "stdout",
     "output_type": "stream",
     "text": [
      "a for apple\n",
      "b for ball\n",
      "c for colours\n"
     ]
    }
   ],
   "source": [
    "for letter, word in alphabets.items():\n",
    "    print(letter, 'for', word)"
   ]
  },
  {
   "cell_type": "markdown",
   "metadata": {},
   "source": [
    "### Dictionary Comprehensions\n",
    "dictionaries also have comprehensions. The simplest form looks familiar:\n",
    "\n",
    "<i><b>{key_expression : value_expression for expression in iterable}</b></i>"
   ]
  },
  {
   "cell_type": "code",
   "execution_count": 55,
   "metadata": {},
   "outputs": [
    {
     "data": {
      "text/plain": [
       "{'e': 2, 'l': 1, 'p': 1, 'h': 1, 'a': 1, 'n': 1, 't': 1}"
      ]
     },
     "execution_count": 55,
     "metadata": {},
     "output_type": "execute_result"
    }
   ],
   "source": [
    "word = 'elephant'\n",
    "letter_count = {letter: word.count(letter) for letter in word}\n",
    "letter_count"
   ]
  },
  {
   "cell_type": "markdown",
   "metadata": {},
   "source": [
    "##### Similar to list comprehensions, dictionary comprehensions can also have if tests and multiple for clauses.\n",
    "\n",
    "<b><i>{key_expression : value_expression for expression in iterable if condition}</i><b>"
   ]
  },
  {
   "cell_type": "code",
   "execution_count": 56,
   "metadata": {},
   "outputs": [
    {
     "data": {
      "text/plain": [
       "{'i': 1, 'e': 1, 'a': 2, 'o': 4}"
      ]
     },
     "execution_count": 56,
     "metadata": {},
     "output_type": "execute_result"
    }
   ],
   "source": [
    "vowels = 'aeiou'\n",
    "word = 'onomatopoeia'\n",
    "vowel_count = {letter: word.count(letter) for letter in set(word) if letter in vowels}\n",
    "vowel_count"
   ]
  }
 ],
 "metadata": {
  "kernelspec": {
   "display_name": "Python 3",
   "language": "python",
   "name": "python3"
  },
  "language_info": {
   "codemirror_mode": {
    "name": "ipython",
    "version": 3
   },
   "file_extension": ".py",
   "mimetype": "text/x-python",
   "name": "python",
   "nbconvert_exporter": "python",
   "pygments_lexer": "ipython3",
   "version": "3.7.7"
  }
 },
 "nbformat": 4,
 "nbformat_minor": 4
}
