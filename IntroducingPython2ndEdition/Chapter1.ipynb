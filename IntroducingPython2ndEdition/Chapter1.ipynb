{
 "cells": [
  {
   "cell_type": "code",
   "execution_count": 1,
   "metadata": {},
   "outputs": [
    {
     "name": "stdout",
     "output_type": "stream",
     "text": [
      "Curly says: Nyuk nyuk!\n"
     ]
    }
   ],
   "source": [
    "quotes = {    \n",
    "    \"Moe\": \"A wise guy, huh?\",    \n",
    "    \"Larry\": \"Ow!\",    \n",
    "    \"Curly\": \"Nyuk nyuk!\"    \n",
    "}\n",
    "stooge = \"Curly\"\n",
    "print(stooge, \"says:\", quotes[stooge])"
   ]
  },
  {
   "cell_type": "code",
   "execution_count": 4,
   "metadata": {},
   "outputs": [
    {
     "name": "stdout",
     "output_type": "stream",
     "text": [
      "Let's find an old website.\n",
      "Type a website URL: www.google.com\n",
      "Type a year, month, and day, like 20150613: 19900101\n",
      "Found this copy:  http://web.archive.org/web/19981111184551/http://google.com:80/\n",
      "It should appear in your browser now.\n"
     ]
    }
   ],
   "source": [
    "import webbrowser \n",
    "import json \n",
    "from urllib.request import urlopen \n",
    "\n",
    "print(\"Let's find an old website.\")\n",
    "site = input(\"Type a website URL: \") \n",
    "era = input(\"Type a year, month, and day, like 20150613: \")\n",
    "url = \"http://archive.org/wayback/available?url=%s&timestamp=%s\" % (site, era)\n",
    "response = urlopen(url)\n",
    "contents = response.read()\n",
    "text = contents.decode(\"utf-8\")\n",
    "data = json.loads(text)\n",
    "try:\n",
    "    old_site = data[\"archived_snapshots\"][\"closest\"][\"url\"]\n",
    "    print(\"Found this copy: \", old_site)     \n",
    "    print(\"It should appear in your browser now.\")     \n",
    "    webbrowser.open(old_site) \n",
    "except:     \n",
    "    print(\"Sorry, no luck finding\", site)"
   ]
  }
 ],
 "metadata": {
  "kernelspec": {
   "display_name": "Python 3",
   "language": "python",
   "name": "python3"
  },
  "language_info": {
   "codemirror_mode": {
    "name": "ipython",
    "version": 3
   },
   "file_extension": ".py",
   "mimetype": "text/x-python",
   "name": "python",
   "nbconvert_exporter": "python",
   "pygments_lexer": "ipython3",
   "version": "3.7.7"
  }
 },
 "nbformat": 4,
 "nbformat_minor": 4
}
