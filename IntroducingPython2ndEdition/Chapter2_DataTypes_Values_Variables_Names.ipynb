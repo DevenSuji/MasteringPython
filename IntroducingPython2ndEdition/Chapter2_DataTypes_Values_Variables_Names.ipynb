{
 "cells": [
  {
   "cell_type": "markdown",
   "metadata": {},
   "source": [
    "# <u>Python Object</u>\n",
    "#### In Python, an object is a chunck of data that contains at least the following:\n",
    "* A <b><u><i>TYPE</i></u></b> that defines what it can do.\n",
    "* A <b><u><i>UNIQUE ID</i></u></b> to distinguish it from others.\n",
    "* A <b><u><i>VALUE</i></u></b> consistent with its type.\n",
    "* A <b><u><i>REFERENCE COUNT</i></u></b> that tracks how often this object is used."
   ]
  },
  {
   "cell_type": "markdown",
   "metadata": {},
   "source": [
    "## <b><u><i>Data Types</i></u></b>\n",
    "|Name|Type|Mutable?|Examples|\n",
    "|----|----|--------|--------|\n",
    "|Boolean|bool|no|True,False|\n",
    "|Integer|int|no|47, 25000, 25_000|\n",
    "|Floating point|float|no|3.14, 2.7e5|\n",
    "|Complex|complex|no|3j, 5 + 9j|\n",
    "|Text string|str|no|'alas', \"alack\", '''a verse attack'''|\n",
    "|List|list|yes|['Winken', 'Blinken', 'Nod']|\n",
    "|Tuple|tuple|no|(2, 4, 8)|\n",
    "|Bytes|bytes|no|b'ab\\xff'|\n",
    "|ByteArray|bytearray|yes|bytearray(...)|\n",
    "|Set|set|yes|set([3, 5, 7])|\n",
    "|Frozen set|frozenset|no|frozenset(['Elsa', 'Otto'])|\n",
    "|Dictionary|dict|yes|{'game': 'bingo', 'dog': 'dingo', 'drummer': 'Ringo'}|"
   ]
  },
  {
   "cell_type": "markdown",
   "metadata": {},
   "source": [
    "## <b><u><i>Variables</i></u></b>"
   ]
  },
  {
   "cell_type": "markdown",
   "metadata": {},
   "source": [
    "#### Python,like most computer languages,lets you define variables—names for values in your computer’s memorythat you want to use in a program. Python variable names have some rules:\n",
    "* They can contain only these characters:\n",
    "    * Lowercase letters (a through z)\n",
    "    * Uppercase letters (A through Z)\n",
    "    * Digits (0 through 9)\n",
    "    * Underscore (_)\n",
    "* They are case-sensitive: thing, Thing, and THING aredifferent names.\n",
    "* They must begin with a letter or an underscore, not a digit.\n",
    "* Names that begin with an underscore are treated specially.\n",
    "* They cannot be one of Python’s reserved words (also known as keywords)."
   ]
  },
  {
   "cell_type": "markdown",
   "metadata": {},
   "source": [
    "##### Within a Python program, you can find the reserved words with"
   ]
  },
  {
   "cell_type": "code",
   "execution_count": 3,
   "metadata": {},
   "outputs": [
    {
     "name": "stdout",
     "output_type": "stream",
     "text": [
      "\n",
      "Here is a list of the Python keywords.  Enter any keyword to get more help.\n",
      "\n",
      "False               class               from                or\n",
      "None                continue            global              pass\n",
      "True                def                 if                  raise\n",
      "and                 del                 import              return\n",
      "as                  elif                in                  try\n",
      "assert              else                is                  while\n",
      "async               except              lambda              with\n",
      "await               finally             nonlocal            yield\n",
      "break               for                 not                 \n",
      "\n"
     ]
    }
   ],
   "source": [
    "help('keywords')"
   ]
  },
  {
   "cell_type": "code",
   "execution_count": 4,
   "metadata": {},
   "outputs": [
    {
     "data": {
      "text/plain": [
       "['False',\n",
       " 'None',\n",
       " 'True',\n",
       " 'and',\n",
       " 'as',\n",
       " 'assert',\n",
       " 'async',\n",
       " 'await',\n",
       " 'break',\n",
       " 'class',\n",
       " 'continue',\n",
       " 'def',\n",
       " 'del',\n",
       " 'elif',\n",
       " 'else',\n",
       " 'except',\n",
       " 'finally',\n",
       " 'for',\n",
       " 'from',\n",
       " 'global',\n",
       " 'if',\n",
       " 'import',\n",
       " 'in',\n",
       " 'is',\n",
       " 'lambda',\n",
       " 'nonlocal',\n",
       " 'not',\n",
       " 'or',\n",
       " 'pass',\n",
       " 'raise',\n",
       " 'return',\n",
       " 'try',\n",
       " 'while',\n",
       " 'with',\n",
       " 'yield']"
      ]
     },
     "execution_count": 4,
     "metadata": {},
     "output_type": "execute_result"
    }
   ],
   "source": [
    "import keyword\n",
    "keyword.kwlist"
   ]
  },
  {
   "cell_type": "markdown",
   "metadata": {},
   "source": [
    "##### In Python, if you want to know the type of anything(a variable or a literal value),you can use type(thing).type() is one of Python’s built-in functions.If you want to check whether a variable points to an object ofa specific type, use isinstance(type):"
   ]
  },
  {
   "cell_type": "code",
   "execution_count": 5,
   "metadata": {},
   "outputs": [
    {
     "data": {
      "text/plain": [
       "int"
      ]
     },
     "execution_count": 5,
     "metadata": {},
     "output_type": "execute_result"
    }
   ],
   "source": [
    "type(7)"
   ]
  },
  {
   "cell_type": "code",
   "execution_count": 6,
   "metadata": {},
   "outputs": [
    {
     "data": {
      "text/plain": [
       "True"
      ]
     },
     "execution_count": 6,
     "metadata": {},
     "output_type": "execute_result"
    }
   ],
   "source": [
    "type(7) == int"
   ]
  },
  {
   "cell_type": "code",
   "execution_count": 7,
   "metadata": {},
   "outputs": [
    {
     "data": {
      "text/plain": [
       "True"
      ]
     },
     "execution_count": 7,
     "metadata": {},
     "output_type": "execute_result"
    }
   ],
   "source": [
    "isinstance(7, int)"
   ]
  },
  {
   "cell_type": "code",
   "execution_count": 8,
   "metadata": {},
   "outputs": [
    {
     "name": "stdout",
     "output_type": "stream",
     "text": [
      "<class 'int'>\n",
      "<class 'int'>\n",
      "<class 'int'>\n",
      "<class 'float'>\n",
      "<class 'str'>\n"
     ]
    }
   ],
   "source": [
    "a = 7\n",
    "b = a\n",
    "print(type(a))\n",
    "print(type(b))\n",
    "print(type(58))\n",
    "print(type(99.99))\n",
    "print(type('abc'))"
   ]
  },
  {
   "cell_type": "markdown",
   "metadata": {},
   "source": [
    "##### You can assign a value to more than one variable nameat the same time:"
   ]
  },
  {
   "cell_type": "code",
   "execution_count": 9,
   "metadata": {},
   "outputs": [
    {
     "name": "stdout",
     "output_type": "stream",
     "text": [
      "2\n",
      "2\n",
      "2\n"
     ]
    }
   ],
   "source": [
    "two = deux = zwei = 2\n",
    "print(two)\n",
    "print(deux)\n",
    "print(zwei)"
   ]
  },
  {
   "cell_type": "code",
   "execution_count": 10,
   "metadata": {},
   "outputs": [
    {
     "name": "stdout",
     "output_type": "stream",
     "text": [
      "[2, 4, 6]\n",
      "[2, 4, 6]\n"
     ]
    }
   ],
   "source": [
    "a = [2, 4, 6]\n",
    "b = a\n",
    "print(a)\n",
    "print(b)"
   ]
  },
  {
   "cell_type": "code",
   "execution_count": 11,
   "metadata": {},
   "outputs": [
    {
     "name": "stdout",
     "output_type": "stream",
     "text": [
      "[99, 4, 6]\n",
      "[99, 4, 6]\n"
     ]
    }
   ],
   "source": [
    "a[0] = 99\n",
    "print(a)\n",
    "print(b)"
   ]
  }
 ],
 "metadata": {
  "kernelspec": {
   "display_name": "Python 3",
   "language": "python",
   "name": "python3"
  },
  "language_info": {
   "codemirror_mode": {
    "name": "ipython",
    "version": 3
   },
   "file_extension": ".py",
   "mimetype": "text/x-python",
   "name": "python",
   "nbconvert_exporter": "python",
   "pygments_lexer": "ipython3",
   "version": "3.7.7"
  }
 },
 "nbformat": 4,
 "nbformat_minor": 4
}
