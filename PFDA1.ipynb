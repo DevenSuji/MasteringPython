{
  "nbformat": 4,
  "nbformat_minor": 0,
  "metadata": {
    "colab": {
      "name": "PFDA1.ipynb",
      "provenance": [],
      "collapsed_sections": [],
      "include_colab_link": true
    },
    "kernelspec": {
      "name": "python3",
      "display_name": "Python 3"
    }
  },
  "cells": [
    {
      "cell_type": "markdown",
      "metadata": {
        "id": "view-in-github",
        "colab_type": "text"
      },
      "source": [
        "<a href=\"https://colab.research.google.com/github/DevenSuji/MasteringPython/blob/master/PFDA1.ipynb\" target=\"_parent\"><img src=\"https://colab.research.google.com/assets/colab-badge.svg\" alt=\"Open In Colab\"/></a>"
      ]
    },
    {
      "cell_type": "markdown",
      "metadata": {
        "id": "iKNaJTs2zyLH",
        "colab_type": "text"
      },
      "source": [
        "# Writing A File "
      ]
    },
    {
      "cell_type": "code",
      "metadata": {
        "id": "OH5Y3Go4wtt2",
        "colab_type": "code",
        "colab": {
          "base_uri": "https://localhost:8080/",
          "height": 34
        },
        "outputId": "c8ce2d73-5e71-4184-9b3f-9d0399fa02e9"
      },
      "source": [
        "cd /content/sample_data/JunkData"
      ],
      "execution_count": 2,
      "outputs": [
        {
          "output_type": "stream",
          "text": [
            "/content/sample_data/JunkData\n"
          ],
          "name": "stdout"
        }
      ]
    },
    {
      "cell_type": "code",
      "metadata": {
        "id": "8lV-8ubWw-yi",
        "colab_type": "code",
        "colab": {
          "base_uri": "https://localhost:8080/",
          "height": 35
        },
        "outputId": "67732ee1-5dc1-4823-e7cf-701c5cd9db8f"
      },
      "source": [
        "pwd"
      ],
      "execution_count": 3,
      "outputs": [
        {
          "output_type": "execute_result",
          "data": {
            "application/vnd.google.colaboratory.intrinsic": {
              "type": "string"
            },
            "text/plain": [
              "'/content/sample_data/JunkData'"
            ]
          },
          "metadata": {
            "tags": []
          },
          "execution_count": 3
        }
      ]
    },
    {
      "cell_type": "code",
      "metadata": {
        "id": "udAA7rB_xAoj",
        "colab_type": "code",
        "colab": {}
      },
      "source": [
        "ls"
      ],
      "execution_count": 4,
      "outputs": []
    },
    {
      "cell_type": "code",
      "metadata": {
        "id": "WqJBeHlTxC77",
        "colab_type": "code",
        "colab": {}
      },
      "source": [
        "with open('accounts.txt', mode='w') as accounts:\n",
        "  accounts.write('100 Jones 24.98\\n')\n",
        "  accounts.write('200 Doe 345.67\\n')\n",
        "  accounts.write('300 White 0.00\\n')\n",
        "  accounts.write('400 Stone -42.16\\n')\n",
        "  accounts.write('500 Rich 224.62\\n')"
      ],
      "execution_count": 5,
      "outputs": []
    },
    {
      "cell_type": "code",
      "metadata": {
        "id": "wQUrJn8YxrB9",
        "colab_type": "code",
        "colab": {
          "base_uri": "https://localhost:8080/",
          "height": 34
        },
        "outputId": "7620f4aa-44a8-4c03-b850-96da9147c241"
      },
      "source": [
        "!ls"
      ],
      "execution_count": 6,
      "outputs": [
        {
          "output_type": "stream",
          "text": [
            "accounts.txt\n"
          ],
          "name": "stdout"
        }
      ]
    },
    {
      "cell_type": "code",
      "metadata": {
        "id": "tDpl7oUlxxtA",
        "colab_type": "code",
        "colab": {
          "base_uri": "https://localhost:8080/",
          "height": 101
        },
        "outputId": "348e0e46-1683-4ee8-8f19-df11eb53212a"
      },
      "source": [
        "!cat accounts.txt"
      ],
      "execution_count": 7,
      "outputs": [
        {
          "output_type": "stream",
          "text": [
            "100 Jones 24.98\n",
            "200 Doe 345.67\n",
            "300 White 0.00\n",
            "400 Stone -42.16\n",
            "500 Rich 224.62\n"
          ],
          "name": "stdout"
        }
      ]
    },
    {
      "cell_type": "markdown",
      "metadata": {
        "id": "JcgdtZGTx2AQ",
        "colab_type": "text"
      },
      "source": [
        "# Self Check\n",
        "### Create a grades.txt file and write to it the following three records consisting of student IDs, ;ast names and letter frades:\n",
        "* 1 Red A\n",
        "* 2 Green B\n",
        "* 3 White A\n"
      ]
    },
    {
      "cell_type": "code",
      "metadata": {
        "id": "9ExwT6M-y02r",
        "colab_type": "code",
        "colab": {}
      },
      "source": [
        "with open('grades.txt', mode='w') as grades:\n",
        "  grades.write('1 Red A\\n')\n",
        "  grades.write('2 Green B\\n')\n",
        "  grades.write('3 White C\\n')"
      ],
      "execution_count": 11,
      "outputs": []
    },
    {
      "cell_type": "code",
      "metadata": {
        "id": "e8-676EQzrBN",
        "colab_type": "code",
        "colab": {
          "base_uri": "https://localhost:8080/",
          "height": 67
        },
        "outputId": "399146e6-1b6e-4243-f061-161be843d1fd"
      },
      "source": [
        "!cat grades.txt"
      ],
      "execution_count": 12,
      "outputs": [
        {
          "output_type": "stream",
          "text": [
            "1 Red A\n",
            "2 Green B\n",
            "3 White C\n"
          ],
          "name": "stdout"
        }
      ]
    },
    {
      "cell_type": "markdown",
      "metadata": {
        "id": "Flw91QHD0BRx",
        "colab_type": "text"
      },
      "source": [
        "# Reading A File"
      ]
    },
    {
      "cell_type": "code",
      "metadata": {
        "id": "Pp84bp1c0AiQ",
        "colab_type": "code",
        "colab": {
          "base_uri": "https://localhost:8080/",
          "height": 118
        },
        "outputId": "69f6ccfc-9cf0-443f-9cbe-9626ad593802"
      },
      "source": [
        "with open('accounts.txt', mode='r') as accounts:\n",
        "  print (f'{\"Account\":<10}{\"Name\":<10}{\"Balance\":>10}')\n",
        "  for record in accounts:\n",
        "    account, name, balance = record.split()\n",
        "    print(f'{account:<10}{name:<10}{balance:>10}')"
      ],
      "execution_count": 13,
      "outputs": [
        {
          "output_type": "stream",
          "text": [
            "Account   Name         Balance\n",
            "100       Jones          24.98\n",
            "200       Doe           345.67\n",
            "300       White           0.00\n",
            "400       Stone         -42.16\n",
            "500       Rich          224.62\n"
          ],
          "name": "stdout"
        }
      ]
    },
    {
      "cell_type": "code",
      "metadata": {
        "id": "hFwujel2Car6",
        "colab_type": "code",
        "colab": {
          "base_uri": "https://localhost:8080/",
          "height": 34
        },
        "outputId": "69586bc3-63f1-4518-e2ee-c9135d01c510"
      },
      "source": [
        ""
      ],
      "execution_count": 25,
      "outputs": [
        {
          "output_type": "stream",
          "text": [
            "/bin/bash: kubeadm: command not found\n"
          ],
          "name": "stdout"
        }
      ]
    },
    {
      "cell_type": "markdown",
      "metadata": {
        "id": "loBRpu_gCHm_",
        "colab_type": "text"
      },
      "source": [
        "# Self Check\n",
        "* Read the file grades.txt that you created in the previous section's self check and display it in columns with the heads 'ID', 'Name' and 'Grade'."
      ]
    },
    {
      "cell_type": "code",
      "metadata": {
        "id": "sUrzNvhPHgAX",
        "colab_type": "code",
        "colab": {
          "base_uri": "https://localhost:8080/",
          "height": 84
        },
        "outputId": "55882b5f-ecf8-4db7-f52a-3b83cbd5a226"
      },
      "source": [
        "with open('grades.txt', mode='r') as grades:\n",
        "  print(f'{\"ID\":<10}{\"Name\":<10}{\"Grade\":>10}')\n",
        "  for grade in grades:\n",
        "    ID, Name, Grade = grade.split()\n",
        "    print(f'{ID:<10}{Name:<10}{Grade:>10}')"
      ],
      "execution_count": 28,
      "outputs": [
        {
          "output_type": "stream",
          "text": [
            "ID        Name           Grade\n",
            "1         Red                A\n",
            "2         Green              B\n",
            "3         White              C\n"
          ],
          "name": "stdout"
        }
      ]
    },
    {
      "cell_type": "markdown",
      "metadata": {
        "id": "x1diTbYqJE1i",
        "colab_type": "text"
      },
      "source": [
        "# Updating Text Files"
      ]
    },
    {
      "cell_type": "code",
      "metadata": {
        "id": "gveGt7y2JLKz",
        "colab_type": "code",
        "colab": {}
      },
      "source": [
        "accounts = open('accounts.txt', 'r')"
      ],
      "execution_count": 39,
      "outputs": []
    },
    {
      "cell_type": "code",
      "metadata": {
        "id": "pFt2mjR6JahA",
        "colab_type": "code",
        "colab": {}
      },
      "source": [
        "temp_file = open('temp_file.txt', 'w')"
      ],
      "execution_count": 40,
      "outputs": []
    },
    {
      "cell_type": "code",
      "metadata": {
        "id": "_pFNdRcmJmPR",
        "colab_type": "code",
        "colab": {}
      },
      "source": [
        "with accounts, temp_file:\n",
        "  for record in accounts:\n",
        "    account, name, balance = record.split()\n",
        "    if account != '300':\n",
        "      temp_file.write(record)\n",
        "    else:\n",
        "      new_record = ' '.join([account, 'Williams', balance])\n",
        "      temp_file.write(new_record + '\\n')"
      ],
      "execution_count": 41,
      "outputs": []
    },
    {
      "cell_type": "code",
      "metadata": {
        "id": "eRlTxZtbLi_Z",
        "colab_type": "code",
        "colab": {
          "base_uri": "https://localhost:8080/",
          "height": 101
        },
        "outputId": "891788fa-5d4c-4d7f-894d-3190f8f1e345"
      },
      "source": [
        "!cat accounts.txt"
      ],
      "execution_count": 48,
      "outputs": [
        {
          "output_type": "stream",
          "text": [
            "100 Jones 24.98\n",
            "200 Doe 345.67\n",
            "300 Williams 0.00\n",
            "400 Stone -42.16\n",
            "500 Rich 224.62\n"
          ],
          "name": "stdout"
        }
      ]
    },
    {
      "cell_type": "code",
      "metadata": {
        "id": "AzfrYb2CLncr",
        "colab_type": "code",
        "colab": {
          "base_uri": "https://localhost:8080/",
          "height": 34
        },
        "outputId": "e8bcff63-2a39-45cb-be0a-d60ed02f9803"
      },
      "source": [
        "!cat temp_file.txt"
      ],
      "execution_count": 47,
      "outputs": [
        {
          "output_type": "stream",
          "text": [
            "cat: temp_file.txt: No such file or directory\n"
          ],
          "name": "stdout"
        }
      ]
    },
    {
      "cell_type": "code",
      "metadata": {
        "id": "m_n5YjctLuaV",
        "colab_type": "code",
        "colab": {}
      },
      "source": [
        "import os"
      ],
      "execution_count": 44,
      "outputs": []
    },
    {
      "cell_type": "code",
      "metadata": {
        "id": "tA1VVF69LyTM",
        "colab_type": "code",
        "colab": {}
      },
      "source": [
        "os.remove('accounts.txt')"
      ],
      "execution_count": 45,
      "outputs": []
    },
    {
      "cell_type": "code",
      "metadata": {
        "id": "cUZot1rhL51T",
        "colab_type": "code",
        "colab": {}
      },
      "source": [
        "os.rename('temp_file.txt', 'accounts.txt')"
      ],
      "execution_count": 46,
      "outputs": []
    },
    {
      "cell_type": "markdown",
      "metadata": {
        "id": "zo5tqqMsMR1K",
        "colab_type": "text"
      },
      "source": [
        "# Self Check\n",
        "* In the accounts.txt file, update the last name 'Doe' to 'Smith,"
      ]
    },
    {
      "cell_type": "code",
      "metadata": {
        "id": "ER1SIl-VMD_M",
        "colab_type": "code",
        "colab": {}
      },
      "source": [
        "accounts = open('accounts.txt', 'r')"
      ],
      "execution_count": 49,
      "outputs": []
    },
    {
      "cell_type": "code",
      "metadata": {
        "id": "hD_ITM27Mlg8",
        "colab_type": "code",
        "colab": {}
      },
      "source": [
        "accounts_temp = open('accounts_temp.txt', 'w')"
      ],
      "execution_count": 50,
      "outputs": []
    },
    {
      "cell_type": "code",
      "metadata": {
        "id": "kyqRdY_iMt_Y",
        "colab_type": "code",
        "colab": {}
      },
      "source": [
        "with accounts, accounts_temp:\n",
        "  for record in accounts:\n",
        "    account, name, balance = record.split()\n",
        "    if account != '200':\n",
        "      accounts_temp.write(record)\n",
        "    else:\n",
        "      new_record = ' '.join([account, 'Smith', balance])\n",
        "      accounts_temp.write(new_record + '\\n')"
      ],
      "execution_count": 51,
      "outputs": []
    },
    {
      "cell_type": "code",
      "metadata": {
        "id": "-XMsd4UZNKo-",
        "colab_type": "code",
        "colab": {}
      },
      "source": [
        "os.remove('accounts.txt')"
      ],
      "execution_count": 53,
      "outputs": []
    },
    {
      "cell_type": "code",
      "metadata": {
        "id": "ERNxgT79NUCP",
        "colab_type": "code",
        "colab": {}
      },
      "source": [
        "os.rename('accounts_temp.txt', 'accounts.txt')"
      ],
      "execution_count": 54,
      "outputs": []
    },
    {
      "cell_type": "code",
      "metadata": {
        "id": "OuU6hDjmNYWB",
        "colab_type": "code",
        "colab": {
          "base_uri": "https://localhost:8080/",
          "height": 101
        },
        "outputId": "e49c9f86-3f38-4c55-9af6-d581628dc18e"
      },
      "source": [
        "!cat accounts.txt"
      ],
      "execution_count": 55,
      "outputs": [
        {
          "output_type": "stream",
          "text": [
            "100 Jones 24.98\n",
            "200 Smith 345.67\n",
            "300 Williams 0.00\n",
            "400 Stone -42.16\n",
            "500 Rich 224.62\n"
          ],
          "name": "stdout"
        }
      ]
    },
    {
      "cell_type": "code",
      "metadata": {
        "id": "RE2Dus-_OpJ6",
        "colab_type": "code",
        "colab": {
          "base_uri": "https://localhost:8080/",
          "height": 34
        },
        "outputId": "eb3cf1c5-24cc-4782-f495-e6fd3575c1da"
      },
      "source": [
        "!git init"
      ],
      "execution_count": 56,
      "outputs": [
        {
          "output_type": "stream",
          "text": [
            "Initialized empty Git repository in /content/sample_data/JunkData/.git/\n"
          ],
          "name": "stdout"
        }
      ]
    },
    {
      "cell_type": "code",
      "metadata": {
        "id": "oznkFTxzOtd7",
        "colab_type": "code",
        "colab": {}
      },
      "source": [
        "!git config --global user.email \"DevenSuji@live.com\""
      ],
      "execution_count": 60,
      "outputs": []
    },
    {
      "cell_type": "code",
      "metadata": {
        "id": "DZ22VRGxPL8T",
        "colab_type": "code",
        "colab": {}
      },
      "source": [
        "!git config --global user.name \"DevenSuji\""
      ],
      "execution_count": 61,
      "outputs": []
    },
    {
      "cell_type": "code",
      "metadata": {
        "id": "XJ1100CfPbZt",
        "colab_type": "code",
        "colab": {
          "base_uri": "https://localhost:8080/",
          "height": 134
        },
        "outputId": "409294de-d916-4ed8-8e9b-fedcfb98b657"
      },
      "source": [
        "!git clone https://github.com/DevenSuji/MasteringPython.git"
      ],
      "execution_count": 63,
      "outputs": [
        {
          "output_type": "stream",
          "text": [
            "Cloning into 'MasteringPython'...\n",
            "remote: Enumerating objects: 1082, done.\u001b[K\n",
            "remote: Counting objects: 100% (1082/1082), done.\u001b[K\n",
            "remote: Compressing objects: 100% (353/353), done.\u001b[K\n",
            "remote: Total 1082 (delta 737), reused 1048 (delta 708), pack-reused 0\u001b[K\n",
            "Receiving objects: 100% (1082/1082), 14.34 MiB | 26.66 MiB/s, done.\n",
            "Resolving deltas: 100% (737/737), done.\n"
          ],
          "name": "stdout"
        }
      ]
    },
    {
      "cell_type": "code",
      "metadata": {
        "id": "Fx1tRlcVPvnx",
        "colab_type": "code",
        "colab": {
          "base_uri": "https://localhost:8080/",
          "height": 252
        },
        "outputId": "4ee72ba0-70e5-4e01-b7f2-6c56781fdc1c"
      },
      "source": [
        "!git add --all"
      ],
      "execution_count": 68,
      "outputs": [
        {
          "output_type": "stream",
          "text": [
            "warning: adding embedded git repository: MasteringPython\n",
            "hint: You've added another git repository inside your current repository.\n",
            "hint: Clones of the outer repository will not contain the contents of\n",
            "hint: the embedded repository and will not know how to obtain it.\n",
            "hint: If you meant to add a submodule, use:\n",
            "hint: \n",
            "hint: \tgit submodule add <url> MasteringPython\n",
            "hint: \n",
            "hint: If you added this path by mistake, you can remove it from the\n",
            "hint: index with:\n",
            "hint: \n",
            "hint: \tgit rm --cached MasteringPython\n",
            "hint: \n",
            "hint: See \"git help submodule\" for more information.\n"
          ],
          "name": "stdout"
        }
      ]
    },
    {
      "cell_type": "code",
      "metadata": {
        "id": "k4bSMW42QEOy",
        "colab_type": "code",
        "colab": {
          "base_uri": "https://localhost:8080/",
          "height": 118
        },
        "outputId": "09f9ab77-226c-4fd9-c04a-746334db049b"
      },
      "source": [
        "!git commit -m \"First Commit from Google COLABS\""
      ],
      "execution_count": 69,
      "outputs": [
        {
          "output_type": "stream",
          "text": [
            "[master (root-commit) bf9c3fb] First Commit from Google COLABS\n",
            " 4 files changed, 9 insertions(+)\n",
            " create mode 160000 MasteringPython\n",
            " create mode 100644 accounts.txt\n",
            " create mode 100644 grades.txt\n",
            " create mode 100755 script.py\n"
          ],
          "name": "stdout"
        }
      ]
    },
    {
      "cell_type": "code",
      "metadata": {
        "id": "hJHPcmwnQM0-",
        "colab_type": "code",
        "colab": {
          "base_uri": "https://localhost:8080/",
          "height": 168
        },
        "outputId": "c66cd06e-93f3-4963-ca26-fe39e2eb3c35"
      },
      "source": [
        "!git push"
      ],
      "execution_count": 71,
      "outputs": [
        {
          "output_type": "stream",
          "text": [
            "fatal: No configured push destination.\n",
            "Either specify the URL from the command-line or configure a remote repository using\n",
            "\n",
            "    git remote add <name> <url>\n",
            "\n",
            "and then push using the remote name\n",
            "\n",
            "    git push <name>\n",
            "\n"
          ],
          "name": "stdout"
        }
      ]
    }
  ]
}