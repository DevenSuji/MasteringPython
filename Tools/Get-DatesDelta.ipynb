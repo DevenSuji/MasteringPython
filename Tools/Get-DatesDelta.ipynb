{
 "cells": [
  {
   "cell_type": "markdown",
   "metadata": {},
   "source": [
    "# Getting the difference in dates\n",
    "### The below code will give us difference of dates between any two dates."
   ]
  },
  {
   "cell_type": "code",
   "execution_count": 5,
   "metadata": {
    "tags": []
   },
   "outputs": [
    {
     "output_type": "stream",
     "name": "stdout",
     "text": "1826\n"
    }
   ],
   "source": [
    "from datetime import date\n",
    "f_date = date(2020, 7, 16)\n",
    "l_date = date(2025, 7, 16)\n",
    "delta = l_date - f_date\n",
    "print(delta.days)"
   ]
  }
 ],
 "metadata": {
  "language_info": {
   "codemirror_mode": {
    "name": "ipython",
    "version": 3
   },
   "file_extension": ".py",
   "mimetype": "text/x-python",
   "name": "python",
   "nbconvert_exporter": "python",
   "pygments_lexer": "ipython3",
   "version": "3.8.2-final"
  },
  "orig_nbformat": 2,
  "kernelspec": {
   "name": "python38264bit2472454288054193a39fc81468cfa85d",
   "display_name": "Python 3.8.2 64-bit"
  }
 },
 "nbformat": 4,
 "nbformat_minor": 2
}