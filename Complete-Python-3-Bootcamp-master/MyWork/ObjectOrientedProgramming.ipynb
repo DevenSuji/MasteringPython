{
 "metadata": {
  "language_info": {
   "codemirror_mode": {
    "name": "ipython",
    "version": 3
   },
   "file_extension": ".py",
   "mimetype": "text/x-python",
   "name": "python",
   "nbconvert_exporter": "python",
   "pygments_lexer": "ipython3",
   "version": "3.9.0-final"
  },
  "orig_nbformat": 2,
  "kernelspec": {
   "name": "python3",
   "display_name": "Python 3",
   "language": "python"
  }
 },
 "nbformat": 4,
 "nbformat_minor": 2,
 "cells": [
  {
   "source": [
    "# <u>Object Oriented Programming</u>\n",
    "+ Uses camel casing where every letter in a word is Capitalized. e.g. NameOfClass"
   ],
   "cell_type": "markdown",
   "metadata": {}
  },
  {
   "cell_type": "code",
   "execution_count": 32,
   "metadata": {},
   "outputs": [],
   "source": [
    "# SYNTAX\n",
    "class Dog():\n",
    "    \n",
    "    # CLASS OBJECT ATTRIBUTE\n",
    "    # SAME FOR ANY INSTANCE OF THE DOG CLASS\n",
    "    # NO NEED TO USE SELF HERE\n",
    "    species = 'mammal'\n",
    "\n",
    "    def __init__(self,breed,name,colour,age):\n",
    "\n",
    "        self.breed = breed\n",
    "        self.name = name\n",
    "        self.colour = colour\n",
    "        self.age = age\n",
    "\n",
    "    # OPERATIONS AND ACTIONS (METHODS)\n",
    "\n",
    "    def bark(self):\n",
    "        print(\"WOOLF!!! My name is {}\".format(self.name))"
   ]
  },
  {
   "cell_type": "code",
   "execution_count": 33,
   "metadata": {},
   "outputs": [],
   "source": [
    "my_dog = Dog(breed='Mudhol Hound',name='Tiger',colour='Black',age='3 months')"
   ]
  },
  {
   "cell_type": "code",
   "execution_count": 22,
   "metadata": {},
   "outputs": [
    {
     "output_type": "execute_result",
     "data": {
      "text/plain": [
       "__main__.Dog"
      ]
     },
     "metadata": {},
     "execution_count": 22
    }
   ],
   "source": [
    "type(my_dog)"
   ]
  },
  {
   "cell_type": "code",
   "execution_count": 24,
   "metadata": {},
   "outputs": [
    {
     "output_type": "execute_result",
     "data": {
      "text/plain": [
       "'Mudhol Hound'"
      ]
     },
     "metadata": {},
     "execution_count": 24
    }
   ],
   "source": [
    "my_dog.breed"
   ]
  },
  {
   "cell_type": "code",
   "execution_count": 25,
   "metadata": {},
   "outputs": [
    {
     "output_type": "execute_result",
     "data": {
      "text/plain": [
       "'Tiger'"
      ]
     },
     "metadata": {},
     "execution_count": 25
    }
   ],
   "source": [
    "my_dog.name"
   ]
  },
  {
   "cell_type": "code",
   "execution_count": 26,
   "metadata": {},
   "outputs": [
    {
     "output_type": "execute_result",
     "data": {
      "text/plain": [
       "'Black'"
      ]
     },
     "metadata": {},
     "execution_count": 26
    }
   ],
   "source": [
    "my_dog.colour"
   ]
  },
  {
   "cell_type": "code",
   "execution_count": 27,
   "metadata": {},
   "outputs": [
    {
     "output_type": "execute_result",
     "data": {
      "text/plain": [
       "'3 months'"
      ]
     },
     "metadata": {},
     "execution_count": 27
    }
   ],
   "source": [
    "my_dog.age"
   ]
  },
  {
   "cell_type": "code",
   "execution_count": 23,
   "metadata": {},
   "outputs": [
    {
     "output_type": "execute_result",
     "data": {
      "text/plain": [
       "'mammal'"
      ]
     },
     "metadata": {},
     "execution_count": 23
    }
   ],
   "source": [
    "my_dog.species"
   ]
  },
  {
   "source": [
    "## Methods\n",
    "+ Methods are basically the functions defined inside the body of the class.\n",
    "+ They are used to perform operations that sometimes utilize the actual attributes of the object that we created."
   ],
   "cell_type": "markdown",
   "metadata": {}
  },
  {
   "cell_type": "code",
   "execution_count": 34,
   "metadata": {},
   "outputs": [
    {
     "output_type": "stream",
     "name": "stdout",
     "text": [
      "WOOLF!!! My name is Tiger\n"
     ]
    }
   ],
   "source": [
    "my_dog.bark()"
   ]
  },
  {
   "cell_type": "code",
   "execution_count": 35,
   "metadata": {},
   "outputs": [],
   "source": [
    "# Passing an external argument\n",
    "# note that this attribute is not defined in the class, still we are able to pass it.\n",
    "# SYNTAX\n",
    "class Dog():\n",
    "    \n",
    "    # CLASS OBJECT ATTRIBUTE\n",
    "    # SAME FOR ANY INSTANCE OF THE DOG CLASS\n",
    "    # NO NEED TO USE SELF HERE\n",
    "    species = 'mammal'\n",
    "\n",
    "    def __init__(self,breed,name,colour,age):\n",
    "\n",
    "        self.breed = breed\n",
    "        self.name = name\n",
    "        self.colour = colour\n",
    "        self.age = age\n",
    "\n",
    "    # OPERATIONS AND ACTIONS (METHODS)\n",
    "\n",
    "    def bark(self,number):\n",
    "        print(\"WOOLF!!! My name is {} and the number is {}\".format(self.name,number))\n",
    "\n",
    "my_dog = Dog(breed='Mudhol Hound',name='Tiger',colour='Black',age='3 months')\n",
    "\n"
   ]
  },
  {
   "cell_type": "code",
   "execution_count": 37,
   "metadata": {},
   "outputs": [
    {
     "output_type": "stream",
     "name": "stdout",
     "text": [
      "WOOLF!!! My name is Tiger and the number is 3\n"
     ]
    }
   ],
   "source": [
    "my_dog.bark(3)"
   ]
  },
  {
   "cell_type": "code",
   "execution_count": 51,
   "metadata": {},
   "outputs": [],
   "source": [
    "class Circle():\n",
    "    # Defining the Class Object Attribute\n",
    "    import math\n",
    "    pie = math.pi\n",
    "\n",
    "    def __init__(self,radius=1):\n",
    "\n",
    "        self.radius = radius\n",
    "        self.area = radius * radius * self.pie\n",
    "\n",
    "    # Method\n",
    "    def circumference(self):\n",
    "        return self.radius * self.pie * 2 \n"
   ]
  },
  {
   "cell_type": "code",
   "execution_count": 52,
   "metadata": {},
   "outputs": [],
   "source": [
    "my_circle = Circle(30)"
   ]
  },
  {
   "cell_type": "code",
   "execution_count": 53,
   "metadata": {},
   "outputs": [
    {
     "output_type": "execute_result",
     "data": {
      "text/plain": [
       "188.49555921538757"
      ]
     },
     "metadata": {},
     "execution_count": 53
    }
   ],
   "source": [
    "my_circle.circumference()"
   ]
  },
  {
   "cell_type": "code",
   "execution_count": 54,
   "metadata": {},
   "outputs": [
    {
     "output_type": "execute_result",
     "data": {
      "text/plain": [
       "2827.4333882308138"
      ]
     },
     "metadata": {},
     "execution_count": 54
    }
   ],
   "source": [
    "my_circle.area"
   ]
  }
 ]
}