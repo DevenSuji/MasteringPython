{
 "metadata": {
  "language_info": {
   "codemirror_mode": {
    "name": "ipython",
    "version": 3
   },
   "file_extension": ".py",
   "mimetype": "text/x-python",
   "name": "python",
   "nbconvert_exporter": "python",
   "pygments_lexer": "ipython3",
   "version": "3.9.0-final"
  },
  "orig_nbformat": 2,
  "kernelspec": {
   "name": "python3",
   "display_name": "Python 3",
   "language": "python"
  }
 },
 "nbformat": 4,
 "nbformat_minor": 2,
 "cells": [
  {
   "source": [
    "# <u>Web Scraping</u>"
   ],
   "cell_type": "markdown",
   "metadata": {}
  },
  {
   "cell_type": "code",
   "execution_count": 69,
   "metadata": {},
   "outputs": [],
   "source": [
    "import requests"
   ]
  },
  {
   "cell_type": "code",
   "execution_count": 71,
   "metadata": {},
   "outputs": [],
   "source": [
    "result = requests.get(\"http://www.example.com\")"
   ]
  },
  {
   "cell_type": "code",
   "execution_count": 73,
   "metadata": {},
   "outputs": [
    {
     "output_type": "execute_result",
     "data": {
      "text/plain": [
       "requests.models.Response"
      ]
     },
     "metadata": {},
     "execution_count": 73
    }
   ],
   "source": [
    "type(result)"
   ]
  },
  {
   "cell_type": "code",
   "execution_count": 75,
   "metadata": {},
   "outputs": [
    {
     "output_type": "execute_result",
     "data": {
      "text/plain": [
       "'<!doctype html>\\n<html>\\n<head>\\n    <title>Example Domain</title>\\n\\n    <meta charset=\"utf-8\" />\\n    <meta http-equiv=\"Content-type\" content=\"text/html; charset=utf-8\" />\\n    <meta name=\"viewport\" content=\"width=device-width, initial-scale=1\" />\\n    <style type=\"text/css\">\\n    body {\\n        background-color: #f0f0f2;\\n        margin: 0;\\n        padding: 0;\\n        font-family: -apple-system, system-ui, BlinkMacSystemFont, \"Segoe UI\", \"Open Sans\", \"Helvetica Neue\", Helvetica, Arial, sans-serif;\\n        \\n    }\\n    div {\\n        width: 600px;\\n        margin: 5em auto;\\n        padding: 2em;\\n        background-color: #fdfdff;\\n        border-radius: 0.5em;\\n        box-shadow: 2px 3px 7px 2px rgba(0,0,0,0.02);\\n    }\\n    a:link, a:visited {\\n        color: #38488f;\\n        text-decoration: none;\\n    }\\n    @media (max-width: 700px) {\\n        div {\\n            margin: 0 auto;\\n            width: auto;\\n        }\\n    }\\n    </style>    \\n</head>\\n\\n<body>\\n<div>\\n    <h1>Example Domain</h1>\\n    <p>This domain is for use in illustrative examples in documents. You may use this\\n    domain in literature without prior coordination or asking for permission.</p>\\n    <p><a href=\"https://www.iana.org/domains/example\">More information...</a></p>\\n</div>\\n</body>\\n</html>\\n'"
      ]
     },
     "metadata": {},
     "execution_count": 75
    }
   ],
   "source": [
    "result.text"
   ]
  },
  {
   "cell_type": "code",
   "execution_count": 164,
   "metadata": {},
   "outputs": [],
   "source": [
    "import bs4"
   ]
  },
  {
   "cell_type": "code",
   "execution_count": 79,
   "metadata": {},
   "outputs": [],
   "source": [
    "soup = bs4.BeautifulSoup(result.text,'lxml')"
   ]
  },
  {
   "cell_type": "code",
   "execution_count": 81,
   "metadata": {},
   "outputs": [
    {
     "output_type": "execute_result",
     "data": {
      "text/plain": [
       "<!DOCTYPE html>\n",
       "<html>\n",
       "<head>\n",
       "<title>Example Domain</title>\n",
       "<meta charset=\"utf-8\"/>\n",
       "<meta content=\"text/html; charset=utf-8\" http-equiv=\"Content-type\"/>\n",
       "<meta content=\"width=device-width, initial-scale=1\" name=\"viewport\"/>\n",
       "<style type=\"text/css\">\n",
       "    body {\n",
       "        background-color: #f0f0f2;\n",
       "        margin: 0;\n",
       "        padding: 0;\n",
       "        font-family: -apple-system, system-ui, BlinkMacSystemFont, \"Segoe UI\", \"Open Sans\", \"Helvetica Neue\", Helvetica, Arial, sans-serif;\n",
       "        \n",
       "    }\n",
       "    div {\n",
       "        width: 600px;\n",
       "        margin: 5em auto;\n",
       "        padding: 2em;\n",
       "        background-color: #fdfdff;\n",
       "        border-radius: 0.5em;\n",
       "        box-shadow: 2px 3px 7px 2px rgba(0,0,0,0.02);\n",
       "    }\n",
       "    a:link, a:visited {\n",
       "        color: #38488f;\n",
       "        text-decoration: none;\n",
       "    }\n",
       "    @media (max-width: 700px) {\n",
       "        div {\n",
       "            margin: 0 auto;\n",
       "            width: auto;\n",
       "        }\n",
       "    }\n",
       "    </style>\n",
       "</head>\n",
       "<body>\n",
       "<div>\n",
       "<h1>Example Domain</h1>\n",
       "<p>This domain is for use in illustrative examples in documents. You may use this\n",
       "    domain in literature without prior coordination or asking for permission.</p>\n",
       "<p><a href=\"https://www.iana.org/domains/example\">More information...</a></p>\n",
       "</div>\n",
       "</body>\n",
       "</html>"
      ]
     },
     "metadata": {},
     "execution_count": 81
    }
   ],
   "source": [
    "soup"
   ]
  },
  {
   "cell_type": "code",
   "execution_count": 83,
   "metadata": {},
   "outputs": [
    {
     "output_type": "execute_result",
     "data": {
      "text/plain": [
       "[<p>This domain is for use in illustrative examples in documents. You may use this\n",
       "     domain in literature without prior coordination or asking for permission.</p>,\n",
       " <p><a href=\"https://www.iana.org/domains/example\">More information...</a></p>]"
      ]
     },
     "metadata": {},
     "execution_count": 83
    }
   ],
   "source": [
    "soup.select('p')"
   ]
  },
  {
   "cell_type": "code",
   "execution_count": 85,
   "metadata": {},
   "outputs": [
    {
     "output_type": "execute_result",
     "data": {
      "text/plain": [
       "[<title>Example Domain</title>]"
      ]
     },
     "metadata": {},
     "execution_count": 85
    }
   ],
   "source": [
    "soup.select('title')"
   ]
  },
  {
   "cell_type": "code",
   "execution_count": 87,
   "metadata": {},
   "outputs": [
    {
     "output_type": "execute_result",
     "data": {
      "text/plain": [
       "[<h1>Example Domain</h1>]"
      ]
     },
     "metadata": {},
     "execution_count": 87
    }
   ],
   "source": [
    "soup.select('h1')"
   ]
  },
  {
   "cell_type": "code",
   "execution_count": 89,
   "metadata": {},
   "outputs": [
    {
     "output_type": "execute_result",
     "data": {
      "text/plain": [
       "'Example Domain'"
      ]
     },
     "metadata": {},
     "execution_count": 89
    }
   ],
   "source": [
    "soup.select('title')[0].getText()"
   ]
  },
  {
   "cell_type": "code",
   "execution_count": 91,
   "metadata": {},
   "outputs": [],
   "source": [
    "site_paragraphs = soup.select('p')"
   ]
  },
  {
   "cell_type": "code",
   "execution_count": 93,
   "metadata": {},
   "outputs": [
    {
     "output_type": "execute_result",
     "data": {
      "text/plain": [
       "'This domain is for use in illustrative examples in documents. You may use this\\n    domain in literature without prior coordination or asking for permission.'"
      ]
     },
     "metadata": {},
     "execution_count": 93
    }
   ],
   "source": [
    "site_paragraphs[0].getText()"
   ]
  },
  {
   "cell_type": "code",
   "execution_count": 95,
   "metadata": {},
   "outputs": [],
   "source": [
    "req = requests.get('https://en.wikipedia.org/wiki/Narendra_Modi')"
   ]
  },
  {
   "cell_type": "code",
   "execution_count": 97,
   "metadata": {},
   "outputs": [],
   "source": [
    "soup = bs4.BeautifulSoup(req.text,'lxml')"
   ]
  },
  {
   "cell_type": "code",
   "execution_count": 99,
   "metadata": {},
   "outputs": [
    {
     "output_type": "execute_result",
     "data": {
      "text/plain": [
       "[<span class=\"toctext\">Early life and education</span>,\n",
       " <span class=\"toctext\">Early political career</span>,\n",
       " <span class=\"toctext\">Chief Minister of Gujarat</span>,\n",
       " <span class=\"toctext\">Taking office</span>,\n",
       " <span class=\"toctext\">2002 Gujarat riots</span>,\n",
       " <span class=\"toctext\">2002 election</span>,\n",
       " <span class=\"toctext\">Second term</span>,\n",
       " <span class=\"toctext\">Development projects</span>,\n",
       " <span class=\"toctext\">Development debate</span>,\n",
       " <span class=\"toctext\">Final years</span>,\n",
       " <span class=\"toctext\">Premiership campaigns</span>,\n",
       " <span class=\"toctext\">2014 Indian general election</span>,\n",
       " <span class=\"toctext\">2019 Indian general election</span>,\n",
       " <span class=\"toctext\">Prime Minister</span>,\n",
       " <span class=\"toctext\">Governance and other initiatives</span>,\n",
       " <span class=\"toctext\">Economic policy</span>,\n",
       " <span class=\"toctext\">Health and sanitation</span>,\n",
       " <span class=\"toctext\">Hindutva</span>,\n",
       " <span class=\"toctext\">Foreign policy</span>,\n",
       " <span class=\"toctext\">Defence policy</span>,\n",
       " <span class=\"toctext\">Environmental policy</span>,\n",
       " <span class=\"toctext\">Personal life and image</span>,\n",
       " <span class=\"toctext\">Personal life</span>,\n",
       " <span class=\"toctext\">Approval ratings</span>,\n",
       " <span class=\"toctext\">Awards and recognition</span>,\n",
       " <span class=\"toctext\">State honours</span>,\n",
       " <span class=\"toctext\">Bibliography</span>,\n",
       " <span class=\"toctext\">Notes</span>,\n",
       " <span class=\"toctext\">References</span>,\n",
       " <span class=\"toctext\">Further reading</span>,\n",
       " <span class=\"toctext\">External links</span>]"
      ]
     },
     "metadata": {},
     "execution_count": 99
    }
   ],
   "source": [
    "soup.select('.toctext')"
   ]
  },
  {
   "cell_type": "code",
   "execution_count": 101,
   "metadata": {},
   "outputs": [
    {
     "output_type": "execute_result",
     "data": {
      "text/plain": [
       "'Early life and education'"
      ]
     },
     "metadata": {},
     "execution_count": 101
    }
   ],
   "source": [
    "soup.select('.toctext')[0].text"
   ]
  },
  {
   "cell_type": "code",
   "execution_count": 103,
   "metadata": {},
   "outputs": [
    {
     "output_type": "stream",
     "name": "stdout",
     "text": [
      "Early life and education\nEarly political career\nChief Minister of Gujarat\nTaking office\n2002 Gujarat riots\n2002 election\nSecond term\nDevelopment projects\nDevelopment debate\nFinal years\nPremiership campaigns\n2014 Indian general election\n2019 Indian general election\nPrime Minister\nGovernance and other initiatives\nEconomic policy\nHealth and sanitation\nHindutva\nForeign policy\nDefence policy\nEnvironmental policy\nPersonal life and image\nPersonal life\nApproval ratings\nAwards and recognition\nState honours\nBibliography\nNotes\nReferences\nFurther reading\nExternal links\n"
     ]
    }
   ],
   "source": [
    "for item in soup.select('.toctext'):\n",
    "    print(item.text)"
   ]
  },
  {
   "source": [
    "# Grabbing an Image from any WebSite"
   ],
   "cell_type": "markdown",
   "metadata": {}
  },
  {
   "cell_type": "code",
   "execution_count": 105,
   "metadata": {},
   "outputs": [],
   "source": [
    "import requests\n",
    "\n",
    "res = requests.get('https://en.wikipedia.org/wiki/Deep_Blue_(chess_computer)')"
   ]
  },
  {
   "cell_type": "code",
   "execution_count": 107,
   "metadata": {},
   "outputs": [
    {
     "output_type": "execute_result",
     "data": {
      "text/plain": [
       "avigation\">\n",
       "<h3 id=\"p-tb-label\">\n",
       "<span>Tools</span>\n",
       "</h3>\n",
       "<div class=\"vector-menu-content\">\n",
       "<ul class=\"vector-menu-content-list\"><li id=\"t-whatlinkshere\"><a accesskey=\"j\" href=\"/wiki/Special:WhatLinksHere/Deep_Blue_(chess_computer)\" title=\"List of all English Wikipedia pages containing links to this page [j]\">What links here</a></li><li id=\"t-recentchangeslinked\"><a accesskey=\"k\" href=\"/wiki/Special:RecentChangesLinked/Deep_Blue_(chess_computer)\" rel=\"nofollow\" title=\"Recent changes in pages linked from this page [k]\">Related changes</a></li><li id=\"t-upload\"><a accesskey=\"u\" href=\"/wiki/Wikipedia:File_Upload_Wizard\" title=\"Upload files [u]\">Upload file</a></li><li id=\"t-specialpages\"><a accesskey=\"q\" href=\"/wiki/Special:SpecialPages\" title=\"A list of all special pages [q]\">Special pages</a></li><li id=\"t-permalink\"><a href=\"/w/index.php?title=Deep_Blue_(chess_computer)&amp;oldid=997841645\" title=\"Permanent link to this revision of this page\">Permanent link</a></li><li id=\"t-info\"><a href=\"/w/index.php?title=Deep_Blue_(chess_computer)&amp;action=info\" title=\"More information about this page\">Page information</a></li><li id=\"t-cite\"><a href=\"/w/index.php?title=Special:CiteThisPage&amp;page=Deep_Blue_%28chess_computer%29&amp;id=997841645&amp;wpFormIdentifier=titleform\" title=\"Information on how to cite this page\">Cite this page</a></li><li id=\"t-wikibase\"><a accesskey=\"g\" href=\"https://www.wikidata.org/wiki/Special:EntityPage/Q187899\" title=\"Structured data on this page hosted by Wikidata [g]\">Wikidata item</a></li></ul>\n",
       "</div>\n",
       "</nav>\n",
       "<!-- Please do not use role attribute as CSS selector, it is deprecated. -->\n",
       "<nav aria-labelledby=\"p-coll-print_export-label\" class=\"mw-portlet mw-portlet-coll-print_export vector-menu vector-menu-portal portal\" id=\"p-coll-print_export\" role=\"navigation\">\n",
       "<h3 id=\"p-coll-print_export-label\">\n",
       "<span>Print/export</span>\n",
       "</h3>\n",
       "<div class=\"vector-menu-content\">\n",
       "<ul class=\"vector-menu-content-list\"><li id=\"coll-download-as-rl\"><a href=\"/w/index.php?title=Special:DownloadAsPdf&amp;page=Deep_Blue_%28chess_computer%29&amp;action=show-download-screen\" title=\"Download this page as a PDF file\">Download as PDF</a></li><li id=\"t-print\"><a accesskey=\"p\" href=\"/w/index.php?title=Deep_Blue_(chess_computer)&amp;printable=yes\" title=\"Printable version of this page [p]\">Printable version</a></li></ul>\n",
       "</div>\n",
       "</nav>\n",
       "<!-- Please do not use role attribute as CSS selector, it is deprecated. -->\n",
       "<nav aria-labelledby=\"p-wikibase-otherprojects-label\" class=\"mw-portlet mw-portlet-wikibase-otherprojects vector-menu vector-menu-portal portal\" id=\"p-wikibase-otherprojects\" role=\"navigation\">\n",
       "<h3 id=\"p-wikibase-otherprojects-label\">\n",
       "<span>In other projects</span>\n",
       "</h3>\n",
       "<div class=\"vector-menu-content\">\n",
       "<ul class=\"vector-menu-content-list\"><li class=\"wb-otherproject-link wb-otherproject-commons\"><a href=\"https://commons.wikimedia.org/wiki/Category:Deep_Blue\" hreflang=\"en\">Wikimedia Commons</a></li></ul>\n",
       "</div>\n",
       "</nav>\n",
       "<!-- Please do not use role attribute as CSS selector, it is deprecated. -->\n",
       "<nav aria-labelledby=\"p-lang-label\" class=\"mw-portlet mw-portlet-lang vector-menu vector-menu-portal portal\" id=\"p-lang\" role=\"navigation\">\n",
       "<h3 id=\"p-lang-label\">\n",
       "<span>Languages</span>\n",
       "</h3>\n",
       "<div class=\"vector-menu-content\">\n",
       "<ul class=\"vector-menu-content-list\"><li class=\"interlanguage-link interwiki-ar\"><a class=\"interlanguage-link-target\" href=\"https://ar.wikipedia.org/wiki/%D8%AF%D9%8A%D8%A8_%D8%A8%D9%84%D9%88\" hreflang=\"ar\" lang=\"ar\" title=\"ديب بلو – Arabic\">العربية</a></li><li class=\"interlanguage-link interwiki-az\"><a class=\"interlanguage-link-target\" href=\"https://az.wikipedia.org/wiki/Deep_Blue\" hreflang=\"az\" lang=\"az\" title=\"Deep Blue – Azerbaijani\">Azərbaycanca</a></li><li class=\"interlanguage-link interwiki-bn\"><a class=\"interlanguage-link-target\" href=\"https://bn.wikipedia.org/wiki/%E0%A6%A1%E0%A7%80%E0%A6%AA_%E0%A6%AC%E0%A7%8D%E0%A6%B2%E0%A7%81\" hreflang=\"bn\" lang=\"bn\" title=\"ডীপ ব্লু – Bangla\">বাংলা</a></li><li class=\"interlanguage-link interwiki-be\"><a class=\"interlanguage-link-target\" href=\"https://be.wikipedia.org/wiki/Deep_Blue\" hreflang=\"be\" lang=\"be\" title=\"Deep Blue – Belarusian\">Беларуская</a></li><li class=\"interlanguage-link interwiki-be-x-old\"><a class=\"interlanguage-link-target\" href=\"https://be-tarask.wikipedia.org/wiki/Deep_Blue\" hreflang=\"be-tarask\" lang=\"be-tarask\" title=\"Deep Blue – Belarusian (Taraškievica orthography)\">Беларуская (тарашкевіца)‎</a></li><li class=\"interlanguage-link interwiki-ca\"><a class=\"interlanguage-link-target\" href=\"https://ca.wikipedia.org/wiki/Deep_Blue\" hreflang=\"ca\" lang=\"ca\" title=\"Deep Blue – Catalan\">Català</a></li><li class=\"interlanguage-link interwiki-cs\"><a class=\"interlanguage-link-target\" href=\"https://cs.wikipedia.org/wiki/Deep_Blue\" hreflang=\"cs\" lang=\"cs\" title=\"Deep Blue – Czech\">Čeština</a></li><li class=\"interlanguage-link interwiki-da\"><a class=\"interlanguage-link-target\" href=\"https://da.wikipedia.org/wiki/Deep_Blue\" hreflang=\"da\" lang=\"da\" title=\"Deep Blue – Danish\">Dansk</a></li><li class=\"interlanguage-link interwiki-de\"><a class=\"interlanguage-link-target\" href=\"https://de.wikipedia.org/wiki/Deep_Blue\" hreflang=\"de\" lang=\"de\" title=\"Deep Blue – German\">Deutsch</a></li><li class=\"interlanguage-link interwiki-el\"><a class=\"interlanguage-link-target\" href=\"https://el.wikipedia.org/wiki/Deep_blue\" hreflang=\"el\" lang=\"el\" title=\"Deep blue – Greek\">Ελληνικά</a></li><li class=\"interlanguage-link interwiki-es\"><a class=\"interlanguage-link-target\" href=\"https://es.wikipedia.org/wiki/Deep_Blue_(computadora)\" hreflang=\"es\" lang=\"es\" title=\"Deep Blue (computadora) – Spanish\">Español</a></li><li class=\"interlanguage-link interwiki-eo\"><a class=\"interlanguage-link-target\" href=\"https://eo.wikipedia.org/wiki/Deep_Blue\" hreflang=\"eo\" lang=\"eo\" title=\"Deep Blue – Esperanto\">Esperanto</a></li><li class=\"interlanguage-link interwiki-eu\"><a class=\"interlanguage-link-target\" href=\"https://eu.wikipedia.org/wiki/Deep_Blue\" hreflang=\"eu\" lang=\"eu\" title=\"Deep Blue – Basque\">Euskara</a></li><li class=\"interlanguage-link interwiki-fa\"><a class=\"interlanguage-link-target\" href=\"https://fa.wikipedia.org/wiki/%D8%AF%DB%8C%D9%BE_%D8%A8%D9%84%D9%88\" hreflang=\"fa\" lang=\"fa\" title=\"دیپ بلو – Persian\">فارسی</a></li><li class=\"interlanguage-link interwiki-fr\"><a class=\"interlanguage-link-target\" href=\"https://fr.wikipedia.org/wiki/Deep_Blue\" hreflang=\"fr\" lang=\"fr\" title=\"Deep Blue – French\">Français</a></li><li class=\"interlanguage-link interwiki-gl\"><a class=\"interlanguage-link-target\" href=\"https://gl.wikipedia.org/wiki/Deep_Blue_(computadora)\" hreflang=\"gl\" lang=\"gl\" title=\"Deep Blue (computadora) – Galician\">Galego</a></li><li class=\"interlanguage-link interwiki-ko\"><a class=\"interlanguage-link-target\" href=\"https://ko.wikipedia.org/wiki/%EB%94%A5_%EB%B8%94%EB%A3%A8\" hreflang=\"ko\" lang=\"ko\" title=\"딥 블루 – Korean\">한국어</a></li><li class=\"interlanguage-link interwiki-hy\"><a class=\"interlanguage-link-target\" href=\"https://hy.wikipedia.org/wiki/%D4%B4%D5%AB%D6%83_%D4%B2%D5%AC%D5%B8%D6%82\" hreflang=\"hy\" lang=\"hy\" title=\"Դիփ Բլու – Armenian\">Հայերեն</a></li><li class=\"interlanguage-link interwiki-hr\"><a class=\"interlanguage-link-target\" href=\"https://hr.wikipedia.org/wiki/Deep_Blue\" hreflang=\"hr\" lang=\"hr\" title=\"Deep Blue – Croatian\">Hrvatski</a></li><li class=\"interlanguage-link interwiki-id\"><a class=\"interlanguage-link-target\" href=\"https://id.wikipedia.org/wiki/Deep_Blue\" hreflang=\"id\" lang=\"id\" title=\"Deep Blue – Indonesian\">Bahasa Indonesia</a></li><li class=\"interlanguage-link interwiki-ia\"><a class=\"interlanguage-link-target\" href=\"https://ia.wikipedia.org/wiki/Deep_Blue\" hreflang=\"ia\" lang=\"ia\" title=\"Deep Blue – Interlingua\">Interlingua</a></li><li class=\"interlanguage-link interwiki-is\"><a class=\"interlanguage-link-target\" href=\"https://is.wikipedia.org/wiki/Deep_Blue\" hreflang=\"is\" lang=\"is\" title=\"Deep Blue – Icelandic\">Íslenska</a></li><li class=\"interlanguage-link interwiki-it\"><a class=\"interlanguage-link-target\" href=\"https://it.wikipedia.org/wiki/IBM_Deep_Blue\" hreflang=\"it\" lang=\"it\" title=\"IBM Deep Blue – Italian\">Italiano</a></li><li class=\"interlanguage-link interwiki-he\"><a class=\"interlanguage-link-target\" href=\"https://he.wikipedia.org/wiki/%D7%9B%D7%97%D7%95%D7%9C_%D7%A2%D7%9E%D7%95%D7%A7\" hreflang=\"he\" lang=\"he\" title=\"כחול עמוק – Hebrew\">עברית</a></li><li class=\"interlanguage-link interwiki-jv\"><a class=\"interlanguage-link-target\" href=\"https://jv.wikipedia.org/wiki/Deep_Blue\" hreflang=\"jv\" lang=\"jv\" title=\"Deep Blue – Javanese\">Jawa</a></li><li class=\"interlanguage-link interwiki-kn\"><a class=\"interlanguage-link-target\" href=\"https://kn.wikipedia.org/wiki/%E0%B2%A1%E0%B3%80%E0%B2%AA%E0%B3%8D_%E0%B2%AC%E0%B3%8D%E0%B2%B2%E0%B3%82\" hreflang=\"kn\" lang=\"kn\" title=\"ಡೀಪ್ ಬ್ಲೂ – Kannada\">ಕನ್ನಡ</a></li><li class=\"interlanguage-link interwiki-kk\"><a class=\"interlanguage-link-target\" href=\"https://kk.wikipedia.org/wiki/Deep_Blue_(%D1%88%D0%B0%D1%85%D0%BC%D0%B0%D1%82_%D0%BA%D0%BE%D0%BC%D0%BF%D1%8C%D1%8E%D1%82%D0%B5%D1%80%D1%96)\" hreflang=\"kk\" lang=\"kk\" title=\"Deep Blue (шахмат компьютері) – Kazakh\">Қазақша</a></li><li class=\"interlanguage-link interwiki-lv\"><a class=\"interlanguage-link-target\" href=\"https://lv.wikipedia.org/wiki/Deep_Blue\" hreflang=\"lv\" lang=\"lv\" title=\"Deep Blue – Latvian\">Latviešu</a></li><li class=\"interlanguage-link interwiki-lt\"><a class=\"interlanguage-link-target\" href=\"https://lt.wikipedia.org/wiki/Deep_Blue\" hreflang=\"lt\" lang=\"lt\" title=\"Deep Blue – Lithuanian\">Lietuvių</a></li><li class=\"interlanguage-link interwiki-hu\"><a class=\"interlanguage-link-target\" href=\"https://hu.wikipedia.org/wiki/Deep_Blue\" hreflang=\"hu\" lang=\"hu\" title=\"Deep Blue – Hungarian\">Magyar</a></li><li class=\"interlanguage-link interwiki-mk\"><a class=\"interlanguage-link-target\" href=\"https://mk.wikipedia.org/wiki/IBM_Deep_Blue\" hreflang=\"mk\" lang=\"mk\" title=\"IBM Deep Blue – Macedonian\">Македонски</a></li><li class=\"interlanguage-link interwiki-ml\"><a class=\"interlanguage-link-target\" href=\"https://ml.wikipedia.org/wiki/%E0%B4%A1%E0%B5%80%E0%B4%AA%E0%B5%8D%E0%B4%AA%E0%B5%8D_%E0%B4%AC%E0%B5%8D%E0%B4%B2%E0%B5%82\" hreflang=\"ml\" lang=\"ml\" title=\"ഡീപ്പ് ബ്ലൂ – Malayalam\">മലയാളം</a></li><li class=\"interlanguage-link interwiki-mr\"><a class=\"interlanguage-link-target\" href=\"https://mr.wikipedia.org/wiki/%E0%A4%A1%E0%A5%80%E0%A4%AA_%E0%A4%AC%E0%A5%8D%E0%A4%B2%E0%A5%8D%E0%A4%AF%E0%A5%81_(%E0%A4%AE%E0%A4%B9%E0%A4%BE%E0%A4%B8%E0%A4%82%E0%A4%97%E0%A4%A3%E0%A4%95)\" hreflang=\"mr\" lang=\"mr\" title=\"डीप ब्ल्यु (महासंगणक) – Marathi\">मराठी</a></li><li class=\"interlanguage-link interwiki-ms\"><a class=\"interlanguage-link-target\" href=\"https://ms.wikipedia.org/wiki/Deep_Blue_(komputer_catur)\" hreflang=\"ms\" lang=\"ms\" title=\"Deep Blue (komputer catur) – Malay\">Bahasa Melayu</a></li><li class=\"interlanguage-link interwiki-nl\"><a class=\"interlanguage-link-target\" href=\"https://nl.wikipedia.org/wiki/Deep_Blue\" hreflang=\"nl\" lang=\"nl\" title=\"Deep Blue – Dutch\">Nederlands</a></li><li class=\"interlanguage-link interwiki-ja\"><a class=\"interlanguage-link-target\" href=\"https://ja.wikipedia.org/wiki/%E3%83%87%E3%82%A3%E3%83%BC%E3%83%97%E3%83%BB%E3%83%96%E3%83%AB%E3%83%BC_(%E3%82%B3%E3%83%B3%E3%83%94%E3%83%A5%E3%83%BC%E3%82%BF)\" hreflang=\"ja\" lang=\"ja\" title=\"ディープ・ブルー (コンピュータ) – Japanese\">日本語</a></li><li class=\"interlanguage-link interwiki-no\"><a class=\"interlanguage-link-target\" href=\"https://no.wikipedia.org/wiki/Deep_Blue\" hreflang=\"nb\" lang=\"nb\" title=\"Deep Blue – Norwegian Bokmål\">Norsk bokmål</a></li><li class=\"interlanguage-link interwiki-nn\"><a class=\"interlanguage-link-target\" href=\"https://nn.wikipedia.org/wiki/Deep_Blue\" hreflang=\"nn\" lang=\"nn\" title=\"Deep Blue – Norwegian Nynorsk\">Norsk nynorsk</a></li><li class=\"interlanguage-link interwiki-pl\"><a class=\"interlanguage-link-target\" href=\"https://pl.wikipedia.org/wiki/Deep_Blue\" hreflang=\"pl\" lang=\"pl\" title=\"Deep Blue – Polish\">Polski</a></li><li class=\"interlanguage-link interwiki-pt\"><a class=\"interlanguage-link-target\" href=\"https://pt.wikipedia.org/wiki/Deep_Blue\" hreflang=\"pt\" lang=\"pt\" title=\"Deep Blue – Portuguese\">Português</a></li><li class=\"interlanguage-link interwiki-ro badge-Q17437798 badge-goodarticle\" title=\"good article badge\"><a class=\"interlanguage-link-target\" href=\"https://ro.wikipedia.org/wiki/Deep_Blue\" hreflang=\"ro\" lang=\"ro\" title=\"Deep Blue – Romanian\">Română</a></li><li class=\"interlanguage-link interwiki-ru\"><a class=\"interlanguage-link-target\" href=\"https://ru.wikipedia.org/wiki/Deep_Blue\" hreflang=\"ru\" lang=\"ru\" title=\"Deep Blue – Russian\">Русский</a></li><li class=\"interlanguage-link interwiki-sk\"><a class=\"interlanguage-link-target\" href=\"https://sk.wikipedia.org/wiki/Deep_Blue\" hreflang=\"sk\" lang=\"sk\" title=\"Deep Blue – Slovak\">Slovenčina</a></li><li class=\"interlanguage-link interwiki-sh\"><a class=\"interlanguage-link-target\" href=\"https://sh.wikipedia.org/wiki/IBM_Deep_Blue\" hreflang=\"sh\" lang=\"sh\" title=\"IBM Deep Blue – Serbo-Croatian\">Srpskohrvatski / српскохрватски</a></li><li class=\"interlanguage-link interwiki-fi\"><a class=\"interlanguage-link-target\" href=\"https://fi.wikipedia.org/wiki/Deep_Blue\" hreflang=\"fi\" lang=\"fi\" title=\"Deep Blue – Finnish\">Suomi</a></li><li class=\"interlanguage-link interwiki-sv\"><a class=\"interlanguage-link-target\" href=\"https://sv.wikipedia.org/wiki/Deep_Blue_(schackdator)\" hreflang=\"sv\" lang=\"sv\" title=\"Deep Blue (schackdator) – Swedish\">Svenska</a></li><li class=\"interlanguage-link interwiki-th\"><a class=\"interlanguage-link-target\" href=\"https://th.wikipedia.org/wiki/%E0%B8%94%E0%B8%B5%E0%B8%9B%E0%B8%9A%E0%B8%A5%E0%B8%B9\" hreflang=\"th\" lang=\"th\" title=\"ดีปบลู – Thai\">ไทย</a></li><li class=\"interlanguage-link interwiki-tr\"><a class=\"interlanguage-link-target\" href=\"https://tr.wikipedia.org/wiki/Deep_Blue\" hreflang=\"tr\" lang=\"tr\" title=\"Deep Blue – Turkish\">Türkçe</a></li><li class=\"interlanguage-link interwiki-uk\"><a class=\"interlanguage-link-target\" href=\"https://uk.wikipedia.org/wiki/Deep_Blue\" hreflang=\"uk\" lang=\"uk\" title=\"Deep Blue – Ukrainian\">Українська</a></li><li class=\"interlanguage-link interwiki-vi\"><a class=\"interlanguage-link-target\" href=\"https://vi.wikipedia.org/wiki/Deep_Blue\" hreflang=\"vi\" lang=\"vi\" title=\"Deep Blue – Vietnamese\">Tiếng Việt</a></li><li class=\"interlanguage-link interwiki-wuu\"><a class=\"interlanguage-link-target\" href=\"https://wuu.wikipedia.org/wiki/%E6%B7%B1%E8%93%9D_(%E8%B6%85%E7%BA%A7%E8%AE%A1%E7%AE%97%E6%9C%BA)\" hreflang=\"wuu\" lang=\"wuu\" title=\"深蓝 (超级计算机) – Wu Chinese\">吴语</a></li><li class=\"interlanguage-link interwiki-zh\"><a class=\"interlanguage-link-target\" href=\"https://zh.wikipedia.org/wiki/%E6%B7%B1%E8%97%8D_(%E8%B6%85%E7%B4%9A%E9%9B%BB%E8%85%A6)\" hreflang=\"zh\" lang=\"zh\" title=\"深藍 (超級電腦) – Chinese\">中文</a></li></ul>\n",
       "<div class=\"after-portlet after-portlet-lang\"><span class=\"wb-langlinks-edit wb-langlinks-link\"><a class=\"wbc-editpage\" href=\"https://www.wikidata.org/wiki/Special:EntityPage/Q187899#sitelinks-wikipedia\" title=\"Edit interlanguage links\">Edit links</a></span></div>\n",
       "</div>\n",
       "</nav>\n",
       "</div>\n",
       "</div>\n",
       "<footer class=\"mw-footer\" id=\"footer\" role=\"contentinfo\">\n",
       "<ul id=\"footer-info\">\n",
       "<li id=\"footer-info-lastmod\"> This page was last edited on 2 January 2021, at 14:04<span class=\"anonymous-show\"> (UTC)</span>.</li>\n",
       "<li id=\"footer-info-copyright\">Text is available under the <a href=\"//en.wikipedia.org/wiki/Wikipedia:Text_of_Creative_Commons_Attribution-ShareAlike_3.0_Unported_License\" rel=\"license\">Creative Commons Attribution-ShareAlike License</a><a href=\"//creativecommons.org/licenses/by-sa/3.0/\" rel=\"license\" style=\"display:none;\"></a>;\n",
       "additional terms may apply.  By using this site, you agree to the <a href=\"//foundation.wikimedia.org/wiki/Terms_of_Use\">Terms of Use</a> and <a href=\"//foundation.wikimedia.org/wiki/Privacy_policy\">Privacy Policy</a>. Wikipedia® is a registered trademark of the <a href=\"//www.wikimediafoundation.org/\">Wikimedia Foundation, Inc.</a>, a non-profit organization.</li>\n",
       "</ul>\n",
       "<ul id=\"footer-places\">\n",
       "<li id=\"footer-places-privacy\"><a class=\"extiw\" href=\"https://foundation.wikimedia.org/wiki/Privacy_policy\" title=\"wmf:Privacy policy\">Privacy policy</a></li>\n",
       "<li id=\"footer-places-about\"><a href=\"/wiki/Wikipedia:About\" title=\"Wikipedia:About\">About Wikipedia</a></li>\n",
       "<li id=\"footer-places-disclaimer\"><a href=\"/wiki/Wikipedia:General_disclaimer\" title=\"Wikipedia:General disclaimer\">Disclaimers</a></li>\n",
       "<li id=\"footer-places-contact\"><a href=\"//en.wikipedia.org/wiki/Wikipedia:Contact_us\">Contact Wikipedia</a></li>\n",
       "<li id=\"footer-places-mobileview\"><a class=\"noprint stopMobileRedirectToggle\" href=\"//en.m.wikipedia.org/w/index.php?title=Deep_Blue_(chess_computer)&amp;mobileaction=toggle_view_mobile\">Mobile view</a></li>\n",
       "<li id=\"footer-places-developers\"><a href=\"https://www.mediawiki.org/wiki/Special:MyLanguage/How_to_contribute\">Developers</a></li>\n",
       "<li id=\"footer-places-statslink\"><a href=\"https://stats.wikimedia.org/#/en.wikipedia.org\">Statistics</a></li>\n",
       "<li id=\"footer-places-cookiestatement\"><a href=\"https://foundation.wikimedia.org/wiki/Cookie_statement\">Cookie statement</a></li>\n",
       "</ul>\n",
       "<ul class=\"noprint\" id=\"footer-icons\">\n",
       "<li id=\"footer-copyrightico\"><a href=\"https://wikimediafoundation.org/\"><img alt=\"Wikimedia Foundation\" height=\"31\" loading=\"lazy\" src=\"/static/images/footer/wikimedia-button.png\" srcset=\"/static/images/footer/wikimedia-button-1.5x.png 1.5x, /static/images/footer/wikimedia-button-2x.png 2x\" width=\"88\"/></a></li>\n",
       "<li id=\"footer-poweredbyico\"><a href=\"https://www.mediawiki.org/\"><img alt=\"Powered by MediaWiki\" height=\"31\" loading=\"lazy\" src=\"/static/images/footer/poweredby_mediawiki_88x31.png\" srcset=\"/static/images/footer/poweredby_mediawiki_132x47.png 1.5x, /static/images/footer/poweredby_mediawiki_176x62.png 2x\" width=\"88\"/></a></li>\n",
       "</ul>\n",
       "<div style=\"clear: both;\"></div>\n",
       "</footer>\n",
       "<script>(RLQ=window.RLQ||[]).push(function(){mw.config.set({\"wgPageParseReport\":{\"limitreport\":{\"cputime\":\"0.792\",\"walltime\":\"0.979\",\"ppvisitednodes\":{\"value\":2657,\"limit\":1000000},\"postexpandincludesize\":{\"value\":148688,\"limit\":2097152},\"templateargumentsize\":{\"value\":1306,\"limit\":2097152},\"expansiondepth\":{\"value\":13,\"limit\":40},\"expensivefunctioncount\":{\"value\":3,\"limit\":500},\"unstrip-depth\":{\"value\":1,\"limit\":20},\"unstrip-size\":{\"value\":125887,\"limit\":5000000},\"entityaccesscount\":{\"value\":1,\"limit\":400},\"timingprofile\":[\"100.00%  804.065      1 -total\",\" 47.46%  381.580      1 Template:Reflist\",\" 18.85%  151.541      8 Template:Cite_news\",\" 10.67%   85.781     13 Template:Cite_web\",\" 10.46%   84.084      1 Template:Short_description\",\"  9.08%   72.985      1 Template:Authority_control\",\"  8.85%   71.136     13 Template:Cite_book\",\"  7.94%   63.868      3 Template:Navbox\",\"  6.80%   54.681      1 Template:Chess\",\"  6.14%   49.360      1 Template:Pagetype\"]},\"scribunto\":{\"limitreport-timeusage\":{\"value\":\"0.436\",\"limit\":\"10.000\"},\"limitreport-memusage\":{\"value\":6846758,\"limit\":52428800},\"limitreport-logs\":\"table#1 {\\n}\\n\"},\"cachereport\":{\"origin\":\"mw1273\",\"timestamp\":\"20210110160358\",\"ttl\":2592000,\"transientcontent\":false}}});});</script>\n",
       "<script type=\"application/ld+json\">{\"@context\":\"https:\\/\\/schema.org\",\"@type\":\"Article\",\"name\":\"Deep Blue (chess computer)\",\"url\":\"https:\\/\\/en.wikipedia.org\\/wiki\\/Deep_Blue_(chess_computer)\",\"sameAs\":\"http:\\/\\/www.wikidata.org\\/entity\\/Q187899\",\"mainEntity\":\"http:\\/\\/www.wikidata.org\\/entity\\/Q187899\",\"author\":{\"@type\":\"Organization\",\"name\":\"Contributors to Wikimedia projects\"},\"publisher\":{\"@type\":\"Organization\",\"name\":\"Wikimedia Foundation, Inc.\",\"logo\":{\"@type\":\"ImageObject\",\"url\":\"https:\\/\\/www.wikimedia.org\\/static\\/images\\/wmf-hor-googpub.png\"}},\"datePublished\":\"2002-04-17T05:44:33Z\",\"dateModified\":\"2021-01-02T14:04:51Z\",\"image\":\"https:\\/\\/upload.wikimedia.org\\/wikipedia\\/commons\\/b\\/be\\/Deep_Blue.jpg\",\"headline\":\"supercomputer\"}</script>\n",
       "<script>(RLQ=window.RLQ||[]).push(function(){mw.config.set({\"wgBackendResponseTime\":187,\"wgHostname\":\"mw1384\"});});</script>\n",
       "</body></html>"
      ]
     },
     "metadata": {},
     "execution_count": 107
    }
   ],
   "source": [
    "soup = bs4.BeautifulSoup(res.text, 'lxml')\n",
    "soup"
   ]
  },
  {
   "cell_type": "code",
   "execution_count": 109,
   "metadata": {},
   "outputs": [
    {
     "output_type": "execute_result",
     "data": {
      "text/plain": [
       "[<img alt=\"\" class=\"thumbimage\" data-file-height=\"600\" data-file-width=\"800\" decoding=\"async\" height=\"165\" src=\"//upload.wikimedia.org/wikipedia/commons/thumb/6/6f/Kasparov_Magath_1985_Hamburg-2.png/220px-Kasparov_Magath_1985_Hamburg-2.png\" srcset=\"//upload.wikimedia.org/wikipedia/commons/thumb/6/6f/Kasparov_Magath_1985_Hamburg-2.png/330px-Kasparov_Magath_1985_Hamburg-2.png 1.5x, //upload.wikimedia.org/wikipedia/commons/thumb/6/6f/Kasparov_Magath_1985_Hamburg-2.png/440px-Kasparov_Magath_1985_Hamburg-2.png 2x\" width=\"220\"/>]"
      ]
     },
     "metadata": {},
     "execution_count": 109
    }
   ],
   "source": [
    "soup.select('.thumbimage')"
   ]
  },
  {
   "cell_type": "code",
   "execution_count": 111,
   "metadata": {},
   "outputs": [],
   "source": [
    "computer = soup.select('.thumbimage')[0]"
   ]
  },
  {
   "cell_type": "code",
   "execution_count": 113,
   "metadata": {},
   "outputs": [
    {
     "output_type": "execute_result",
     "data": {
      "text/plain": [
       "'//upload.wikimedia.org/wikipedia/commons/thumb/6/6f/Kasparov_Magath_1985_Hamburg-2.png/220px-Kasparov_Magath_1985_Hamburg-2.png'"
      ]
     },
     "metadata": {},
     "execution_count": 113
    }
   ],
   "source": [
    "computer['src']"
   ]
  },
  {
   "source": [
    "image_link = requests.get(\n",
    "\"https://upload.wikimedia.org/wikipedia/commons/thumb/6/6f/Kasparov_Magath_1985_Hamburg-2.png/220px-Kasparov_Magath_1985_Hamburg-2.png\")"
   ],
   "cell_type": "code",
   "metadata": {},
   "execution_count": 115,
   "outputs": []
  },
  {
   "cell_type": "code",
   "execution_count": 125,
   "metadata": {},
   "outputs": [],
   "source": [
    "#image_link.content"
   ]
  },
  {
   "cell_type": "code",
   "execution_count": 122,
   "metadata": {},
   "outputs": [],
   "source": [
    "f = open('scrapped_image.jpg','wb')"
   ]
  },
  {
   "cell_type": "code",
   "execution_count": 123,
   "metadata": {},
   "outputs": [
    {
     "output_type": "execute_result",
     "data": {
      "text/plain": [
       "85054"
      ]
     },
     "metadata": {},
     "execution_count": 123
    }
   ],
   "source": [
    "f.write(image_link.content)"
   ]
  },
  {
   "cell_type": "code",
   "execution_count": 124,
   "metadata": {},
   "outputs": [],
   "source": [
    "f.close()"
   ]
  },
  {
   "source": [
    "# Downloading Image of My PM"
   ],
   "cell_type": "markdown",
   "metadata": {}
  },
  {
   "cell_type": "code",
   "execution_count": 126,
   "metadata": {},
   "outputs": [],
   "source": [
    "# Step 1: Making a request to the website\n",
    "req = requests.get('https://en.wikipedia.org/wiki/Narendra_Modi')"
   ]
  },
  {
   "cell_type": "code",
   "execution_count": 165,
   "metadata": {},
   "outputs": [
    {
     "output_type": "execute_result",
     "data": {
      "text/plain": [
       "ge-link interwiki-sh\"><a class=\"interlanguage-link-target\" href=\"https://sh.wikipedia.org/wiki/Narendra_Modi\" hreflang=\"sh\" lang=\"sh\" title=\"Narendra Modi – Serbo-Croatian\">Srpskohrvatski / српскохрватски</a></li><li class=\"interlanguage-link interwiki-su\"><a class=\"interlanguage-link-target\" href=\"https://su.wikipedia.org/wiki/Narendra_Modi\" hreflang=\"su\" lang=\"su\" title=\"Narendra Modi – Sundanese\">Sunda</a></li><li class=\"interlanguage-link interwiki-fi\"><a class=\"interlanguage-link-target\" href=\"https://fi.wikipedia.org/wiki/Narendra_Modi\" hreflang=\"fi\" lang=\"fi\" title=\"Narendra Modi – Finnish\">Suomi</a></li><li class=\"interlanguage-link interwiki-sv\"><a class=\"interlanguage-link-target\" href=\"https://sv.wikipedia.org/wiki/Narendra_Modi\" hreflang=\"sv\" lang=\"sv\" title=\"Narendra Modi – Swedish\">Svenska</a></li><li class=\"interlanguage-link interwiki-tl\"><a class=\"interlanguage-link-target\" href=\"https://tl.wikipedia.org/wiki/Narendra_Modi\" hreflang=\"tl\" lang=\"tl\" title=\"Narendra Modi – Tagalog\">Tagalog</a></li><li class=\"interlanguage-link interwiki-ta\"><a class=\"interlanguage-link-target\" href=\"https://ta.wikipedia.org/wiki/%E0%AE%A8%E0%AE%B0%E0%AF%87%E0%AE%A8%E0%AF%8D%E0%AE%A4%E0%AE%BF%E0%AE%B0_%E0%AE%AE%E0%AF%8B%E0%AE%A4%E0%AE%BF\" hreflang=\"ta\" lang=\"ta\" title=\"நரேந்திர மோதி – Tamil\">தமிழ்</a></li><li class=\"interlanguage-link interwiki-te\"><a class=\"interlanguage-link-target\" href=\"https://te.wikipedia.org/wiki/%E0%B0%A8%E0%B0%B0%E0%B1%87%E0%B0%82%E0%B0%A6%E0%B1%8D%E0%B0%B0_%E0%B0%AE%E0%B1%8B%E0%B0%A6%E0%B1%80\" hreflang=\"te\" lang=\"te\" title=\"నరేంద్ర మోదీ – Telugu\">తెలుగు</a></li><li class=\"interlanguage-link interwiki-th\"><a class=\"interlanguage-link-target\" href=\"https://th.wikipedia.org/wiki/%E0%B8%99%E0%B9%80%E0%B8%A3%E0%B8%99%E0%B8%97%E0%B8%A3%E0%B8%B0_%E0%B9%82%E0%B8%A1%E0%B8%97%E0%B8%B5\" hreflang=\"th\" lang=\"th\" title=\"นเรนทระ โมที – Thai\">ไทย</a></li><li class=\"interlanguage-link interwiki-chr\"><a class=\"interlanguage-link-target\" href=\"https://chr.wikipedia.org/wiki/%E1%8E%BE_%E1%8E%B9%E1%8E%A3%E1%8F%97\" hreflang=\"chr\" lang=\"chr\" title=\"Ꮎ ᎹᎣᏗ – Cherokee\">ᏣᎳᎩ</a></li><li class=\"interlanguage-link interwiki-tcy\"><a class=\"interlanguage-link-target\" href=\"https://tcy.wikipedia.org/wiki/%E0%B2%A8%E0%B2%B0%E0%B3%87%E0%B2%82%E0%B2%A6%E0%B3%8D%E0%B2%B0_%E0%B2%AE%E0%B3%8B%E0%B2%A6%E0%B2%BF\" hreflang=\"tcy\" lang=\"tcy\" title=\"ನರೇಂದ್ರ ಮೋದಿ – Tulu\">ತುಳು</a></li><li class=\"interlanguage-link interwiki-tr\"><a class=\"interlanguage-link-target\" href=\"https://tr.wikipedia.org/wiki/Narendra_Modi\" hreflang=\"tr\" lang=\"tr\" title=\"Narendra Modi – Turkish\">Türkçe</a></li><li class=\"interlanguage-link interwiki-uk\"><a class=\"interlanguage-link-target\" href=\"https://uk.wikipedia.org/wiki/%D0%9D%D0%B0%D1%80%D0%B5%D0%BD%D0%B4%D1%80%D0%B0_%D0%9C%D0%BE%D0%B4%D1%96\" hreflang=\"uk\" lang=\"uk\" title=\"Нарендра Моді – Ukrainian\">Українська</a></li><li class=\"interlanguage-link interwiki-ur\"><a class=\"interlanguage-link-target\" href=\"https://ur.wikipedia.org/wiki/%D9%86%D8%B1%DB%8C%D9%86%D8%AF%D8%B1_%D9%85%D9%88%D8%AF%DB%8C\" hreflang=\"ur\" lang=\"ur\" title=\"نریندر مودی – Urdu\">اردو</a></li><li class=\"interlanguage-link interwiki-ug\"><a class=\"interlanguage-link-target\" href=\"https://ug.wikipedia.org/wiki/%D9%86%D8%A7%D8%B1%DB%90%D9%86%D8%AF%D9%89_%D9%85%D9%88%D8%AF%D9%89_(%D8%B3%D9%89%D9%8A%D8%A7%D8%B3%D8%A6%D9%88%D9%86)\" hreflang=\"ug\" lang=\"ug\" title=\"نارېندى مودى (سىياسئون) – Uyghur\">ئۇيغۇرچە / Uyghurche</a></li><li class=\"interlanguage-link interwiki-vep\"><a class=\"interlanguage-link-target\" href=\"https://vep.wikipedia.org/wiki/Modi_Narendra\" hreflang=\"vep\" lang=\"vep\" title=\"Modi Narendra – Veps\">Vepsän kel’</a></li><li class=\"interlanguage-link interwiki-vi\"><a class=\"interlanguage-link-target\" href=\"https://vi.wikipedia.org/wiki/Narendra_Modi\" hreflang=\"vi\" lang=\"vi\" title=\"Narendra Modi – Vietnamese\">Tiếng Việt</a></li><li class=\"interlanguage-link interwiki-war\"><a class=\"interlanguage-link-target\" href=\"https://war.wikipedia.org/wiki/Narendra_Modi\" hreflang=\"war\" lang=\"war\" title=\"Narendra Modi – Waray\">Winaray</a></li><li class=\"interlanguage-link interwiki-wuu\"><a class=\"interlanguage-link-target\" href=\"https://wuu.wikipedia.org/wiki/%E7%BA%B3%E4%BC%A6%E5%BE%B7%E6%8B%89%C2%B7%E8%8E%AB%E8%BF%AA\" hreflang=\"wuu\" lang=\"wuu\" title=\"纳伦德拉·莫迪 – Wu Chinese\">吴语</a></li><li class=\"interlanguage-link interwiki-yi\"><a class=\"interlanguage-link-target\" href=\"https://yi.wikipedia.org/wiki/%D7%A0%D7%90%D7%A8%D7%A2%D7%A0%D7%93%D7%A8%D7%90_%D7%9E%D7%90%D7%93%D7%99\" hreflang=\"yi\" lang=\"yi\" title=\"נארענדרא מאדי – Yiddish\">ייִדיש</a></li><li class=\"interlanguage-link interwiki-yo\"><a class=\"interlanguage-link-target\" href=\"https://yo.wikipedia.org/wiki/Narendra_Modi\" hreflang=\"yo\" lang=\"yo\" title=\"Narendra Modi – Yoruba\">Yorùbá</a></li><li class=\"interlanguage-link interwiki-zh-yue\"><a class=\"interlanguage-link-target\" href=\"https://zh-yue.wikipedia.org/wiki/%E8%8E%AB%E8%BF%AA\" hreflang=\"yue\" lang=\"yue\" title=\"莫迪 – Cantonese\">粵語</a></li><li class=\"interlanguage-link interwiki-zh\"><a class=\"interlanguage-link-target\" href=\"https://zh.wikipedia.org/wiki/%E7%BA%B3%E4%BC%A6%E5%BE%B7%E6%8B%89%C2%B7%E8%8E%AB%E8%BF%AA\" hreflang=\"zh\" lang=\"zh\" title=\"纳伦德拉·莫迪 – Chinese\">中文</a></li></ul>\n",
       "<div class=\"after-portlet after-portlet-lang\"><span class=\"wb-langlinks-edit wb-langlinks-link\"><a class=\"wbc-editpage\" href=\"https://www.wikidata.org/wiki/Special:EntityPage/Q1058#sitelinks-wikipedia\" title=\"Edit interlanguage links\">Edit links</a></span></div>\n",
       "</div>\n",
       "</nav>\n",
       "</div>\n",
       "</div>\n",
       "<footer class=\"mw-footer\" id=\"footer\" role=\"contentinfo\">\n",
       "<ul id=\"footer-info\">\n",
       "<li id=\"footer-info-lastmod\"> This page was last edited on 12 January 2021, at 18:08<span class=\"anonymous-show\"> (UTC)</span>.</li>\n",
       "<li id=\"footer-info-copyright\">Text is available under the <a href=\"//en.wikipedia.org/wiki/Wikipedia:Text_of_Creative_Commons_Attribution-ShareAlike_3.0_Unported_License\" rel=\"license\">Creative Commons Attribution-ShareAlike License</a><a href=\"//creativecommons.org/licenses/by-sa/3.0/\" rel=\"license\" style=\"display:none;\"></a>;\n",
       "additional terms may apply.  By using this site, you agree to the <a href=\"//foundation.wikimedia.org/wiki/Terms_of_Use\">Terms of Use</a> and <a href=\"//foundation.wikimedia.org/wiki/Privacy_policy\">Privacy Policy</a>. Wikipedia® is a registered trademark of the <a href=\"//www.wikimediafoundation.org/\">Wikimedia Foundation, Inc.</a>, a non-profit organization.</li>\n",
       "</ul>\n",
       "<ul id=\"footer-places\">\n",
       "<li id=\"footer-places-privacy\"><a class=\"extiw\" href=\"https://foundation.wikimedia.org/wiki/Privacy_policy\" title=\"wmf:Privacy policy\">Privacy policy</a></li>\n",
       "<li id=\"footer-places-about\"><a href=\"/wiki/Wikipedia:About\" title=\"Wikipedia:About\">About Wikipedia</a></li>\n",
       "<li id=\"footer-places-disclaimer\"><a href=\"/wiki/Wikipedia:General_disclaimer\" title=\"Wikipedia:General disclaimer\">Disclaimers</a></li>\n",
       "<li id=\"footer-places-contact\"><a href=\"//en.wikipedia.org/wiki/Wikipedia:Contact_us\">Contact Wikipedia</a></li>\n",
       "<li id=\"footer-places-mobileview\"><a class=\"noprint stopMobileRedirectToggle\" href=\"//en.m.wikipedia.org/w/index.php?title=Narendra_Modi&amp;mobileaction=toggle_view_mobile\">Mobile view</a></li>\n",
       "<li id=\"footer-places-developers\"><a href=\"https://www.mediawiki.org/wiki/Special:MyLanguage/How_to_contribute\">Developers</a></li>\n",
       "<li id=\"footer-places-statslink\"><a href=\"https://stats.wikimedia.org/#/en.wikipedia.org\">Statistics</a></li>\n",
       "<li id=\"footer-places-cookiestatement\"><a href=\"https://foundation.wikimedia.org/wiki/Cookie_statement\">Cookie statement</a></li>\n",
       "</ul>\n",
       "<ul class=\"noprint\" id=\"footer-icons\">\n",
       "<li id=\"footer-copyrightico\"><a href=\"https://wikimediafoundation.org/\"><img alt=\"Wikimedia Foundation\" height=\"31\" loading=\"lazy\" src=\"/static/images/footer/wikimedia-button.png\" srcset=\"/static/images/footer/wikimedia-button-1.5x.png 1.5x, /static/images/footer/wikimedia-button-2x.png 2x\" width=\"88\"/></a></li>\n",
       "<li id=\"footer-poweredbyico\"><a href=\"https://www.mediawiki.org/\"><img alt=\"Powered by MediaWiki\" height=\"31\" loading=\"lazy\" src=\"/static/images/footer/poweredby_mediawiki_88x31.png\" srcset=\"/static/images/footer/poweredby_mediawiki_132x47.png 1.5x, /static/images/footer/poweredby_mediawiki_176x62.png 2x\" width=\"88\"/></a></li>\n",
       "</ul>\n",
       "<div style=\"clear: both;\"></div>\n",
       "</footer>\n",
       "<script>(RLQ=window.RLQ||[]).push(function(){mw.config.set({\"wgPageParseReport\":{\"limitreport\":{\"cputime\":\"6.112\",\"walltime\":\"6.905\",\"ppvisitednodes\":{\"value\":46799,\"limit\":1000000},\"postexpandincludesize\":{\"value\":1816596,\"limit\":2097152},\"templateargumentsize\":{\"value\":237309,\"limit\":2097152},\"expansiondepth\":{\"value\":18,\"limit\":40},\"expensivefunctioncount\":{\"value\":31,\"limit\":500},\"unstrip-depth\":{\"value\":1,\"limit\":20},\"unstrip-size\":{\"value\":1294425,\"limit\":5000000},\"entityaccesscount\":{\"value\":1,\"limit\":400},\"timingprofile\":[\"100.00% 5710.555      1 -total\",\" 42.36% 2419.041      2 Template:Reflist\",\" 19.89% 1135.586    200 Template:Cite_news\",\" 14.43%  823.776     34 Template:Navbox\",\"  9.44%  538.810      1 Template:Infobox_officeholder\",\"  8.49%  484.594     78 Template:Flagicon\",\"  6.69%  381.935      1 Template:Commonwealth_heads_of_government\",\"  6.44%  367.838     54 Template:Nowrap\",\"  6.09%  347.606     66 Template:Cite_web\",\"  5.36%  306.048     17 Template:Infobox_officeholder/office\"]},\"scribunto\":{\"limitreport-timeusage\":{\"value\":\"2.969\",\"limit\":\"10.000\"},\"limitreport-memusage\":{\"value\":16317447,\"limit\":52428800},\"limitreport-logs\":\"anchor_id_list = table#1 {\\n  [\\\"CITEREFAiyappa2020\\\"] = 1,\\n  [\\\"CITEREFAkhilesh_SharmaDivyanshu_Dutta_Roy2020\\\"] = 1,\\n  [\\\"CITEREFAnnie_Gowen2015\\\"] = 2,\\n  [\\\"CITEREFAvasthi2016\\\"] = 1,\\n  [\\\"CITEREFBagcchi2015\\\"] = 1,\\n  [\\\"CITEREFBajaj2012\\\"] = 1,\\n  [\\\"CITEREFBarry,_Ellen2014\\\"] = 1,\\n  [\\\"CITEREFBarryBagri2014\\\"] = 1,\\n  [\\\"CITEREFBaruah2012\\\"] = 1,\\n  [\\\"CITEREFBasu2020\\\"] = 1,\\n  [\\\"CITEREFBasuMisra2014\\\"] = 1,\\n  [\\\"CITEREFBhakta2017\\\"] = 1,\\n  [\\\"CITEREFBhattacharjee\\\"] = 1,\\n  [\\\"CITEREFBhowmick2013\\\"] = 1,\\n  [\\\"CITEREFBobbio2012\\\"] = 1,\\n  [\\\"CITEREFBodh2014\\\"] = 1,\\n  [\\\"CITEREFBommakanti\\\"] = 1,\\n  [\\\"CITEREFBrass2005\\\"] = 1,\\n  [\\\"CITEREFBrasted2005\\\"] = 1,\\n  [\\\"CITEREFBrunkertKruseWelzel2019\\\"] = 1,\\n  [\\\"CITEREFBuncombe2011\\\"] = 1,\\n  [\\\"CITEREFBunsha2001\\\"] = 1,\\n  [\\\"CITEREFBurke2010\\\"] = 1,\\n  [\\\"CITEREFBurke2011\\\"] = 1,\\n  [\\\"CITEREFBurke2012\\\"] = 1,\\n  [\\\"CITEREFCNN_Library2018\\\"] = 1,\\n  [\\\"CITEREFCampbellSeipleHooverOtis2012\\\"] = 1,\\n  [\\\"CITEREFCassidy2014\\\"] = 1,\\n  [\\\"CITEREFChackoMayer\\\"] = 1,\\n  [\\\"CITEREFChakravarttyRoy2015\\\"] = 1,\\n  [\\\"CITEREFChaudhary2015\\\"] = 1,\\n  [\\\"CITEREFChhibberOstermann2014\\\"] = 1,\\n  [\\\"CITEREFChristophe2015\\\"] = 1,\\n  [\\\"CITEREFCorbridgeJohn_Harriss,_Craig_Jeffrey2012\\\"] = 1,\\n  [\\\"CITEREFDasgupta2001\\\"] = 1,\\n  [\\\"CITEREFDasgupta2002\\\"] = 1,\\n  [\\\"CITEREFDasgupta2012\\\"] = 2,\\n  [\\\"CITEREFDelhiAugust52019\\\"] = 1,\\n  [\\\"CITEREFDieterich,_Robert_S.2015\\\"] = 1,\\n  [\\\"CITEREFDingSlater2020\\\"] = 1,\\n  [\\\"CITEREFDownie2015\\\"] = 1,\\n  [\\\"CITEREFEllen_BarrySalman_Masood2016\\\"] = 1,\\n  [\\\"CITEREFFilkins2019\\\"] = 1,\\n  [\\\"CITEREFFoundation2019\\\"] = 1,\\n  [\\\"CITEREFFriedman2014\\\"] = 1,\\n  [\\\"CITEREFGahlot2015\\\"] = 1,\\n  [\\\"CITEREFGajanan\\\"] = 1,\\n  [\\\"CITEREFGanguly\\\"] = 1,\\n  [\\\"CITEREFGanguly2014\\\"] = 1,\\n  [\\\"CITEREFGettlemanKumar2019\\\"] = 1,\\n  [\\\"CITEREFGhai2014\\\"] = 1,\\n  [\\\"CITEREFGhassem-fachandi2012\\\"] = 1,\\n  [\\\"CITEREFGhatakRoy2014\\\"] = 1,\\n  [\\\"CITEREFGoyal2014\\\"] = 1,\\n  [\\\"CITEREFGrare2015\\\"] = 1,\\n  [\\\"CITEREFGuha2008\\\"] = 1,\\n  [\\\"CITEREFGuha2015\\\"] = 1,\\n  [\\\"CITEREFGupta2013\\\"] = 1,\\n  [\\\"CITEREFGupta2014\\\"] = 1,\\n  [\\\"CITEREFGupta2020\\\"] = 1,\\n  [\\\"CITEREFHaidar2019\\\"] = 1,\\n  [\\\"CITEREFHall2015\\\"] = 1,\\n  [\\\"CITEREFHall2016\\\"] = 1,\\n  [\\\"CITEREFHampton2002\\\"] = 1,\\n  [\\\"CITEREFHardgrave,_Jr.2005\\\"] = 1,\\n  [\\\"CITEREFHarding2013\\\"] = 1,\\n  [\\\"CITEREFHariss2015\\\"] = 1,\\n  [\\\"CITEREFIANS2016\\\"] = 1,\\n  [\\\"CITEREFJaffrelot2003\\\"] = 1,\\n  [\\\"CITEREFJaffrelot2012\\\"] = 1,\\n  [\\\"CITEREFJaffrelot2013\\\"] = 1,\\n  [\\\"CITEREFJaffrelot2015\\\"] = 2,\\n  [\\\"CITEREFJaffrelot2016\\\"] = 1,\\n  [\\\"CITEREFJaffrelot2021\\\"] = 1,\\n  [\\\"CITEREFJeffrey2015\\\"] = 1,\\n  [\\\"CITEREFJeffrey_GettlemanHari_KumarSamir_Yasir2019\\\"] = 1,\\n  [\\\"CITEREFJose2012\\\"] = 1,\\n  [\\\"CITEREFJoseph2012\\\"] = 1,\\n  [\\\"CITEREFKai_ShultzHari_Kumar2018\\\"] = 2,\\n  [\\\"CITEREFKarla2014\\\"] = 1,\\n  [\\\"CITEREFKaur2015\\\"] = 1,\\n  [\\\"CITEREFKhaitan2020\\\"] = 1,\\n  [\\\"CITEREFKhanKaushik2013\\\"] = 1,\\n  [\\\"CITEREFKochanekHardgrave2007\\\"] = 1,\\n  [\\\"CITEREFKothari2014\\\"] = 1,\\n  [\\\"CITEREFKumar2015\\\"] = 1,\\n  [\\\"CITEREFKumarGhoshal\\\"] = 1,\\n  [\\\"CITEREFLakshman2020\\\"] = 1,\\n  [\\\"CITEREFLakshmi2012\\\"] = 1,\\n  [\\\"CITEREFLimited2015\\\"] = 1,\\n  [\\\"CITEREFM._Ilyas_Khan2016\\\"] = 1,\\n  [\\\"CITEREFMahapatra2010\\\"] = 1,\\n  [\\\"CITEREFMahurkar2010\\\"] = 1,\\n  [\\\"CITEREFMalik2012\\\"] = 1,\\n  [\\\"CITEREFMalik2019\\\"] = 1,\\n  [\\\"CITEREFManghat2019\\\"] = 1,\\n  [\\\"CITEREFMann2014\\\"] = 1,\\n  [\\\"CITEREFManor2015\\\"] = 1,\\n  [\\\"CITEREFMarino2014\\\"] = 1,\\n  [\\\"CITEREFMehta2014\\\"] = 1,\\n  [\\\"CITEREFMenon2012\\\"] = 1,\\n  [\\\"CITEREFMishra2011\\\"] = 1,\\n  [\\\"CITEREFMishra2013\\\"] = 1,\\n  [\\\"CITEREFMishra2017\\\"] = 1,\\n  [\\\"CITEREFMockoPenjore2015\\\"] = 1,\\n  [\\\"CITEREFModi,_Narendra.2004\\\"] = 1,\\n  [\\\"CITEREFModi,_Narendra2011\\\"] = 1,\\n  [\\\"CITEREFModi2014\\\"] = 1,\\n  [\\\"CITEREFModi2015\\\"] = 3,\\n  [\\\"CITEREFModi2017\\\"] = 1,\\n  [\\\"CITEREFModi2018\\\"] = 1,\\n  [\\\"CITEREFMudur2016\\\"] = 1,\\n  [\\\"CITEREFMukhopadhyay2013\\\"] = 1,\\n  [\\\"CITEREFMukhopadhyay2014\\\"] = 1,\\n  [\\\"CITEREFMurphy2010\\\"] = 1,\\n  [\\\"CITEREFNair2007\\\"] = 1,\\n  [\\\"CITEREFNaqvi2008\\\"] = 1,\\n  [\\\"CITEREFNarayan2014\\\"] = 1,\\n  [\\\"CITEREFNida_Najar2016\\\"] = 1,\\n  [\\\"CITEREFNussbaum2008\\\"] = 1,\\n  [\\\"CITEREFObama2015\\\"] = 1,\\n  [\\\"CITEREFOgden2012\\\"] = 1,\\n  [\\\"CITEREFPTI2020\\\"] = 2,\\n  [\\\"CITEREFPalshikar2015\\\"] = 1,\\n  [\\\"CITEREFPalshikarSuri2014\\\"] = 1,\\n  [\\\"CITEREFPandey2005\\\"] = 1,\\n  [\\\"CITEREFPant2014\\\"] = 1,\\n  [\\\"CITEREFPatel\\\"] = 1,\\n  [\\\"CITEREFPathak2001\\\"] = 1,\\n  [\\\"CITEREFPatnaik2015\\\"] = 1,\\n  [\\\"CITEREFPhadnis2009\\\"] = 1,\\n  [\\\"CITEREFPrice2015\\\"] = 1,\\n  [\\\"CITEREFRahul_Shrivastava2014\\\"] = 1,\\n  [\\\"CITEREFRajagopalan2019\\\"] = 1,\\n  [\\\"CITEREFRamaseshan2013\\\"] = 1,\\n  [\\\"CITEREFReddy2013\\\"] = 1,\\n  [\\\"CITEREFReuters_Staff2015\\\"] = 1,\\n  [\\\"CITEREFRobinson2007\\\"] = 1,\\n  [\\\"CITEREFRukhaiyar2016\\\"] = 1,\\n  [\\\"CITEREFRuparelia2015\\\"] = 1,\\n  [\\\"CITEREFSchmidt2014\\\"] = 1,\\n  [\\\"CITEREFSchöttliPauli2016\\\"] = 1,\\n  [\\\"CITEREFSen2015\\\"] = 1,\\n  [\\\"CITEREFSengupta2009\\\"] = 1,\\n  [\\\"CITEREFSengupta2015\\\"] = 1,\\n  [\\\"CITEREFShah2007\\\"] = 1,\\n  [\\\"CITEREFShah2011\\\"] = 1,\\n  [\\\"CITEREFShah2013\\\"] = 1,\\n  [\\\"CITEREFShahGulatiHemantShreedhar2009\\\"] = 1,\\n  [\\\"CITEREFShahLerche2015\\\"] = 1,\\n  [\\\"CITEREFShahVerma,_Shilp2008\\\"] = 1,\\n  [\\\"CITEREFShani2007\\\"] = 1,\\n  [\\\"CITEREFSharma2014\\\"] = 1,\\n  [\\\"CITEREFSharma2015\\\"] = 1,\\n  [\\\"CITEREFSharma2019\\\"] = 1,\\n  [\\\"CITEREFSharma2020\\\"] = 1,\\n  [\\\"CITEREFSingh2016\\\"] = 1,\\n  [\\\"CITEREFSingh2019\\\"] = 1,\\n  [\\\"CITEREFSinhaSwami2015\\\"] = 1,\\n  [\\\"CITEREFSridharan2014\\\"] = 1,\\n  [\\\"CITEREFSrivastava2011\\\"] = 1,\\n  [\\\"CITEREFSrivastava2015\\\"] = 1,\\n  [\\\"CITEREFStandard2019\\\"] = 1,\\n  [\\\"CITEREFStepan2015\\\"] = 1,\\n  [\\\"CITEREFSwami,_Praveen2014\\\"] = 1,\\n  [\\\"CITEREFTanne2020\\\"] = 1,\\n  [\\\"CITEREFTellisWills2007\\\"] = 1,\\n  [\\\"CITEREFUmat2013\\\"] = 1,\\n  [\\\"CITEREFUnnithan2014\\\"] = 1,\\n  [\\\"CITEREFV.2018\\\"] = 1,\\n  [\\\"CITEREFVenkatesan\\\"] = 1,\\n  [\\\"CITEREFVenkatesan2001\\\"] = 1,\\n  [\\\"CITEREFVick2020\\\"] = 1,\\n  [\\\"CITEREFWorland2014\\\"] = 1,\\n  [\\\"CITEREFWyatt2015\\\"] = 1,\\n  [\\\"CITEREFYogendra2004\\\"] = 1,\\n  [\\\"CITEREFZainulbhai2015\\\"] = 1,\\n  [\\\"CITEREFZakaria2014\\\"] = 1,\\n  [\\\"CITEREFZhong2014\\\"] = 1,\\n}\\ntemplate_list = table#1 {\\n  [\\\"!\\\"] = 7,\\n  [\\\"'\\\"] = 2,\\n  [\\\"16th LS members from Uttar Pradesh\\\"] = 1,\\n  [\\\"17th LS members from Uttar Pradesh\\\"] = 1,\\n  [\\\"2002 Gujarat Violence\\\"] = 1,\\n  [\\\"Abbr\\\"] = 1,\\n  [\\\"Authority control\\\"] = 1,\\n  [\\\"BRICS\\\"] = 1,\\n  [\\\"Bharatiya Janata Party\\\"] = 1,\\n  [\\\"Bharatiya Janata Party chief ministers\\\"] = 1,\\n  [\\\"Birth date and age\\\"] = 1,\\n  [\\\"Britannica\\\"] = 1,\\n  [\\\"Chief Ministers of Gujarat\\\"] = 1,\\n  [\\\"Citation\\\"] = 24,\\n  [\\\"Cite book\\\"] = 30,\\n  [\\\"Cite encyclopedia\\\"] = 1,\\n  [\\\"Cite journal\\\"] = 53,\\n  [\\\"Cite news\\\"] = 200,\\n  [\\\"Cite web\\\"] = 65,\\n  [\\\"Collapsed infobox section begin\\\"] = 1,\\n  [\\\"Collapsed infobox section end\\\"] = 1,\\n  [\\\"Commonwealth heads of government\\\"] = 1,\\n  [\\\"Convert\\\"] = 1,\\n  [\\\"Current G20 Leaders\\\"] = 1,\\n  [\\\"Current SAARC Leaders\\\"] = 1,\\n  [\\\"Current SCO Leaders\\\"] = 1,\\n  [\\\"DEFAULTSORT:Modi, Narendra\\\"] = 1,\\n  [\\\"DNA India\\\"] = 1,\\n  [\\\"Dawn topic\\\"] = 1,\\n  [\\\"Efn\\\"] = 5,\\n  [\\\"External media\\\"] = 2,\\n  [\\\"First Narendra Modi Cabinet\\\"] = 1,\\n  [\\\"Flag\\\"] = 8,\\n  [\\\"For timeline\\\"] = 1,\\n  [\\\"Formatnum:113589\\\"] = 1,\\n  [\\\"Formatnum:154981\\\"] = 1,\\n  [\\\"Formatnum:479505\\\"] = 1,\\n  [\\\"Formatnum:570128\\\"] = 1,\\n  [\\\"Further\\\"] = 4,\\n  [\\\"Good article\\\"] = 1,\\n  [\\\"Guardian topic\\\"] = 1,\\n  [\\\"IMDb name\\\"] = 1,\\n  [\\\"INR\\\"] = 1,\\n  [\\\"INRConvert\\\"] = 1,\\n  [\\\"IPA-gu\\\"] = 1,\\n  [\\\"Indian general election, 2014\\\"] = 1,\\n  [\\\"Indian general election, 2019\\\"] = 1,\\n  [\\\"Infobox officeholder\\\"] = 1,\\n  [\\\"Leaders of the House in the Lok Sabha\\\"] = 1,\\n  [\\\"Library resources box\\\"] = 1,\\n  [\\\"Main\\\"] = 6,\\n  [\\\"Main list\\\"] = 1,\\n  [\\\"Narendra Modi series\\\"] = 1,\\n  [\\\"Navboxes bottom\\\"] = 1,\\n  [\\\"Navboxes top\\\"] = 1,\\n  [\\\"New York Times topic\\\"] = 1,\\n  [\\\"Notelist\\\"] = 1,\\n  [\\\"Official website\\\"] = 1,\\n  [\\\"Portal bar\\\"] = 1,\\n  [\\\"Pp-move-vandalism\\\"] = 1,\\n  [\\\"Pp-protected\\\"] = 1,\\n  [\\\"Pp-semi-indef\\\"] = 1,\\n  [\\\"Pp-semi-vandalism\\\"] = 1,\\n  [\\\"Pp-vandalism\\\"] = 1,\\n  [\\\"Primary source inline\\\"] = 1,\\n  [\\\"Prime Ministers of India\\\"] = 1,\\n  [\\\"Pronunciation\\\"] = 1,\\n  [\\\"Refbegin\\\"] = 1,\\n  [\\\"Refend\\\"] = 1,\\n  [\\\"Reflist\\\"] = 1,\\n  [\\\"S-aft\\\"] = 3,\\n  [\\\"S-bef\\\"] = 6,\\n  [\\\"S-end\\\"] = 1,\\n  [\\\"S-inc\\\"] = 3,\\n  [\\\"S-off\\\"] = 1,\\n  [\\\"S-par\\\"] = 2,\\n  [\\\"S-start\\\"] = 1,\\n  [\\\"S-ttl\\\"] = 6,\\n  [\\\"Second Narendra Modi Cabinet\\\"] = 1,\\n  [\\\"See also\\\"] = 1,\\n  [\\\"Sfn\\\"] = 36,\\n  [\\\"Short description\\\"] = 1,\\n  [\\\"Sister project links\\\"] = 1,\\n  [\\\"Small\\\"] = 1,\\n  [\\\"Subscription required\\\"] = 2,\\n  [\\\"Ubl\\\"] = 1,\\n  [\\\"Url\\\"] = 2,\\n  [\\\"Use Indian English\\\"] = 1,\\n  [\\\"Use dmy dates\\\"] = 1,\\n}\\narticle_whitelist = table#1 {\\n}\\n\",\"limitreport-profile\":[[\"?\",\"920\",\"25.4\"],[\"recursiveClone \\u003CmwInit.lua:41\\u003E\",\"400\",\"11.0\"],[\"Scribunto_LuaSandboxCallback::match\",\"360\",\"9.9\"],[\"Scribunto_LuaSandboxCallback::gsub\",\"220\",\"6.1\"],[\"Scribunto_LuaSandboxCallback::callParserFunction\",\"200\",\"5.5\"],[\"Scribunto_LuaSandboxCallback::getAllExpandedArguments\",\"160\",\"4.4\"],[\"Scribunto_LuaSandboxCallback::find\",\"120\",\"3.3\"],[\"Scribunto_LuaSandboxCallback::getExpandedArgument\",\"120\",\"3.3\"],[\"\\u003Cmw.lua:683\\u003E\",\"120\",\"3.3\"],[\"dataWrapper \\u003Cmw.lua:661\\u003E\",\"100\",\"2.8\"],[\"[others]\",\"900\",\"24.9\"]]},\"cachereport\":{\"origin\":\"mw1325\",\"timestamp\":\"20210112180858\",\"ttl\":2592000,\"transientcontent\":false}}});});</script>\n",
       "<script type=\"application/ld+json\">{\"@context\":\"https:\\/\\/schema.org\",\"@type\":\"Article\",\"name\":\"Narendra Modi\",\"url\":\"https:\\/\\/en.wikipedia.org\\/wiki\\/Narendra_Modi\",\"sameAs\":\"http:\\/\\/www.wikidata.org\\/entity\\/Q1058\",\"mainEntity\":\"http:\\/\\/www.wikidata.org\\/entity\\/Q1058\",\"author\":{\"@type\":\"Organization\",\"name\":\"Contributors to Wikimedia projects\"},\"publisher\":{\"@type\":\"Organization\",\"name\":\"Wikimedia Foundation, Inc.\",\"logo\":{\"@type\":\"ImageObject\",\"url\":\"https:\\/\\/www.wikimedia.org\\/static\\/images\\/wmf-hor-googpub.png\"}},\"datePublished\":\"2003-01-04T00:18:29Z\",\"dateModified\":\"2021-01-12T18:08:27Z\",\"image\":\"https:\\/\\/upload.wikimedia.org\\/wikipedia\\/commons\\/2\\/2e\\/Prime_Minister%2C_Shri_Narendra_Modi%2C_in_New_Delhi_on_August_08%2C_2019_%28cropped%29.jpg\",\"headline\":\"Prime Minister of India and former Chief minister of Gujarat\"}</script>\n",
       "<script>(RLQ=window.RLQ||[]).push(function(){mw.config.set({\"wgBackendResponseTime\":222,\"wgHostname\":\"mw1387\"});});</script>\n",
       "</body></html>"
      ]
     },
     "metadata": {},
     "execution_count": 165
    }
   ],
   "source": [
    "# Step 2: Dumping all the content to this special variable called SOUP\n",
    "import bs4\n",
    "soup = bs4.BeautifulSoup(req.text, 'lxml')\n",
    "soup\n"
   ]
  },
  {
   "cell_type": "code",
   "execution_count": 168,
   "metadata": {},
   "outputs": [
    {
     "output_type": "execute_result",
     "data": {
      "text/plain": [
       "[]"
      ]
     },
     "metadata": {},
     "execution_count": 168
    }
   ],
   "source": [
    "#picture = \n",
    "soup.select('src')\n",
    "#picture['src']"
   ]
  },
  {
   "cell_type": "code",
   "execution_count": 150,
   "metadata": {},
   "outputs": [],
   "source": [
    "#"
   ]
  }
 ]
}