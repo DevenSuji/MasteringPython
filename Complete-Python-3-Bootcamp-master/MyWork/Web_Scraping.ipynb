{
 "metadata": {
  "language_info": {
   "codemirror_mode": {
    "name": "ipython",
    "version": 3
   },
   "file_extension": ".py",
   "mimetype": "text/x-python",
   "name": "python",
   "nbconvert_exporter": "python",
   "pygments_lexer": "ipython3",
   "version": "3.9.0-final"
  },
  "orig_nbformat": 2,
  "kernelspec": {
   "name": "python3",
   "display_name": "Python 3",
   "language": "python"
  }
 },
 "nbformat": 4,
 "nbformat_minor": 2,
 "cells": [
  {
   "source": [
    "# <u>Web Scraping</u>"
   ],
   "cell_type": "markdown",
   "metadata": {}
  },
  {
   "cell_type": "code",
   "execution_count": 2,
   "metadata": {},
   "outputs": [],
   "source": [
    "import requests"
   ]
  },
  {
   "cell_type": "code",
   "execution_count": 4,
   "metadata": {},
   "outputs": [],
   "source": [
    "result = requests.get(\"http://www.example.com\")"
   ]
  },
  {
   "cell_type": "code",
   "execution_count": 5,
   "metadata": {},
   "outputs": [
    {
     "output_type": "execute_result",
     "data": {
      "text/plain": [
       "requests.models.Response"
      ]
     },
     "metadata": {},
     "execution_count": 5
    }
   ],
   "source": [
    "type(result)"
   ]
  },
  {
   "cell_type": "code",
   "execution_count": 6,
   "metadata": {},
   "outputs": [
    {
     "output_type": "execute_result",
     "data": {
      "text/plain": [
       "'<!doctype html>\\n<html>\\n<head>\\n    <title>Example Domain</title>\\n\\n    <meta charset=\"utf-8\" />\\n    <meta http-equiv=\"Content-type\" content=\"text/html; charset=utf-8\" />\\n    <meta name=\"viewport\" content=\"width=device-width, initial-scale=1\" />\\n    <style type=\"text/css\">\\n    body {\\n        background-color: #f0f0f2;\\n        margin: 0;\\n        padding: 0;\\n        font-family: -apple-system, system-ui, BlinkMacSystemFont, \"Segoe UI\", \"Open Sans\", \"Helvetica Neue\", Helvetica, Arial, sans-serif;\\n        \\n    }\\n    div {\\n        width: 600px;\\n        margin: 5em auto;\\n        padding: 2em;\\n        background-color: #fdfdff;\\n        border-radius: 0.5em;\\n        box-shadow: 2px 3px 7px 2px rgba(0,0,0,0.02);\\n    }\\n    a:link, a:visited {\\n        color: #38488f;\\n        text-decoration: none;\\n    }\\n    @media (max-width: 700px) {\\n        div {\\n            margin: 0 auto;\\n            width: auto;\\n        }\\n    }\\n    </style>    \\n</head>\\n\\n<body>\\n<div>\\n    <h1>Example Domain</h1>\\n    <p>This domain is for use in illustrative examples in documents. You may use this\\n    domain in literature without prior coordination or asking for permission.</p>\\n    <p><a href=\"https://www.iana.org/domains/example\">More information...</a></p>\\n</div>\\n</body>\\n</html>\\n'"
      ]
     },
     "metadata": {},
     "execution_count": 6
    }
   ],
   "source": [
    "result.text"
   ]
  },
  {
   "cell_type": "code",
   "execution_count": 7,
   "metadata": {},
   "outputs": [],
   "source": [
    "import bs4"
   ]
  },
  {
   "cell_type": "code",
   "execution_count": 8,
   "metadata": {},
   "outputs": [],
   "source": [
    "soup = bs4.BeautifulSoup(result.text,'lxml')"
   ]
  },
  {
   "cell_type": "code",
   "execution_count": 9,
   "metadata": {},
   "outputs": [
    {
     "output_type": "execute_result",
     "data": {
      "text/plain": [
       "<!DOCTYPE html>\n",
       "<html>\n",
       "<head>\n",
       "<title>Example Domain</title>\n",
       "<meta charset=\"utf-8\"/>\n",
       "<meta content=\"text/html; charset=utf-8\" http-equiv=\"Content-type\"/>\n",
       "<meta content=\"width=device-width, initial-scale=1\" name=\"viewport\"/>\n",
       "<style type=\"text/css\">\n",
       "    body {\n",
       "        background-color: #f0f0f2;\n",
       "        margin: 0;\n",
       "        padding: 0;\n",
       "        font-family: -apple-system, system-ui, BlinkMacSystemFont, \"Segoe UI\", \"Open Sans\", \"Helvetica Neue\", Helvetica, Arial, sans-serif;\n",
       "        \n",
       "    }\n",
       "    div {\n",
       "        width: 600px;\n",
       "        margin: 5em auto;\n",
       "        padding: 2em;\n",
       "        background-color: #fdfdff;\n",
       "        border-radius: 0.5em;\n",
       "        box-shadow: 2px 3px 7px 2px rgba(0,0,0,0.02);\n",
       "    }\n",
       "    a:link, a:visited {\n",
       "        color: #38488f;\n",
       "        text-decoration: none;\n",
       "    }\n",
       "    @media (max-width: 700px) {\n",
       "        div {\n",
       "            margin: 0 auto;\n",
       "            width: auto;\n",
       "        }\n",
       "    }\n",
       "    </style>\n",
       "</head>\n",
       "<body>\n",
       "<div>\n",
       "<h1>Example Domain</h1>\n",
       "<p>This domain is for use in illustrative examples in documents. You may use this\n",
       "    domain in literature without prior coordination or asking for permission.</p>\n",
       "<p><a href=\"https://www.iana.org/domains/example\">More information...</a></p>\n",
       "</div>\n",
       "</body>\n",
       "</html>"
      ]
     },
     "metadata": {},
     "execution_count": 9
    }
   ],
   "source": [
    "soup"
   ]
  },
  {
   "cell_type": "code",
   "execution_count": 11,
   "metadata": {},
   "outputs": [
    {
     "output_type": "execute_result",
     "data": {
      "text/plain": [
       "[<p>This domain is for use in illustrative examples in documents. You may use this\n",
       "     domain in literature without prior coordination or asking for permission.</p>,\n",
       " <p><a href=\"https://www.iana.org/domains/example\">More information...</a></p>]"
      ]
     },
     "metadata": {},
     "execution_count": 11
    }
   ],
   "source": [
    "soup.select('p')"
   ]
  },
  {
   "cell_type": "code",
   "execution_count": 12,
   "metadata": {},
   "outputs": [
    {
     "output_type": "execute_result",
     "data": {
      "text/plain": [
       "[<title>Example Domain</title>]"
      ]
     },
     "metadata": {},
     "execution_count": 12
    }
   ],
   "source": [
    "soup.select('title')"
   ]
  },
  {
   "cell_type": "code",
   "execution_count": 13,
   "metadata": {},
   "outputs": [
    {
     "output_type": "execute_result",
     "data": {
      "text/plain": [
       "[<h1>Example Domain</h1>]"
      ]
     },
     "metadata": {},
     "execution_count": 13
    }
   ],
   "source": [
    "soup.select('h1')"
   ]
  },
  {
   "cell_type": "code",
   "execution_count": 15,
   "metadata": {},
   "outputs": [
    {
     "output_type": "execute_result",
     "data": {
      "text/plain": [
       "'Example Domain'"
      ]
     },
     "metadata": {},
     "execution_count": 15
    }
   ],
   "source": [
    "soup.select('title')[0].getText()"
   ]
  },
  {
   "cell_type": "code",
   "execution_count": 16,
   "metadata": {},
   "outputs": [],
   "source": [
    "site_paragraphs = soup.select('p')"
   ]
  },
  {
   "cell_type": "code",
   "execution_count": 18,
   "metadata": {},
   "outputs": [
    {
     "output_type": "execute_result",
     "data": {
      "text/plain": [
       "'This domain is for use in illustrative examples in documents. You may use this\\n    domain in literature without prior coordination or asking for permission.'"
      ]
     },
     "metadata": {},
     "execution_count": 18
    }
   ],
   "source": [
    "site_paragraphs[0].getText()"
   ]
  },
  {
   "cell_type": "code",
   "execution_count": 19,
   "metadata": {},
   "outputs": [],
   "source": [
    "req = requests.get('https://en.wikipedia.org/wiki/Grace_Hopper')"
   ]
  },
  {
   "cell_type": "code",
   "execution_count": 20,
   "metadata": {},
   "outputs": [],
   "source": [
    "soup = bs4.BeautifulSoup(req.text,'lxml')"
   ]
  },
  {
   "cell_type": "code",
   "execution_count": 21,
   "metadata": {},
   "outputs": [
    {
     "output_type": "execute_result",
     "data": {
      "text/plain": [
       "[<span class=\"toctext\">Early life and education</span>,\n",
       " <span class=\"toctext\">Career</span>,\n",
       " <span class=\"toctext\">World War II</span>,\n",
       " <span class=\"toctext\">UNIVAC</span>,\n",
       " <span class=\"toctext\">COBOL</span>,\n",
       " <span class=\"toctext\">Standards</span>,\n",
       " <span class=\"toctext\">Retirement</span>,\n",
       " <span class=\"toctext\">Post-retirement</span>,\n",
       " <span class=\"toctext\">Anecdotes</span>,\n",
       " <span class=\"toctext\">Death</span>,\n",
       " <span class=\"toctext\">Dates of rank</span>,\n",
       " <span class=\"toctext\">Awards and honors</span>,\n",
       " <span class=\"toctext\">Military awards</span>,\n",
       " <span class=\"toctext\">Other awards</span>,\n",
       " <span class=\"toctext\">Legacy</span>,\n",
       " <span class=\"toctext\">Places</span>,\n",
       " <span class=\"toctext\">Programs</span>,\n",
       " <span class=\"toctext\">In popular culture</span>,\n",
       " <span class=\"toctext\">Grace Hopper Celebration of Women in Computing</span>,\n",
       " <span class=\"toctext\">See also</span>,\n",
       " <span class=\"toctext\">Notes</span>,\n",
       " <span class=\"toctext\">Obituary notices</span>,\n",
       " <span class=\"toctext\">References</span>,\n",
       " <span class=\"toctext\">Further reading</span>,\n",
       " <span class=\"toctext\">External links</span>]"
      ]
     },
     "metadata": {},
     "execution_count": 21
    }
   ],
   "source": [
    "soup.select('.toctext')"
   ]
  },
  {
   "cell_type": "code",
   "execution_count": 23,
   "metadata": {},
   "outputs": [
    {
     "output_type": "execute_result",
     "data": {
      "text/plain": [
       "'Early life and education'"
      ]
     },
     "metadata": {},
     "execution_count": 23
    }
   ],
   "source": [
    "soup.select('.toctext')[0].text"
   ]
  },
  {
   "cell_type": "code",
   "execution_count": 24,
   "metadata": {},
   "outputs": [
    {
     "output_type": "stream",
     "name": "stdout",
     "text": [
      "Early life and education\nCareer\nWorld War II\nUNIVAC\nCOBOL\nStandards\nRetirement\nPost-retirement\nAnecdotes\nDeath\nDates of rank\nAwards and honors\nMilitary awards\nOther awards\nLegacy\nPlaces\nPrograms\nIn popular culture\nGrace Hopper Celebration of Women in Computing\nSee also\nNotes\nObituary notices\nReferences\nFurther reading\nExternal links\n"
     ]
    }
   ],
   "source": [
    "for item in soup.select('.toctext'):\n",
    "    print(item.text)"
   ]
  }
 ]
}