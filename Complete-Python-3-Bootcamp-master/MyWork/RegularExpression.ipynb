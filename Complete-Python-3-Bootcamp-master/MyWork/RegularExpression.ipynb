{
 "metadata": {
  "language_info": {
   "codemirror_mode": {
    "name": "ipython",
    "version": 3
   },
   "file_extension": ".py",
   "mimetype": "text/x-python",
   "name": "python",
   "nbconvert_exporter": "python",
   "pygments_lexer": "ipython3",
   "version": "3.9.0-final"
  },
  "orig_nbformat": 2,
  "kernelspec": {
   "name": "python3",
   "display_name": "Python 3",
   "language": "python"
  }
 },
 "nbformat": 4,
 "nbformat_minor": 2,
 "cells": [
  {
   "source": [
    "# <u>Regular Expressions</u>"
   ],
   "cell_type": "markdown",
   "metadata": {}
  },
  {
   "cell_type": "code",
   "execution_count": 15,
   "metadata": {},
   "outputs": [],
   "source": [
    "text = \"The agent's phone number is 408-555-1234. Call soon!\""
   ]
  },
  {
   "cell_type": "code",
   "execution_count": 2,
   "metadata": {},
   "outputs": [],
   "source": [
    "import re"
   ]
  },
  {
   "cell_type": "code",
   "execution_count": 16,
   "metadata": {},
   "outputs": [],
   "source": [
    "pattern = 'phone'"
   ]
  },
  {
   "cell_type": "code",
   "execution_count": 6,
   "metadata": {},
   "outputs": [
    {
     "output_type": "execute_result",
     "data": {
      "text/plain": [
       "<re.Match object; span=(12, 17), match='phone'>"
      ]
     },
     "metadata": {},
     "execution_count": 6
    }
   ],
   "source": [
    "re.search(pattern,text)"
   ]
  },
  {
   "cell_type": "code",
   "execution_count": 13,
   "metadata": {},
   "outputs": [],
   "source": [
    "pattern = 'NOT IN TEXT'"
   ]
  },
  {
   "cell_type": "code",
   "execution_count": 18,
   "metadata": {},
   "outputs": [],
   "source": [
    "match = re.search(pattern,text)"
   ]
  },
  {
   "cell_type": "code",
   "execution_count": 19,
   "metadata": {},
   "outputs": [
    {
     "output_type": "execute_result",
     "data": {
      "text/plain": [
       "(12, 17)"
      ]
     },
     "metadata": {},
     "execution_count": 19
    }
   ],
   "source": [
    "match.span()"
   ]
  },
  {
   "cell_type": "code",
   "execution_count": 20,
   "metadata": {},
   "outputs": [
    {
     "output_type": "execute_result",
     "data": {
      "text/plain": [
       "12"
      ]
     },
     "metadata": {},
     "execution_count": 20
    }
   ],
   "source": [
    "match.start()"
   ]
  },
  {
   "cell_type": "code",
   "execution_count": 21,
   "metadata": {},
   "outputs": [
    {
     "output_type": "execute_result",
     "data": {
      "text/plain": [
       "17"
      ]
     },
     "metadata": {},
     "execution_count": 21
    }
   ],
   "source": [
    "match.end()"
   ]
  },
  {
   "source": [
    "### Unfortunately it gets us only the first match. Does not by default get all the matches."
   ],
   "cell_type": "markdown",
   "metadata": {}
  },
  {
   "cell_type": "code",
   "execution_count": 22,
   "metadata": {},
   "outputs": [],
   "source": [
    "text = \" phone one phone twice\""
   ]
  },
  {
   "cell_type": "code",
   "execution_count": 23,
   "metadata": {},
   "outputs": [],
   "source": [
    "pattern = 'phone'"
   ]
  },
  {
   "cell_type": "code",
   "execution_count": 24,
   "metadata": {},
   "outputs": [
    {
     "output_type": "execute_result",
     "data": {
      "text/plain": [
       "<re.Match object; span=(1, 6), match='phone'>"
      ]
     },
     "metadata": {},
     "execution_count": 24
    }
   ],
   "source": [
    "re.search(pattern,text)"
   ]
  },
  {
   "cell_type": "code",
   "execution_count": 25,
   "metadata": {},
   "outputs": [],
   "source": [
    "matches = re.findall('phone',text)"
   ]
  },
  {
   "cell_type": "code",
   "execution_count": 26,
   "metadata": {},
   "outputs": [
    {
     "output_type": "execute_result",
     "data": {
      "text/plain": [
       "['phone', 'phone']"
      ]
     },
     "metadata": {},
     "execution_count": 26
    }
   ],
   "source": [
    "matches"
   ]
  },
  {
   "cell_type": "code",
   "execution_count": 27,
   "metadata": {},
   "outputs": [
    {
     "output_type": "execute_result",
     "data": {
      "text/plain": [
       "2"
      ]
     },
     "metadata": {},
     "execution_count": 27
    }
   ],
   "source": [
    "len(matches)"
   ]
  },
  {
   "cell_type": "code",
   "execution_count": 33,
   "metadata": {},
   "outputs": [
    {
     "output_type": "stream",
     "name": "stdout",
     "text": [
      "(1, 6)\n(11, 16)\n"
     ]
    }
   ],
   "source": [
    "for match in re.finditer('phone',text):\n",
    "    print(match.span())"
   ]
  },
  {
   "cell_type": "code",
   "execution_count": 34,
   "metadata": {},
   "outputs": [
    {
     "output_type": "stream",
     "name": "stdout",
     "text": [
      "phone\nphone\n"
     ]
    }
   ],
   "source": [
    "for match in re.finditer('phone',text):\n",
    "    print(match.group())"
   ]
  },
  {
   "source": [
    "# <u>Using the pattern codes</u>\n",
    "\n",
    "| Character | Description | Example Pattern Code | Example Match |\n",
    "| --- | --- | --- | --- |\n",
    "| \\d | A digit | file_\\d\\d | file_25 |\n",
    "| \\w | Alphanumeric | \\w-\\w\\w\\w | A-b_1 |\n",
    "| \\s | White space | a\\sb\\sc | a b c |\n",
    "| \\D | A non digit | \\D\\D\\D | ABC |\n",
    "| \\W | Non-Alphanumeric | \\W\\W\\W\\W\\W | *-+) |\n",
    "| \\S | Non-Whitespace | \\S\\S\\S\\S | Yoyo |\n",
    "\n",
    "# <u>Quantifiers</u>\n",
    "\n",
    "| Character | Description | Example Pattern Code | Example Match |\n",
    "| --- | --- | --- | --- |\n",
    "| + | Occures one or more times | Version \\w-\\w+ | Version A-b1_1 |\n",
    "| {3} | Occurs Exactly 3 Times | \\D{3} | abc |\n",
    "| {2,4} | Occurs 2 to 4 Times | \\d{2,4} | 123 |\n",
    "| 3, | Occurs 3 or more times | \\w{3,} | anycharacters |\n",
    "| * | Occurs 0 or more times | ABC* | AAACC |\n",
    "| ? | Once or more | Plurals? | Plural |"
   ],
   "cell_type": "markdown",
   "metadata": {}
  },
  {
   "source": [],
   "cell_type": "markdown",
   "metadata": {}
  },
  {
   "cell_type": "code",
   "execution_count": 61,
   "metadata": {},
   "outputs": [
    {
     "output_type": "stream",
     "name": "stdout",
     "text": [
      "<re.Match object; span=(19, 34), match='+91-99162-53336'>\n(19, 34)\n"
     ]
    }
   ],
   "source": [
    "import re\n",
    "text = 'My phone number is +91-99162-53336'\n",
    "#phone = re.search('\\W\\d\\d-\\d\\d\\d\\d\\d-\\d\\d\\d\\d\\d',text) # This is also valid\n",
    "phone = re.search(r'\\W\\d{2}-\\d{5}-\\d{5}',text)\n",
    "print(phone)\n",
    "print(phone.span())"
   ]
  },
  {
   "cell_type": "code",
   "execution_count": 50,
   "metadata": {},
   "outputs": [
    {
     "output_type": "stream",
     "name": "stdout",
     "text": [
      "<re.Match object; span=(0, 12), match='10.150.23.45'>\n"
     ]
    }
   ],
   "source": [
    "text1 = '10.150.23.45'\n",
    "output = re.search(r'\\d{1,3}.\\d{1,3}.\\d{1,3}.\\d{1,3}',text1)\n",
    "print(output)"
   ]
  },
  {
   "cell_type": "code",
   "execution_count": 78,
   "metadata": {},
   "outputs": [
    {
     "output_type": "stream",
     "name": "stdout",
     "text": [
      "408-555-7777\n408\n555\n7777\n"
     ]
    }
   ],
   "source": [
    "text = 'My phone number is 408-555-7777'\n",
    "phone_pattern = re.compile(r'(\\d{3})-(\\d{3})-(\\d{4})')\n",
    "results = re.search(phone_pattern,text)\n",
    "print(results.group())\n",
    "print(results.group(1))\n",
    "print(results.group(2))\n",
    "print(results.group(3))"
   ]
  },
  {
   "cell_type": "code",
   "execution_count": 79,
   "metadata": {},
   "outputs": [
    {
     "output_type": "stream",
     "name": "stdout",
     "text": [
      "+91-99162-53336\n+91\n99162\n53336\n"
     ]
    }
   ],
   "source": [
    "text = 'My phone number is +91-99162-53336'\n",
    "phone_pattern = re.compile(r'(\\W\\d{2})-(\\d{5})-(\\d{5})')\n",
    "results = re.search(phone_pattern,text)\n",
    "print(results.group())\n",
    "print(results.group(1))\n",
    "print(results.group(2))\n",
    "print(results.group(3))"
   ]
  },
  {
   "source": [
    "# <u>Additional Regex Syntax</u>"
   ],
   "cell_type": "markdown",
   "metadata": {}
  },
  {
   "cell_type": "code",
   "execution_count": 87,
   "metadata": {},
   "outputs": [],
   "source": [
    "mat = re.search(r'cat','The cat is here')"
   ]
  },
  {
   "source": [
    "Let's say we want to match either cat or dog. The we can use the pipe operator that symbolises OR."
   ],
   "cell_type": "markdown",
   "metadata": {}
  },
  {
   "source": [
    "## OR Operator >> |"
   ],
   "cell_type": "markdown",
   "metadata": {}
  },
  {
   "cell_type": "code",
   "execution_count": 89,
   "metadata": {},
   "outputs": [
    {
     "output_type": "execute_result",
     "data": {
      "text/plain": [
       "<re.Match object; span=(4, 7), match='dog'>"
      ]
     },
     "metadata": {},
     "execution_count": 89
    }
   ],
   "source": [
    "re.search(r'cat|dog','The dog is here')"
   ]
  },
  {
   "source": [
    "## Wild Card Operator >> ."
   ],
   "cell_type": "markdown",
   "metadata": {}
  },
  {
   "cell_type": "code",
   "execution_count": 92,
   "metadata": {},
   "outputs": [
    {
     "output_type": "execute_result",
     "data": {
      "text/plain": [
       "['at', 'at', 'at']"
      ]
     },
     "metadata": {},
     "execution_count": 92
    }
   ],
   "source": [
    "# This example gets all the instances of at\n",
    "re.findall(r'at','The cat in the hat sat there.')"
   ]
  },
  {
   "cell_type": "code",
   "execution_count": 93,
   "metadata": {},
   "outputs": [
    {
     "output_type": "execute_result",
     "data": {
      "text/plain": [
       "['cat', 'hat', 'sat']"
      ]
     },
     "metadata": {},
     "execution_count": 93
    }
   ],
   "source": [
    "# This example gets all the word that has at in it.\n",
    "re.findall(r'.at','The cat in the hat sat there.')"
   ]
  },
  {
   "cell_type": "code",
   "execution_count": 95,
   "metadata": {},
   "outputs": [
    {
     "output_type": "execute_result",
     "data": {
      "text/plain": [
       "['e cat', 'e hat', 'splat']"
      ]
     },
     "metadata": {},
     "execution_count": 95
    }
   ],
   "source": [
    "re.findall(r'...at','The cat in the hat splat.')"
   ]
  },
  {
   "source": [
    "## Starts with using ^"
   ],
   "cell_type": "markdown",
   "metadata": {}
  },
  {
   "cell_type": "code",
   "execution_count": 99,
   "metadata": {},
   "outputs": [
    {
     "output_type": "execute_result",
     "data": {
      "text/plain": [
       "['1']"
      ]
     },
     "metadata": {},
     "execution_count": 99
    }
   ],
   "source": [
    "# Find the sentences that starts with a number and returns the number.\n",
    "re.findall(r'^\\d','1 is a number and so is 2 as well')"
   ]
  },
  {
   "source": [
    "## Ends with using $"
   ],
   "cell_type": "markdown",
   "metadata": {}
  },
  {
   "cell_type": "code",
   "execution_count": 101,
   "metadata": {},
   "outputs": [
    {
     "output_type": "execute_result",
     "data": {
      "text/plain": [
       "['2']"
      ]
     },
     "metadata": {},
     "execution_count": 101
    }
   ],
   "source": [
    "re.findall(r'\\d$','number is 2')"
   ]
  },
  {
   "source": [
    "## Exclusions"
   ],
   "cell_type": "markdown",
   "metadata": {}
  },
  {
   "cell_type": "code",
   "execution_count": 103,
   "metadata": {},
   "outputs": [],
   "source": [
    "phrase = 'there 3 are numbers 34 that 5 cannot be defined'"
   ]
  },
  {
   "cell_type": "code",
   "execution_count": 106,
   "metadata": {},
   "outputs": [],
   "source": [
    "# Getting back all the elements excluding the numbers\n",
    "pattern=r'[^\\d]+'"
   ]
  },
  {
   "cell_type": "code",
   "execution_count": 110,
   "metadata": {},
   "outputs": [
    {
     "output_type": "execute_result",
     "data": {
      "text/plain": [
       "['there ', ' are numbers ', ' that ', ' cannot be defined']"
      ]
     },
     "metadata": {},
     "execution_count": 110
    }
   ],
   "source": [
    "re.findall(pattern,phrase)"
   ]
  },
  {
   "cell_type": "code",
   "execution_count": 111,
   "metadata": {},
   "outputs": [
    {
     "output_type": "execute_result",
     "data": {
      "text/plain": [
       "'there   are numbers   that   cannot be defined'"
      ]
     },
     "metadata": {},
     "execution_count": 111
    }
   ],
   "source": [
    "' '.join(re.findall(pattern,phrase))"
   ]
  },
  {
   "cell_type": "code",
   "execution_count": 112,
   "metadata": {},
   "outputs": [],
   "source": [
    "test_phrase = 'This is a string! But it has punctuation. How can we remove it?'"
   ]
  },
  {
   "cell_type": "code",
   "execution_count": 113,
   "metadata": {},
   "outputs": [],
   "source": [
    "clean = re.findall(r'[^!.?]+',test_phrase)"
   ]
  },
  {
   "cell_type": "code",
   "execution_count": 114,
   "metadata": {},
   "outputs": [
    {
     "output_type": "execute_result",
     "data": {
      "text/plain": [
       "'This is a string  But it has punctuation  How can we remove it'"
      ]
     },
     "metadata": {},
     "execution_count": 114
    }
   ],
   "source": [
    "' '.join(clean)"
   ]
  },
  {
   "cell_type": "code",
   "execution_count": 115,
   "metadata": {},
   "outputs": [],
   "source": [
    "test = 'Only find the hypen-words in this sentence. But you do not know how long-ish they are'"
   ]
  },
  {
   "cell_type": "code",
   "execution_count": 118,
   "metadata": {},
   "outputs": [],
   "source": [
    "pattern = r'[\\w]+-[\\w]+'"
   ]
  },
  {
   "cell_type": "code",
   "execution_count": 120,
   "metadata": {},
   "outputs": [
    {
     "output_type": "execute_result",
     "data": {
      "text/plain": [
       "['hypen-w', 'long-i']"
      ]
     },
     "metadata": {},
     "execution_count": 120
    }
   ],
   "source": [
    "re.findall(pattern,test)"
   ]
  },
  {
   "cell_type": "code",
   "execution_count": 121,
   "metadata": {},
   "outputs": [],
   "source": [
    "t = 'Hello, would you like some catfish?'\n",
    "u = \"Hello, would like to take a catnap?\"\n",
    "v = \"Hello, have you seen this caterpillar?\""
   ]
  },
  {
   "cell_type": "code",
   "execution_count": 125,
   "metadata": {},
   "outputs": [
    {
     "output_type": "execute_result",
     "data": {
      "text/plain": [
       "<re.Match object; span=(26, 37), match='caterpillar'>"
      ]
     },
     "metadata": {},
     "execution_count": 125
    }
   ],
   "source": [
    "re.search(r'cat(fish|nap|erpillar)',v)"
   ]
  }
 ]
}