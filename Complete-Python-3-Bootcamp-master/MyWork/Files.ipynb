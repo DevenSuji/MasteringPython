{
 "metadata": {
  "language_info": {
   "codemirror_mode": {
    "name": "ipython",
    "version": 3
   },
   "file_extension": ".py",
   "mimetype": "text/x-python",
   "name": "python",
   "nbconvert_exporter": "python",
   "pygments_lexer": "ipython3",
   "version": "3.9.0-final"
  },
  "orig_nbformat": 2,
  "kernelspec": {
   "name": "python3",
   "display_name": "Python 3",
   "language": "python"
  }
 },
 "nbformat": 4,
 "nbformat_minor": 2,
 "cells": [
  {
   "source": [
    "# Shutil and OS Module"
   ],
   "cell_type": "markdown",
   "metadata": {}
  },
  {
   "cell_type": "code",
   "execution_count": 19,
   "metadata": {},
   "outputs": [
    {
     "output_type": "execute_result",
     "data": {
      "text/plain": [
       "'c:\\\\Users\\\\sujide01\\\\Documents\\\\MasteringPython\\\\Complete-Python-3-Bootcamp-master\\\\MyWork'"
      ]
     },
     "metadata": {},
     "execution_count": 19
    }
   ],
   "source": [
    "pwd"
   ]
  },
  {
   "cell_type": "code",
   "execution_count": 20,
   "metadata": {},
   "outputs": [],
   "source": [
    "# Opening a File and Writing on it.\n",
    "# If the file is not present it will create the file and open it for writing operation.\n",
    "f = open('practice.txt','w+')\n",
    "f.write('This is how you write some text on a file.')\n",
    "f.close()"
   ]
  },
  {
   "cell_type": "code",
   "execution_count": 21,
   "metadata": {},
   "outputs": [],
   "source": [
    "import os"
   ]
  },
  {
   "cell_type": "code",
   "execution_count": 22,
   "metadata": {},
   "outputs": [
    {
     "output_type": "execute_result",
     "data": {
      "text/plain": [
       "'c:\\\\Users\\\\sujide01\\\\Documents\\\\MasteringPython\\\\Complete-Python-3-Bootcamp-master\\\\MyWork'"
      ]
     },
     "metadata": {},
     "execution_count": 22
    }
   ],
   "source": [
    "# Getting the current working directory. Note: cwd stands for Current Working Directory\n",
    "os.getcwd()"
   ]
  },
  {
   "cell_type": "code",
   "execution_count": 23,
   "metadata": {},
   "outputs": [
    {
     "output_type": "execute_result",
     "data": {
      "text/plain": [
       "['AcceptUserInput.ipynb',\n",
       " 'cap.py',\n",
       " 'CollectionsModule.ipynb',\n",
       " 'Decorators.ipynb',\n",
       " 'Dunder.ipynb',\n",
       " 'Files.ipynb',\n",
       " 'filterFunction.ipynb',\n",
       " 'Generators.ipynb',\n",
       " 'Inheritance.ipynb',\n",
       " 'lambdaExpression.ipynb',\n",
       " 'mapFunction.ipynb',\n",
       " 'MileStoneProject1.ipynb',\n",
       " 'MyMainPackage',\n",
       " 'mymodule.py',\n",
       " 'myprogram.py',\n",
       " 'ObjectOrientedProgramming.ipynb',\n",
       " 'Oop.ipynb',\n",
       " 'Polymorphism.ipynb',\n",
       " 'practice.txt',\n",
       " 'Scopes.ipynb',\n",
       " 'SendEmail.ipynb',\n",
       " 'simple.py',\n",
       " 'testfile',\n",
       " 'test_cap.py',\n",
       " 'Tic_Tac_Toe.ipynb',\n",
       " 'Try_Except_Finally.ipynb',\n",
       " 'ValidatingUserInput.ipynb',\n",
       " '__pycache__']"
      ]
     },
     "metadata": {},
     "execution_count": 23
    }
   ],
   "source": [
    "# Show me all the files in the current working directory\n",
    "os.listdir()"
   ]
  },
  {
   "cell_type": "code",
   "execution_count": 24,
   "metadata": {},
   "outputs": [
    {
     "output_type": "execute_result",
     "data": {
      "text/plain": [
       "['.NET v4.5',\n",
       " '.NET v4.5 Classic',\n",
       " 'Administrator',\n",
       " 'ADMINI~1',\n",
       " 'All Users',\n",
       " 'Default',\n",
       " 'Default User',\n",
       " 'DefaultAppPool',\n",
       " 'desktop.ini',\n",
       " 'MSSQL$POWERSHELLDB',\n",
       " 'MSSQLFDLauncher$POWERSHELLDB',\n",
       " 'MSSQLLaunchpad$POWERSHELLDB',\n",
       " 'NeatGroupAdmin',\n",
       " 'neatserveradmin',\n",
       " 'NeatWrkStnAdmin',\n",
       " 'Public',\n",
       " 'SQLTELEMETRY$POWERSHELLDB',\n",
       " 'sujide01',\n",
       " 'sujide01.T1_001',\n",
       " 'sujide01.T1_003']"
      ]
     },
     "metadata": {},
     "execution_count": 24
    }
   ],
   "source": [
    "os.listdir('c:\\\\Users')"
   ]
  },
  {
   "cell_type": "code",
   "execution_count": 25,
   "metadata": {},
   "outputs": [],
   "source": [
    "# Moving files around\n",
    "import shutil"
   ]
  },
  {
   "cell_type": "code",
   "execution_count": 26,
   "metadata": {},
   "outputs": [
    {
     "output_type": "execute_result",
     "data": {
      "text/plain": [
       "'c:\\\\Users\\\\sujide01\\\\Desktop\\\\practice.txt'"
      ]
     },
     "metadata": {},
     "execution_count": 26
    }
   ],
   "source": [
    "shutil.move('practice.txt','c:\\\\Users\\sujide01\\\\Desktop')"
   ]
  },
  {
   "cell_type": "code",
   "execution_count": 27,
   "metadata": {},
   "outputs": [
    {
     "output_type": "execute_result",
     "data": {
      "text/plain": [
       "['AcceptUserInput.ipynb',\n",
       " 'cap.py',\n",
       " 'CollectionsModule.ipynb',\n",
       " 'Decorators.ipynb',\n",
       " 'Dunder.ipynb',\n",
       " 'Files.ipynb',\n",
       " 'filterFunction.ipynb',\n",
       " 'Generators.ipynb',\n",
       " 'Inheritance.ipynb',\n",
       " 'lambdaExpression.ipynb',\n",
       " 'mapFunction.ipynb',\n",
       " 'MileStoneProject1.ipynb',\n",
       " 'MyMainPackage',\n",
       " 'mymodule.py',\n",
       " 'myprogram.py',\n",
       " 'ObjectOrientedProgramming.ipynb',\n",
       " 'Oop.ipynb',\n",
       " 'Polymorphism.ipynb',\n",
       " 'Scopes.ipynb',\n",
       " 'SendEmail.ipynb',\n",
       " 'simple.py',\n",
       " 'testfile',\n",
       " 'test_cap.py',\n",
       " 'Tic_Tac_Toe.ipynb',\n",
       " 'Try_Except_Finally.ipynb',\n",
       " 'ValidatingUserInput.ipynb',\n",
       " '__pycache__']"
      ]
     },
     "metadata": {},
     "execution_count": 27
    }
   ],
   "source": [
    "os.listdir()"
   ]
  },
  {
   "cell_type": "code",
   "execution_count": 28,
   "metadata": {},
   "outputs": [
    {
     "output_type": "execute_result",
     "data": {
      "text/plain": [
       "['2021.JPG',\n",
       " 'Covid19FinalAssessment.pdf',\n",
       " 'desktop.ini',\n",
       " 'iEvolve.lnk',\n",
       " 'ImmunizationSchedule.JPG',\n",
       " 'MY VDI DAYWRK64W10126.rdp',\n",
       " 'Personal',\n",
       " 'practice.txt',\n",
       " 'The Handbook of Technical Analysis.pdf',\n",
       " 'Windows']"
      ]
     },
     "metadata": {},
     "execution_count": 28
    }
   ],
   "source": [
    "os.listdir('c:\\\\Users\\sujide01\\\\Desktop')"
   ]
  },
  {
   "cell_type": "code",
   "execution_count": 29,
   "metadata": {},
   "outputs": [],
   "source": [
    "# Deleting a file\n",
    "import send2trash"
   ]
  },
  {
   "cell_type": "code",
   "execution_count": 30,
   "metadata": {},
   "outputs": [
    {
     "output_type": "execute_result",
     "data": {
      "text/plain": [
       "['AcceptUserInput.ipynb',\n",
       " 'cap.py',\n",
       " 'CollectionsModule.ipynb',\n",
       " 'Decorators.ipynb',\n",
       " 'Dunder.ipynb',\n",
       " 'Files.ipynb',\n",
       " 'filterFunction.ipynb',\n",
       " 'Generators.ipynb',\n",
       " 'Inheritance.ipynb',\n",
       " 'lambdaExpression.ipynb',\n",
       " 'mapFunction.ipynb',\n",
       " 'MileStoneProject1.ipynb',\n",
       " 'MyMainPackage',\n",
       " 'mymodule.py',\n",
       " 'myprogram.py',\n",
       " 'ObjectOrientedProgramming.ipynb',\n",
       " 'Oop.ipynb',\n",
       " 'Polymorphism.ipynb',\n",
       " 'Scopes.ipynb',\n",
       " 'SendEmail.ipynb',\n",
       " 'simple.py',\n",
       " 'testfile',\n",
       " 'test_cap.py',\n",
       " 'Tic_Tac_Toe.ipynb',\n",
       " 'Try_Except_Finally.ipynb',\n",
       " 'ValidatingUserInput.ipynb',\n",
       " '__pycache__']"
      ]
     },
     "metadata": {},
     "execution_count": 30
    }
   ],
   "source": [
    "os.listdir()"
   ]
  },
  {
   "cell_type": "code",
   "execution_count": 31,
   "metadata": {},
   "outputs": [
    {
     "output_type": "execute_result",
     "data": {
      "text/plain": [
       "'c:\\\\Users\\\\sujide01\\\\Documents\\\\MasteringPython\\\\Complete-Python-3-Bootcamp-master\\\\MyWork\\\\practice.txt'"
      ]
     },
     "metadata": {},
     "execution_count": 31
    }
   ],
   "source": [
    "shutil.move('c:\\\\Users\\\\Sujide01\\\\Desktop\\\\practice.txt', os.getcwd())"
   ]
  },
  {
   "cell_type": "code",
   "execution_count": 33,
   "metadata": {},
   "outputs": [
    {
     "output_type": "execute_result",
     "data": {
      "text/plain": [
       "['AcceptUserInput.ipynb',\n",
       " 'cap.py',\n",
       " 'CollectionsModule.ipynb',\n",
       " 'Decorators.ipynb',\n",
       " 'Dunder.ipynb',\n",
       " 'Files.ipynb',\n",
       " 'filterFunction.ipynb',\n",
       " 'Generators.ipynb',\n",
       " 'Inheritance.ipynb',\n",
       " 'lambdaExpression.ipynb',\n",
       " 'mapFunction.ipynb',\n",
       " 'MileStoneProject1.ipynb',\n",
       " 'MyMainPackage',\n",
       " 'mymodule.py',\n",
       " 'myprogram.py',\n",
       " 'ObjectOrientedProgramming.ipynb',\n",
       " 'Oop.ipynb',\n",
       " 'Polymorphism.ipynb',\n",
       " 'practice.txt',\n",
       " 'Scopes.ipynb',\n",
       " 'SendEmail.ipynb',\n",
       " 'simple.py',\n",
       " 'testfile',\n",
       " 'test_cap.py',\n",
       " 'Tic_Tac_Toe.ipynb',\n",
       " 'Try_Except_Finally.ipynb',\n",
       " 'ValidatingUserInput.ipynb',\n",
       " '__pycache__']"
      ]
     },
     "metadata": {},
     "execution_count": 33
    }
   ],
   "source": [
    "os.listdir()"
   ]
  },
  {
   "cell_type": "code",
   "execution_count": 34,
   "metadata": {},
   "outputs": [],
   "source": [
    "send2trash.send2trash('practice.txt')"
   ]
  },
  {
   "cell_type": "code",
   "execution_count": 35,
   "metadata": {},
   "outputs": [
    {
     "output_type": "execute_result",
     "data": {
      "text/plain": [
       "['AcceptUserInput.ipynb',\n",
       " 'cap.py',\n",
       " 'CollectionsModule.ipynb',\n",
       " 'Decorators.ipynb',\n",
       " 'Dunder.ipynb',\n",
       " 'Files.ipynb',\n",
       " 'filterFunction.ipynb',\n",
       " 'Generators.ipynb',\n",
       " 'Inheritance.ipynb',\n",
       " 'lambdaExpression.ipynb',\n",
       " 'mapFunction.ipynb',\n",
       " 'MileStoneProject1.ipynb',\n",
       " 'MyMainPackage',\n",
       " 'mymodule.py',\n",
       " 'myprogram.py',\n",
       " 'ObjectOrientedProgramming.ipynb',\n",
       " 'Oop.ipynb',\n",
       " 'Polymorphism.ipynb',\n",
       " 'Scopes.ipynb',\n",
       " 'SendEmail.ipynb',\n",
       " 'simple.py',\n",
       " 'testfile',\n",
       " 'test_cap.py',\n",
       " 'Tic_Tac_Toe.ipynb',\n",
       " 'Try_Except_Finally.ipynb',\n",
       " 'ValidatingUserInput.ipynb',\n",
       " '__pycache__']"
      ]
     },
     "metadata": {},
     "execution_count": 35
    }
   ],
   "source": [
    "os.listdir()"
   ]
  },
  {
   "cell_type": "code",
   "execution_count": 36,
   "metadata": {},
   "outputs": [
    {
     "output_type": "execute_result",
     "data": {
      "text/plain": [
       "'c:\\\\Users\\\\sujide01\\\\Documents\\\\MasteringPython\\\\Complete-Python-3-Bootcamp-master\\\\MyWork'"
      ]
     },
     "metadata": {},
     "execution_count": 36
    }
   ],
   "source": [
    "os.getcwd()"
   ]
  },
  {
   "cell_type": "code",
   "execution_count": 41,
   "metadata": {},
   "outputs": [],
   "source": [
    "file_path = 'c:\\\\Users\\\\sujide01\\\\Documents\\\\MasteringPython\\\\Complete-Python-3-Bootcamp-master\\\\MyWork'"
   ]
  },
  {
   "cell_type": "code",
   "execution_count": 44,
   "metadata": {},
   "outputs": [
    {
     "output_type": "stream",
     "name": "stdout",
     "text": [
      "Looking at folder c:\\Users\\sujide01\\Documents\\MasteringPython\\Complete-Python-3-Bootcamp-master\\MyWork\n\n\nThe Subfolders are: \n\tSubfolder: MyMainPackage\n\tSubfolder: __pycache__\n\n\nHere are the files: \n\tFile: AcceptUserInput.ipynb\n\tFile: cap.py\n\tFile: CollectionsModule.ipynb\n\tFile: Decorators.ipynb\n\tFile: Dunder.ipynb\n\tFile: Files.ipynb\n\tFile: filterFunction.ipynb\n\tFile: Generators.ipynb\n\tFile: Inheritance.ipynb\n\tFile: lambdaExpression.ipynb\n\tFile: mapFunction.ipynb\n\tFile: MileStoneProject1.ipynb\n\tFile: mymodule.py\n\tFile: myprogram.py\n\tFile: ObjectOrientedProgramming.ipynb\n\tFile: Oop.ipynb\n\tFile: Polymorphism.ipynb\n\tFile: Scopes.ipynb\n\tFile: SendEmail.ipynb\n\tFile: simple.py\n\tFile: testfile\n\tFile: test_cap.py\n\tFile: Tic_Tac_Toe.ipynb\n\tFile: Try_Except_Finally.ipynb\n\tFile: ValidatingUserInput.ipynb\n\n\nLooking at folder c:\\Users\\sujide01\\Documents\\MasteringPython\\Complete-Python-3-Bootcamp-master\\MyWork\\MyMainPackage\n\n\nThe Subfolders are: \n\tSubfolder: SubPackage\n\tSubfolder: __pycache__\n\n\nHere are the files: \n\tFile: One.py\n\tFile: some_main_script.py\n\tFile: Two.py\n\tFile: __init__.py\n\n\nLooking at folder c:\\Users\\sujide01\\Documents\\MasteringPython\\Complete-Python-3-Bootcamp-master\\MyWork\\MyMainPackage\\SubPackage\n\n\nThe Subfolders are: \n\tSubfolder: __pycache__\n\n\nHere are the files: \n\tFile: mysubscript.py\n\tFile: __init__.py\n\n\nLooking at folder c:\\Users\\sujide01\\Documents\\MasteringPython\\Complete-Python-3-Bootcamp-master\\MyWork\\MyMainPackage\\SubPackage\\__pycache__\n\n\nThe Subfolders are: \n\n\nHere are the files: \n\tFile: mysubscript.cpython-39.pyc\n\tFile: __init__.cpython-39.pyc\n\n\nLooking at folder c:\\Users\\sujide01\\Documents\\MasteringPython\\Complete-Python-3-Bootcamp-master\\MyWork\\MyMainPackage\\__pycache__\n\n\nThe Subfolders are: \n\n\nHere are the files: \n\tFile: One.cpython-39.pyc\n\tFile: some_main_script.cpython-39.pyc\n\tFile: __init__.cpython-39.pyc\n\n\nLooking at folder c:\\Users\\sujide01\\Documents\\MasteringPython\\Complete-Python-3-Bootcamp-master\\MyWork\\__pycache__\n\n\nThe Subfolders are: \n\n\nHere are the files: \n\tFile: cap.cpython-39.pyc\n\tFile: mymodule.cpython-39.pyc\n\n\n"
     ]
    }
   ],
   "source": [
    "for folder,sub_folders,files in os.walk(file_path):\n",
    "    print(f'Looking at folder {folder}')\n",
    "    print('\\n')\n",
    "    print('The Subfolders are: ')\n",
    "    for sub_fold in sub_folders:\n",
    "        print(f'\\tSubfolder: {sub_fold}')\n",
    "\n",
    "    print('\\n')\n",
    "    print('Here are the files: ')\n",
    "    for f in files:\n",
    "        print(f'\\tFile: {f}')\n",
    "    print('\\n')\n",
    "\n"
   ]
  }
 ]
}