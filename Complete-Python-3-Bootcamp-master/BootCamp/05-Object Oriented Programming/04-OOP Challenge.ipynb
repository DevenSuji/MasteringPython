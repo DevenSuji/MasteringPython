{
 "cells": [
  {
   "cell_type": "markdown",
   "metadata": {},
   "source": [
    "# Object Oriented Programming Challenge\n",
    "\n",
    "For this challenge, create a bank account class that has two attributes:\n",
    "\n",
    "* owner\n",
    "* balance\n",
    "\n",
    "and two methods:\n",
    "\n",
    "* deposit\n",
    "* withdraw\n",
    "\n",
    "As an added requirement, withdrawals may not exceed the available balance.\n",
    "\n",
    "Instantiate your class, make several deposits and withdrawals, and test to make sure the account can't be overdrawn."
   ]
  },
  {
   "cell_type": "code",
   "execution_count": 60,
   "metadata": {
    "collapsed": true
   },
   "outputs": [],
   "source": [
    "class Account():\n",
    "\n",
    "    def __init__(self,owner,balance=0):\n",
    "\n",
    "        self.owner = owner\n",
    "        self.balance = balance\n",
    "\n",
    "    def __str__(self):\n",
    "        return f\"Owner: {self.owner}\\nBalance: {self.balance}\"\n",
    "\n",
    "    def deposit(self,deposit_amount):\n",
    "\n",
    "        self.balance = self.balance + deposit_amount\n",
    "        print(f\"Added ${deposit_amount} to your balance\")\n",
    "        print(f\"Your current new balance is ${self.balance}\")\n",
    "\n",
    "\n",
    "    def withdrawl(self,withdrawl_amount):\n",
    "\n",
    "        if self.balance >= withdrawl_amount:\n",
    "            self.balance = self.balance - withdrawl_amount\n",
    "            print(f\"Your account has been debited by ${withdrawl_amount}\")\n",
    "            print(f\"Your current new balance is ${self.balance}\")\n",
    "        else:\n",
    "            print(\"Sorry!! You do not have enough balance!!!!\")"
   ]
  },
  {
   "cell_type": "code",
   "execution_count": 61,
   "metadata": {
    "collapsed": true
   },
   "outputs": [],
   "source": [
    "# 1. Instantiate the class\n",
    "acc = Account('Deven',10000000000000)"
   ]
  },
  {
   "cell_type": "code",
   "execution_count": 62,
   "metadata": {},
   "outputs": [
    {
     "output_type": "stream",
     "name": "stdout",
     "text": [
      "Owner: Deven\nBalance: 10000000000000\n"
     ]
    }
   ],
   "source": [
    "# 2. Print the object\n",
    "print(acc)"
   ]
  },
  {
   "cell_type": "code",
   "execution_count": 63,
   "metadata": {},
   "outputs": [
    {
     "output_type": "execute_result",
     "data": {
      "text/plain": [
       "'Deven'"
      ]
     },
     "metadata": {},
     "execution_count": 63
    }
   ],
   "source": [
    "# 3. Show the account owner attribute\n",
    "acc.owner"
   ]
  },
  {
   "cell_type": "code",
   "execution_count": 64,
   "metadata": {},
   "outputs": [
    {
     "output_type": "execute_result",
     "data": {
      "text/plain": [
       "10000000000000"
      ]
     },
     "metadata": {},
     "execution_count": 64
    }
   ],
   "source": [
    "# 4. Show the account balance attribute\n",
    "acc.balance"
   ]
  },
  {
   "cell_type": "code",
   "execution_count": 118,
   "metadata": {},
   "outputs": [
    {
     "output_type": "stream",
     "name": "stdout",
     "text": [
      "Added $999999999999999999999999999999 to your balance\nYour current new balance is $1000000000000000009844718581981\n"
     ]
    }
   ],
   "source": [
    "# 5. Make a series of deposits and withdrawals\n",
    "acc.deposit(999999999999999999999999999999)"
   ]
  },
  {
   "cell_type": "code",
   "execution_count": 119,
   "metadata": {},
   "outputs": [
    {
     "output_type": "stream",
     "name": "stdout",
     "text": [
      "Your account has been debited by $75\nYour current new balance is $1000000000000000009844718581906\n"
     ]
    }
   ],
   "source": [
    "acc.withdrawl(75)"
   ]
  },
  {
   "cell_type": "code",
   "execution_count": 117,
   "metadata": {},
   "outputs": [
    {
     "output_type": "stream",
     "name": "stdout",
     "text": [
      "Sorry!! You do not have enough balance!!!!\n"
     ]
    }
   ],
   "source": [
    "# 6. Make a withdrawal that exceeds the available balance\n",
    "acc.withdrawl(500908098223423)"
   ]
  },
  {
   "cell_type": "markdown",
   "metadata": {},
   "source": [
    "## Good job!"
   ]
  }
 ],
 "metadata": {
  "kernelspec": {
   "display_name": "Python 3",
   "language": "python",
   "name": "python3"
  },
  "language_info": {
   "codemirror_mode": {
    "name": "ipython",
    "version": 3
   },
   "file_extension": ".py",
   "mimetype": "text/x-python",
   "name": "python",
   "nbconvert_exporter": "python",
   "pygments_lexer": "ipython3",
   "version": "3.9.0-final"
  }
 },
 "nbformat": 4,
 "nbformat_minor": 2
}