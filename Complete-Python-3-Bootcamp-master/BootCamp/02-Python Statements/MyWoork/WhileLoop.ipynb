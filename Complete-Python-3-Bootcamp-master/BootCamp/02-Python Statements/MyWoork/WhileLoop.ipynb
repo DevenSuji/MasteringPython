{
 "metadata": {
  "language_info": {
   "codemirror_mode": {
    "name": "ipython",
    "version": 3
   },
   "file_extension": ".py",
   "mimetype": "text/x-python",
   "name": "python",
   "nbconvert_exporter": "python",
   "pygments_lexer": "ipython3",
   "version": "3.9.0-final"
  },
  "orig_nbformat": 2,
  "kernelspec": {
   "name": "python3",
   "display_name": "Python 3",
   "language": "python"
  }
 },
 "nbformat": 4,
 "nbformat_minor": 2,
 "cells": [
  {
   "source": [
    "# While Loop\n",
    "+ While loop will continue to execute a code block while some condition remains TRUE. \n",
    "+ Means it stops only when the condition is false."
   ],
   "cell_type": "markdown",
   "metadata": {}
  },
  {
   "cell_type": "code",
   "execution_count": 30,
   "metadata": {},
   "outputs": [
    {
     "output_type": "stream",
     "name": "stdout",
     "text": [
      "2 x 1 = 2\n2 x 2 = 4\n2 x 3 = 6\n2 x 4 = 8\n2 x 5 = 10\n2 x 6 = 12\n2 x 7 = 14\n2 x 8 = 16\n2 x 9 = 18\n2 x 10 = 20\n"
     ]
    }
   ],
   "source": [
    "j = 2\n",
    "i = 1\n",
    "while i < 11:\n",
    "    print(f'{j} x {i} = {j * i}')\n",
    "    i += 1\n"
   ]
  },
  {
   "source": [
    "# ELSE with WHILE"
   ],
   "cell_type": "markdown",
   "metadata": {}
  },
  {
   "cell_type": "code",
   "execution_count": 31,
   "metadata": {},
   "outputs": [
    {
     "output_type": "stream",
     "name": "stdout",
     "text": [
      "The current value of X is 0\nThe current value of X is 1\nThe current value of X is 2\nThe current value of X is 3\nThe current value of X is 4\nBoom Boom\n"
     ]
    }
   ],
   "source": [
    "x = 0\n",
    "\n",
    "while x < 5:\n",
    "    print(f'The current value of X is {x}')\n",
    "    x += 1\n",
    "else:\n",
    "    print('Boom Boom')"
   ]
  },
  {
   "source": [
    "# CONTINUE, BREAK AND PASS\n",
    "+ Break: Breaks out of the loop.\n",
    "+ Continue: Skips the current data exuecution and resumes with the next.\n",
    "+ Pass: Does nothing at all."
   ],
   "cell_type": "markdown",
   "metadata": {}
  },
  {
   "source": [
    "# Pass"
   ],
   "cell_type": "markdown",
   "metadata": {}
  },
  {
   "cell_type": "code",
   "execution_count": 33,
   "metadata": {},
   "outputs": [],
   "source": [
    "x = [1, 2, 3, 4, 5]\n",
    "\n",
    "# You see!!! Pass does nothing.\n",
    "# Go ahead and run this code to see the result\n",
    "for i in x:\n",
    "    pass"
   ]
  },
  {
   "source": [
    "# Continue"
   ],
   "cell_type": "markdown",
   "metadata": {}
  },
  {
   "cell_type": "code",
   "execution_count": 45,
   "metadata": {},
   "outputs": [
    {
     "output_type": "stream",
     "name": "stdout",
     "text": [
      "G\na\nd\nn\ne\n"
     ]
    }
   ],
   "source": [
    "s = 'ChrisGardner'\n",
    "\n",
    "for i in s:\n",
    "    if i == 'r' or i == 'C' or i == 'h' or i == 'i' or i == 's':\n",
    "        continue\n",
    "    \n",
    "    print(i)"
   ]
  },
  {
   "source": [
    "# Break"
   ],
   "cell_type": "markdown",
   "metadata": {}
  },
  {
   "cell_type": "code",
   "execution_count": 47,
   "metadata": {},
   "outputs": [
    {
     "output_type": "stream",
     "name": "stdout",
     "text": [
      "C\nh\n"
     ]
    }
   ],
   "source": [
    "s = 'ChrisGardner'\n",
    "\n",
    "for i in s:\n",
    "    if i == 'r':\n",
    "        break\n",
    "    print(i)"
   ]
  }
 ]
}