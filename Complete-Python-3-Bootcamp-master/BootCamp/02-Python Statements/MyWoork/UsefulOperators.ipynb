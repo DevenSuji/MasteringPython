{
 "metadata": {
  "language_info": {
   "codemirror_mode": {
    "name": "ipython",
    "version": 3
   },
   "file_extension": ".py",
   "mimetype": "text/x-python",
   "name": "python",
   "nbconvert_exporter": "python",
   "pygments_lexer": "ipython3",
   "version": "3.9.0-final"
  },
  "orig_nbformat": 2,
  "kernelspec": {
   "name": "python3",
   "display_name": "Python 3",
   "language": "python"
  }
 },
 "nbformat": 4,
 "nbformat_minor": 2,
 "cells": [
  {
   "source": [
    "# Range Operator"
   ],
   "cell_type": "markdown",
   "metadata": {}
  },
  {
   "cell_type": "code",
   "execution_count": 1,
   "metadata": {},
   "outputs": [
    {
     "output_type": "stream",
     "name": "stdout",
     "text": [
      "0\n1\n2\n3\n4\n5\n6\n7\n8\n9\n"
     ]
    }
   ],
   "source": [
    "for i in range(10):\n",
    "    print(i)"
   ]
  },
  {
   "source": [
    "for i in range(2, 10):\n",
    "    print(i)"
   ],
   "cell_type": "code",
   "metadata": {},
   "execution_count": 2,
   "outputs": [
    {
     "output_type": "stream",
     "name": "stdout",
     "text": [
      "2\n3\n4\n5\n6\n7\n8\n9\n"
     ]
    }
   ]
  },
  {
   "cell_type": "code",
   "execution_count": 4,
   "metadata": {},
   "outputs": [
    {
     "output_type": "stream",
     "name": "stdout",
     "text": [
      "0\n2\n4\n6\n8\n10\n"
     ]
    }
   ],
   "source": [
    "for i in range(0, 11, 2):\n",
    "    print(i)"
   ]
  },
  {
   "source": [
    "range(0, 11, 2) # You see you do not get the expected value."
   ],
   "cell_type": "code",
   "metadata": {},
   "execution_count": 7,
   "outputs": [
    {
     "output_type": "execute_result",
     "data": {
      "text/plain": [
       "range(0, 11, 2)"
      ]
     },
     "metadata": {},
     "execution_count": 7
    }
   ]
  },
  {
   "cell_type": "code",
   "execution_count": 11,
   "metadata": {},
   "outputs": [
    {
     "output_type": "execute_result",
     "data": {
      "text/plain": [
       "[0, 2, 4, 6, 8, 10]"
      ]
     },
     "metadata": {},
     "execution_count": 11
    }
   ],
   "source": [
    "# Now you get the expected value\n",
    "list(range(0, 11, 2))"
   ]
  },
  {
   "source": [
    "# Enumerate"
   ],
   "cell_type": "markdown",
   "metadata": {}
  },
  {
   "cell_type": "code",
   "execution_count": 16,
   "metadata": {},
   "outputs": [
    {
     "output_type": "stream",
     "name": "stdout",
     "text": [
      "At index 0 the letter is T.\nAt index 1 the letter is H.\nAt index 2 the letter is E.\nAt index 3 the letter is P.\nAt index 4 the letter is E.\nAt index 5 the letter is R.\nAt index 6 the letter is S.\nAt index 7 the letter is U.\nAt index 8 the letter is I.\nAt index 9 the letter is T.\nAt index 10 the letter is O.\nAt index 11 the letter is F.\nAt index 12 the letter is H.\nAt index 13 the letter is A.\nAt index 14 the letter is P.\nAt index 15 the letter is P.\nAt index 16 the letter is Y.\nAt index 17 the letter is N.\nAt index 18 the letter is E.\nAt index 19 the letter is S.\nAt index 20 the letter is S.\n"
     ]
    }
   ],
   "source": [
    "# Old School Way\n",
    "index_count = 0\n",
    "\n",
    "for i in 'ThePersuitOfHappyNess':\n",
    "    print(f'At index {index_count} the letter is {i.upper()}.')\n",
    "    index_count += 1"
   ]
  },
  {
   "cell_type": "code",
   "execution_count": 21,
   "metadata": {},
   "outputs": [
    {
     "output_type": "stream",
     "name": "stdout",
     "text": [
      "At index 0 the aplhabet is T\nAt index 1 the aplhabet is H\nAt index 2 the aplhabet is E\nAt index 3 the aplhabet is P\nAt index 4 the aplhabet is E\nAt index 5 the aplhabet is R\nAt index 6 the aplhabet is S\nAt index 7 the aplhabet is U\nAt index 8 the aplhabet is I\nAt index 9 the aplhabet is T\nAt index 10 the aplhabet is O\nAt index 11 the aplhabet is F\nAt index 12 the aplhabet is H\nAt index 13 the aplhabet is A\nAt index 14 the aplhabet is P\nAt index 15 the aplhabet is P\nAt index 16 the aplhabet is Y\nAt index 17 the aplhabet is N\nAt index 18 the aplhabet is E\nAt index 19 the aplhabet is S\nAt index 20 the aplhabet is S\n"
     ]
    }
   ],
   "source": [
    "# New Way\n",
    "word = 'ThePersuitOfHappyNess'\n",
    "\n",
    "for i,j in enumerate(word):\n",
    "    print(f'At index {i} the aplhabet is {j.upper()}')"
   ]
  },
  {
   "source": [
    "# ZIP\n",
    "+ Zips(Combines) two lists together\n",
    "+ What happens when the lists have uneven number of elements in it?\n",
    "    + It will show the same number of elements that a list with least element."
   ],
   "cell_type": "markdown",
   "metadata": {}
  },
  {
   "cell_type": "code",
   "execution_count": null,
   "metadata": {},
   "outputs": [],
   "source": []
  },
  {
   "cell_type": "code",
   "execution_count": 22,
   "metadata": {},
   "outputs": [
    {
     "output_type": "stream",
     "name": "stdout",
     "text": [
      "(10, 'Apple')\n(20, 'Banana')\n(30, 'Guava')\n"
     ]
    }
   ],
   "source": [
    "count = [10, 20, 30]\n",
    "fruits = ['Apple', 'Banana', 'Guava']\n",
    "\n",
    "for item in zip(count,fruits):\n",
    "    print(item)"
   ]
  },
  {
   "cell_type": "code",
   "execution_count": 23,
   "metadata": {},
   "outputs": [
    {
     "output_type": "stream",
     "name": "stdout",
     "text": [
      "(10, 'Red', 'Apple')\n(20, 'Yellow', 'Banana')\n(30, 'Green', 'Guava')\n"
     ]
    }
   ],
   "source": [
    "count = [10, 20, 30]\n",
    "colour = ['Red', 'Yellow', 'Green', 'Orange', 'Blue']\n",
    "fruits = ['Apple', 'Banana', 'Guava']\n",
    "\n",
    "for item in zip(count,colour,fruits):\n",
    "    print(item)"
   ]
  },
  {
   "cell_type": "code",
   "execution_count": 24,
   "metadata": {},
   "outputs": [
    {
     "output_type": "execute_result",
     "data": {
      "text/plain": [
       "[(10, 'Red', 'Apple'), (20, 'Yellow', 'Banana'), (30, 'Green', 'Guava')]"
      ]
     },
     "metadata": {},
     "execution_count": 24
    }
   ],
   "source": [
    "list(zip(count,colour,fruits))"
   ]
  },
  {
   "source": [
    "# IN Operator"
   ],
   "cell_type": "markdown",
   "metadata": {}
  },
  {
   "cell_type": "code",
   "execution_count": 25,
   "metadata": {},
   "outputs": [],
   "source": [
    "colour = ['Red', 'Yellow', 'Green', 'Orange', 'Blue']"
   ]
  },
  {
   "cell_type": "code",
   "execution_count": 26,
   "metadata": {},
   "outputs": [
    {
     "output_type": "execute_result",
     "data": {
      "text/plain": [
       "True"
      ]
     },
     "metadata": {},
     "execution_count": 26
    }
   ],
   "source": [
    "'Red' in colour"
   ]
  },
  {
   "cell_type": "code",
   "execution_count": 27,
   "metadata": {},
   "outputs": [
    {
     "output_type": "execute_result",
     "data": {
      "text/plain": [
       "False"
      ]
     },
     "metadata": {},
     "execution_count": 27
    }
   ],
   "source": [
    "'Black' in colour"
   ]
  },
  {
   "cell_type": "code",
   "execution_count": 28,
   "metadata": {},
   "outputs": [
    {
     "output_type": "execute_result",
     "data": {
      "text/plain": [
       "True"
      ]
     },
     "metadata": {},
     "execution_count": 28
    }
   ],
   "source": [
    "'mykey' in {'mykey':345}"
   ]
  },
  {
   "cell_type": "code",
   "execution_count": 29,
   "metadata": {},
   "outputs": [
    {
     "output_type": "execute_result",
     "data": {
      "text/plain": [
       "True"
      ]
     },
     "metadata": {},
     "execution_count": 29
    }
   ],
   "source": [
    "d = {'mykey':345}\n",
    "345 in d.values()"
   ]
  },
  {
   "cell_type": "code",
   "execution_count": 30,
   "metadata": {},
   "outputs": [
    {
     "output_type": "execute_result",
     "data": {
      "text/plain": [
       "True"
      ]
     },
     "metadata": {},
     "execution_count": 30
    }
   ],
   "source": [
    "'mykey' in d.keys()"
   ]
  },
  {
   "source": [
    "numbs = [10, 20, 30, 40, 50, 60, 70, 80, 90]\n"
   ],
   "cell_type": "code",
   "metadata": {},
   "execution_count": 31,
   "outputs": []
  },
  {
   "cell_type": "code",
   "execution_count": 32,
   "metadata": {},
   "outputs": [
    {
     "output_type": "execute_result",
     "data": {
      "text/plain": [
       "10"
      ]
     },
     "metadata": {},
     "execution_count": 32
    }
   ],
   "source": [
    "min(numbs)"
   ]
  },
  {
   "cell_type": "code",
   "execution_count": 33,
   "metadata": {},
   "outputs": [
    {
     "output_type": "execute_result",
     "data": {
      "text/plain": [
       "90"
      ]
     },
     "metadata": {},
     "execution_count": 33
    }
   ],
   "source": [
    "max(numbs)"
   ]
  },
  {
   "source": [
    "# RANDOM"
   ],
   "cell_type": "markdown",
   "metadata": {}
  },
  {
   "cell_type": "code",
   "execution_count": 34,
   "metadata": {},
   "outputs": [],
   "source": [
    "from random import shuffle"
   ]
  },
  {
   "cell_type": "code",
   "execution_count": 42,
   "metadata": {},
   "outputs": [
    {
     "output_type": "execute_result",
     "data": {
      "text/plain": [
       "[1, 4, 3, 6, 5, 2]"
      ]
     },
     "metadata": {},
     "execution_count": 42
    }
   ],
   "source": [
    "l = [1, 2, 3, 4, 5, 6]\n",
    "shuffle(l)\n",
    "l"
   ]
  },
  {
   "cell_type": "code",
   "execution_count": 48,
   "metadata": {},
   "outputs": [
    {
     "output_type": "execute_result",
     "data": {
      "text/plain": [
       "7"
      ]
     },
     "metadata": {},
     "execution_count": 48
    }
   ],
   "source": [
    "from random import randint\n",
    "randint(0, 10)"
   ]
  },
  {
   "source": [
    "# Accepting User Input"
   ],
   "cell_type": "markdown",
   "metadata": {}
  },
  {
   "cell_type": "code",
   "execution_count": 53,
   "metadata": {},
   "outputs": [],
   "source": [
    "result = input('Enter your networth for year 2031: ')"
   ]
  },
  {
   "cell_type": "code",
   "execution_count": 55,
   "metadata": {},
   "outputs": [
    {
     "output_type": "execute_result",
     "data": {
      "text/plain": [
       "'4500000000'"
      ]
     },
     "metadata": {},
     "execution_count": 55
    }
   ],
   "source": [
    "result"
   ]
  },
  {
   "cell_type": "code",
   "execution_count": 56,
   "metadata": {},
   "outputs": [
    {
     "output_type": "execute_result",
     "data": {
      "text/plain": [
       "str"
      ]
     },
     "metadata": {},
     "execution_count": 56
    }
   ],
   "source": [
    "type(result)"
   ]
  },
  {
   "cell_type": "code",
   "execution_count": 57,
   "metadata": {},
   "outputs": [
    {
     "output_type": "execute_result",
     "data": {
      "text/plain": [
       "4500000000"
      ]
     },
     "metadata": {},
     "execution_count": 57
    }
   ],
   "source": [
    "int(result)"
   ]
  },
  {
   "cell_type": "code",
   "execution_count": 58,
   "metadata": {},
   "outputs": [
    {
     "output_type": "execute_result",
     "data": {
      "text/plain": [
       "int"
      ]
     },
     "metadata": {},
     "execution_count": 58
    }
   ],
   "source": [
    "type(int(result))"
   ]
  },
  {
   "cell_type": "code",
   "execution_count": 61,
   "metadata": {},
   "outputs": [
    {
     "output_type": "execute_result",
     "data": {
      "text/plain": [
       "4500000000.0"
      ]
     },
     "metadata": {},
     "execution_count": 61
    }
   ],
   "source": [
    "float(result)"
   ]
  },
  {
   "cell_type": "code",
   "execution_count": 63,
   "metadata": {},
   "outputs": [
    {
     "output_type": "execute_result",
     "data": {
      "text/plain": [
       "float"
      ]
     },
     "metadata": {},
     "execution_count": 63
    }
   ],
   "source": [
    "type(float(result))"
   ]
  }
 ]
}