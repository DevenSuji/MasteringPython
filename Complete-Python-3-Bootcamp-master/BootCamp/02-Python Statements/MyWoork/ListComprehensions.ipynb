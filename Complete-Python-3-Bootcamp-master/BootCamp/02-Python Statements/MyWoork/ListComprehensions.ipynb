{
 "metadata": {
  "language_info": {
   "codemirror_mode": {
    "name": "ipython",
    "version": 3
   },
   "file_extension": ".py",
   "mimetype": "text/x-python",
   "name": "python",
   "nbconvert_exporter": "python",
   "pygments_lexer": "ipython3",
   "version": "3.9.0-final"
  },
  "orig_nbformat": 2,
  "kernelspec": {
   "name": "python3",
   "display_name": "Python 3",
   "language": "python"
  }
 },
 "nbformat": 4,
 "nbformat_minor": 2,
 "cells": [
  {
   "source": [
    "# List Comprehension"
   ],
   "cell_type": "markdown",
   "metadata": {}
  },
  {
   "cell_type": "code",
   "execution_count": 3,
   "metadata": {},
   "outputs": [],
   "source": [
    "s = 'Four'"
   ]
  },
  {
   "cell_type": "code",
   "execution_count": 4,
   "metadata": {},
   "outputs": [
    {
     "output_type": "execute_result",
     "data": {
      "text/plain": [
       "['F', 'o', 'u', 'r']"
      ]
     },
     "metadata": {},
     "execution_count": 4
    }
   ],
   "source": [
    "l = []\n",
    "\n",
    "for i in s:\n",
    "    l.append(i)\n",
    "l"
   ]
  },
  {
   "cell_type": "code",
   "execution_count": 5,
   "metadata": {},
   "outputs": [
    {
     "output_type": "execute_result",
     "data": {
      "text/plain": [
       "['F', 'o', 'u', 'r']"
      ]
     },
     "metadata": {},
     "execution_count": 5
    }
   ],
   "source": [
    "d = [i for i in l]\n",
    "d"
   ]
  },
  {
   "cell_type": "code",
   "execution_count": 2,
   "metadata": {},
   "outputs": [
    {
     "output_type": "execute_result",
     "data": {
      "text/plain": [
       "['A', 'p', 'p', 'l', 'e']"
      ]
     },
     "metadata": {},
     "execution_count": 2
    }
   ],
   "source": [
    "[x for x in 'Apple']"
   ]
  },
  {
   "cell_type": "code",
   "execution_count": 3,
   "metadata": {},
   "outputs": [
    {
     "output_type": "execute_result",
     "data": {
      "text/plain": [
       "[1, 2, 3, 4, 5, 6, 7, 8, 9, 10]"
      ]
     },
     "metadata": {},
     "execution_count": 3
    }
   ],
   "source": [
    "[num for num in range(1,11)]"
   ]
  },
  {
   "cell_type": "code",
   "execution_count": 5,
   "metadata": {},
   "outputs": [
    {
     "output_type": "execute_result",
     "data": {
      "text/plain": [
       "[1, 4, 9, 16, 25, 36, 49, 64, 81, 100]"
      ]
     },
     "metadata": {},
     "execution_count": 5
    }
   ],
   "source": [
    "[num**2 for num in range(1,11)]"
   ]
  },
  {
   "cell_type": "code",
   "execution_count": 13,
   "metadata": {},
   "outputs": [
    {
     "output_type": "execute_result",
     "data": {
      "text/plain": [
       "[1.0, 1.414, 1.732, 2.0, 2.236, 2.449, 2.646, 2.828, 3.0, 3.162]"
      ]
     },
     "metadata": {},
     "execution_count": 13
    }
   ],
   "source": [
    "import math\n",
    "[round(math.sqrt(num), 3) for num in range(1,11)]"
   ]
  },
  {
   "cell_type": "code",
   "execution_count": 16,
   "metadata": {},
   "outputs": [
    {
     "output_type": "execute_result",
     "data": {
      "text/plain": [
       "[0, 2, 4, 6, 8, 10]"
      ]
     },
     "metadata": {},
     "execution_count": 16
    }
   ],
   "source": [
    "[even for even in range(0,11) if even % 2 == 0]"
   ]
  },
  {
   "cell_type": "code",
   "execution_count": 18,
   "metadata": {},
   "outputs": [
    {
     "output_type": "stream",
     "name": "stdout",
     "text": [
      "[32.0, 50.0, 68.0, 89.6]\n"
     ]
    }
   ],
   "source": [
    "celcius = [0, 10, 20, 32]\n",
    "fahrenheit = [((9/5)*temp + 32) for temp in celcius]\n",
    "print(fahrenheit)"
   ]
  },
  {
   "source": [
    "### IF and ELSE Statements inside a LIST COMPREHENSION"
   ],
   "cell_type": "markdown",
   "metadata": {}
  },
  {
   "cell_type": "code",
   "execution_count": 25,
   "metadata": {},
   "outputs": [
    {
     "output_type": "execute_result",
     "data": {
      "text/plain": [
       "[0, 'odd', 2, 'odd', 4, 'odd', 6, 'odd', 8, 'odd', 10]"
      ]
     },
     "metadata": {},
     "execution_count": 25
    }
   ],
   "source": [
    "[x if x%2==0 else 'odd' for x in range(0,11)]"
   ]
  },
  {
   "cell_type": "code",
   "execution_count": 26,
   "metadata": {},
   "outputs": [
    {
     "output_type": "execute_result",
     "data": {
      "text/plain": [
       "['0 is an EVEN Number',\n",
       " '1 is and ODD Number',\n",
       " '2 is an EVEN Number',\n",
       " '3 is and ODD Number',\n",
       " '4 is an EVEN Number',\n",
       " '5 is and ODD Number',\n",
       " '6 is an EVEN Number',\n",
       " '7 is and ODD Number',\n",
       " '8 is an EVEN Number',\n",
       " '9 is and ODD Number',\n",
       " '10 is an EVEN Number']"
      ]
     },
     "metadata": {},
     "execution_count": 26
    }
   ],
   "source": [
    "# Here we are using the format strings to change the appearence of the output.\n",
    "[f'{x} is an EVEN Number' if x%2==0 else f'{x} is and ODD Number' for x in range(0,11)]"
   ]
  },
  {
   "source": [
    "### Nested loop inside list comprehension"
   ],
   "cell_type": "markdown",
   "metadata": {}
  },
  {
   "cell_type": "code",
   "execution_count": 29,
   "metadata": {},
   "outputs": [
    {
     "output_type": "stream",
     "name": "stdout",
     "text": [
      "[1, 10, 100, 2, 20, 200, 3, 30, 300]\n"
     ]
    }
   ],
   "source": [
    "# Old School Way\n",
    "l = []\n",
    "\n",
    "for x in range(1, 4):\n",
    "    for y in [1, 10, 100]:\n",
    "        l.append(x*y)\n",
    "\n",
    "print(l)"
   ]
  },
  {
   "source": [
    "# List comprehension method\n",
    "li = [x*y for x in range(1, 4) for y in [10, 100, 1000]]\n",
    "print(li)"
   ],
   "cell_type": "code",
   "metadata": {},
   "execution_count": 30,
   "outputs": [
    {
     "output_type": "stream",
     "name": "stdout",
     "text": [
      "[10, 100, 1000, 20, 200, 2000, 30, 300, 3000]\n"
     ]
    }
   ]
  }
 ]
}