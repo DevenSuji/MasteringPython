{
  "nbformat": 4,
  "nbformat_minor": 0,
  "metadata": {
    "colab": {
      "name": "Handling_Exceptions.ipynb",
      "provenance": [],
      "authorship_tag": "ABX9TyMJN+SOdSR0737vT3Euu0ch",
      "include_colab_link": true
    },
    "kernelspec": {
      "name": "python3",
      "display_name": "Python 3"
    }
  },
  "cells": [
    {
      "cell_type": "markdown",
      "metadata": {
        "id": "view-in-github",
        "colab_type": "text"
      },
      "source": [
        "<a href=\"https://colab.research.google.com/github/DevenSuji/MasteringPython/blob/master/Handling_Exceptions.ipynb\" target=\"_parent\"><img src=\"https://colab.research.google.com/assets/colab-badge.svg\" alt=\"Open In Colab\"/></a>"
      ]
    },
    {
      "cell_type": "markdown",
      "metadata": {
        "id": "ROPWFtsoT-wy",
        "colab_type": "text"
      },
      "source": [
        "# Handling Exceptions with Try, Except and Finally\n",
        "### Various types of exceptions can occur when you work with files.\n",
        "* FileNotCountError : Open a non-existent file for reading.\n",
        "* PermissionsError: Attempt an operation for which you do not have permission.\n",
        "* ValueError: Attempt to write to a closed file."
      ]
    },
    {
      "cell_type": "code",
      "metadata": {
        "id": "KkC9wBw1UlvK",
        "colab_type": "code",
        "colab": {}
      },
      "source": [
        "\"\"\"Simple exception handline example.\"\"\"\n",
        "\n",
        "while True:\n",
        "  # Attempt to conver and divide the values\n",
        "  try:\n",
        "    number1 = int(input('Enter the Numerator: '))\n",
        "    number2 = int(input('Enter the Denominator: '))\n",
        "    result = number1 /number2\n",
        "  except ValueError: # Tried to convert non-numeric value to int\n",
        "    print('you must enter two integers\\n')\n",
        "  except ZeroDivisionError: # Denominator was 0\n",
        "    print('Attempted to divide by zero\\n') \n",
        "  else: #Executes only if no exceptions occur\n",
        "    print(f'{number1:.3f} / {number2:.3f} = {result:.3f}')\n",
        "    break # Terminating the loop"
      ],
      "execution_count": null,
      "outputs": []
    },
    {
      "cell_type": "markdown",
      "metadata": {
        "id": "4SkRugYDZ2yz",
        "colab_type": "text"
      },
      "source": [
        "# Self Check\n",
        "* Figure out what happens when you call the below function with the input as 10.7 and then the value 'Python'?"
      ]
    },
    {
      "cell_type": "code",
      "metadata": {
        "id": "S3ruKZWiZ1ZC",
        "colab_type": "code",
        "colab": {}
      },
      "source": [
        "def try_it(value):\n",
        "  try:\n",
        "    x = int(value)\n",
        "  except ValueError:\n",
        "    print(f'{value} could not be converted to an integer.')\n",
        "  else:\n",
        "    print(f'int({value}) is {x}')"
      ],
      "execution_count": 3,
      "outputs": []
    },
    {
      "cell_type": "code",
      "metadata": {
        "id": "R8neseXWaqO-",
        "colab_type": "code",
        "colab": {
          "base_uri": "https://localhost:8080/",
          "height": 34
        },
        "outputId": "bebe1482-2224-48e3-84b3-99da77a0b2ae"
      },
      "source": [
        "try_it('Python')"
      ],
      "execution_count": 5,
      "outputs": [
        {
          "output_type": "stream",
          "text": [
            "Python could not be converted to an integer.\n"
          ],
          "name": "stdout"
        }
      ]
    },
    {
      "cell_type": "code",
      "metadata": {
        "id": "Yx1D0qjdaw0C",
        "colab_type": "code",
        "colab": {
          "base_uri": "https://localhost:8080/",
          "height": 34
        },
        "outputId": "f32bdfe1-c221-4d1f-f611-587579551894"
      },
      "source": [
        "try_it(10.7)"
      ],
      "execution_count": 7,
      "outputs": [
        {
          "output_type": "stream",
          "text": [
            "int(10.7) is 10\n"
          ],
          "name": "stdout"
        }
      ]
    },
    {
      "cell_type": "markdown",
      "metadata": {
        "id": "-kvOdxp3s3jm",
        "colab_type": "text"
      },
      "source": [
        "# Finally Clause\n",
        "* Finally clause is guranteed to execute if the flow of control of our python code enters a try statement suite.\n",
        "* Finally block is used to do the resource deallocation of the resource that had been called for in the try block.\n",
        "* Typically WITH statements also does the same, however WITH statements does not need a seperate finally block to deallocate the resource. It does it automagically."
      ]
    },
    {
      "cell_type": "code",
      "metadata": {
        "id": "cbGPNfYIs3CZ",
        "colab_type": "code",
        "colab": {
          "base_uri": "https://localhost:8080/",
          "height": 67
        },
        "outputId": "ee3a7283-03ae-4784-a2a8-6ba0be0315be"
      },
      "source": [
        "try:\n",
        "  print('Try suite with no exception raised')\n",
        "except: \n",
        "  print('This will not execute as the try statement does not encounter a terminating error')\n",
        "else:\n",
        "  print('Else executes because there is no exception in the try suite')\n",
        "finally:\n",
        "  print('Finally always executes')"
      ],
      "execution_count": 1,
      "outputs": [
        {
          "output_type": "stream",
          "text": [
            "Try suite with no exception raised\n",
            "Else executes because there is no exception in the try suite\n",
            "Fianlly always executes\n"
          ],
          "name": "stdout"
        }
      ]
    },
    {
      "cell_type": "code",
      "metadata": {
        "id": "hc16Zr1Ov401",
        "colab_type": "code",
        "colab": {
          "base_uri": "https://localhost:8080/",
          "height": 67
        },
        "outputId": "023e297b-02d0-4b65-a794-ce90a70cc85e"
      },
      "source": [
        "try:\n",
        "  print('Getting inside the Try Suite')\n",
        "  int('Hello') # Forcing an error as Hello is a string and cannot be changed to the type int.\n",
        "  print('Due to the error this will not run')\n",
        "except ValueError:\n",
        "  print('This will run as the error as occured')\n",
        "else:\n",
        "  print('This will not run as there was a terminating error in Try block')\n",
        "finally:\n",
        "  print('This will always run no matter what')"
      ],
      "execution_count": 3,
      "outputs": [
        {
          "output_type": "stream",
          "text": [
            "Getting inside the Try Suite\n",
            "This will run as the error as occured\n",
            "This will always run no matter what\n"
          ],
          "name": "stdout"
        }
      ]
    },
    {
      "cell_type": "markdown",
      "metadata": {
        "id": "elYixy1cxLnB",
        "colab_type": "text"
      },
      "source": [
        "# Combining <u>TRY</u> Statement and <u>WITH</u> Statement"
      ]
    },
    {
      "cell_type": "code",
      "metadata": {
        "id": "GgtBVvEGxWog",
        "colab_type": "code",
        "colab": {
          "base_uri": "https://localhost:8080/",
          "height": 34
        },
        "outputId": "3109081f-f94e-4969-f4ac-65f39bd5671c"
      },
      "source": [
        "try:\n",
        "  with open('grade.txt', 'r') as accounts: # File name grade.txt does not exist \n",
        "    print(f'{\"ID\":<3}{\"Name\":<7}{\"Grade\"}')\n",
        "    for record in accounts:\n",
        "      student_ID, name, grade = record.split()\n",
        "      print(f'{student_ID:<3}{name:<7}{grade}')\n",
        "except FileNotFoundError:\n",
        "  print('The file name that you specified does not exist.')"
      ],
      "execution_count": 4,
      "outputs": [
        {
          "output_type": "stream",
          "text": [
            "The file name that you specified does not exist.\n"
          ],
          "name": "stdout"
        }
      ]
    },
    {
      "cell_type": "markdown",
      "metadata": {
        "id": "7FQR6HeCyjGm",
        "colab_type": "text"
      },
      "source": [
        "# Self Check\n",
        "* Figure out what happens when you call the below function with the input as 10.7 and then the value 'Python'?"
      ]
    },
    {
      "cell_type": "code",
      "metadata": {
        "id": "Bf922Geuyw7t",
        "colab_type": "code",
        "colab": {}
      },
      "source": [
        "def try_it(value):\n",
        "  try:\n",
        "    x = int(value)\n",
        "  except ValueError:\n",
        "    print(f'{value} could not be converted to an integer')\n",
        "  else:\n",
        "    print(f'int {value} is {x}')\n",
        "  finally:\n",
        "    print('Hey Dude... Did you get that?????')"
      ],
      "execution_count": 7,
      "outputs": []
    },
    {
      "cell_type": "code",
      "metadata": {
        "id": "exp6MEzPzXXZ",
        "colab_type": "code",
        "colab": {
          "base_uri": "https://localhost:8080/",
          "height": 50
        },
        "outputId": "39dd6b62-e344-4fa0-bfb2-3c4b971cfb0f"
      },
      "source": [
        "try_it(10.7)"
      ],
      "execution_count": 8,
      "outputs": [
        {
          "output_type": "stream",
          "text": [
            "int 10.7 is 10\n",
            "Hey Dude... Did you get that?????\n"
          ],
          "name": "stdout"
        }
      ]
    },
    {
      "cell_type": "code",
      "metadata": {
        "id": "M26GZnkSzf7U",
        "colab_type": "code",
        "colab": {
          "base_uri": "https://localhost:8080/",
          "height": 50
        },
        "outputId": "95ffaee7-f75d-45bb-a6d0-0ac2e2de0d01"
      },
      "source": [
        "try_it('Python')"
      ],
      "execution_count": 9,
      "outputs": [
        {
          "output_type": "stream",
          "text": [
            "Python could not be converted to an integer\n",
            "Hey Dude... Did you get that?????\n"
          ],
          "name": "stdout"
        }
      ]
    },
    {
      "cell_type": "markdown",
      "metadata": {
        "id": "Mg37l0U90IKm",
        "colab_type": "text"
      },
      "source": [
        "# Raising an Exception\n",
        "* This is just Forcing an exception or Forcing an error.\n",
        "* To explicitly raise an exception\n",
        "  - raise ExceptionClassName\n",
        "* Creates an object of the specified exception class.\n",
        "* Class name may be followed by parentheses containing arguments to initialize the exception object.\n",
        "* Code that raises an exception first should release any resources acquired before the exception occured.\n",
        "* Python's built-in exception types.\n",
        "  - https://docs.python.org/3/library/exceptions.html"
      ]
    },
    {
      "cell_type": "code",
      "metadata": {
        "id": "iFSAT30E5krM",
        "colab_type": "code",
        "colab": {}
      },
      "source": [
        "def function1():\n",
        "  function2()"
      ],
      "execution_count": 10,
      "outputs": []
    },
    {
      "cell_type": "code",
      "metadata": {
        "id": "1y2Io6o05rQN",
        "colab_type": "code",
        "colab": {}
      },
      "source": [
        "def function2():\n",
        "  raise Exception('An exception occured')"
      ],
      "execution_count": 11,
      "outputs": []
    },
    {
      "cell_type": "code",
      "metadata": {
        "id": "oF7XzpD-51a1",
        "colab_type": "code",
        "colab": {
          "base_uri": "https://localhost:8080/",
          "height": 320
        },
        "outputId": "621d38e5-a6e3-4e50-b439-ac66e620f276"
      },
      "source": [
        "function1()"
      ],
      "execution_count": 13,
      "outputs": [
        {
          "output_type": "error",
          "ename": "Exception",
          "evalue": "ignored",
          "traceback": [
            "\u001b[0;31m---------------------------------------------------------------------------\u001b[0m",
            "\u001b[0;31mException\u001b[0m                                 Traceback (most recent call last)",
            "\u001b[0;32m<ipython-input-13-c0b3cafe2087>\u001b[0m in \u001b[0;36m<module>\u001b[0;34m()\u001b[0m\n\u001b[0;32m----> 1\u001b[0;31m \u001b[0mfunction1\u001b[0m\u001b[0;34m(\u001b[0m\u001b[0;34m)\u001b[0m\u001b[0;34m\u001b[0m\u001b[0;34m\u001b[0m\u001b[0m\n\u001b[0m",
            "\u001b[0;32m<ipython-input-10-67cfffea726b>\u001b[0m in \u001b[0;36mfunction1\u001b[0;34m()\u001b[0m\n\u001b[1;32m      1\u001b[0m \u001b[0;32mdef\u001b[0m \u001b[0mfunction1\u001b[0m\u001b[0;34m(\u001b[0m\u001b[0;34m)\u001b[0m\u001b[0;34m:\u001b[0m\u001b[0;34m\u001b[0m\u001b[0;34m\u001b[0m\u001b[0m\n\u001b[0;32m----> 2\u001b[0;31m   \u001b[0mfunction2\u001b[0m\u001b[0;34m(\u001b[0m\u001b[0;34m)\u001b[0m\u001b[0;34m\u001b[0m\u001b[0;34m\u001b[0m\u001b[0m\n\u001b[0m",
            "\u001b[0;32m<ipython-input-11-e0456adfd5a3>\u001b[0m in \u001b[0;36mfunction2\u001b[0;34m()\u001b[0m\n\u001b[1;32m      1\u001b[0m \u001b[0;32mdef\u001b[0m \u001b[0mfunction2\u001b[0m\u001b[0;34m(\u001b[0m\u001b[0;34m)\u001b[0m\u001b[0;34m:\u001b[0m\u001b[0;34m\u001b[0m\u001b[0;34m\u001b[0m\u001b[0m\n\u001b[0;32m----> 2\u001b[0;31m   \u001b[0;32mraise\u001b[0m \u001b[0mException\u001b[0m\u001b[0;34m(\u001b[0m\u001b[0;34m'An exception occured'\u001b[0m\u001b[0;34m)\u001b[0m\u001b[0;34m\u001b[0m\u001b[0;34m\u001b[0m\u001b[0m\n\u001b[0m",
            "\u001b[0;31mException\u001b[0m: An exception occured"
          ]
        }
      ]
    }
  ]
}