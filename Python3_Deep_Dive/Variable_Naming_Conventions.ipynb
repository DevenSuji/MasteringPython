{
 "cells": [
  {
   "cell_type": "markdown",
   "metadata": {},
   "source": [
    "# *<u> Variables </u>*\n",
    "* Must start with underscore( _ ) or a letter(a-z A-Z)\n",
    "* Followed by any number of underscores( _ ), letters (a-z A-Z), or digits (0-9)\n",
    "    - e.g. var, my_var, index1, index_1\n",
    "    - _var, \\__var, \\__lt__\n",
    "* Variable names should not be the reserverd words.\n",
    "    - e.g. None, True, False, and, or, not, lambda....etc"
   ]
  },
  {
   "cell_type": "markdown",
   "metadata": {},
   "source": [
    "## Conventions\n",
    "\n",
    "#### 1. _my_var (Has a single underscore at the beginning) : This is a convention to indicate \"Internal Use\" or \"Private\" objects. Anyone looking at this variable will understand that they should not be messing around with this variable.\n",
    "\n",
    "#### 2. \\__my_var (Has a double underscores at the beginning): Use to mangle class attributes. Useful in inheritance chain.\n",
    "\n",
    "#### 3. \\__my_var\\__ (Has a double underscore at the beginning and at the end): Used for system-defined names that have a special meaning to the interpreter. Don't invent them."
   ]
  },
  {
   "cell_type": "markdown",
   "metadata": {},
   "source": [
    "# *<u> Naming Conventions </u>*\n",
    "\n",
    "| Data Types |      Convention   |   Example      |\n",
    "| --- | --- | --- |\n",
    "| Packages | Short, all-lowercase names. Preferably no underscores. |    utilities |\n",
    "| Modules | Short, all-lowercase names. Can haveunderscores. |    db_utils dbutils |\n",
    "| Classes | CapWords(UpperCamelCase) convention.|    BankAccount |\n",
    "| Functions | Lowercase, words seperated by underscores(snake_case).|    open_account |\n",
    "| Variables | Lowercase, words seperated by underscores(snake_case).|    account_id |\n",
    "| Constants | All-Uppercase, words seperated by undersocres.|    MIN_APR |\n",
    "\n"
   ]
  }
 ],
 "metadata": {
  "language_info": {
   "codemirror_mode": {
    "name": "ipython",
    "version": 3
   },
   "file_extension": ".py",
   "mimetype": "text/x-python",
   "name": "python",
   "nbconvert_exporter": "python",
   "pygments_lexer": "ipython3",
   "version": 3
  },
  "orig_nbformat": 2,
  "kernelspec": {
   "name": "python38264bit2472454288054193a39fc81468cfa85d",
   "display_name": "Python 3.8.2 64-bit"
  }
 },
 "nbformat": 4,
 "nbformat_minor": 2
}