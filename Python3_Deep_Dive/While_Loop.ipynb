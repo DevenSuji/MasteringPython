{
 "cells": [
  {
   "cell_type": "markdown",
   "metadata": {},
   "source": [
    "# *<u>While Loop</u>*"
   ]
  },
  {
   "cell_type": "code",
   "execution_count": null,
   "metadata": {
    "tags": []
   },
   "outputs": [],
   "source": [
    "i = 0\n",
    "while i < 5:\n",
    "    print(i)\n",
    "    i += 1"
   ]
  },
  {
   "cell_type": "markdown",
   "metadata": {},
   "source": [
    "#### The above mentioned While loop does not gaurantee that it will execute the code block always. This is in the case where i is not less than 5. In this case the condition i < 5 will become false when i s greater then or equals to 5. See the testing below. The output does not show anything which is because the condition evaluates to false."
   ]
  },
  {
   "cell_type": "code",
   "execution_count": null,
   "metadata": {},
   "outputs": [],
   "source": [
    "i = 6\n",
    "while i < 5:\n",
    "    print(i)\n",
    "    i += 1"
   ]
  },
  {
   "cell_type": "markdown",
   "metadata": {},
   "source": [
    "### Sometimes there will be instances where you want to the code to run atleast once.\n",
    "### Use the below shown technique to ensure that the code runs atleast once."
   ]
  },
  {
   "cell_type": "code",
   "execution_count": null,
   "metadata": {
    "tags": [
     "outputPrepend"
    ]
   },
   "outputs": [],
   "source": [
    "i = 4\n",
    "\n",
    "while True:\n",
    "    print(i)\n",
    "    if i >= 5:\n",
    "        break"
   ]
  },
  {
   "cell_type": "code",
   "execution_count": null,
   "metadata": {},
   "outputs": [],
   "source": [
    "min_length = 5\n",
    "name = input(\"Please Enter Your Name: \")\n",
    "\n",
    "while not(len(name) >= min_length and name.isprintable() and name.isalpha()):\n",
    "    name = input(\"Please Enter Your Name: \")\n",
    "\n",
    "print(\"Hello, {0}\".format(name))"
   ]
  },
  {
   "cell_type": "markdown",
   "metadata": {},
   "source": [
    "### The above code has input(\"Please Enter Your Name) twice. It is not a good idea. Instead do this"
   ]
  },
  {
   "cell_type": "code",
   "execution_count": null,
   "metadata": {
    "tags": []
   },
   "outputs": [],
   "source": [
    "min_length = 5\n",
    "\n",
    "while True:\n",
    "    name = input(\"Please Enter Your Name: \")\n",
    "    if len(name) >= min_length and name.isprintable() and name.isalpha():\n",
    "        break\n",
    "    \n",
    "print(\"Hello, {0}\".format(name))"
   ]
  },
  {
   "cell_type": "markdown",
   "metadata": {},
   "source": [
    "## Continue Statement\n",
    "* Break Statement breaks out of the loop and it terminates the loop immediately. \n",
    "* Continue statment says hey the current iteration that we are in right now just skip everything that comes after the statement and go back to the beginning of the loop. Rerun the test and if it is true continue running. So basically continue will skip the current iteration and jump to the starting of the loop."
   ]
  },
  {
   "cell_type": "code",
   "execution_count": null,
   "metadata": {
    "tags": []
   },
   "outputs": [],
   "source": [
    "a = 0\n",
    "\n",
    "while a < 10:\n",
    "    a += 1\n",
    "    if a % 2 == 0:\n",
    "        continue\n",
    "    print(a)"
   ]
  },
  {
   "cell_type": "markdown",
   "metadata": {},
   "source": [
    "### While Loop with Else Clause\n",
    "* The Else cause executes when the while loop does not hit a Break Statement.\n",
    "### The first example below is the lengthy way. The second one is the better way"
   ]
  },
  {
   "cell_type": "code",
   "execution_count": 3,
   "metadata": {
    "tags": []
   },
   "outputs": [
    {
     "output_type": "stream",
     "name": "stdout",
     "text": "[1, 2, 3, 10]\n"
    }
   ],
   "source": [
    "l = [1, 2, 3]\n",
    "value = 10\n",
    "\n",
    "found = False\n",
    "index = 0\n",
    "while index < len(l):\n",
    "    if l[index] == value:\n",
    "        found = True\n",
    "        break\n",
    "    index += 1\n",
    "\n",
    "if not found:\n",
    "    l.append(value)\n",
    "\n",
    "print(l)"
   ]
  },
  {
   "cell_type": "markdown",
   "metadata": {},
   "source": [
    "## Better way of writing the above code using the ELSE CLAUSE"
   ]
  },
  {
   "cell_type": "code",
   "execution_count": 6,
   "metadata": {
    "tags": []
   },
   "outputs": [
    {
     "output_type": "stream",
     "name": "stdout",
     "text": "[1, 2, 3, 12]\n"
    }
   ],
   "source": [
    "l = [1, 2, 3]\n",
    "value = 12\n",
    "index = 0\n",
    "\n",
    "while index < len(l):\n",
    "    if l[index] == value:\n",
    "        break\n",
    "    index += 1\n",
    "else:\n",
    "    l.append(value)\n",
    "\n",
    "print(l)\n"
   ]
  }
 ],
 "metadata": {
  "language_info": {
   "codemirror_mode": {
    "name": "ipython",
    "version": 3
   },
   "file_extension": ".py",
   "mimetype": "text/x-python",
   "name": "python",
   "nbconvert_exporter": "python",
   "pygments_lexer": "ipython3",
   "version": "3.8.2-final"
  },
  "orig_nbformat": 2,
  "kernelspec": {
   "name": "python38264bit2472454288054193a39fc81468cfa85d",
   "display_name": "Python 3.8.2 64-bit"
  }
 },
 "nbformat": 4,
 "nbformat_minor": 2
}