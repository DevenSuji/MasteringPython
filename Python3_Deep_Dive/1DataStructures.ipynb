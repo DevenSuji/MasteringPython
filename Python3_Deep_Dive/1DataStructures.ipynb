{
 "cells": [
  {
   "cell_type": "markdown",
   "metadata": {},
   "source": [
    "# *<u> Numbers </u>*\n",
    "#### * Numbers are mainly divided into two parts:*\n",
    "* <u>Integral Numbers: </u>\n",
    "    - Integers\n",
    "    - Booleans\n",
    "* <u>Non-Integral Numbers:</u>\n",
    "    - Floats\n",
    "    - Complex Numbers\n",
    "    - Decimals\n",
    "    - Fractions\n"
   ]
  },
  {
   "cell_type": "markdown",
   "metadata": {},
   "source": [
    "# *<u>Collections </u>*\n",
    "#### * Collections are mainly divided into three parts:*\n",
    "### *<u>1.Sequences</u>*:\n",
    "#### * Sequences can be subdivided into two parts:*\n",
    "* Mutable Sequences: These are sequences whose elements can be changed.\n",
    "    - Lists []\n",
    "* Immutable Sequences: These are sequences whose elements cannot be changed.\n",
    "    - Tuples ()\n",
    "    - Strings\n",
    "\n",
    "        \n",
    "### *<u>2.Sets</u>*:\n",
    "#### * Sets are also subdivided into two parts:*\n",
    "* Mutable:\n",
    "    - Sets {}\n",
    "\n",
    "* Immutable:\n",
    "    - Frozen Sets\n",
    "    \n",
    "### *<u>3.Mappings</u>*:\n",
    "* Dictionary {}"
   ]
  },
  {
   "cell_type": "markdown",
   "metadata": {},
   "source": [
    "# *<u>Callables</u>*\n",
    "Callables are anything that can be invoked. Like:\n",
    "* User defined functions.\n",
    "* Generators\n",
    "* Classes\n",
    "* Instance Methods\n",
    "* Class Instances(\\__call\\__())\n",
    "* Built-In Functions(e.g. len(), open())\n",
    "* Built-In Methods (e.g. my_list.append(x))\n"
   ]
  },
  {
   "cell_type": "markdown",
   "metadata": {},
   "source": [
    "# *<u>Singletons</u>*\n",
    "* None\n",
    "* NotImplemented\n",
    "* Ellipsis(...)\n",
    "\n"
   ]
  },
  {
   "cell_type": "code",
   "execution_count": 4,
   "metadata": {},
   "outputs": [
    {
     "output_type": "execute_result",
     "data": {
      "text/plain": "'if a     and b     and c:'"
     },
     "metadata": {},
     "execution_count": 4
    }
   ],
   "source": [
    "\"\"\"if a \\\n",
    "    and b \\\n",
    "    and c:\"\"\""
   ]
  }
 ],
 "metadata": {
  "language_info": {
   "codemirror_mode": {
    "name": "ipython",
    "version": 3
   },
   "file_extension": ".py",
   "mimetype": "text/x-python",
   "name": "python",
   "nbconvert_exporter": "python",
   "pygments_lexer": "ipython3",
   "version": "3.8.2-final"
  },
  "orig_nbformat": 2,
  "kernelspec": {
   "name": "python38264bit2472454288054193a39fc81468cfa85d",
   "display_name": "Python 3.8.2 64-bit"
  }
 },
 "nbformat": 4,
 "nbformat_minor": 2
}