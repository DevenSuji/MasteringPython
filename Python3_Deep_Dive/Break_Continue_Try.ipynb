{
 "cells": [
  {
   "cell_type": "markdown",
   "metadata": {},
   "source": [
    "# Break, Continue and Try\n",
    "### Try clause has 3 blocks. try, except and finally. The Try Block will run the code, the except block will catch the exception and the finally block will always run even when there is an exception."
   ]
  },
  {
   "cell_type": "code",
   "execution_count": 3,
   "metadata": {
    "tags": []
   },
   "outputs": [
    {
     "output_type": "stream",
     "name": "stdout",
     "text": "This always runs\n"
    }
   ],
   "source": [
    "a = 10\n",
    "b = 2 # Change this value to 0 to see the except and finally block run together\n",
    "\n",
    "try:\n",
    "    a/b\n",
    "except ZeroDivisionError:\n",
    "    print('Division by 0')\n",
    "finally:\n",
    "    print('This always runs')"
   ]
  },
  {
   "cell_type": "code",
   "execution_count": 4,
   "metadata": {
    "tags": []
   },
   "outputs": [
    {
     "output_type": "stream",
     "name": "stdout",
     "text": "----------------------------\n1, 1 - always executes\n1, 1 - MAIN LOOP\n----------------------------\n2, 0 - Division by 0\n2, 0 - always executes\n----------------------------\n3, -1 - always executes\n3, -1 - MAIN LOOP\n----------------------------\n4, -2 - always executes\n4, -2 - MAIN LOOP\n"
    }
   ],
   "source": [
    "a = 0\n",
    "b = 2\n",
    "\n",
    "while a < 4:\n",
    "    print('----------------------------')\n",
    "    a += 1\n",
    "    b -= 1\n",
    "\n",
    "    try:\n",
    "        a / b\n",
    "    except ZeroDivisionError:\n",
    "        print(\"{0}, {1} - Division by 0\".format(a, b))\n",
    "        continue\n",
    "    finally:\n",
    "        print(\"{0}, {1} - always executes\".format(a, b))\n",
    "\n",
    "    print(\"{0}, {1} - MAIN LOOP\".format(a, b))\n"
   ]
  },
  {
   "cell_type": "code",
   "execution_count": 5,
   "metadata": {
    "tags": []
   },
   "outputs": [
    {
     "output_type": "stream",
     "name": "stdout",
     "text": "----------------------------\n1, 1 - always executes\n1, 1 - MAIN LOOP\n----------------------------\n2, 0 - Division by 0\n2, 0 - always executes\n"
    }
   ],
   "source": [
    "a = 0\n",
    "b = 2\n",
    "\n",
    "while a < 4:\n",
    "    print('----------------------------')\n",
    "    a += 1\n",
    "    b -= 1\n",
    "\n",
    "    try:\n",
    "        a / b\n",
    "    except ZeroDivisionError:\n",
    "        print(\"{0}, {1} - Division by 0\".format(a, b))\n",
    "        break\n",
    "    finally:\n",
    "        print(\"{0}, {1} - always executes\".format(a, b))\n",
    "\n",
    "    print(\"{0}, {1} - MAIN LOOP\".format(a, b))"
   ]
  },
  {
   "cell_type": "code",
   "execution_count": 6,
   "metadata": {
    "tags": []
   },
   "outputs": [
    {
     "output_type": "stream",
     "name": "stdout",
     "text": "----------------------------\n1, 9 - always executes\n1, 9 - MAIN LOOP\n----------------------------\n2, 8 - always executes\n2, 8 - MAIN LOOP\n----------------------------\n3, 7 - always executes\n3, 7 - MAIN LOOP\n----------------------------\n4, 6 - always executes\n4, 6 - MAIN LOOP\nCode executed without a zero division error\n"
    }
   ],
   "source": [
    "a = 0\n",
    "b = 10\n",
    "\n",
    "while a < 4:\n",
    "    print('----------------------------')\n",
    "    a += 1\n",
    "    b -= 1\n",
    "\n",
    "    try:\n",
    "        a / b\n",
    "    except ZeroDivisionError:\n",
    "        print(\"{0}, {1} - Division by 0\".format(a, b))\n",
    "        break\n",
    "    finally:\n",
    "        print(\"{0}, {1} - always executes\".format(a, b))\n",
    "\n",
    "    print(\"{0}, {1} - MAIN LOOP\".format(a, b))\n",
    "\n",
    "else:\n",
    "    print(\"Code executed without a zero division error\")"
   ]
  }
 ],
 "metadata": {
  "language_info": {
   "codemirror_mode": {
    "name": "ipython",
    "version": 3
   },
   "file_extension": ".py",
   "mimetype": "text/x-python",
   "name": "python",
   "nbconvert_exporter": "python",
   "pygments_lexer": "ipython3",
   "version": "3.8.2-final"
  },
  "orig_nbformat": 2,
  "kernelspec": {
   "name": "python38264bit2472454288054193a39fc81468cfa85d",
   "display_name": "Python 3.8.2 64-bit"
  }
 },
 "nbformat": 4,
 "nbformat_minor": 2
}