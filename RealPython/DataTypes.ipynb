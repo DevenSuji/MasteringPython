{
 "metadata": {
  "language_info": {
   "codemirror_mode": {
    "name": "ipython",
    "version": 3
   },
   "file_extension": ".py",
   "mimetype": "text/x-python",
   "name": "python",
   "nbconvert_exporter": "python",
   "pygments_lexer": "ipython3",
   "version": "3.9.0-final"
  },
  "orig_nbformat": 2,
  "kernelspec": {
   "name": "python3",
   "display_name": "Python 3"
  }
 },
 "nbformat": 4,
 "nbformat_minor": 2,
 "cells": [
  {
   "cell_type": "code",
   "execution_count": 1,
   "metadata": {},
   "outputs": [
    {
     "output_type": "stream",
     "name": "stdout",
     "text": [
      "124\n"
     ]
    }
   ],
   "source": [
    "print(123 + 1)"
   ]
  },
  {
   "cell_type": "code",
   "execution_count": 2,
   "metadata": {},
   "outputs": [
    {
     "output_type": "stream",
     "name": "stdout",
     "text": [
      "11\n"
     ]
    }
   ],
   "source": [
    "a = 1\n",
    "b = 10\n",
    "print(a + b)"
   ]
  },
  {
   "source": [
    "Binary Number"
   ],
   "cell_type": "markdown",
   "metadata": {}
  },
  {
   "cell_type": "code",
   "execution_count": 3,
   "metadata": {},
   "outputs": [
    {
     "output_type": "stream",
     "name": "stdout",
     "text": [
      "350906\n"
     ]
    }
   ],
   "source": [
    "c = 0b1010101101010111010\n",
    "print(c)"
   ]
  },
  {
   "source": [
    "Octal Number"
   ],
   "cell_type": "markdown",
   "metadata": {}
  },
  {
   "cell_type": "code",
   "execution_count": 7,
   "metadata": {},
   "outputs": [
    {
     "output_type": "stream",
     "name": "stdout",
     "text": [
      "153802\n"
     ]
    }
   ],
   "source": [
    "d = 0o454312\n",
    "print(d)"
   ]
  },
  {
   "source": [
    "Hexadecimal"
   ],
   "cell_type": "markdown",
   "metadata": {}
  },
  {
   "cell_type": "code",
   "execution_count": 8,
   "metadata": {},
   "outputs": [
    {
     "output_type": "stream",
     "name": "stdout",
     "text": [
      "44109\n"
     ]
    }
   ],
   "source": [
    "e = 0xac4d\n",
    "print(e)"
   ]
  },
  {
   "source": [
    "### Finding the type of data using TYPE"
   ],
   "cell_type": "markdown",
   "metadata": {}
  },
  {
   "cell_type": "code",
   "execution_count": 14,
   "metadata": {},
   "outputs": [
    {
     "output_type": "execute_result",
     "data": {
      "text/plain": [
       "int"
      ]
     },
     "metadata": {},
     "execution_count": 14
    }
   ],
   "source": [
    "type(e)"
   ]
  },
  {
   "source": [
    "### <u>Converting from Integer to Binary, Integer to Octal and Integer to Hexadecimal Number</u>"
   ],
   "cell_type": "markdown",
   "metadata": {}
  },
  {
   "cell_type": "code",
   "execution_count": 17,
   "metadata": {},
   "outputs": [
    {
     "output_type": "stream",
     "name": "stdout",
     "text": [
      "0b11101000\n0o350\n0xe8\n"
     ]
    }
   ],
   "source": [
    "num = 232\n",
    "print(bin(num))\n",
    "print(oct(num))\n",
    "print(hex(num))"
   ]
  },
  {
   "source": [
    "Note: Do note the bin(num) format. It can be used to convert an octate of an IP address to its binary value."
   ],
   "cell_type": "markdown",
   "metadata": {}
  },
  {
   "cell_type": "code",
   "execution_count": 18,
   "metadata": {},
   "outputs": [
    {
     "output_type": "stream",
     "name": "stdout",
     "text": [
      "11101000\n"
     ]
    }
   ],
   "source": [
    "print(bin(num)[2:])"
   ]
  }
 ]
}