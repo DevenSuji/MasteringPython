{
 "metadata": {
  "language_info": {
   "codemirror_mode": {
    "name": "ipython",
    "version": 3
   },
   "file_extension": ".py",
   "mimetype": "text/x-python",
   "name": "python",
   "nbconvert_exporter": "python",
   "pygments_lexer": "ipython3",
   "version": "3.9.0-final"
  },
  "orig_nbformat": 2,
  "kernelspec": {
   "name": "python3",
   "display_name": "Python 3",
   "language": "python"
  }
 },
 "nbformat": 4,
 "nbformat_minor": 2,
 "cells": [
  {
   "cell_type": "code",
   "execution_count": 17,
   "metadata": {},
   "outputs": [],
   "source": [
    "def sm35(a,b):\n",
    "    l = []\n",
    "    for i in range(a,b):\n",
    "        if i % 3 == 0 or i % 5 == 0:\n",
    "            l.append(i)\n",
    "    return sum(l)\n"
   ]
  },
  {
   "cell_type": "code",
   "execution_count": 18,
   "metadata": {},
   "outputs": [
    {
     "output_type": "execute_result",
     "data": {
      "text/plain": [
       "234168"
      ]
     },
     "metadata": {},
     "execution_count": 18
    }
   ],
   "source": [
    "sm35(0, 1001)"
   ]
  },
  {
   "cell_type": "code",
   "execution_count": 24,
   "metadata": {},
   "outputs": [],
   "source": [
    "def sum_of_all_the_multiples_of_3_or_5_below_1000():\n",
    "    l = []\n",
    "    for i in range(0,1000):\n",
    "        if i % 3 == 0 or i % 5 == 0:\n",
    "            l.append(i)\n",
    "    return sum(l)\n"
   ]
  },
  {
   "cell_type": "code",
   "execution_count": 26,
   "metadata": {},
   "outputs": [
    {
     "output_type": "execute_result",
     "data": {
      "text/plain": [
       "233168"
      ]
     },
     "metadata": {},
     "execution_count": 26
    }
   ],
   "source": [
    "sum_of_all_the_multiples_of_3_or_5_below_1000()"
   ]
  }
 ]
}