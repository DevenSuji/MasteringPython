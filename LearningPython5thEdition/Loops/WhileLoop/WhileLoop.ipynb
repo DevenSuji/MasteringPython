{
 "metadata": {
  "language_info": {
   "codemirror_mode": {
    "name": "ipython",
    "version": 3
   },
   "file_extension": ".py",
   "mimetype": "text/x-python",
   "name": "python",
   "nbconvert_exporter": "python",
   "pygments_lexer": "ipython3",
   "version": "3.8.2-final"
  },
  "orig_nbformat": 2,
  "kernelspec": {
   "name": "python38264bit2472454288054193a39fc81468cfa85d",
   "display_name": "Python 3.8.2 64-bit"
  }
 },
 "nbformat": 4,
 "nbformat_minor": 2,
 "cells": [
  {
   "cell_type": "markdown",
   "metadata": {},
   "source": [
    "# While Loop"
   ]
  },
  {
   "cell_type": "markdown",
   "metadata": {},
   "source": [
    "## Iterators and Generators\n",
    "\n",
    "### <u>Iterator</u>:\n",
    "* In a nutshell, an object is iterable if it is either a physically stored sequence in memory, or an object that generates one item at a time in the context of an iteration operation(a sort of “virtual” sequence).\n",
    "* More formally, both types of objects are considered iterable because they support the iteration protocol. \n",
    "* They respond to the iter call with an object that advances in response to next calls and raises an exception when finished producing values. \n"
   ]
  },
  {
   "cell_type": "code",
   "execution_count": 1,
   "metadata": {
    "tags": []
   },
   "outputs": [
    {
     "output_type": "stream",
     "name": "stdout",
     "text": "DataScientist!!!DataScientist!!!DataScientist!!!DataScientist!!!\nDataScientist!!!DataScientist!!!DataScientist!!!\nDataScientist!!!DataScientist!!!\nDataScientist!!!\n"
    }
   ],
   "source": [
    "x = 4\n",
    "while x > 0:\n",
    "    print('DataScientist!!!'*x)\n",
    "    x -= 1"
   ]
  }
 ]
}