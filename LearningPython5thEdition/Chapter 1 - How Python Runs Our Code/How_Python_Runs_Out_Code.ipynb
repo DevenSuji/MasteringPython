{
 "metadata": {
  "language_info": {
   "codemirror_mode": {
    "name": "ipython",
    "version": 3
   },
   "file_extension": ".py",
   "mimetype": "text/x-python",
   "name": "python",
   "nbconvert_exporter": "python",
   "pygments_lexer": "ipython3",
   "version": 3
  },
  "orig_nbformat": 2
 },
 "nbformat": 4,
 "nbformat_minor": 2,
 "cells": [
  {
   "source": [
    "# How Python Runs Our Code"
   ],
   "cell_type": "markdown",
   "metadata": {}
  },
  {
   "source": [
    "### <u>JARGONS</u>\n",
    "+ Interpreter: An interpreter is a kind of program that    executes other programs. In effect, the interpreter is a layer of software logic between your code and the computer hardware on your machine."
   ],
   "cell_type": "markdown",
   "metadata": {}
  },
  {
   "source": [
    "Python Code Execution Steps\n",
    "\n",
    "Program(Source Code) ------> Compiled to Byte Code -------> Routed to Virtual Machine\n",
    "\n",
    "+ Compilation: It is simply a translation step where the source code is translated to byte code. \n",
    "+ Byte code: It is a lower-level, platform-independent representation of your source code."
   ],
   "cell_type": "markdown",
   "metadata": {}
  },
  {
   "source": [
    "## Where are the byte codes stored?\n",
    "\n",
    "If the Python process has write access on your machine, it will store the byte code of your programs in files that end with a .pyc extension (“.pyc” means compiled “.py” source). Prior to Python 3.2,you will see these files show up on your computer after you’ve run a few programs alongside the corresponding source code files—that is, in the same directories. For instance, you’ll notice a script.pyc after importing a script.py.\n",
    "\n",
    "In 3.2 and later, Python instead saves its .pyc byte code files in a subdirectory named __pycache__ located in the directory where your source files reside, and in files whose names identify the Python version that created them (e.g., script.cpython-33.pyc). The new __pycache__ subdirectory helps to avoid clutter, and the new naming convention for byte code files prevents different Python versions installed on the same computer from overwriting each other’s saved byte code.\n"
   ],
   "cell_type": "markdown",
   "metadata": {}
  },
  {
   "source": [
    "## Why are byte codes stored or saved?\n",
    "\n",
    "Python saves byte code in order to achieve startup speed optimization. \n",
    "The next time you run your program, Python will  load the .pyc files and skip the compilation step, as long as you haven’t changed your source code        since the byte code was last saved, and aren’t running with a different Python than the one that created the byte code. \n",
    "\n",
    "It works like this:\n",
    "+ <u>Source changes:</u> Python automatically checks the last-modified timestamps of source and byte code files to know when it must            recompile—if you edit and resave your source code, byte code is automatically re-created the next time your program is run.\n",
    "\n",
    "+ <u>Python versions:</u> Imports also check to see if the file must be recompiled because it was created by a different Python version,using either a “magic” version number in the byte code file itself in 3.2 and earlier, or the information present in byte code filenames in 3.2 and later.\n",
    "\n",
    "\n",
    "The result is that both source code changes and differing Python version numbers will trigger a new byte code file."
   ],
   "cell_type": "markdown",
   "metadata": {}
  },
  {
   "source": [
    "## Is it mandatory to have the byte code saved?\n",
    "\n",
    "No. If Python cannot write the byte code files to your machine, your program still will still work.\n",
    "The byte code is generated in memory and simply discarded on program exit."
   ],
   "cell_type": "markdown",
   "metadata": {}
  },
  {
   "source": [
    "## Significance of Byte Code\n",
    "\n",
    "+ Because .pyc files speed startup time, you’ll want to make sure they are written for larger programs. \n",
    "+ Byte code files are also one way to ship Python programs.\n",
    "+ Python is happy to run a program if all it can find are .pyc files, even if the original .py source files are absent. \n",
    "+ This method of shipping byte code is also called <b><u>“Frozen Binaries”</u></b>"
   ],
   "cell_type": "markdown",
   "metadata": {}
  },
  {
   "source": [
    "## <b><u>The Python Virtual Machine (PVM)</u></b>\n",
    "\n",
    "Once our program has been compiled to byte code (or the byte code has been loaded from existing .pyc files), it is shipped off for execution to something generally known as the Python Virtual Machine (PVM).\n",
    "+ The PVM is the runtime engine of Python, it is always present as a part of the Python system, and it is the component that truly runs your scripts.\n",
    "+ The PVM is just a big code loop that iterates through your byte code instructions, one by one, to carry out their operations.\n",
    "+ Technically, it’s just the last step of what is called the “Python interpreter.”"
   ],
   "cell_type": "markdown",
   "metadata": {}
  },
  {
   "source": [
    "![How Python Runs Our Code](How_Python_Runs_Our_Code_1.PNG)"
   ],
   "cell_type": "markdown",
   "metadata": {}
  }
 ]
}