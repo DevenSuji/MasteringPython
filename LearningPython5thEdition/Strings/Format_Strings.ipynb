{
 "metadata": {
  "language_info": {
   "codemirror_mode": {
    "name": "ipython",
    "version": 3
   },
   "file_extension": ".py",
   "mimetype": "text/x-python",
   "name": "python",
   "nbconvert_exporter": "python",
   "pygments_lexer": "ipython3",
   "version": "3.8.2-final"
  },
  "orig_nbformat": 2,
  "kernelspec": {
   "name": "python38264bit2472454288054193a39fc81468cfa85d",
   "display_name": "Python 3.8.2 64-bit"
  }
 },
 "nbformat": 4,
 "nbformat_minor": 2,
 "cells": [
  {
   "cell_type": "markdown",
   "metadata": {},
   "source": [
    "# *<u> Formatted Strings </u>*\n",
    "* Strings supports an advanced substitution operation known as formatting."
   ]
  },
  {
   "cell_type": "code",
   "execution_count": 2,
   "metadata": {},
   "outputs": [
    {
     "output_type": "execute_result",
     "data": {
      "text/plain": "'Chicken, eggs, and Steak'"
     },
     "metadata": {},
     "execution_count": 2
    }
   ],
   "source": [
    "'%s, eggs, and %s' % ('Chicken', 'Steak') # Formatting expression (all version of python)"
   ]
  },
  {
   "cell_type": "code",
   "execution_count": 3,
   "metadata": {},
   "outputs": [
    {
     "output_type": "execute_result",
     "data": {
      "text/plain": "'spam, eggs, and SPAM!'"
     },
     "metadata": {},
     "execution_count": 3
    }
   ],
   "source": [
    "'{0}, eggs, and {1}'.format('spam', 'SPAM!') # Formatting method (Python Version 2.6+, 3.0+)"
   ]
  },
  {
   "cell_type": "code",
   "execution_count": 4,
   "metadata": {},
   "outputs": [
    {
     "output_type": "execute_result",
     "data": {
      "text/plain": "'spam, eggs, and SPAM!'"
     },
     "metadata": {},
     "execution_count": 4
    }
   ],
   "source": [
    "'{}, eggs, and {}'.format('spam', 'SPAM!') # # Numbers have been made optional from python version (2.7+, 3.1+)"
   ]
  },
  {
   "cell_type": "code",
   "execution_count": 5,
   "metadata": {},
   "outputs": [
    {
     "output_type": "execute_result",
     "data": {
      "text/plain": "'296,999.26'"
     },
     "metadata": {},
     "execution_count": 5
    }
   ],
   "source": [
    "'{:,.2f}'.format(296999.2567)"
   ]
  },
  {
   "cell_type": "code",
   "execution_count": 7,
   "metadata": {},
   "outputs": [
    {
     "output_type": "execute_result",
     "data": {
      "text/plain": "'3.14 | -0042'"
     },
     "metadata": {},
     "execution_count": 7
    }
   ],
   "source": [
    "'%.2f | %+05d' % (3.14159, -42)"
   ]
  }
 ]
}