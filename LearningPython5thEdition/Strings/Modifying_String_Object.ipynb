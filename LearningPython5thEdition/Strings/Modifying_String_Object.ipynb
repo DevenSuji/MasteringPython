{
 "metadata": {
  "language_info": {
   "codemirror_mode": {
    "name": "ipython",
    "version": 3
   },
   "file_extension": ".py",
   "mimetype": "text/x-python",
   "name": "python",
   "nbconvert_exporter": "python",
   "pygments_lexer": "ipython3",
   "version": "3.7.7-final"
  },
  "orig_nbformat": 2,
  "kernelspec": {
   "name": "python_defaultSpec_1595294087856",
   "display_name": "Python 3.7.7 64-bit ('base': conda)"
  }
 },
 "nbformat": 4,
 "nbformat_minor": 2,
 "cells": [
  {
   "cell_type": "markdown",
   "metadata": {},
   "source": [
    "# Modifying String Objects\n",
    "\n",
    "### One can change text-based data in place if one either expands it into a list of individual characters and join it back together with nothing between, or use the newer <u>bytearray</u>"
   ]
  },
  {
   "cell_type": "markdown",
   "metadata": {},
   "source": [
    "## Modifying String Object Using List Method"
   ]
  },
  {
   "cell_type": "code",
   "execution_count": 12,
   "metadata": {},
   "outputs": [],
   "source": [
    "S = 'shruberry' # Declaring a string variable"
   ]
  },
  {
   "cell_type": "code",
   "execution_count": 13,
   "metadata": {},
   "outputs": [],
   "source": [
    "L = list(S) # Converting the string variable to list."
   ]
  },
  {
   "cell_type": "code",
   "execution_count": 14,
   "metadata": {},
   "outputs": [
    {
     "output_type": "execute_result",
     "data": {
      "text/plain": "['s', 'h', 'r', 'u', 'b', 'e', 'r', 'r', 'y']"
     },
     "metadata": {},
     "execution_count": 14
    }
   ],
   "source": [
    "L # Printing the contents of the variable"
   ]
  },
  {
   "cell_type": "code",
   "execution_count": 9,
   "metadata": {},
   "outputs": [],
   "source": [
    "L[1] = 'c' # Changing the value at index 1"
   ]
  },
  {
   "cell_type": "code",
   "execution_count": 10,
   "metadata": {},
   "outputs": [
    {
     "output_type": "execute_result",
     "data": {
      "text/plain": "'scruberry'"
     },
     "metadata": {},
     "execution_count": 10
    }
   ],
   "source": [
    "''.join(L) # Joining all the elements of the list and printing the result"
   ]
  },
  {
   "cell_type": "markdown",
   "metadata": {},
   "source": [
    "## Modifying String Object Using BYTEARRAY Method"
   ]
  },
  {
   "cell_type": "code",
   "execution_count": 15,
   "metadata": {},
   "outputs": [],
   "source": [
    "B = bytearray(b'spam') # Creating a Byte Array Variable"
   ]
  },
  {
   "cell_type": "code",
   "execution_count": 16,
   "metadata": {},
   "outputs": [
    {
     "output_type": "execute_result",
     "data": {
      "text/plain": "bytearray(b'spam')"
     },
     "metadata": {},
     "execution_count": 16
    }
   ],
   "source": [
    "B # Printing the Byte Array Variable"
   ]
  },
  {
   "cell_type": "code",
   "execution_count": 17,
   "metadata": {},
   "outputs": [],
   "source": [
    "B.extend(b'eggs') # Adding elements to Byte Array Variable"
   ]
  },
  {
   "cell_type": "code",
   "execution_count": 18,
   "metadata": {},
   "outputs": [
    {
     "output_type": "execute_result",
     "data": {
      "text/plain": "bytearray(b'spameggs')"
     },
     "metadata": {},
     "execution_count": 18
    }
   ],
   "source": [
    "B # Printing the Byte Array Variable"
   ]
  },
  {
   "cell_type": "code",
   "execution_count": 19,
   "metadata": {},
   "outputs": [
    {
     "output_type": "execute_result",
     "data": {
      "text/plain": "'spameggs'"
     },
     "metadata": {},
     "execution_count": 19
    }
   ],
   "source": [
    "B.decode() # Decoding and Printing the Byte Array Variable"
   ]
  }
 ]
}