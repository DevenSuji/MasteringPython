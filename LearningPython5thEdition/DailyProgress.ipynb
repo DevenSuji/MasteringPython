{
 "metadata": {
  "language_info": {
   "codemirror_mode": {
    "name": "ipython",
    "version": 3
   },
   "file_extension": ".py",
   "mimetype": "text/x-python",
   "name": "python",
   "nbconvert_exporter": "python",
   "pygments_lexer": "ipython3",
   "version": 3
  },
  "orig_nbformat": 2
 },
 "nbformat": 4,
 "nbformat_minor": 2,
 "cells": [
  {
   "source": [
    "# <u>Daily Progress</u>\n"
   ],
   "cell_type": "markdown",
   "metadata": {}
  },
  {
   "source": [
    "| <b><u>Date</u></b> | <b><u>Chapter Name</u></b> | <b><u>Page No.</u></b> |\n",
    "| :--: | :----------: | :------: |\n",
    "| 26th Jan 2021     | Chapter 2. How Python Runs Programs   | 27 |"
   ],
   "cell_type": "markdown",
   "metadata": {}
  }
 ]
}