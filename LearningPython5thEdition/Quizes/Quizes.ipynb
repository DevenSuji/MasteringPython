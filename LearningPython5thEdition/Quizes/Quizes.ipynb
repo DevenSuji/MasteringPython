{
 "metadata": {
  "language_info": {
   "codemirror_mode": {
    "name": "ipython",
    "version": 3
   },
   "file_extension": ".py",
   "mimetype": "text/x-python",
   "name": "python",
   "nbconvert_exporter": "python",
   "pygments_lexer": "ipython3",
   "version": 3
  },
  "orig_nbformat": 2,
  "kernelspec": {
   "name": "python38264bit2472454288054193a39fc81468cfa85d",
   "display_name": "Python 3.8.2 64-bit"
  }
 },
 "nbformat": 4,
 "nbformat_minor": 2,
 "cells": [
  {
   "cell_type": "markdown",
   "metadata": {},
   "source": [
    "### 1. Name four of Python’s core data types.\n",
    "* Numbers, strings, lists, dictionaries, tuples, files, and sets are generally considered to be the core object (data) types. * Types, None, and Booleans are sometimes classified this way as well. \n",
    "* There are multiple number types (integer, floating point, complex, fraction, and decimal).\n",
    "* There are multiple string types (simple strings and Unicode strings in Python 2.X, and text strings and byte strings in Python 3.X)."
   ]
  },
  {
   "cell_type": "markdown",
   "metadata": {},
   "source": [
    "### 2. Why are they called “core” data types?\n",
    "* They are known as “core” types because they are part of the Python language itself and are always available.\n",
    "* To create other objects, you generally must call functions in imported modules. \n",
    "* Most of the core types have specific syntax for generating the objects: 'spam', for example, is an expression that makes a string and determines the set of operations that can be applied to it. \n",
    "* Core types are hardwired into Python’s syntax. \n",
    "* In contrast, you must call the built-in open function to create a file object (even though this is usually considered a core type too)."
   ]
  },
  {
   "cell_type": "markdown",
   "metadata": {},
   "source": [
    "### 3. What does “immutable” mean, and which three of Python’s core types are considered immutable?\n",
    "* An “immutable” object is an object that cannot be changed after it is created.\n",
    "Numbers, strings, and tuples in Python fall into this category. While you cannot change an immutable object in place, you can always make a new one by running\n",
    "an expression. Bytearrays in recent Pythons offer mutability for text, but they are\n",
    "not normal strings, and only apply directly to text if it’s a simple 8-bit kind (e.g.,\n",
    "ASCII)."
   ]
  },
  {
   "cell_type": "markdown",
   "metadata": {},
   "source": [
    "### 4. What does “sequence” mean, and which three types fall into that category?\n",
    "* A “sequence” is a positionally ordered collection of objects. Strings, lists, and tuples\n",
    "are all sequences in Python. They share common sequence operations, such as\n",
    "indexing, concatenation, and slicing, but also have type-specific method calls. A\n",
    "related term, “iterable,” means either a physical sequence, or a virtual one that\n",
    "produces its items on request."
   ]
  },
  {
   "cell_type": "markdown",
   "metadata": {},
   "source": [
    "### 5. What does “mapping” mean, and which core type is a mapping?\n",
    "* The term “mapping” denotes an object that maps keys to associated values.\n",
    "Python’s dictionary is the only mapping type in the core type set. Mappings do not\n",
    "maintain any left-to-right positional ordering; they support access to data stored\n",
    "by key, plus type-specific method calls."
   ]
  },
  {
   "cell_type": "markdown",
   "metadata": {},
   "source": [
    "### 6. What is “polymorphism,” and why should you care?\n",
    "* “Polymorphism” means that the meaning of an operation (like a +) depends on the\n",
    "objects being operated on. This turns out to be a key idea (perhaps the key idea)\n",
    "behind using Python well—not constraining code to specific types makes that code\n",
    "automatically applicable to many types."
   ]
  }
 ]
}