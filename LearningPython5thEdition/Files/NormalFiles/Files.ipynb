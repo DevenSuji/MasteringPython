{
 "metadata": {
  "language_info": {
   "codemirror_mode": {
    "name": "ipython",
    "version": 3
   },
   "file_extension": ".py",
   "mimetype": "text/x-python",
   "name": "python",
   "nbconvert_exporter": "python",
   "pygments_lexer": "ipython3",
   "version": "3.8.2-final"
  },
  "orig_nbformat": 2,
  "kernelspec": {
   "name": "python38264bit2472454288054193a39fc81468cfa85d",
   "display_name": "Python 3.8.2 64-bit"
  }
 },
 "nbformat": 4,
 "nbformat_minor": 2,
 "cells": [
  {
   "cell_type": "markdown",
   "metadata": {},
   "source": [
    "# <u>Files</u>\n",
    "\n",
    "* File objects are Python code’s main interface to external files on your computer.\n",
    "* They can be used to read and write text memos, audio clips, Excel documents, saved email messages, and whatever else you happen to have stored on your machine.\n",
    "* Files are a core type, but they’re something of an oddball. There is no specific literal syntax for creating them.\n",
    "* To create a file object, you call the built-in open function, passing in an external filename and an optional processing mode as strings.\n"
   ]
  },
  {
   "cell_type": "code",
   "execution_count": 16,
   "metadata": {},
   "outputs": [
    {
     "output_type": "execute_result",
     "data": {
      "text/plain": "'c:\\\\GitHub\\\\MasteringPython\\\\LearningPython5thEdition\\\\Files'"
     },
     "metadata": {},
     "execution_count": 16
    }
   ],
   "source": [
    "pwd"
   ]
  },
  {
   "cell_type": "code",
   "execution_count": 17,
   "metadata": {},
   "outputs": [],
   "source": [
    "f = open('data.txt', mode = 'w') # Make a new file in output mode ('w' is write)"
   ]
  },
  {
   "cell_type": "code",
   "execution_count": 18,
   "metadata": {},
   "outputs": [
    {
     "output_type": "execute_result",
     "data": {
      "text/plain": "47"
     },
     "metadata": {},
     "execution_count": 18
    }
   ],
   "source": [
    "f.write('Hello Deven. \\nThe Data Scientist of the future!') # Write strings of characters to it. It will return the number of items written."
   ]
  },
  {
   "cell_type": "code",
   "execution_count": 19,
   "metadata": {},
   "outputs": [],
   "source": [
    "f.close()"
   ]
  },
  {
   "cell_type": "code",
   "execution_count": 20,
   "metadata": {},
   "outputs": [
    {
     "output_type": "execute_result",
     "data": {
      "text/plain": "'Hello Deven. \\nThe Data Scientist of the future!'"
     },
     "metadata": {},
     "execution_count": 20
    }
   ],
   "source": [
    "f = open('data.txt') # Here the mode is not mentioned as we are just trying to read the file. Read mode is the default mode.\n",
    "text = f.read() # Read entire file into a string\n",
    "text"
   ]
  },
  {
   "cell_type": "code",
   "execution_count": 21,
   "metadata": {
    "tags": []
   },
   "outputs": [
    {
     "output_type": "stream",
     "name": "stdout",
     "text": "Hello Deven. \nThe Data Scientist of the future!\n"
    }
   ],
   "source": [
    "print(text) # print interprets control characters"
   ]
  },
  {
   "cell_type": "code",
   "execution_count": 22,
   "metadata": {},
   "outputs": [
    {
     "output_type": "execute_result",
     "data": {
      "text/plain": "['Hello', 'Deven.', 'The', 'Data', 'Scientist', 'of', 'the', 'future!']"
     },
     "metadata": {},
     "execution_count": 22
    }
   ],
   "source": [
    "text.split() # File content is always a string"
   ]
  },
  {
   "cell_type": "markdown",
   "metadata": {},
   "source": [
    "### Using the FOR LOOP to read the contents of the file"
   ]
  },
  {
   "cell_type": "code",
   "execution_count": 23,
   "metadata": {
    "tags": []
   },
   "outputs": [
    {
     "output_type": "stream",
     "name": "stdout",
     "text": "Hello Deven. \n\nThe Data Scientist of the future!\n"
    }
   ],
   "source": [
    "for line in open('data.txt'): print(line)"
   ]
  },
  {
   "cell_type": "markdown",
   "metadata": {},
   "source": [
    "### Using help"
   ]
  },
  {
   "cell_type": "code",
   "execution_count": 24,
   "metadata": {},
   "outputs": [],
   "source": [
    "dir(f)"
   ]
  },
  {
   "cell_type": "code",
   "execution_count": 25,
   "metadata": {
    "tags": []
   },
   "outputs": [
    {
     "output_type": "stream",
     "name": "stdout",
     "text": "Help on built-in function seek:\n\nseek(cookie, whence=0, /) method of _io.TextIOWrapper instance\n    Change stream position.\n    \n    Change the stream position to the given byte offset. The offset is\n    interpreted relative to the position indicated by whence.  Values\n    for whence are:\n    \n    * 0 -- start of stream (the default); offset should be zero or positive\n    * 1 -- current stream position; offset may be negative\n    * 2 -- end of stream; offset is usually negative\n    \n    Return the new absolute position.\n\n"
    }
   ],
   "source": [
    "help(f.seek)"
   ]
  }
 ]
}