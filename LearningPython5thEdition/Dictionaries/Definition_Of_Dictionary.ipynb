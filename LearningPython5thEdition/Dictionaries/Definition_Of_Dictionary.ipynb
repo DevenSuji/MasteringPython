{
 "metadata": {
  "language_info": {
   "codemirror_mode": {
    "name": "ipython",
    "version": 3
   },
   "file_extension": ".py",
   "mimetype": "text/x-python",
   "name": "python",
   "nbconvert_exporter": "python",
   "pygments_lexer": "ipython3",
   "version": "3.8.2-final"
  },
  "orig_nbformat": 2,
  "kernelspec": {
   "name": "python38264bit2472454288054193a39fc81468cfa85d",
   "display_name": "Python 3.8.2 64-bit"
  }
 },
 "nbformat": 4,
 "nbformat_minor": 2,
 "cells": [
  {
   "cell_type": "markdown",
   "metadata": {},
   "source": [
    "# *<u>Dictionaries</u>*\n",
    "* Python dictionaries are something completely different they are not sequences at all, but are instead known as mappings.\n",
    "* Mappings are also collections of other objects, but they store objects by key instead of by relative position. \n",
    "* Mappings are not positionally ordered. Mappings don’t maintain any reliable left-to-right order; they simply map keys to associated values. \n",
    "* Dictionaries, the only mapping type in Python’s core objects set, and are also mutable.\n",
    "* Like lists, they may be changed in place and can grow and shrink on demand. \n",
    "* Also like lists, they are a flexible tool for representing collections\n",
    "* Better suited when a collection’s items are named or labeled—fields of a database record, for example.\n",
    "* When written as literals, dictionaries are coded in curly braces {} and consist of a series of “key: value” pairs."
   ]
  },
  {
   "cell_type": "code",
   "execution_count": 1,
   "metadata": {},
   "outputs": [],
   "source": [
    "D = {'food': 'Spam', 'quantity': 4, 'color': 'pink'}"
   ]
  },
  {
   "cell_type": "markdown",
   "metadata": {},
   "source": [
    "#### We can index this dictionary by key to fetch and change the keys’ associated values. The dictionary index operation uses the same syntax as that used for sequences, but the item in the square brackets is a key, not a relative position:"
   ]
  },
  {
   "cell_type": "code",
   "execution_count": 2,
   "metadata": {},
   "outputs": [
    {
     "output_type": "execute_result",
     "data": {
      "text/plain": "'Spam'"
     },
     "metadata": {},
     "execution_count": 2
    }
   ],
   "source": [
    "D['food'] # Fetch value of key 'food'"
   ]
  },
  {
   "cell_type": "code",
   "execution_count": 3,
   "metadata": {},
   "outputs": [
    {
     "output_type": "execute_result",
     "data": {
      "text/plain": "4"
     },
     "metadata": {},
     "execution_count": 3
    }
   ],
   "source": [
    "D['quantity']"
   ]
  },
  {
   "cell_type": "code",
   "execution_count": 4,
   "metadata": {},
   "outputs": [],
   "source": [
    "D['quantity'] += 1 # Add 1 to 'quantity' value"
   ]
  },
  {
   "cell_type": "code",
   "execution_count": 5,
   "metadata": {},
   "outputs": [
    {
     "output_type": "execute_result",
     "data": {
      "text/plain": "{'food': 'Spam', 'quantity': 5, 'color': 'pink'}"
     },
     "metadata": {},
     "execution_count": 5
    }
   ],
   "source": [
    "D"
   ]
  },
  {
   "cell_type": "markdown",
   "metadata": {},
   "source": [
    "#### Starting from any empty dictionary and building it as we progress"
   ]
  },
  {
   "cell_type": "code",
   "execution_count": 6,
   "metadata": {},
   "outputs": [],
   "source": [
    "Dictionary1 = {}"
   ]
  },
  {
   "cell_type": "code",
   "execution_count": 7,
   "metadata": {},
   "outputs": [],
   "source": [
    "Dictionary1['name'] = 'Deven'"
   ]
  },
  {
   "cell_type": "code",
   "execution_count": 8,
   "metadata": {},
   "outputs": [],
   "source": [
    "Dictionary1['job'] = 'Investor'"
   ]
  },
  {
   "cell_type": "code",
   "execution_count": 9,
   "metadata": {},
   "outputs": [],
   "source": [
    "Dictionary1['age'] = '36'"
   ]
  },
  {
   "cell_type": "code",
   "execution_count": 10,
   "metadata": {},
   "outputs": [
    {
     "output_type": "execute_result",
     "data": {
      "text/plain": "{'name': 'Deven', 'job': 'Investor', 'age': '36'}"
     },
     "metadata": {},
     "execution_count": 10
    }
   ],
   "source": [
    "Dictionary1"
   ]
  },
  {
   "cell_type": "code",
   "execution_count": 11,
   "metadata": {},
   "outputs": [
    {
     "output_type": "execute_result",
     "data": {
      "text/plain": "'Deven'"
     },
     "metadata": {},
     "execution_count": 11
    }
   ],
   "source": [
    "    Dictionary1['name']"
   ]
  },
  {
   "cell_type": "code",
   "execution_count": 12,
   "metadata": {},
   "outputs": [],
   "source": [
    "Dictionary2 = dict(zip(['name', 'job', 'age'], ['Deven', 'Data Scientist', 40]))"
   ]
  },
  {
   "cell_type": "code",
   "execution_count": 13,
   "metadata": {},
   "outputs": [
    {
     "output_type": "execute_result",
     "data": {
      "text/plain": "{'name': 'Deven', 'job': 'Data Scientist', 'age': 40}"
     },
     "metadata": {},
     "execution_count": 13
    }
   ],
   "source": [
    "Dictionary2"
   ]
  },
  {
   "cell_type": "markdown",
   "metadata": {},
   "source": [
    "### Complex Dictionaries"
   ]
  },
  {
   "cell_type": "code",
   "execution_count": 14,
   "metadata": {},
   "outputs": [],
   "source": [
    "MyFuture = {'Name': {'First': 'Deven', 'Last': 'Suji'},\n",
    "        'Jobs': ['Investor', 'Data Scientist'],\n",
    "        'Age': 40}"
   ]
  },
  {
   "cell_type": "code",
   "execution_count": 15,
   "metadata": {},
   "outputs": [
    {
     "output_type": "execute_result",
     "data": {
      "text/plain": "{'First': 'Deven', 'Last': 'Suji'}"
     },
     "metadata": {},
     "execution_count": 15
    }
   ],
   "source": [
    "MyFuture['Name'] # 'name' is a nested dictionary"
   ]
  },
  {
   "cell_type": "code",
   "execution_count": 16,
   "metadata": {},
   "outputs": [
    {
     "output_type": "execute_result",
     "data": {
      "text/plain": "'Suji'"
     },
     "metadata": {},
     "execution_count": 16
    }
   ],
   "source": [
    "MyFuture['Name']['Last'] # Index the nested dictionary"
   ]
  },
  {
   "cell_type": "code",
   "execution_count": 17,
   "metadata": {},
   "outputs": [
    {
     "output_type": "execute_result",
     "data": {
      "text/plain": "['Investor', 'Data Scientist']"
     },
     "metadata": {},
     "execution_count": 17
    }
   ],
   "source": [
    "MyFuture['Jobs']"
   ]
  },
  {
   "cell_type": "code",
   "execution_count": 18,
   "metadata": {},
   "outputs": [
    {
     "output_type": "execute_result",
     "data": {
      "text/plain": "'Investor'"
     },
     "metadata": {},
     "execution_count": 18
    }
   ],
   "source": [
    "MyFuture['Jobs'][0]"
   ]
  },
  {
   "cell_type": "code",
   "execution_count": 19,
   "metadata": {},
   "outputs": [
    {
     "output_type": "execute_result",
     "data": {
      "text/plain": "'Data Scientist'"
     },
     "metadata": {},
     "execution_count": 19
    }
   ],
   "source": [
    "MyFuture['Jobs'][1]"
   ]
  },
  {
   "cell_type": "code",
   "execution_count": 20,
   "metadata": {},
   "outputs": [],
   "source": [
    "MyFuture['Jobs'].append('Trader')"
   ]
  },
  {
   "cell_type": "code",
   "execution_count": 21,
   "metadata": {},
   "outputs": [
    {
     "output_type": "execute_result",
     "data": {
      "text/plain": "['Investor', 'Data Scientist', 'Trader']"
     },
     "metadata": {},
     "execution_count": 21
    }
   ],
   "source": [
    "MyFuture['Jobs']"
   ]
  },
  {
   "cell_type": "markdown",
   "metadata": {},
   "source": [
    "### Handling Non Existent Keys"
   ]
  },
  {
   "cell_type": "code",
   "execution_count": 22,
   "metadata": {},
   "outputs": [
    {
     "output_type": "execute_result",
     "data": {
      "text/plain": "{'a': 1, 'b': 2, 'c': 3}"
     },
     "metadata": {},
     "execution_count": 22
    }
   ],
   "source": [
    "D = {'a': 1, 'b': 2, 'c': 3}\n",
    "D"
   ]
  },
  {
   "cell_type": "code",
   "execution_count": 23,
   "metadata": {},
   "outputs": [
    {
     "output_type": "execute_result",
     "data": {
      "text/plain": "{'a': 1, 'b': 2, 'c': 3, 'e': 99}"
     },
     "metadata": {},
     "execution_count": 23
    }
   ],
   "source": [
    "D['e'] = 99\n",
    "D"
   ]
  },
  {
   "cell_type": "code",
   "execution_count": 24,
   "metadata": {},
   "outputs": [
    {
     "output_type": "error",
     "ename": "KeyError",
     "evalue": "'f'",
     "traceback": [
      "\u001b[1;31m---------------------------------------------------------------------------\u001b[0m",
      "\u001b[1;31mKeyError\u001b[0m                                  Traceback (most recent call last)",
      "\u001b[1;32m<ipython-input-24-3c3ea761c658>\u001b[0m in \u001b[0;36m<module>\u001b[1;34m\u001b[0m\n\u001b[1;32m----> 1\u001b[1;33m \u001b[0mD\u001b[0m\u001b[1;33m[\u001b[0m\u001b[1;34m'f'\u001b[0m\u001b[1;33m]\u001b[0m \u001b[1;31m# This will result in error as the key 'f' does not exist\u001b[0m\u001b[1;33m\u001b[0m\u001b[1;33m\u001b[0m\u001b[0m\n\u001b[0m",
      "\u001b[1;31mKeyError\u001b[0m: 'f'"
     ]
    }
   ],
   "source": [
    "D['f'] # This will result in error as the key 'f' does not exist"
   ]
  },
  {
   "cell_type": "markdown",
   "metadata": {},
   "source": [
    "### Using the IN method to find if the Key or Value exists in the Dictionary"
   ]
  },
  {
   "cell_type": "code",
   "execution_count": 25,
   "metadata": {},
   "outputs": [
    {
     "output_type": "execute_result",
     "data": {
      "text/plain": "False"
     },
     "metadata": {},
     "execution_count": 25
    }
   ],
   "source": [
    "'f' in D"
   ]
  },
  {
   "cell_type": "code",
   "execution_count": 26,
   "metadata": {
    "tags": []
   },
   "outputs": [
    {
     "output_type": "stream",
     "name": "stdout",
     "text": "MISSING\n"
    }
   ],
   "source": [
    "if not 'f' in D:\n",
    "    print('MISSING')"
   ]
  },
  {
   "cell_type": "code",
   "execution_count": null,
   "metadata": {},
   "outputs": [],
   "source": []
  },
  {
   "cell_type": "code",
   "execution_count": 27,
   "metadata": {},
   "outputs": [
    {
     "output_type": "execute_result",
     "data": {
      "text/plain": "0"
     },
     "metadata": {},
     "execution_count": 27
    }
   ],
   "source": [
    "value = D.get('x', 0) # Index but with a default\n",
    "value"
   ]
  },
  {
   "cell_type": "code",
   "execution_count": 28,
   "metadata": {},
   "outputs": [
    {
     "output_type": "execute_result",
     "data": {
      "text/plain": "0"
     },
     "metadata": {},
     "execution_count": 28
    }
   ],
   "source": [
    "value = D['x'] if 'x' in D else 0 # if/else expression form\n",
    "value"
   ]
  },
  {
   "cell_type": "markdown",
   "metadata": {},
   "source": [
    "### Sorting Dictionary On Keys"
   ]
  },
  {
   "cell_type": "code",
   "execution_count": 30,
   "metadata": {},
   "outputs": [
    {
     "output_type": "execute_result",
     "data": {
      "text/plain": "{'a': 1, 'b': 2, 'c': 3}"
     },
     "metadata": {},
     "execution_count": 30
    }
   ],
   "source": [
    "D = {'a': 1, 'b': 2, 'c': 3}\n",
    "D"
   ]
  },
  {
   "cell_type": "code",
   "execution_count": 32,
   "metadata": {},
   "outputs": [
    {
     "output_type": "execute_result",
     "data": {
      "text/plain": "['a', 'b', 'c']"
     },
     "metadata": {},
     "execution_count": 32
    }
   ],
   "source": [
    "Ks = list(D.keys())\n",
    "Ks"
   ]
  },
  {
   "cell_type": "code",
   "execution_count": 33,
   "metadata": {},
   "outputs": [
    {
     "output_type": "execute_result",
     "data": {
      "text/plain": "['a', 'b', 'c']"
     },
     "metadata": {},
     "execution_count": 33
    }
   ],
   "source": [
    "Ks.sort()\n",
    "Ks"
   ]
  },
  {
   "cell_type": "code",
   "execution_count": 34,
   "metadata": {
    "tags": []
   },
   "outputs": [
    {
     "output_type": "stream",
     "name": "stdout",
     "text": "a => 1\nb => 2\nc => 3\n"
    }
   ],
   "source": [
    "for key in Ks:\n",
    "    print(key, '=>', D[key])"
   ]
  },
  {
   "cell_type": "markdown",
   "metadata": {},
   "source": [
    "#### This is a three-step process. In recent versionsof Python it can be done in one step with the newer sorted built-in function."
   ]
  },
  {
   "cell_type": "code",
   "execution_count": 35,
   "metadata": {},
   "outputs": [
    {
     "output_type": "execute_result",
     "data": {
      "text/plain": "{'a': 1, 'b': 2, 'c': 3}"
     },
     "metadata": {},
     "execution_count": 35
    }
   ],
   "source": [
    "D\n"
   ]
  },
  {
   "cell_type": "code",
   "execution_count": 36,
   "metadata": {
    "tags": []
   },
   "outputs": [
    {
     "output_type": "stream",
     "name": "stdout",
     "text": "a ==>>> 1\nb ==>>> 2\nc ==>>> 3\n"
    }
   ],
   "source": [
    "for key in sorted(D):\n",
    "    print(key, '==>>>', D[key])"
   ]
  }
 ]
}