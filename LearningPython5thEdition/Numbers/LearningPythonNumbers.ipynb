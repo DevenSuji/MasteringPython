{
 "metadata": {
  "language_info": {
   "codemirror_mode": {
    "name": "ipython",
    "version": 3
   },
   "file_extension": ".py",
   "mimetype": "text/x-python",
   "name": "python",
   "nbconvert_exporter": "python",
   "pygments_lexer": "ipython3",
   "version": "3.8.2-final"
  },
  "orig_nbformat": 2,
  "kernelspec": {
   "name": "python38264bit2472454288054193a39fc81468cfa85d",
   "display_name": "Python 3.8.2 64-bit"
  }
 },
 "nbformat": 4,
 "nbformat_minor": 2,
 "cells": [
  {
   "cell_type": "markdown",
   "metadata": {},
   "source": [
    "# Numbers\n",
    "#### Numbers in Python is classified in the below mentioned categories:\n",
    "* Integer and floating-point objects\n",
    "* Complex number objects\n",
    "* Decimal: fixed-precision objects\n",
    "* Fraction: rational number objects\n",
    "* Sets: collections with numeric operations\n",
    "* Booleans: true and false\n",
    "* Built-in functions and modules: round, math, random, etc.\n",
    "* Expressions; unlimited integer precision; bitwise operations; hex, octal, and binary formats\n",
    "* Third-party extensions: vectors, libraries, visualization, plotting, etc.\n",
    "\n"
   ]
  },
  {
   "cell_type": "markdown",
   "metadata": {},
   "source": [
    "## Python Operators\n",
    "\n",
    "|   <u>Operators</u>   |   <u>Description</u> | \n",
    "|   --- |   --- |\n",
    "|   yield x   |   ==>>> Generator Function send protocol |\n",
    "|   lambda args: expression   | ==>>> Anonymous function generation |\n",
    "|   x if y else z   |   ==>>> Ternary selection(x is evaluated only if y is true) |\n",
    "|   x or y  | ==>>> Logical OR (y is evaluated only if x is false) |\n",
    "|   x and y | ==>>> Logical AND (y is evaluated only if x is true) |\n",
    "|   not x   | ==>>> Logocal negation |\n",
    "|   x in y, x not in y  | ==>>> Membership(iterables, sets) |\n",
    "|   x is y, x is not y  | ==>>> Object identity test |\n",
    "|   x < y, x <= y, x > y, x >= y | ==>>> Magnitude comparison, set subset and superset |"
   ]
  },
  {
   "cell_type": "markdown",
   "metadata": {},
   "source": [
    "### Chaining Operators"
   ]
  },
  {
   "cell_type": "code",
   "execution_count": 1,
   "metadata": {},
   "outputs": [
    {
     "output_type": "execute_result",
     "data": {
      "text/plain": "False"
     },
     "metadata": {},
     "execution_count": 1
    }
   ],
   "source": [
    "1.1 + 2.2 == 3.3 # Shouldn't this be True?..."
   ]
  },
  {
   "cell_type": "code",
   "execution_count": 2,
   "metadata": {},
   "outputs": [
    {
     "output_type": "execute_result",
     "data": {
      "text/plain": "3.3000000000000003"
     },
     "metadata": {},
     "execution_count": 2
    }
   ],
   "source": [
    "1.1 + 2.2 # Close to 3.3, but not exactly: limited precision"
   ]
  },
  {
   "cell_type": "code",
   "execution_count": 3,
   "metadata": {},
   "outputs": [
    {
     "output_type": "execute_result",
     "data": {
      "text/plain": "True"
     },
     "metadata": {},
     "execution_count": 3
    }
   ],
   "source": [
    "int(1.1 + 2.2) == int(3.3) # The reason why this evaluates to true is because the decimal part is left off.\n",
    "# OK if convert: see also round, floor, trunc ahead"
   ]
  },
  {
   "cell_type": "code",
   "execution_count": 5,
   "metadata": {},
   "outputs": [
    {
     "output_type": "execute_result",
     "data": {
      "text/plain": "3"
     },
     "metadata": {},
     "execution_count": 5
    }
   ],
   "source": [
    "int(3.3) # You see that the decimal part is left off"
   ]
  },
  {
   "cell_type": "code",
   "execution_count": 6,
   "metadata": {},
   "outputs": [
    {
     "output_type": "execute_result",
     "data": {
      "text/plain": "3"
     },
     "metadata": {},
     "execution_count": 6
    }
   ],
   "source": [
    "int(1.1 + 2.2) ) # You see that the decimal part is left off"
   ]
  },
  {
   "cell_type": "code",
   "execution_count": 7,
   "metadata": {},
   "outputs": [
    {
     "output_type": "execute_result",
     "data": {
      "text/plain": "3"
     },
     "metadata": {},
     "execution_count": 7
    }
   ],
   "source": [
    "# We can also do these\n",
    "round(1.1 + 2.2)"
   ]
  },
  {
   "cell_type": "code",
   "execution_count": 8,
   "metadata": {},
   "outputs": [
    {
     "output_type": "execute_result",
     "data": {
      "text/plain": "3"
     },
     "metadata": {},
     "execution_count": 8
    }
   ],
   "source": [
    "round(3.3)"
   ]
  }
 ]
}