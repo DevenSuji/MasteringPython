{
 "metadata": {
  "language_info": {
   "codemirror_mode": {
    "name": "ipython",
    "version": 3
   },
   "file_extension": ".py",
   "mimetype": "text/x-python",
   "name": "python",
   "nbconvert_exporter": "python",
   "pygments_lexer": "ipython3",
   "version": "3.8.2-final"
  },
  "orig_nbformat": 2,
  "kernelspec": {
   "name": "python38264bit2472454288054193a39fc81468cfa85d",
   "display_name": "Python 3.8.2 64-bit"
  }
 },
 "nbformat": 4,
 "nbformat_minor": 2,
 "cells": [
  {
   "cell_type": "markdown",
   "metadata": {},
   "source": [
    "# Numbers\n",
    "#### Numbers in Python is classified in the below mentioned categories:\n",
    "* Integer and floating-point objects\n",
    "* Complex number objects\n",
    "* Decimal: fixed-precision objects\n",
    "* Fraction: rational number objects\n",
    "* Sets: collections with numeric operations\n",
    "* Booleans: true and false\n",
    "* Built-in functions and modules: round, math, random, etc.\n",
    "* Expressions; unlimited integer precision; bitwise operations; hex, octal, and binary formats\n",
    "* Third-party extensions: vectors, libraries, visualization, plotting, etc.\n",
    "\n"
   ]
  },
  {
   "cell_type": "markdown",
   "metadata": {},
   "source": [
    "## Python Operators\n",
    "\n",
    "|   <u>Operators</u>   |   <u>Description</u> | \n",
    "|   --- |   --- |\n",
    "|   yield x   |   ==>>> Generator Function send protocol |\n",
    "|   lambda args: expression   | ==>>> Anonymous function generation |\n",
    "|   x if y else z   |   ==>>> Ternary selection(x is evaluated only if y is true) |\n",
    "|   x or y  | ==>>> Logical OR (y is evaluated only if x is false) |\n",
    "|   x and y | ==>>> Logical AND (y is evaluated only if x is true) |\n",
    "|   not x   | ==>>> Logocal negation |\n",
    "|   x in y, x not in y  | ==>>> Membership(iterables, sets) |\n",
    "|   x is y, x is not y  | ==>>> Object identity test |\n",
    "|   x < y, x <= y, x > y, x >= y | ==>>> Magnitude comparison, set subset and superset |\n",
    "|   x == y, x != y  | ==>>>  Value equality operators    |\n",
    "|   x \\| y   | ==>>>    Bitwise OR, Set Union |\n",
    "|   x ^ y   | ==>>>  Bitwise XOR, set symmetric difference   |\n",
    "| x & y | ==>>>  Bitwise AND, set intersection   |\n",
    "| x << y, x >> y | ==>>> Shift x left or right by y bits |\n",
    "|   x + y   | ==>>> Addition, concatenation |\n",
    "|   x – y   | ==>>> Subtraction, set difference |\n",
    "|   x * y   | ==>>> Multiplication, repetition  |\n",
    "|   x % y   | ==>>> Remainder, format   |\n",
    "|   x / y, x // y   | ==>>> Division: true and floor    |\n",
    "|   -x, +x  | ==>>> Negation, identity |\n",
    "|   ˜x  | ==>>> Bitwise NOT (inversion) |\n",
    "|   x ** y  |  ==>>> Power (exponentiation)  |\n",
    "|   x\\[i\\]    | ==>>> Indexing (sequence, mapping, others) |\n",
    "|   x\\[i:j:k\\]  | ==>>>   Slicing |\n",
    "|   x(...) | ==>>>  Call (function, method, class, other callable) |\n",
    "|   x.attr |    ==>>>   Attribute reference |\n",
    "|   (...) | ==>>>   Tuple, expression, generator expression |\n",
    "|   \\[...\\] | ==>>>   List, list comprehension |\n",
    "|   {...} | ==>>>   Dictionary, set, set and dictionary comprehensions |\n",
    "\n",
    "\n",
    "\n",
    "\n",
    "\n"
   ]
  },
  {
   "cell_type": "markdown",
   "metadata": {},
   "source": [
    "### Chaining Operators"
   ]
  },
  {
   "cell_type": "code",
   "execution_count": 9,
   "metadata": {},
   "outputs": [
    {
     "output_type": "execute_result",
     "data": {
      "text/plain": "False"
     },
     "metadata": {},
     "execution_count": 9
    }
   ],
   "source": [
    "1.1 + 2.2 == 3.3 # Shouldn't this be True?..."
   ]
  },
  {
   "cell_type": "code",
   "execution_count": 10,
   "metadata": {},
   "outputs": [
    {
     "output_type": "execute_result",
     "data": {
      "text/plain": "3.3000000000000003"
     },
     "metadata": {},
     "execution_count": 10
    }
   ],
   "source": [
    "1.1 + 2.2 # Close to 3.3, but not exactly: limited precision"
   ]
  },
  {
   "cell_type": "code",
   "execution_count": 11,
   "metadata": {},
   "outputs": [
    {
     "output_type": "execute_result",
     "data": {
      "text/plain": "True"
     },
     "metadata": {},
     "execution_count": 11
    }
   ],
   "source": [
    "int(1.1 + 2.2) == int(3.3) # The reason why this evaluates to true is because the decimal part is left off.\n",
    "# OK if convert: see also round, floor, trunc ahead"
   ]
  },
  {
   "cell_type": "code",
   "execution_count": 12,
   "metadata": {},
   "outputs": [
    {
     "output_type": "execute_result",
     "data": {
      "text/plain": "3"
     },
     "metadata": {},
     "execution_count": 12
    }
   ],
   "source": [
    "int(3.3) # You see that the decimal part is left off"
   ]
  },
  {
   "cell_type": "code",
   "execution_count": 13,
   "metadata": {},
   "outputs": [
    {
     "output_type": "error",
     "ename": "SyntaxError",
     "evalue": "unmatched ')' (<ipython-input-13-55966378a809>, line 1)",
     "traceback": [
      "\u001b[1;36m  File \u001b[1;32m\"<ipython-input-13-55966378a809>\"\u001b[1;36m, line \u001b[1;32m1\u001b[0m\n\u001b[1;33m    int(1.1 + 2.2) ) # You see that the decimal part is left off\u001b[0m\n\u001b[1;37m                   ^\u001b[0m\n\u001b[1;31mSyntaxError\u001b[0m\u001b[1;31m:\u001b[0m unmatched ')'\n"
     ]
    }
   ],
   "source": [
    "int(1.1 + 2.2) ) # You see that the decimal part is left off"
   ]
  },
  {
   "cell_type": "code",
   "execution_count": 14,
   "metadata": {},
   "outputs": [
    {
     "output_type": "execute_result",
     "data": {
      "text/plain": "3"
     },
     "metadata": {},
     "execution_count": 14
    }
   ],
   "source": [
    "# We can also do these\n",
    "round(1.1 + 2.2)"
   ]
  },
  {
   "cell_type": "code",
   "execution_count": 15,
   "metadata": {},
   "outputs": [
    {
     "output_type": "execute_result",
     "data": {
      "text/plain": "3"
     },
     "metadata": {},
     "execution_count": 15
    }
   ],
   "source": [
    "round(3.3)"
   ]
  },
  {
   "cell_type": "markdown",
   "metadata": {},
   "source": [
    "## Computing Square Roots\n",
    "* There are three ways to compute a square root and the same is shown below:"
   ]
  },
  {
   "cell_type": "code",
   "execution_count": 16,
   "metadata": {},
   "outputs": [
    {
     "output_type": "execute_result",
     "data": {
      "text/plain": "12.0"
     },
     "metadata": {},
     "execution_count": 16
    }
   ],
   "source": [
    "import math # Finding the square root using module. \n",
    "math.sqrt(144)"
   ]
  },
  {
   "cell_type": "code",
   "execution_count": 17,
   "metadata": {},
   "outputs": [
    {
     "output_type": "execute_result",
     "data": {
      "text/plain": "12.0"
     },
     "metadata": {},
     "execution_count": 17
    }
   ],
   "source": [
    "144 ** .5 # Finding the square root using an expression."
   ]
  },
  {
   "cell_type": "code",
   "execution_count": 18,
   "metadata": {},
   "outputs": [
    {
     "output_type": "execute_result",
     "data": {
      "text/plain": "12.0"
     },
     "metadata": {},
     "execution_count": 18
    }
   ],
   "source": [
    "pow(144, .5) # Finding the square root using built in function."
   ]
  },
  {
   "cell_type": "markdown",
   "metadata": {},
   "source": [
    "## RANDOM MODULE\n",
    "* This standard library random module must be inported as well."
   ]
  },
  {
   "cell_type": "code",
   "execution_count": 19,
   "metadata": {},
   "outputs": [],
   "source": [
    "import random"
   ]
  },
  {
   "cell_type": "code",
   "execution_count": 20,
   "metadata": {},
   "outputs": [
    {
     "output_type": "execute_result",
     "data": {
      "text/plain": "0.33609443270137884"
     },
     "metadata": {},
     "execution_count": 20
    }
   ],
   "source": [
    "random.random() # Random floats, integers, choices, shuffles"
   ]
  },
  {
   "cell_type": "code",
   "execution_count": 21,
   "metadata": {},
   "outputs": [
    {
     "output_type": "execute_result",
     "data": {
      "text/plain": "2"
     },
     "metadata": {},
     "execution_count": 21
    }
   ],
   "source": [
    "random.randint(1, 6)"
   ]
  },
  {
   "cell_type": "code",
   "execution_count": 22,
   "metadata": {},
   "outputs": [
    {
     "output_type": "execute_result",
     "data": {
      "text/plain": "'Pavithra Mahesh'"
     },
     "metadata": {},
     "execution_count": 22
    }
   ],
   "source": [
    "random.choice(['Deven Suji', 'Pavithra Mahesh', 'Dhrishti Deven', 'Duganth Deven'])"
   ]
  },
  {
   "cell_type": "code",
   "execution_count": 23,
   "metadata": {},
   "outputs": [
    {
     "output_type": "execute_result",
     "data": {
      "text/plain": "['Clubs', 'Diamonds', 'Hearts', 'Spades']"
     },
     "metadata": {},
     "execution_count": 23
    }
   ],
   "source": [
    "card_suits = ['Hearts', 'Clubs', 'Diamonds', 'Spades']\n",
    "random.shuffle(card_suits)\n",
    "card_suits"
   ]
  },
  {
   "cell_type": "markdown",
   "metadata": {},
   "source": [
    "## DECIMALS\n",
    "* In the below two examples we are not using the Decimal module and hence you can see the effect."
   ]
  },
  {
   "cell_type": "code",
   "execution_count": 24,
   "metadata": {},
   "outputs": [
    {
     "output_type": "execute_result",
     "data": {
      "text/plain": "5.551115123125783e-17"
     },
     "metadata": {},
     "execution_count": 24
    }
   ],
   "source": [
    "0.1 + 0.1 + 0.1 - 0.3"
   ]
  },
  {
   "cell_type": "code",
   "execution_count": 25,
   "metadata": {
    "tags": []
   },
   "outputs": [
    {
     "output_type": "stream",
     "name": "stdout",
     "text": "5.551115123125783e-17\n"
    }
   ],
   "source": [
    "print(0.1 + 0.1 + 0.1 - 0.3)"
   ]
  },
  {
   "cell_type": "markdown",
   "metadata": {},
   "source": [
    "### Using the DECIMAL Module"
   ]
  },
  {
   "cell_type": "code",
   "execution_count": 26,
   "metadata": {},
   "outputs": [],
   "source": [
    "from decimal import Decimal"
   ]
  },
  {
   "cell_type": "code",
   "execution_count": 27,
   "metadata": {},
   "outputs": [
    {
     "output_type": "execute_result",
     "data": {
      "text/plain": "Decimal('0.0')"
     },
     "metadata": {},
     "execution_count": 27
    }
   ],
   "source": [
    "Decimal('0.1') + Decimal('0.1') + Decimal('0.1') - Decimal('0.3') "
   ]
  },
  {
   "cell_type": "code",
   "execution_count": 28,
   "metadata": {},
   "outputs": [
    {
     "output_type": "execute_result",
     "data": {
      "text/plain": "Decimal('0.1428571428571428571428571429')"
     },
     "metadata": {},
     "execution_count": 28
    }
   ],
   "source": [
    "import decimal\n",
    "decimal.Decimal(1) / decimal.Decimal(7) # Default"
   ]
  },
  {
   "cell_type": "code",
   "execution_count": 29,
   "metadata": {},
   "outputs": [
    {
     "output_type": "execute_result",
     "data": {
      "text/plain": "Decimal('0.14')"
     },
     "metadata": {},
     "execution_count": 29
    }
   ],
   "source": [
    "decimal.getcontext().prec = 2 # Fixing the precision of the decimal to 2\n",
    "decimal.Decimal(1) / decimal.Decimal(7)"
   ]
  },
  {
   "cell_type": "code",
   "execution_count": 30,
   "metadata": {},
   "outputs": [
    {
     "output_type": "execute_result",
     "data": {
      "text/plain": "Decimal('1.1E-17')"
     },
     "metadata": {},
     "execution_count": 30
    }
   ],
   "source": [
    "Decimal(0.1) + Decimal(0.1) + Decimal(0.1) - Decimal(0.3)   # Closer to 0"
   ]
  },
  {
   "cell_type": "markdown",
   "metadata": {},
   "source": [
    "# Decimal context manager\n",
    "* It is also possible to reset precision temporarily by using the with context manager statement. The precision is reset to its original value on statement exit.\n"
   ]
  },
  {
   "cell_type": "code",
   "execution_count": 31,
   "metadata": {},
   "outputs": [],
   "source": [
    "import decimal"
   ]
  },
  {
   "cell_type": "code",
   "execution_count": 32,
   "metadata": {},
   "outputs": [
    {
     "output_type": "execute_result",
     "data": {
      "text/plain": "Decimal('0.33')"
     },
     "metadata": {},
     "execution_count": 32
    }
   ],
   "source": [
    "decimal.Decimal('1.00') / decimal.Decimal('3.00')"
   ]
  },
  {
   "cell_type": "code",
   "execution_count": 33,
   "metadata": {
    "tags": []
   },
   "outputs": [
    {
     "output_type": "stream",
     "name": "stdout",
     "text": "0.33\n"
    }
   ],
   "source": [
    "with decimal.localcontext() as ctx:\n",
    "    ctx.prec = 2 # Setting the decimal precision to 2 temporarily. Once the code exits the decimal precision will revert back to default.\n",
    "    value = decimal.Decimal('1.00') / decimal.Decimal('3.00')\n",
    "    print(value)"
   ]
  },
  {
   "cell_type": "code",
   "execution_count": 34,
   "metadata": {},
   "outputs": [
    {
     "output_type": "execute_result",
     "data": {
      "text/plain": "Decimal('0.33')"
     },
     "metadata": {},
     "execution_count": 34
    }
   ],
   "source": [
    "decimal.Decimal('1.00') / decimal.Decimal('3.00')"
   ]
  },
  {
   "cell_type": "markdown",
   "metadata": {},
   "source": [
    "# Fractions\n",
    "### 1. Creating Fractions Using Integers"
   ]
  },
  {
   "cell_type": "code",
   "execution_count": 35,
   "metadata": {},
   "outputs": [],
   "source": [
    "from fractions import Fraction"
   ]
  },
  {
   "cell_type": "code",
   "execution_count": 36,
   "metadata": {},
   "outputs": [],
   "source": [
    "x = Fraction(1, 3) # Numerator, Denominator"
   ]
  },
  {
   "cell_type": "code",
   "execution_count": 37,
   "metadata": {},
   "outputs": [],
   "source": [
    "y = Fraction(4, 6) #Simplified automatically to 2, 3 by GCD(Gratest Common Divisor)"
   ]
  },
  {
   "cell_type": "code",
   "execution_count": 38,
   "metadata": {},
   "outputs": [
    {
     "output_type": "execute_result",
     "data": {
      "text/plain": "Fraction(1, 3)"
     },
     "metadata": {},
     "execution_count": 38
    }
   ],
   "source": [
    "x"
   ]
  },
  {
   "cell_type": "code",
   "execution_count": 39,
   "metadata": {},
   "outputs": [
    {
     "output_type": "execute_result",
     "data": {
      "text/plain": "Fraction(2, 3)"
     },
     "metadata": {},
     "execution_count": 39
    }
   ],
   "source": [
    "y"
   ]
  },
  {
   "cell_type": "code",
   "execution_count": 40,
   "metadata": {
    "tags": []
   },
   "outputs": [
    {
     "output_type": "stream",
     "name": "stdout",
     "text": "1/3\n"
    }
   ],
   "source": [
    "print(x)"
   ]
  },
  {
   "cell_type": "code",
   "execution_count": 41,
   "metadata": {
    "tags": []
   },
   "outputs": [
    {
     "output_type": "stream",
     "name": "stdout",
     "text": "2/3\n"
    }
   ],
   "source": [
    "print(y)"
   ]
  },
  {
   "cell_type": "code",
   "execution_count": 42,
   "metadata": {},
   "outputs": [
    {
     "output_type": "execute_result",
     "data": {
      "text/plain": "Fraction(1, 1)"
     },
     "metadata": {},
     "execution_count": 42
    }
   ],
   "source": [
    "x + y"
   ]
  },
  {
   "cell_type": "code",
   "execution_count": 43,
   "metadata": {},
   "outputs": [
    {
     "output_type": "execute_result",
     "data": {
      "text/plain": "Fraction(-1, 3)"
     },
     "metadata": {},
     "execution_count": 43
    }
   ],
   "source": [
    "x - y"
   ]
  },
  {
   "cell_type": "code",
   "execution_count": 44,
   "metadata": {
    "tags": []
   },
   "outputs": [
    {
     "output_type": "stream",
     "name": "stdout",
     "text": "2/9\n"
    }
   ],
   "source": [
    "print(x * y)"
   ]
  },
  {
   "cell_type": "markdown",
   "metadata": {},
   "source": [
    "### 2. Creating Fractions Using Decimals"
   ]
  },
  {
   "cell_type": "code",
   "execution_count": 45,
   "metadata": {},
   "outputs": [
    {
     "output_type": "execute_result",
     "data": {
      "text/plain": "Fraction(1, 4)"
     },
     "metadata": {},
     "execution_count": 45
    }
   ],
   "source": [
    "Fraction(.25)"
   ]
  },
  {
   "cell_type": "code",
   "execution_count": 46,
   "metadata": {
    "tags": []
   },
   "outputs": [
    {
     "output_type": "stream",
     "name": "stdout",
     "text": "5/4\n"
    }
   ],
   "source": [
    "print(Fraction(1.25))"
   ]
  },
  {
   "cell_type": "code",
   "execution_count": 47,
   "metadata": {
    "tags": []
   },
   "outputs": [
    {
     "output_type": "stream",
     "name": "stdout",
     "text": "3/2\n"
    }
   ],
   "source": [
    "print(Fraction(.25) + Fraction(1.25))"
   ]
  },
  {
   "cell_type": "code",
   "execution_count": 48,
   "metadata": {},
   "outputs": [
    {
     "output_type": "execute_result",
     "data": {
      "text/plain": "Fraction(1, 3)"
     },
     "metadata": {},
     "execution_count": 48
    }
   ],
   "source": [
    "x"
   ]
  },
  {
   "cell_type": "code",
   "execution_count": 49,
   "metadata": {},
   "outputs": [
    {
     "output_type": "execute_result",
     "data": {
      "text/plain": "Fraction(7, 3)"
     },
     "metadata": {},
     "execution_count": 49
    }
   ],
   "source": [
    "x + 2 # Fraction + Int = Fraction"
   ]
  },
  {
   "cell_type": "code",
   "execution_count": 50,
   "metadata": {},
   "outputs": [
    {
     "output_type": "execute_result",
     "data": {
      "text/plain": "2.3333333333333335"
     },
     "metadata": {},
     "execution_count": 50
    }
   ],
   "source": [
    "x + 2.0 # Fraction + Float = float"
   ]
  },
  {
   "cell_type": "code",
   "execution_count": 51,
   "metadata": {},
   "outputs": [
    {
     "output_type": "execute_result",
     "data": {
      "text/plain": "0.6666666666666666"
     },
     "metadata": {},
     "execution_count": 51
    }
   ],
   "source": [
    "x + (1./3) # Fraction + Float = float"
   ]
  },
  {
   "cell_type": "code",
   "execution_count": 52,
   "metadata": {},
   "outputs": [
    {
     "output_type": "execute_result",
     "data": {
      "text/plain": "1.6666666666666665"
     },
     "metadata": {},
     "execution_count": 52
    }
   ],
   "source": [
    "x + (4./3) # Fraction + Float = float"
   ]
  },
  {
   "cell_type": "code",
   "execution_count": 53,
   "metadata": {},
   "outputs": [
    {
     "output_type": "execute_result",
     "data": {
      "text/plain": "Fraction(7, 9)"
     },
     "metadata": {},
     "execution_count": 53
    }
   ],
   "source": [
    "x + Fraction(4, 9) # Fraction + Fraction = Fraction"
   ]
  },
  {
   "cell_type": "markdown",
   "metadata": {},
   "source": [
    "# Sets\n",
    "* An unordered collection of unique and immutable objects that supports operations corresponding to mathematical set theory. \n",
    "* An item appears only once in a set, no matter how many times it is added. \n",
    "* Sets have a variety of applications, especially in numeric and database-focused work.\n",
    "* Sets are iterable.\n",
    "* Can grow and shrink on demand.\n",
    "* May contain a variety of object types.\n",
    "* Because sets are unordered and do not map keys to values, they are neither sequence nor mapping types; they are a type category unto themselves."
   ]
  },
  {
   "cell_type": "code",
   "execution_count": 54,
   "metadata": {},
   "outputs": [],
   "source": [
    "x = set('abcde') # A Set can be defined this way as well"
   ]
  },
  {
   "cell_type": "code",
   "execution_count": 55,
   "metadata": {},
   "outputs": [],
   "source": [
    "y = {'b', 'd', 'x', 'y', 'z'} # A Set can be defined this way as well"
   ]
  },
  {
   "cell_type": "code",
   "execution_count": 56,
   "metadata": {},
   "outputs": [
    {
     "output_type": "execute_result",
     "data": {
      "text/plain": "set"
     },
     "metadata": {},
     "execution_count": 56
    }
   ],
   "source": [
    "type(x)"
   ]
  },
  {
   "cell_type": "code",
   "execution_count": 57,
   "metadata": {},
   "outputs": [
    {
     "output_type": "execute_result",
     "data": {
      "text/plain": "set"
     },
     "metadata": {},
     "execution_count": 57
    }
   ],
   "source": [
    "type(y)"
   ]
  },
  {
   "cell_type": "markdown",
   "metadata": {},
   "source": [
    "## Difference"
   ]
  },
  {
   "cell_type": "code",
   "execution_count": 58,
   "metadata": {},
   "outputs": [
    {
     "output_type": "execute_result",
     "data": {
      "text/plain": "{'a', 'c', 'e'}"
     },
     "metadata": {},
     "execution_count": 58
    }
   ],
   "source": [
    "x - y"
   ]
  },
  {
   "cell_type": "markdown",
   "metadata": {},
   "source": [
    "## Union"
   ]
  },
  {
   "cell_type": "code",
   "execution_count": 59,
   "metadata": {},
   "outputs": [
    {
     "output_type": "execute_result",
     "data": {
      "text/plain": "{'a', 'b', 'c', 'd', 'e', 'x', 'y', 'z'}"
     },
     "metadata": {},
     "execution_count": 59
    }
   ],
   "source": [
    "x | y"
   ]
  },
  {
   "cell_type": "markdown",
   "metadata": {},
   "source": [
    "## Intersection"
   ]
  },
  {
   "cell_type": "code",
   "execution_count": 60,
   "metadata": {},
   "outputs": [
    {
     "output_type": "execute_result",
     "data": {
      "text/plain": "{'b', 'd'}"
     },
     "metadata": {},
     "execution_count": 60
    }
   ],
   "source": [
    "x & y"
   ]
  },
  {
   "cell_type": "markdown",
   "metadata": {},
   "source": [
    "## Symmetric Difference (XOR)"
   ]
  },
  {
   "cell_type": "code",
   "execution_count": 61,
   "metadata": {},
   "outputs": [
    {
     "output_type": "execute_result",
     "data": {
      "text/plain": "{'a', 'c', 'e', 'x', 'y', 'z'}"
     },
     "metadata": {},
     "execution_count": 61
    }
   ],
   "source": [
    "x ^ y"
   ]
  },
  {
   "cell_type": "markdown",
   "metadata": {},
   "source": [
    "## Superset, Subset"
   ]
  },
  {
   "cell_type": "code",
   "execution_count": 62,
   "metadata": {},
   "outputs": [
    {
     "output_type": "execute_result",
     "data": {
      "text/plain": "(False, False)"
     },
     "metadata": {},
     "execution_count": 62
    }
   ],
   "source": [
    "x > y, x < y"
   ]
  },
  {
   "cell_type": "markdown",
   "metadata": {},
   "source": [
    "## Membership\n",
    "* IN set membership test.\n",
    "* This expression is also defined to work on all other collection types."
   ]
  },
  {
   "cell_type": "code",
   "execution_count": 63,
   "metadata": {},
   "outputs": [
    {
     "output_type": "execute_result",
     "data": {
      "text/plain": "True"
     },
     "metadata": {},
     "execution_count": 63
    }
   ],
   "source": [
    "'e' in x"
   ]
  },
  {
   "cell_type": "code",
   "execution_count": 64,
   "metadata": {},
   "outputs": [
    {
     "output_type": "execute_result",
     "data": {
      "text/plain": "(True, True)"
     },
     "metadata": {},
     "execution_count": 64
    }
   ],
   "source": [
    "'e' in 'Camelot', 22 in [11, 22, 33]"
   ]
  },
  {
   "cell_type": "code",
   "execution_count": 65,
   "metadata": {},
   "outputs": [
    {
     "output_type": "execute_result",
     "data": {
      "text/plain": "['__and__',\n '__class__',\n '__contains__',\n '__delattr__',\n '__dir__',\n '__doc__',\n '__eq__',\n '__format__',\n '__ge__',\n '__getattribute__',\n '__gt__',\n '__hash__',\n '__iand__',\n '__init__',\n '__init_subclass__',\n '__ior__',\n '__isub__',\n '__iter__',\n '__ixor__',\n '__le__',\n '__len__',\n '__lt__',\n '__ne__',\n '__new__',\n '__or__',\n '__rand__',\n '__reduce__',\n '__reduce_ex__',\n '__repr__',\n '__ror__',\n '__rsub__',\n '__rxor__',\n '__setattr__',\n '__sizeof__',\n '__str__',\n '__sub__',\n '__subclasshook__',\n '__xor__',\n 'add',\n 'clear',\n 'copy',\n 'difference',\n 'difference_update',\n 'discard',\n 'intersection',\n 'intersection_update',\n 'isdisjoint',\n 'issubset',\n 'issuperset',\n 'pop',\n 'remove',\n 'symmetric_difference',\n 'symmetric_difference_update',\n 'union',\n 'update']"
     },
     "metadata": {},
     "execution_count": 65
    }
   ],
   "source": [
    "dir(x) # To find all the properties and methods available for the set x"
   ]
  },
  {
   "cell_type": "markdown",
   "metadata": {},
   "source": [
    "## Set Methods"
   ]
  },
  {
   "cell_type": "code",
   "execution_count": 66,
   "metadata": {},
   "outputs": [
    {
     "output_type": "execute_result",
     "data": {
      "text/plain": "{'b', 'd'}"
     },
     "metadata": {},
     "execution_count": 66
    }
   ],
   "source": [
    "z = x.intersection(y) #Same as x & y\n",
    "z"
   ]
  },
  {
   "cell_type": "code",
   "execution_count": 67,
   "metadata": {},
   "outputs": [
    {
     "output_type": "execute_result",
     "data": {
      "text/plain": "{'Python', 'b', 'd'}"
     },
     "metadata": {},
     "execution_count": 67
    }
   ],
   "source": [
    "z.add('Python') # Inserting one item\n",
    "z"
   ]
  },
  {
   "cell_type": "code",
   "execution_count": 68,
   "metadata": {},
   "outputs": [
    {
     "output_type": "execute_result",
     "data": {
      "text/plain": "{'Python', 'a', 'b', 'c', 'd', 'e', 'x', 'y', 'z'}"
     },
     "metadata": {},
     "execution_count": 68
    }
   ],
   "source": [
    "z.update(x, y) # Merge: In place union. Merging z with x and y\n",
    "z"
   ]
  },
  {
   "cell_type": "code",
   "execution_count": 69,
   "metadata": {},
   "outputs": [
    {
     "output_type": "execute_result",
     "data": {
      "text/plain": "{'a', 'b', 'c', 'd', 'e', 'x', 'y', 'z'}"
     },
     "metadata": {},
     "execution_count": 69
    }
   ],
   "source": [
    "z.remove('Python')\n",
    "z"
   ]
  },
  {
   "cell_type": "markdown",
   "metadata": {},
   "source": [
    "## Set Iteration\n",
    "* Sets can also be used in operations such as len, for loops, and list comprehensions.\n",
    "* Because SETS are unordered, they don’t support sequence operations like indexing and slicing."
   ]
  },
  {
   "cell_type": "code",
   "execution_count": 70,
   "metadata": {
    "tags": []
   },
   "outputs": [
    {
     "output_type": "stream",
     "name": "stdout",
     "text": "aaa\nzzz\nbbb\nccc\nyyy\nxxx\nddd\neee\n"
    }
   ],
   "source": [
    "for item in z:\n",
    "    print(item * 3)"
   ]
  },
  {
   "cell_type": "markdown",
   "metadata": {},
   "source": [
    "### Although the set expressions shown earlier generally require two sets, their method-based counterparts can often work with any iterable type as well."
   ]
  },
  {
   "cell_type": "code",
   "execution_count": 71,
   "metadata": {},
   "outputs": [],
   "source": [
    "S = {1, 2, 3}"
   ]
  },
  {
   "cell_type": "markdown",
   "metadata": {},
   "source": [
    "### Expressions require both to be sets"
   ]
  },
  {
   "cell_type": "code",
   "execution_count": 72,
   "metadata": {},
   "outputs": [
    {
     "output_type": "execute_result",
     "data": {
      "text/plain": "{1, 2, 3, 4}"
     },
     "metadata": {},
     "execution_count": 72
    }
   ],
   "source": [
    "S | {3, 4} "
   ]
  },
  {
   "cell_type": "code",
   "execution_count": 73,
   "metadata": {},
   "outputs": [
    {
     "output_type": "error",
     "ename": "TypeError",
     "evalue": "unsupported operand type(s) for |: 'set' and 'list'",
     "traceback": [
      "\u001b[1;31m---------------------------------------------------------------------------\u001b[0m",
      "\u001b[1;31mTypeError\u001b[0m                                 Traceback (most recent call last)",
      "\u001b[1;32m<ipython-input-73-25b794052013>\u001b[0m in \u001b[0;36m<module>\u001b[1;34m\u001b[0m\n\u001b[1;32m----> 1\u001b[1;33m \u001b[0mS\u001b[0m \u001b[1;33m|\u001b[0m \u001b[1;33m[\u001b[0m\u001b[1;36m3\u001b[0m\u001b[1;33m,\u001b[0m \u001b[1;36m4\u001b[0m\u001b[1;33m]\u001b[0m \u001b[1;31m# This will result in error as both the parts are not sets\u001b[0m\u001b[1;33m\u001b[0m\u001b[1;33m\u001b[0m\u001b[0m\n\u001b[0m",
      "\u001b[1;31mTypeError\u001b[0m: unsupported operand type(s) for |: 'set' and 'list'"
     ]
    }
   ],
   "source": [
    "S | [3, 4] # This will result in error as both the parts are not sets"
   ]
  },
  {
   "cell_type": "markdown",
   "metadata": {},
   "source": [
    "### But their methods allow any iterable"
   ]
  },
  {
   "cell_type": "code",
   "execution_count": 74,
   "metadata": {},
   "outputs": [
    {
     "output_type": "execute_result",
     "data": {
      "text/plain": "{1, 2, 3, 4}"
     },
     "metadata": {},
     "execution_count": 74
    }
   ],
   "source": [
    "S.union([3, 4])"
   ]
  },
  {
   "cell_type": "code",
   "execution_count": 75,
   "metadata": {},
   "outputs": [
    {
     "output_type": "execute_result",
     "data": {
      "text/plain": "{3}"
     },
     "metadata": {},
     "execution_count": 75
    }
   ],
   "source": [
    "S.intersection([3, 4])"
   ]
  },
  {
   "cell_type": "code",
   "execution_count": 76,
   "metadata": {},
   "outputs": [
    {
     "output_type": "execute_result",
     "data": {
      "text/plain": "True"
     },
     "metadata": {},
     "execution_count": 76
    }
   ],
   "source": [
    "S.issubset(range(-5, 5))"
   ]
  },
  {
   "cell_type": "markdown",
   "metadata": {},
   "source": [
    "## Watch this out"
   ]
  },
  {
   "cell_type": "code",
   "execution_count": 77,
   "metadata": {},
   "outputs": [
    {
     "output_type": "execute_result",
     "data": {
      "text/plain": "{'a', 'm', 'p', 's'}"
     },
     "metadata": {},
     "execution_count": 77
    }
   ],
   "source": [
    "set('spam')"
   ]
  },
  {
   "cell_type": "markdown",
   "metadata": {},
   "source": [
    "## Proving that EMPTY SET IS A DICTIONARY"
   ]
  },
  {
   "cell_type": "code",
   "execution_count": 78,
   "metadata": {},
   "outputs": [],
   "source": [
    "S1 = {1, 2, 3, 4}"
   ]
  },
  {
   "cell_type": "code",
   "execution_count": 79,
   "metadata": {},
   "outputs": [
    {
     "output_type": "execute_result",
     "data": {
      "text/plain": "set()"
     },
     "metadata": {},
     "execution_count": 79
    }
   ],
   "source": [
    "S1 - {1, 2, 3, 4} # Empty sets print differently"
   ]
  },
  {
   "cell_type": "code",
   "execution_count": 80,
   "metadata": {},
   "outputs": [
    {
     "output_type": "execute_result",
     "data": {
      "text/plain": "dict"
     },
     "metadata": {},
     "execution_count": 80
    }
   ],
   "source": [
    "type({})"
   ]
  },
  {
   "cell_type": "code",
   "execution_count": 81,
   "metadata": {},
   "outputs": [],
   "source": [
    "S = set() # Initializing an empty set"
   ]
  },
  {
   "cell_type": "code",
   "execution_count": null,
   "metadata": {},
   "outputs": [],
   "source": []
  },
  {
   "cell_type": "code",
   "execution_count": 82,
   "metadata": {},
   "outputs": [
    {
     "output_type": "execute_result",
     "data": {
      "text/plain": "{1.23}"
     },
     "metadata": {},
     "execution_count": 82
    }
   ],
   "source": [
    "S.add(1.23)\n",
    "S"
   ]
  },
  {
   "cell_type": "markdown",
   "metadata": {},
   "source": [
    "## Methods Work But Expressions Don't"
   ]
  },
  {
   "cell_type": "code",
   "execution_count": 83,
   "metadata": {},
   "outputs": [
    {
     "output_type": "execute_result",
     "data": {
      "text/plain": "{1, 2, 3, 4}"
     },
     "metadata": {},
     "execution_count": 83
    }
   ],
   "source": [
    "{1, 2, 3} | {3, 4} # Here | is the symbol of union. This will work as both the data are sets"
   ]
  },
  {
   "cell_type": "code",
   "execution_count": 84,
   "metadata": {},
   "outputs": [
    {
     "output_type": "error",
     "ename": "TypeError",
     "evalue": "unsupported operand type(s) for |: 'set' and 'list'",
     "traceback": [
      "\u001b[1;31m---------------------------------------------------------------------------\u001b[0m",
      "\u001b[1;31mTypeError\u001b[0m                                 Traceback (most recent call last)",
      "\u001b[1;32m<ipython-input-84-f7548387d279>\u001b[0m in \u001b[0;36m<module>\u001b[1;34m\u001b[0m\n\u001b[1;32m----> 1\u001b[1;33m \u001b[1;33m{\u001b[0m\u001b[1;36m1\u001b[0m\u001b[1;33m,\u001b[0m \u001b[1;36m2\u001b[0m\u001b[1;33m,\u001b[0m \u001b[1;36m3\u001b[0m\u001b[1;33m}\u001b[0m \u001b[1;33m|\u001b[0m \u001b[1;33m[\u001b[0m\u001b[1;36m3\u001b[0m\u001b[1;33m,\u001b[0m \u001b[1;36m4\u001b[0m\u001b[1;33m]\u001b[0m \u001b[1;31m# This does not work as we are trying to union two different data types which is a set and a list using an expression |. See the below example on how to get this working using methods.\u001b[0m\u001b[1;33m\u001b[0m\u001b[1;33m\u001b[0m\u001b[0m\n\u001b[0m",
      "\u001b[1;31mTypeError\u001b[0m: unsupported operand type(s) for |: 'set' and 'list'"
     ]
    }
   ],
   "source": [
    "{1, 2, 3} | [3, 4] # This does not work as we are trying to union two different data types which is a set and a list using an expression |. See the below example on how to get this working using methods."
   ]
  },
  {
   "cell_type": "code",
   "execution_count": 85,
   "metadata": {},
   "outputs": [
    {
     "output_type": "execute_result",
     "data": {
      "text/plain": "{1, 2, 3, 4}"
     },
     "metadata": {},
     "execution_count": 85
    }
   ],
   "source": [
    "{1, 2, 3}.union([3, 4]) # This works as we are using the method and not expression."
   ]
  },
  {
   "cell_type": "code",
   "execution_count": 86,
   "metadata": {},
   "outputs": [
    {
     "output_type": "execute_result",
     "data": {
      "text/plain": "{1, 2, 3, 4}"
     },
     "metadata": {},
     "execution_count": 86
    }
   ],
   "source": [
    "{1, 2, 3}.union({3, 4})"
   ]
  },
  {
   "cell_type": "code",
   "execution_count": 87,
   "metadata": {},
   "outputs": [
    {
     "output_type": "execute_result",
     "data": {
      "text/plain": "{1, 2, 3, 4}"
     },
     "metadata": {},
     "execution_count": 87
    }
   ],
   "source": [
    "{1, 2, 3}.union(set([3, 4]))"
   ]
  },
  {
   "cell_type": "code",
   "execution_count": 88,
   "metadata": {},
   "outputs": [
    {
     "output_type": "execute_result",
     "data": {
      "text/plain": "{1, 3}"
     },
     "metadata": {},
     "execution_count": 88
    }
   ],
   "source": [
    "{1, 2, 3}.intersection((1, 3, 5))"
   ]
  },
  {
   "cell_type": "code",
   "execution_count": 89,
   "metadata": {},
   "outputs": [
    {
     "output_type": "execute_result",
     "data": {
      "text/plain": "True"
     },
     "metadata": {},
     "execution_count": 89
    }
   ],
   "source": [
    "{1, 2, 3}.issubset(range(-5, 5))"
   ]
  },
  {
   "cell_type": "markdown",
   "metadata": {},
   "source": [
    "#### Sets are powerful and flexible objects, but they do have one constraint. Sets can only contain immutable (a.k.a. “hashable”) object types. Hence, lists and dictionaries cannot be embedded in sets, but tuples can if you need to store compound values. Tuples compare by their full values when used in set operations:"
   ]
  },
  {
   "cell_type": "code",
   "execution_count": 90,
   "metadata": {},
   "outputs": [
    {
     "output_type": "execute_result",
     "data": {
      "text/plain": "{1.23}"
     },
     "metadata": {},
     "execution_count": 90
    }
   ],
   "source": [
    "S"
   ]
  },
  {
   "cell_type": "code",
   "execution_count": 91,
   "metadata": {},
   "outputs": [
    {
     "output_type": "error",
     "ename": "TypeError",
     "evalue": "unhashable type: 'list'",
     "traceback": [
      "\u001b[1;31m---------------------------------------------------------------------------\u001b[0m",
      "\u001b[1;31mTypeError\u001b[0m                                 Traceback (most recent call last)",
      "\u001b[1;32m<ipython-input-91-b9f1a22e7d42>\u001b[0m in \u001b[0;36m<module>\u001b[1;34m\u001b[0m\n\u001b[1;32m----> 1\u001b[1;33m \u001b[0mS\u001b[0m\u001b[1;33m.\u001b[0m\u001b[0madd\u001b[0m\u001b[1;33m(\u001b[0m\u001b[1;33m[\u001b[0m\u001b[1;36m1\u001b[0m\u001b[1;33m,\u001b[0m \u001b[1;36m2\u001b[0m\u001b[1;33m,\u001b[0m \u001b[1;36m3\u001b[0m\u001b[1;33m]\u001b[0m\u001b[1;33m)\u001b[0m \u001b[1;31m# Only immutable objects works in set. Hence this will fail.\u001b[0m\u001b[1;33m\u001b[0m\u001b[1;33m\u001b[0m\u001b[0m\n\u001b[0m",
      "\u001b[1;31mTypeError\u001b[0m: unhashable type: 'list'"
     ]
    }
   ],
   "source": [
    "S.add([1, 2, 3]) # Only immutable objects works in set. Hence this will fail as list is immutable object."
   ]
  },
  {
   "cell_type": "code",
   "execution_count": 92,
   "metadata": {},
   "outputs": [
    {
     "output_type": "error",
     "ename": "TypeError",
     "evalue": "unhashable type: 'dict'",
     "traceback": [
      "\u001b[1;31m---------------------------------------------------------------------------\u001b[0m",
      "\u001b[1;31mTypeError\u001b[0m                                 Traceback (most recent call last)",
      "\u001b[1;32m<ipython-input-92-44c8385df01d>\u001b[0m in \u001b[0;36m<module>\u001b[1;34m\u001b[0m\n\u001b[1;32m----> 1\u001b[1;33m \u001b[0mS\u001b[0m\u001b[1;33m.\u001b[0m\u001b[0madd\u001b[0m\u001b[1;33m(\u001b[0m\u001b[1;33m{\u001b[0m\u001b[1;34m'a'\u001b[0m\u001b[1;33m:\u001b[0m\u001b[1;36m1\u001b[0m\u001b[1;33m}\u001b[0m\u001b[1;33m)\u001b[0m \u001b[1;31m# This will also fail\u001b[0m\u001b[1;33m\u001b[0m\u001b[1;33m\u001b[0m\u001b[0m\n\u001b[0m",
      "\u001b[1;31mTypeError\u001b[0m: unhashable type: 'dict'"
     ]
    }
   ],
   "source": [
    "S.add({'a':1}) # This will also fail as Dictionary is a immutable object."
   ]
  },
  {
   "cell_type": "code",
   "execution_count": 94,
   "metadata": {},
   "outputs": [
    {
     "output_type": "execute_result",
     "data": {
      "text/plain": "{(1, 2, 3), 1.23}"
     },
     "metadata": {},
     "execution_count": 94
    }
   ],
   "source": [
    "S.add((1, 2, 3)) # This works as tuple is a mutable object.\n",
    "S"
   ]
  },
  {
   "cell_type": "code",
   "execution_count": 95,
   "metadata": {},
   "outputs": [
    {
     "output_type": "execute_result",
     "data": {
      "text/plain": "{(1, 2, 3), (4, 5, 6), 1.23}"
     },
     "metadata": {},
     "execution_count": 95
    }
   ],
   "source": [
    "S | {(4, 5, 6), (1, 2, 3)} "
   ]
  },
  {
   "cell_type": "code",
   "execution_count": 96,
   "metadata": {},
   "outputs": [
    {
     "output_type": "execute_result",
     "data": {
      "text/plain": "True"
     },
     "metadata": {},
     "execution_count": 96
    }
   ],
   "source": [
    "(1, 2, 3) in S "
   ]
  },
  {
   "cell_type": "code",
   "execution_count": 97,
   "metadata": {},
   "outputs": [
    {
     "output_type": "execute_result",
     "data": {
      "text/plain": "False"
     },
     "metadata": {},
     "execution_count": 97
    }
   ],
   "source": [
    "(1, 4, 3) in S"
   ]
  },
  {
   "cell_type": "markdown",
   "metadata": {},
   "source": [
    "## SET COMPREHENSION"
   ]
  },
  {
   "cell_type": "code",
   "execution_count": 6,
   "metadata": {},
   "outputs": [
    {
     "output_type": "execute_result",
     "data": {
      "text/plain": "{1, 4, 9, 16, 25}"
     },
     "metadata": {},
     "execution_count": 6
    }
   ],
   "source": [
    "{x ** 2 for x in [1, 2, 3, 4, 5]}"
   ]
  },
  {
   "cell_type": "code",
   "execution_count": 8,
   "metadata": {},
   "outputs": [
    {
     "output_type": "execute_result",
     "data": {
      "text/plain": "{'aa', 'mm', 'pp', 'ss'}"
     },
     "metadata": {},
     "execution_count": 8
    }
   ],
   "source": [
    "{x * 2 for x in 'spam'}"
   ]
  },
  {
   "cell_type": "code",
   "execution_count": 9,
   "metadata": {},
   "outputs": [
    {
     "output_type": "execute_result",
     "data": {
      "text/plain": "{'aa', 'mm', 'pp', 'ss'}"
     },
     "metadata": {},
     "execution_count": 9
    }
   ],
   "source": [
    "S = {i * 2 for i in 'spam'}\n",
    "S"
   ]
  },
  {
   "cell_type": "code",
   "execution_count": 10,
   "metadata": {},
   "outputs": [
    {
     "output_type": "execute_result",
     "data": {
      "text/plain": "{'aa', 'mm', 'pp', 'ss', 'xx'}"
     },
     "metadata": {},
     "execution_count": 10
    }
   ],
   "source": [
    "S | {'mm', 'xx'} # Using the union"
   ]
  },
  {
   "cell_type": "code",
   "execution_count": 11,
   "metadata": {},
   "outputs": [
    {
     "output_type": "execute_result",
     "data": {
      "text/plain": "{'mm'}"
     },
     "metadata": {},
     "execution_count": 11
    }
   ],
   "source": [
    "S & {'mm', 'xx'} # Using the intersection"
   ]
  },
  {
   "cell_type": "code",
   "execution_count": 12,
   "metadata": {},
   "outputs": [],
   "source": [
    "L = [1, 2, 1, 3, 2, 4, 5] # Defining a list"
   ]
  },
  {
   "cell_type": "code",
   "execution_count": 23,
   "metadata": {},
   "outputs": [
    {
     "output_type": "execute_result",
     "data": {
      "text/plain": "{1, 2, 3, 4, 5}"
     },
     "metadata": {},
     "execution_count": 23
    }
   ],
   "source": [
    "set(L) # Converting a list to a set gives us the elements of the sets in ordered format"
   ]
  },
  {
   "cell_type": "code",
   "execution_count": 26,
   "metadata": {},
   "outputs": [],
   "source": [
    "r = ['a', 'b', 'c', 'e', 'd', 'c', 'a', 'b', 'a', 'f', 'e', 'd', 'd'] # Defining a list"
   ]
  },
  {
   "cell_type": "code",
   "execution_count": 27,
   "metadata": {},
   "outputs": [
    {
     "output_type": "execute_result",
     "data": {
      "text/plain": "{'a', 'b', 'c', 'd', 'e', 'f'}"
     },
     "metadata": {},
     "execution_count": 27
    }
   ],
   "source": [
    "set(r) # Converting a list to a set gives us the elements of the sets in ordered format"
   ]
  },
  {
   "cell_type": "markdown",
   "metadata": {},
   "source": [
    "#### Here we are creating a list that has duplicates, then passing it to the set to remove the duplicates and converting the result back to a list that gives us only the unique values inside the list. But note that the order will not be guranteed here"
   ]
  },
  {
   "cell_type": "code",
   "execution_count": 28,
   "metadata": {},
   "outputs": [],
   "source": [
    "List_With_Duplicate_Elements = ['a', 'b', 'c', 'e', 'd', 'c', 'a', 'b', 'a', 'f', 'e', 'd', 'd']"
   ]
  },
  {
   "cell_type": "code",
   "execution_count": 29,
   "metadata": {},
   "outputs": [
    {
     "output_type": "execute_result",
     "data": {
      "text/plain": "['d', 'e', 'b', 'c', 'f', 'a']"
     },
     "metadata": {},
     "execution_count": 29
    }
   ],
   "source": [
    "list(set(List_With_Duplicate_Elements))"
   ]
  },
  {
   "cell_type": "markdown",
   "metadata": {},
   "source": [
    "### Finding the DIFFERENCE in SETS"
   ]
  },
  {
   "cell_type": "code",
   "execution_count": 32,
   "metadata": {},
   "outputs": [
    {
     "output_type": "execute_result",
     "data": {
      "text/plain": "{3, 7}"
     },
     "metadata": {},
     "execution_count": 32
    }
   ],
   "source": [
    "set([1, 3, 5, 7]) - set([1, 2, 4, 5, 6])"
   ]
  },
  {
   "cell_type": "code",
   "execution_count": 33,
   "metadata": {},
   "outputs": [
    {
     "output_type": "execute_result",
     "data": {
      "text/plain": "{'c', 'e', 'f'}"
     },
     "metadata": {},
     "execution_count": 33
    }
   ],
   "source": [
    "set('abcdefg') - set('abdghij')"
   ]
  },
  {
   "cell_type": "code",
   "execution_count": 34,
   "metadata": {},
   "outputs": [
    {
     "output_type": "execute_result",
     "data": {
      "text/plain": "{'p', 's'}"
     },
     "metadata": {},
     "execution_count": 34
    }
   ],
   "source": [
    "set('spam') - set(['h', 'a', 'm'])"
   ]
  },
  {
   "cell_type": "code",
   "execution_count": 35,
   "metadata": {},
   "outputs": [
    {
     "output_type": "execute_result",
     "data": {
      "text/plain": "{'__getnewargs__'}"
     },
     "metadata": {},
     "execution_count": 35
    }
   ],
   "source": [
    "set(dir(bytes)) - set(dir(bytearray)) # As we know that dir is used to list out the properties and methods of a command. Here we are looking at the difference"
   ]
  },
  {
   "cell_type": "code",
   "execution_count": 36,
   "metadata": {},
   "outputs": [
    {
     "output_type": "execute_result",
     "data": {
      "text/plain": "{'__alloc__',\n '__delitem__',\n '__iadd__',\n '__imul__',\n '__setitem__',\n 'append',\n 'clear',\n 'copy',\n 'extend',\n 'insert',\n 'pop',\n 'remove',\n 'reverse'}"
     },
     "metadata": {},
     "execution_count": 36
    }
   ],
   "source": [
    "set(dir(bytearray)) - set(dir(bytes))"
   ]
  },
  {
   "cell_type": "markdown",
   "metadata": {},
   "source": [
    "### Order Neutral Equality"
   ]
  },
  {
   "cell_type": "code",
   "execution_count": 37,
   "metadata": {},
   "outputs": [],
   "source": [
    "L1, L2 = [1, 3, 5, 2, 4], [2, 5, 3, 4, 1]"
   ]
  },
  {
   "cell_type": "code",
   "execution_count": 38,
   "metadata": {},
   "outputs": [
    {
     "output_type": "execute_result",
     "data": {
      "text/plain": "False"
     },
     "metadata": {},
     "execution_count": 38
    }
   ],
   "source": [
    "L1 == L2 #This will result in false as order matters in List Sequence"
   ]
  },
  {
   "cell_type": "code",
   "execution_count": 43,
   "metadata": {},
   "outputs": [
    {
     "output_type": "execute_result",
     "data": {
      "text/plain": "True"
     },
     "metadata": {},
     "execution_count": 43
    }
   ],
   "source": [
    "set(L1) == set(L2) # Order Nuetral Equality Using Set"
   ]
  },
  {
   "cell_type": "code",
   "execution_count": 44,
   "metadata": {},
   "outputs": [
    {
     "output_type": "execute_result",
     "data": {
      "text/plain": "True"
     },
     "metadata": {},
     "execution_count": 44
    }
   ],
   "source": [
    "sorted(L1) == sorted(L2) # Similar to Order Nuetral but here we are not converting the List to Set. Instead we are using the sorted function to sort the elements of the lists"
   ]
  },
  {
   "cell_type": "code",
   "execution_count": 42,
   "metadata": {},
   "outputs": [
    {
     "output_type": "execute_result",
     "data": {
      "text/plain": "False"
     },
     "metadata": {},
     "execution_count": 42
    }
   ],
   "source": [
    "A == B"
   ]
  },
  {
   "cell_type": "code",
   "execution_count": 45,
   "metadata": {},
   "outputs": [
    {
     "output_type": "execute_result",
     "data": {
      "text/plain": "(False, True, True)"
     },
     "metadata": {},
     "execution_count": 45
    }
   ],
   "source": [
    "'spam' == 'asmp', set('spam') == set('asmp'), sorted('spam') == sorted('asmp')"
   ]
  },
  {
   "cell_type": "code",
   "execution_count": 46,
   "metadata": {},
   "outputs": [],
   "source": [
    "engineers = {'bob', 'sue', 'ann', 'vic'}"
   ]
  },
  {
   "cell_type": "code",
   "execution_count": 47,
   "metadata": {},
   "outputs": [],
   "source": [
    "managers  = {'tom', 'sue'}"
   ]
  },
  {
   "cell_type": "code",
   "execution_count": 48,
   "metadata": {},
   "outputs": [
    {
     "output_type": "execute_result",
     "data": {
      "text/plain": "True"
     },
     "metadata": {},
     "execution_count": 48
    }
   ],
   "source": [
    "'bob' in engineers                   # Is bob an engineer?"
   ]
  },
  {
   "cell_type": "code",
   "execution_count": 49,
   "metadata": {},
   "outputs": [
    {
     "output_type": "execute_result",
     "data": {
      "text/plain": "{'sue'}"
     },
     "metadata": {},
     "execution_count": 49
    }
   ],
   "source": [
    "engineers & managers                 # Who is both engineer and manager?"
   ]
  },
  {
   "cell_type": "code",
   "execution_count": 50,
   "metadata": {},
   "outputs": [
    {
     "output_type": "execute_result",
     "data": {
      "text/plain": "{'ann', 'bob', 'sue', 'tom', 'vic'}"
     },
     "metadata": {},
     "execution_count": 50
    }
   ],
   "source": [
    "engineers | managers                 # All people in either category"
   ]
  },
  {
   "cell_type": "code",
   "execution_count": 51,
   "metadata": {},
   "outputs": [
    {
     "output_type": "execute_result",
     "data": {
      "text/plain": "{'ann', 'bob', 'vic'}"
     },
     "metadata": {},
     "execution_count": 51
    }
   ],
   "source": [
    "engineers - managers                 # Engineers who are not managers"
   ]
  },
  {
   "cell_type": "code",
   "execution_count": 52,
   "metadata": {},
   "outputs": [
    {
     "output_type": "execute_result",
     "data": {
      "text/plain": "{'tom'}"
     },
     "metadata": {},
     "execution_count": 52
    }
   ],
   "source": [
    "managers - engineers                 # Managers who are not engineers"
   ]
  },
  {
   "cell_type": "code",
   "execution_count": 53,
   "metadata": {},
   "outputs": [
    {
     "output_type": "execute_result",
     "data": {
      "text/plain": "False"
     },
     "metadata": {},
     "execution_count": 53
    }
   ],
   "source": [
    "engineers > managers                 # Are all managers engineers? (superset)"
   ]
  },
  {
   "cell_type": "code",
   "execution_count": 54,
   "metadata": {},
   "outputs": [
    {
     "output_type": "execute_result",
     "data": {
      "text/plain": "True"
     },
     "metadata": {},
     "execution_count": 54
    }
   ],
   "source": [
    "{'bob', 'sue'} < engineers           # Are both engineers? (subset)"
   ]
  },
  {
   "cell_type": "code",
   "execution_count": 55,
   "metadata": {},
   "outputs": [
    {
     "output_type": "execute_result",
     "data": {
      "text/plain": "True"
     },
     "metadata": {},
     "execution_count": 55
    }
   ],
   "source": [
    "(managers | engineers) > managers    # All people is a superset of managers"
   ]
  },
  {
   "cell_type": "code",
   "execution_count": 56,
   "metadata": {},
   "outputs": [
    {
     "output_type": "execute_result",
     "data": {
      "text/plain": "{'ann', 'bob', 'tom', 'vic'}"
     },
     "metadata": {},
     "execution_count": 56
    }
   ],
   "source": [
    "managers ^ engineers                 # Who is in one but not both?"
   ]
  },
  {
   "cell_type": "code",
   "execution_count": 57,
   "metadata": {},
   "outputs": [
    {
     "output_type": "execute_result",
     "data": {
      "text/plain": "{'sue'}"
     },
     "metadata": {},
     "execution_count": 57
    }
   ],
   "source": [
    "(managers | engineers) - (managers ^ engineers)     # Intersection!"
   ]
  },
  {
   "cell_type": "markdown",
   "metadata": {},
   "source": [
    "## Booleans"
   ]
  },
  {
   "cell_type": "code",
   "execution_count": 58,
   "metadata": {},
   "outputs": [
    {
     "output_type": "execute_result",
     "data": {
      "text/plain": "bool"
     },
     "metadata": {},
     "execution_count": 58
    }
   ],
   "source": [
    "type(True)"
   ]
  },
  {
   "cell_type": "code",
   "execution_count": 59,
   "metadata": {},
   "outputs": [
    {
     "output_type": "execute_result",
     "data": {
      "text/plain": "True"
     },
     "metadata": {},
     "execution_count": 59
    }
   ],
   "source": [
    "isinstance(True, int) # Is True and integers?"
   ]
  },
  {
   "cell_type": "code",
   "execution_count": 60,
   "metadata": {},
   "outputs": [
    {
     "output_type": "execute_result",
     "data": {
      "text/plain": "True"
     },
     "metadata": {},
     "execution_count": 60
    }
   ],
   "source": [
    "True == 1 # Same value"
   ]
  },
  {
   "cell_type": "code",
   "execution_count": 61,
   "metadata": {},
   "outputs": [
    {
     "output_type": "execute_result",
     "data": {
      "text/plain": "False"
     },
     "metadata": {},
     "execution_count": 61
    }
   ],
   "source": [
    "True is 1 # But a different object"
   ]
  },
  {
   "cell_type": "code",
   "execution_count": 62,
   "metadata": {},
   "outputs": [
    {
     "output_type": "execute_result",
     "data": {
      "text/plain": "True"
     },
     "metadata": {},
     "execution_count": 62
    }
   ],
   "source": [
    "True or False"
   ]
  },
  {
   "cell_type": "code",
   "execution_count": 63,
   "metadata": {},
   "outputs": [
    {
     "output_type": "execute_result",
     "data": {
      "text/plain": "7"
     },
     "metadata": {},
     "execution_count": 63
    }
   ],
   "source": [
    "True + 6 # What????????"
   ]
  },
  {
   "cell_type": "markdown",
   "metadata": {},
   "source": [
    "# QUIZ\n",
    "1. What is the value of the expression 2 * (3 + 4) in Python?\n",
    "2. What is the value of the expression 2 * 3 + 4 in Python?\n",
    "3. What is the value of the expression 2 + 3 * 4 in Python?\n",
    "4. What tools can you use to find a number’s square root, as well as its square?\n",
    "5. What is the type of the result of the expression 1 + 2.0 + 3?\n",
    "6. How can you truncate and round a floating-point number?\n",
    "7. How can you convert an integer to a floating-point number?\n",
    "8. How would you display an integer in octal, hexadecimal, or binary notation?\n",
    "9. How might you convert an octal, hexadecimal, or binary string to a plain integer?"
   ]
  },
  {
   "cell_type": "code",
   "execution_count": 68,
   "metadata": {},
   "outputs": [
    {
     "output_type": "execute_result",
     "data": {
      "text/plain": "14"
     },
     "metadata": {},
     "execution_count": 68
    }
   ],
   "source": [
    "#Question 1\n",
    "2 * (3 + 4)"
   ]
  },
  {
   "cell_type": "code",
   "execution_count": 69,
   "metadata": {},
   "outputs": [
    {
     "output_type": "execute_result",
     "data": {
      "text/plain": "10"
     },
     "metadata": {},
     "execution_count": 69
    }
   ],
   "source": [
    "#Quation 2\n",
    "2 * 3 + 4"
   ]
  },
  {
   "cell_type": "code",
   "execution_count": 70,
   "metadata": {},
   "outputs": [
    {
     "output_type": "execute_result",
     "data": {
      "text/plain": "14"
     },
     "metadata": {},
     "execution_count": 70
    }
   ],
   "source": [
    "#Question 3\n",
    "2 + 3 * 4"
   ]
  },
  {
   "cell_type": "code",
   "execution_count": 72,
   "metadata": {
    "tags": []
   },
   "outputs": [
    {
     "output_type": "stream",
     "name": "stdout",
     "text": "3.0\n27.0\n"
    }
   ],
   "source": [
    "#Question 4\n",
    "import math\n",
    "print(math.sqrt(9))\n",
    "print(math.pow(3, 3))"
   ]
  },
  {
   "cell_type": "code",
   "execution_count": 74,
   "metadata": {},
   "outputs": [
    {
     "output_type": "execute_result",
     "data": {
      "text/plain": "float"
     },
     "metadata": {},
     "execution_count": 74
    }
   ],
   "source": [
    "#Question 5\n",
    "#Answer: The result will be float\n",
    "a = 1 + 2.0 + 3\n",
    "type(a)"
   ]
  },
  {
   "cell_type": "code",
   "execution_count": 81,
   "metadata": {
    "tags": []
   },
   "outputs": [
    {
     "output_type": "stream",
     "name": "stdout",
     "text": "7\n7\n8.0\n7\n8\n"
    }
   ],
   "source": [
    "#Question 6\n",
    "a = 7.98712564\n",
    "print(int(a)) # First Method\n",
    "print(math.trunc(a)) # Second Method\n",
    "print(round(a, 0)) # Rounding a floating point number\n",
    "print(math.floor(a)) # The float can also be rounded using the floor method. This gives us the bottom value\n",
    "print(math.ceil(a))  # The float can also be rounded using the ceiling method. This gives us the top value"
   ]
  },
  {
   "cell_type": "code",
   "execution_count": 90,
   "metadata": {
    "tags": []
   },
   "outputs": [
    {
     "output_type": "stream",
     "name": "stdout",
     "text": "<class 'int'>\n4.0\n4.0\n4.0\n"
    }
   ],
   "source": [
    "#Question 7\n",
    "c = 4\n",
    "print(type(c)) # Checking the type of C\n",
    "print(float(c)) # Converting the interger C to Float using the float method\n",
    "print(c + 0.0) # Adding a float to an integer results in type conversion the results in float here\n",
    "print(c / 1) # Division also result in floats even if we have intergers in numerator and denominator."
   ]
  },
  {
   "cell_type": "code",
   "execution_count": 93,
   "metadata": {
    "tags": []
   },
   "outputs": [
    {
     "output_type": "stream",
     "name": "stdout",
     "text": "0o5\n0x5\n0b101\n"
    }
   ],
   "source": [
    "#Question 8\n",
    "v = 5\n",
    "print(oct(v)) # Converting the integer to octal number using the oct() function.\n",
    "print(hex(v)) # Converting the integer to hexadecimal number using the hex() function.\n",
    "print(bin(v)) # Converting the integer to binary number using the bin() function."
   ]
  },
  {
   "cell_type": "code",
   "execution_count": 99,
   "metadata": {
    "tags": []
   },
   "outputs": [
    {
     "output_type": "stream",
     "name": "stdout",
     "text": "5\n5\n5\n"
    }
   ],
   "source": [
    "#Question 9\n",
    "# How might you convert an octal, hexadecimal, or binary string to a plain integer?\n",
    "P = '0o5'\n",
    "print(int(P, 8))\n",
    "Q = '0x5'\n",
    "print(int(Q, 16))\n",
    "R = '0b101'\n",
    "print(int(R, 2))"
   ]
  }
 ]
}