{
 "metadata": {
  "language_info": {
   "codemirror_mode": {
    "name": "ipython",
    "version": 3
   },
   "file_extension": ".py",
   "mimetype": "text/x-python",
   "name": "python",
   "nbconvert_exporter": "python",
   "pygments_lexer": "ipython3",
   "version": "3.8.2-final"
  },
  "orig_nbformat": 2,
  "kernelspec": {
   "name": "python38264bit2472454288054193a39fc81468cfa85d",
   "display_name": "Python 3.8.2 64-bit"
  }
 },
 "nbformat": 4,
 "nbformat_minor": 2,
 "cells": [
  {
   "cell_type": "markdown",
   "metadata": {},
   "source": [
    "# *<u>List Comprehension</u>*"
   ]
  },
  {
   "cell_type": "code",
   "execution_count": 1,
   "metadata": {},
   "outputs": [],
   "source": [
    "M = [[1, 2, 3], # A 3 × 3 matrix, as nested lists\n",
    "     [4, 5, 6], # Code can span lines if bracketed\n",
    "     [7, 8, 9]]"
   ]
  },
  {
   "cell_type": "code",
   "execution_count": 3,
   "metadata": {},
   "outputs": [
    {
     "output_type": "execute_result",
     "data": {
      "text/plain": "[[1, 2, 3], [4, 5, 6], [7, 8, 9]]"
     },
     "metadata": {},
     "execution_count": 3
    }
   ],
   "source": [
    "M"
   ]
  },
  {
   "cell_type": "code",
   "execution_count": 4,
   "metadata": {},
   "outputs": [],
   "source": [
    "column2 = [item[1] for item in M] # Collect the items in column 2 of each row in the List"
   ]
  },
  {
   "cell_type": "code",
   "execution_count": 5,
   "metadata": {},
   "outputs": [
    {
     "output_type": "execute_result",
     "data": {
      "text/plain": "[2, 5, 8]"
     },
     "metadata": {},
     "execution_count": 5
    }
   ],
   "source": [
    "column2"
   ]
  },
  {
   "cell_type": "code",
   "execution_count": 6,
   "metadata": {},
   "outputs": [
    {
     "output_type": "execute_result",
     "data": {
      "text/plain": "[3, 6, 9]"
     },
     "metadata": {},
     "execution_count": 6
    }
   ],
   "source": [
    "[row[1] + 1 for row in M] #Adding 1 to each elements at 2nd column and creating a new list out of it."
   ]
  },
  {
   "cell_type": "code",
   "execution_count": 7,
   "metadata": {},
   "outputs": [
    {
     "output_type": "execute_result",
     "data": {
      "text/plain": "[2, 8]"
     },
     "metadata": {},
     "execution_count": 7
    }
   ],
   "source": [
    "[row[1] for row in M if row[1] % 2 == 0] # Filter out odd integer elements"
   ]
  },
  {
   "cell_type": "code",
   "execution_count": 8,
   "metadata": {},
   "outputs": [
    {
     "output_type": "execute_result",
     "data": {
      "text/plain": "[1, 5, 9]"
     },
     "metadata": {},
     "execution_count": 8
    }
   ],
   "source": [
    "diag = [M[i][i] for i in [0, 1, 2]] # Collect a diagonal from matrix\n",
    "diag"
   ]
  },
  {
   "cell_type": "code",
   "execution_count": 9,
   "metadata": {},
   "outputs": [
    {
     "output_type": "execute_result",
     "data": {
      "text/plain": "['ss', 'pp', 'aa', 'mm']"
     },
     "metadata": {},
     "execution_count": 9
    }
   ],
   "source": [
    "doubles = [c * 2 for c in 'spam'] # Repeat characters in a string\n",
    "doubles"
   ]
  },
  {
   "cell_type": "code",
   "execution_count": 10,
   "metadata": {},
   "outputs": [
    {
     "output_type": "execute_result",
     "data": {
      "text/plain": "[0, 1, 2, 3]"
     },
     "metadata": {},
     "execution_count": 10
    }
   ],
   "source": [
    "list(range(4)) # 0..3 (list() required in 3.X)"
   ]
  },
  {
   "cell_type": "code",
   "execution_count": 12,
   "metadata": {},
   "outputs": [
    {
     "output_type": "execute_result",
     "data": {
      "text/plain": "[-6, -4, -2, 0, 2, 4, 6]"
     },
     "metadata": {},
     "execution_count": 12
    }
   ],
   "source": [
    "list(range(-6, 7, 2)) # −6 to +6 by 2 (need list() in 3.X)"
   ]
  },
  {
   "cell_type": "code",
   "execution_count": 13,
   "metadata": {},
   "outputs": [
    {
     "output_type": "execute_result",
     "data": {
      "text/plain": "[[0, 0], [1, 1], [4, 8], [9, 27]]"
     },
     "metadata": {},
     "execution_count": 13
    }
   ],
   "source": [
    "[[x ** 2, x ** 3] for x in range(4)] # Multiple values, \"if\" filters"
   ]
  },
  {
   "cell_type": "code",
   "execution_count": 14,
   "metadata": {},
   "outputs": [
    {
     "output_type": "execute_result",
     "data": {
      "text/plain": "[[2, 1.0, 4], [4, 2.0, 8], [6, 3.0, 12]]"
     },
     "metadata": {},
     "execution_count": 14
    }
   ],
   "source": [
    "[[x, x / 2, x * 2] for x in range(-6, 7, 2) if x > 0]"
   ]
  },
  {
   "cell_type": "markdown",
   "metadata": {},
   "source": [
    "### Comprehension syntax can also be used to create sets and dictionaries."
   ]
  },
  {
   "cell_type": "code",
   "execution_count": 15,
   "metadata": {},
   "outputs": [
    {
     "output_type": "execute_result",
     "data": {
      "text/plain": "{6, 15, 24}"
     },
     "metadata": {},
     "execution_count": 15
    }
   ],
   "source": [
    "{sum(row) for row in M} # Create a set by adding the elements of each row"
   ]
  },
  {
   "cell_type": "code",
   "execution_count": 16,
   "metadata": {},
   "outputs": [
    {
     "output_type": "execute_result",
     "data": {
      "text/plain": "{0: 6, 1: 15, 2: 24}"
     },
     "metadata": {},
     "execution_count": 16
    }
   ],
   "source": [
    "{i : sum(M[i]) for i in range(3)} # Creates key/value table of row sums"
   ]
  },
  {
   "cell_type": "markdown",
   "metadata": {},
   "source": [
    "### Lists, Sets, Dictionaries, and Generators can all be built with comprehensions"
   ]
  },
  {
   "cell_type": "code",
   "execution_count": 17,
   "metadata": {},
   "outputs": [
    {
     "output_type": "execute_result",
     "data": {
      "text/plain": "[115, 112, 97, 97, 109]"
     },
     "metadata": {},
     "execution_count": 17
    }
   ],
   "source": [
    "[ord(x) for x in 'spaam'] # List of character ordinals"
   ]
  },
  {
   "cell_type": "code",
   "execution_count": 18,
   "metadata": {},
   "outputs": [
    {
     "output_type": "execute_result",
     "data": {
      "text/plain": "{97, 109, 112, 115}"
     },
     "metadata": {},
     "execution_count": 18
    }
   ],
   "source": [
    "{ord(x) for x in 'spaam'} # Sets remove duplicates"
   ]
  },
  {
   "cell_type": "code",
   "execution_count": 19,
   "metadata": {},
   "outputs": [
    {
     "output_type": "execute_result",
     "data": {
      "text/plain": "{'s': 115, 'p': 112, 'a': 97, 'm': 109}"
     },
     "metadata": {},
     "execution_count": 19
    }
   ],
   "source": [
    "{x: ord(x) for x in 'spaam'} # Dictionary keys are unique"
   ]
  },
  {
   "cell_type": "code",
   "execution_count": 20,
   "metadata": {},
   "outputs": [
    {
     "output_type": "execute_result",
     "data": {
      "text/plain": "<generator object <genexpr> at 0x071B6CD8>"
     },
     "metadata": {},
     "execution_count": 20
    }
   ],
   "source": [
    "(ord(x) for x in 'spaam') # Generator of values"
   ]
  },
  {
   "cell_type": "markdown",
   "metadata": {},
   "source": [
    "#### The below mentioned List Comprehension can be written as a For Loop as well."
   ]
  },
  {
   "cell_type": "code",
   "execution_count": 2,
   "metadata": {},
   "outputs": [
    {
     "output_type": "execute_result",
     "data": {
      "text/plain": "[1, 4, 9, 16, 25]"
     },
     "metadata": {},
     "execution_count": 2
    }
   ],
   "source": [
    "squares = [x ** 2 for x in [1, 2, 3, 4, 5]]\n",
    "squares"
   ]
  },
  {
   "cell_type": "code",
   "execution_count": 3,
   "metadata": {},
   "outputs": [
    {
     "output_type": "execute_result",
     "data": {
      "text/plain": "[1, 4, 9, 16, 25]"
     },
     "metadata": {},
     "execution_count": 3
    }
   ],
   "source": [
    "squares = []\n",
    "for item in [1, 2, 3, 4, 5]:\n",
    "    squares.append(item ** 2)\n",
    "squares"
   ]
  }
 ]
}